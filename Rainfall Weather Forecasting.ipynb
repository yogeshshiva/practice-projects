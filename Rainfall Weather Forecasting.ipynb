{
 "cells": [
  {
   "cell_type": "markdown",
   "id": "bcb8e84e",
   "metadata": {},
   "source": [
    "# Basic Libraries"
   ]
  },
  {
   "cell_type": "code",
   "execution_count": 2,
   "id": "750cbb1c",
   "metadata": {},
   "outputs": [],
   "source": [
    "import pandas as pd\n",
    "import numpy as np\n",
    "import matplotlib.pyplot as plt\n",
    "import seaborn as sns\n",
    "import warnings\n",
    "warnings.filterwarnings('ignore')"
   ]
  },
  {
   "cell_type": "markdown",
   "id": "88c0dcbb",
   "metadata": {},
   "source": [
    "# Project Description"
   ]
  },
  {
   "cell_type": "markdown",
   "id": "01aad16d",
   "metadata": {},
   "source": [
    "Weather forecasting is the application of science and technology to predict the conditions of the atmosphere for a given location and time. Weather forecasts are made by collecting quantitative data about the current state of the atmosphere at a given place and using meteorology to project how the atmosphere will change.\n",
    "Rain Dataset is to predict whether or not it will rain tomorrow. The Dataset contains about 10 years of daily weather observations of different locations in Australia\n"
   ]
  },
  {
   "cell_type": "markdown",
   "id": "60bad7c7",
   "metadata": {},
   "source": [
    "# Dataset link :- "
   ]
  },
  {
   "cell_type": "markdown",
   "id": "5c7f7554",
   "metadata": {},
   "source": [
    "https://raw.githubusercontent.com/dsrscientist/dataset3/main/weatherAUS.csv"
   ]
  },
  {
   "cell_type": "markdown",
   "id": "5f387418",
   "metadata": {},
   "source": [
    "# Import The Dataset And Create The DataFrame"
   ]
  },
  {
   "cell_type": "code",
   "execution_count": 3,
   "id": "dc3605ea",
   "metadata": {},
   "outputs": [
    {
     "data": {
      "text/html": [
       "<div>\n",
       "<style scoped>\n",
       "    .dataframe tbody tr th:only-of-type {\n",
       "        vertical-align: middle;\n",
       "    }\n",
       "\n",
       "    .dataframe tbody tr th {\n",
       "        vertical-align: top;\n",
       "    }\n",
       "\n",
       "    .dataframe thead th {\n",
       "        text-align: right;\n",
       "    }\n",
       "</style>\n",
       "<table border=\"1\" class=\"dataframe\">\n",
       "  <thead>\n",
       "    <tr style=\"text-align: right;\">\n",
       "      <th></th>\n",
       "      <th>Date</th>\n",
       "      <th>Location</th>\n",
       "      <th>MinTemp</th>\n",
       "      <th>MaxTemp</th>\n",
       "      <th>Rainfall</th>\n",
       "      <th>Evaporation</th>\n",
       "      <th>Sunshine</th>\n",
       "      <th>WindGustDir</th>\n",
       "      <th>WindGustSpeed</th>\n",
       "      <th>WindDir9am</th>\n",
       "      <th>...</th>\n",
       "      <th>Humidity9am</th>\n",
       "      <th>Humidity3pm</th>\n",
       "      <th>Pressure9am</th>\n",
       "      <th>Pressure3pm</th>\n",
       "      <th>Cloud9am</th>\n",
       "      <th>Cloud3pm</th>\n",
       "      <th>Temp9am</th>\n",
       "      <th>Temp3pm</th>\n",
       "      <th>RainToday</th>\n",
       "      <th>RainTomorrow</th>\n",
       "    </tr>\n",
       "  </thead>\n",
       "  <tbody>\n",
       "    <tr>\n",
       "      <th>0</th>\n",
       "      <td>2008-12-01</td>\n",
       "      <td>Albury</td>\n",
       "      <td>13.4</td>\n",
       "      <td>22.9</td>\n",
       "      <td>0.6</td>\n",
       "      <td>NaN</td>\n",
       "      <td>NaN</td>\n",
       "      <td>W</td>\n",
       "      <td>44.0</td>\n",
       "      <td>W</td>\n",
       "      <td>...</td>\n",
       "      <td>71.0</td>\n",
       "      <td>22.0</td>\n",
       "      <td>1007.7</td>\n",
       "      <td>1007.1</td>\n",
       "      <td>8.0</td>\n",
       "      <td>NaN</td>\n",
       "      <td>16.9</td>\n",
       "      <td>21.8</td>\n",
       "      <td>No</td>\n",
       "      <td>No</td>\n",
       "    </tr>\n",
       "    <tr>\n",
       "      <th>1</th>\n",
       "      <td>2008-12-02</td>\n",
       "      <td>Albury</td>\n",
       "      <td>7.4</td>\n",
       "      <td>25.1</td>\n",
       "      <td>0.0</td>\n",
       "      <td>NaN</td>\n",
       "      <td>NaN</td>\n",
       "      <td>WNW</td>\n",
       "      <td>44.0</td>\n",
       "      <td>NNW</td>\n",
       "      <td>...</td>\n",
       "      <td>44.0</td>\n",
       "      <td>25.0</td>\n",
       "      <td>1010.6</td>\n",
       "      <td>1007.8</td>\n",
       "      <td>NaN</td>\n",
       "      <td>NaN</td>\n",
       "      <td>17.2</td>\n",
       "      <td>24.3</td>\n",
       "      <td>No</td>\n",
       "      <td>No</td>\n",
       "    </tr>\n",
       "    <tr>\n",
       "      <th>2</th>\n",
       "      <td>2008-12-03</td>\n",
       "      <td>Albury</td>\n",
       "      <td>12.9</td>\n",
       "      <td>25.7</td>\n",
       "      <td>0.0</td>\n",
       "      <td>NaN</td>\n",
       "      <td>NaN</td>\n",
       "      <td>WSW</td>\n",
       "      <td>46.0</td>\n",
       "      <td>W</td>\n",
       "      <td>...</td>\n",
       "      <td>38.0</td>\n",
       "      <td>30.0</td>\n",
       "      <td>1007.6</td>\n",
       "      <td>1008.7</td>\n",
       "      <td>NaN</td>\n",
       "      <td>2.0</td>\n",
       "      <td>21.0</td>\n",
       "      <td>23.2</td>\n",
       "      <td>No</td>\n",
       "      <td>No</td>\n",
       "    </tr>\n",
       "    <tr>\n",
       "      <th>3</th>\n",
       "      <td>2008-12-04</td>\n",
       "      <td>Albury</td>\n",
       "      <td>9.2</td>\n",
       "      <td>28.0</td>\n",
       "      <td>0.0</td>\n",
       "      <td>NaN</td>\n",
       "      <td>NaN</td>\n",
       "      <td>NE</td>\n",
       "      <td>24.0</td>\n",
       "      <td>SE</td>\n",
       "      <td>...</td>\n",
       "      <td>45.0</td>\n",
       "      <td>16.0</td>\n",
       "      <td>1017.6</td>\n",
       "      <td>1012.8</td>\n",
       "      <td>NaN</td>\n",
       "      <td>NaN</td>\n",
       "      <td>18.1</td>\n",
       "      <td>26.5</td>\n",
       "      <td>No</td>\n",
       "      <td>No</td>\n",
       "    </tr>\n",
       "    <tr>\n",
       "      <th>4</th>\n",
       "      <td>2008-12-05</td>\n",
       "      <td>Albury</td>\n",
       "      <td>17.5</td>\n",
       "      <td>32.3</td>\n",
       "      <td>1.0</td>\n",
       "      <td>NaN</td>\n",
       "      <td>NaN</td>\n",
       "      <td>W</td>\n",
       "      <td>41.0</td>\n",
       "      <td>ENE</td>\n",
       "      <td>...</td>\n",
       "      <td>82.0</td>\n",
       "      <td>33.0</td>\n",
       "      <td>1010.8</td>\n",
       "      <td>1006.0</td>\n",
       "      <td>7.0</td>\n",
       "      <td>8.0</td>\n",
       "      <td>17.8</td>\n",
       "      <td>29.7</td>\n",
       "      <td>No</td>\n",
       "      <td>No</td>\n",
       "    </tr>\n",
       "    <tr>\n",
       "      <th>...</th>\n",
       "      <td>...</td>\n",
       "      <td>...</td>\n",
       "      <td>...</td>\n",
       "      <td>...</td>\n",
       "      <td>...</td>\n",
       "      <td>...</td>\n",
       "      <td>...</td>\n",
       "      <td>...</td>\n",
       "      <td>...</td>\n",
       "      <td>...</td>\n",
       "      <td>...</td>\n",
       "      <td>...</td>\n",
       "      <td>...</td>\n",
       "      <td>...</td>\n",
       "      <td>...</td>\n",
       "      <td>...</td>\n",
       "      <td>...</td>\n",
       "      <td>...</td>\n",
       "      <td>...</td>\n",
       "      <td>...</td>\n",
       "      <td>...</td>\n",
       "    </tr>\n",
       "    <tr>\n",
       "      <th>8420</th>\n",
       "      <td>2017-06-21</td>\n",
       "      <td>Uluru</td>\n",
       "      <td>2.8</td>\n",
       "      <td>23.4</td>\n",
       "      <td>0.0</td>\n",
       "      <td>NaN</td>\n",
       "      <td>NaN</td>\n",
       "      <td>E</td>\n",
       "      <td>31.0</td>\n",
       "      <td>SE</td>\n",
       "      <td>...</td>\n",
       "      <td>51.0</td>\n",
       "      <td>24.0</td>\n",
       "      <td>1024.6</td>\n",
       "      <td>1020.3</td>\n",
       "      <td>NaN</td>\n",
       "      <td>NaN</td>\n",
       "      <td>10.1</td>\n",
       "      <td>22.4</td>\n",
       "      <td>No</td>\n",
       "      <td>No</td>\n",
       "    </tr>\n",
       "    <tr>\n",
       "      <th>8421</th>\n",
       "      <td>2017-06-22</td>\n",
       "      <td>Uluru</td>\n",
       "      <td>3.6</td>\n",
       "      <td>25.3</td>\n",
       "      <td>0.0</td>\n",
       "      <td>NaN</td>\n",
       "      <td>NaN</td>\n",
       "      <td>NNW</td>\n",
       "      <td>22.0</td>\n",
       "      <td>SE</td>\n",
       "      <td>...</td>\n",
       "      <td>56.0</td>\n",
       "      <td>21.0</td>\n",
       "      <td>1023.5</td>\n",
       "      <td>1019.1</td>\n",
       "      <td>NaN</td>\n",
       "      <td>NaN</td>\n",
       "      <td>10.9</td>\n",
       "      <td>24.5</td>\n",
       "      <td>No</td>\n",
       "      <td>No</td>\n",
       "    </tr>\n",
       "    <tr>\n",
       "      <th>8422</th>\n",
       "      <td>2017-06-23</td>\n",
       "      <td>Uluru</td>\n",
       "      <td>5.4</td>\n",
       "      <td>26.9</td>\n",
       "      <td>0.0</td>\n",
       "      <td>NaN</td>\n",
       "      <td>NaN</td>\n",
       "      <td>N</td>\n",
       "      <td>37.0</td>\n",
       "      <td>SE</td>\n",
       "      <td>...</td>\n",
       "      <td>53.0</td>\n",
       "      <td>24.0</td>\n",
       "      <td>1021.0</td>\n",
       "      <td>1016.8</td>\n",
       "      <td>NaN</td>\n",
       "      <td>NaN</td>\n",
       "      <td>12.5</td>\n",
       "      <td>26.1</td>\n",
       "      <td>No</td>\n",
       "      <td>No</td>\n",
       "    </tr>\n",
       "    <tr>\n",
       "      <th>8423</th>\n",
       "      <td>2017-06-24</td>\n",
       "      <td>Uluru</td>\n",
       "      <td>7.8</td>\n",
       "      <td>27.0</td>\n",
       "      <td>0.0</td>\n",
       "      <td>NaN</td>\n",
       "      <td>NaN</td>\n",
       "      <td>SE</td>\n",
       "      <td>28.0</td>\n",
       "      <td>SSE</td>\n",
       "      <td>...</td>\n",
       "      <td>51.0</td>\n",
       "      <td>24.0</td>\n",
       "      <td>1019.4</td>\n",
       "      <td>1016.5</td>\n",
       "      <td>3.0</td>\n",
       "      <td>2.0</td>\n",
       "      <td>15.1</td>\n",
       "      <td>26.0</td>\n",
       "      <td>No</td>\n",
       "      <td>No</td>\n",
       "    </tr>\n",
       "    <tr>\n",
       "      <th>8424</th>\n",
       "      <td>2017-06-25</td>\n",
       "      <td>Uluru</td>\n",
       "      <td>14.9</td>\n",
       "      <td>NaN</td>\n",
       "      <td>0.0</td>\n",
       "      <td>NaN</td>\n",
       "      <td>NaN</td>\n",
       "      <td>NaN</td>\n",
       "      <td>NaN</td>\n",
       "      <td>ESE</td>\n",
       "      <td>...</td>\n",
       "      <td>62.0</td>\n",
       "      <td>36.0</td>\n",
       "      <td>1020.2</td>\n",
       "      <td>1017.9</td>\n",
       "      <td>8.0</td>\n",
       "      <td>8.0</td>\n",
       "      <td>15.0</td>\n",
       "      <td>20.9</td>\n",
       "      <td>No</td>\n",
       "      <td>NaN</td>\n",
       "    </tr>\n",
       "  </tbody>\n",
       "</table>\n",
       "<p>8425 rows × 23 columns</p>\n",
       "</div>"
      ],
      "text/plain": [
       "            Date Location  MinTemp  MaxTemp  Rainfall  Evaporation  Sunshine  \\\n",
       "0     2008-12-01   Albury     13.4     22.9       0.6          NaN       NaN   \n",
       "1     2008-12-02   Albury      7.4     25.1       0.0          NaN       NaN   \n",
       "2     2008-12-03   Albury     12.9     25.7       0.0          NaN       NaN   \n",
       "3     2008-12-04   Albury      9.2     28.0       0.0          NaN       NaN   \n",
       "4     2008-12-05   Albury     17.5     32.3       1.0          NaN       NaN   \n",
       "...          ...      ...      ...      ...       ...          ...       ...   \n",
       "8420  2017-06-21    Uluru      2.8     23.4       0.0          NaN       NaN   \n",
       "8421  2017-06-22    Uluru      3.6     25.3       0.0          NaN       NaN   \n",
       "8422  2017-06-23    Uluru      5.4     26.9       0.0          NaN       NaN   \n",
       "8423  2017-06-24    Uluru      7.8     27.0       0.0          NaN       NaN   \n",
       "8424  2017-06-25    Uluru     14.9      NaN       0.0          NaN       NaN   \n",
       "\n",
       "     WindGustDir  WindGustSpeed WindDir9am  ... Humidity9am  Humidity3pm  \\\n",
       "0              W           44.0          W  ...        71.0         22.0   \n",
       "1            WNW           44.0        NNW  ...        44.0         25.0   \n",
       "2            WSW           46.0          W  ...        38.0         30.0   \n",
       "3             NE           24.0         SE  ...        45.0         16.0   \n",
       "4              W           41.0        ENE  ...        82.0         33.0   \n",
       "...          ...            ...        ...  ...         ...          ...   \n",
       "8420           E           31.0         SE  ...        51.0         24.0   \n",
       "8421         NNW           22.0         SE  ...        56.0         21.0   \n",
       "8422           N           37.0         SE  ...        53.0         24.0   \n",
       "8423          SE           28.0        SSE  ...        51.0         24.0   \n",
       "8424         NaN            NaN        ESE  ...        62.0         36.0   \n",
       "\n",
       "      Pressure9am  Pressure3pm  Cloud9am  Cloud3pm  Temp9am  Temp3pm  \\\n",
       "0          1007.7       1007.1       8.0       NaN     16.9     21.8   \n",
       "1          1010.6       1007.8       NaN       NaN     17.2     24.3   \n",
       "2          1007.6       1008.7       NaN       2.0     21.0     23.2   \n",
       "3          1017.6       1012.8       NaN       NaN     18.1     26.5   \n",
       "4          1010.8       1006.0       7.0       8.0     17.8     29.7   \n",
       "...           ...          ...       ...       ...      ...      ...   \n",
       "8420       1024.6       1020.3       NaN       NaN     10.1     22.4   \n",
       "8421       1023.5       1019.1       NaN       NaN     10.9     24.5   \n",
       "8422       1021.0       1016.8       NaN       NaN     12.5     26.1   \n",
       "8423       1019.4       1016.5       3.0       2.0     15.1     26.0   \n",
       "8424       1020.2       1017.9       8.0       8.0     15.0     20.9   \n",
       "\n",
       "      RainToday  RainTomorrow  \n",
       "0            No            No  \n",
       "1            No            No  \n",
       "2            No            No  \n",
       "3            No            No  \n",
       "4            No            No  \n",
       "...         ...           ...  \n",
       "8420         No            No  \n",
       "8421         No            No  \n",
       "8422         No            No  \n",
       "8423         No            No  \n",
       "8424         No           NaN  \n",
       "\n",
       "[8425 rows x 23 columns]"
      ]
     },
     "execution_count": 3,
     "metadata": {},
     "output_type": "execute_result"
    }
   ],
   "source": [
    "df = pd.read_csv('E:\\Flip Robo\\dataset\\Rainfall Weather.csv')\n",
    "df"
   ]
  },
  {
   "cell_type": "markdown",
   "id": "abb6f54b",
   "metadata": {},
   "source": [
    "# Basic Exploration"
   ]
  },
  {
   "cell_type": "markdown",
   "id": "e732619b",
   "metadata": {},
   "source": [
    "In this operation, we will perform below operation to check the dataset."
   ]
  },
  {
   "cell_type": "markdown",
   "id": "c6d3cb90",
   "metadata": {},
   "source": [
    "1) Head, Tail, Sample of the Dataset.                                                          \n",
    "2) Shape of the Dataset.                                                                        \n",
    "3) Information of the Dataset.                                                                  \n",
    "4) Summary of the Dataset."
   ]
  },
  {
   "cell_type": "code",
   "execution_count": 4,
   "id": "1765bcf9",
   "metadata": {},
   "outputs": [
    {
     "data": {
      "text/html": [
       "<div>\n",
       "<style scoped>\n",
       "    .dataframe tbody tr th:only-of-type {\n",
       "        vertical-align: middle;\n",
       "    }\n",
       "\n",
       "    .dataframe tbody tr th {\n",
       "        vertical-align: top;\n",
       "    }\n",
       "\n",
       "    .dataframe thead th {\n",
       "        text-align: right;\n",
       "    }\n",
       "</style>\n",
       "<table border=\"1\" class=\"dataframe\">\n",
       "  <thead>\n",
       "    <tr style=\"text-align: right;\">\n",
       "      <th></th>\n",
       "      <th>Date</th>\n",
       "      <th>Location</th>\n",
       "      <th>MinTemp</th>\n",
       "      <th>MaxTemp</th>\n",
       "      <th>Rainfall</th>\n",
       "      <th>Evaporation</th>\n",
       "      <th>Sunshine</th>\n",
       "      <th>WindGustDir</th>\n",
       "      <th>WindGustSpeed</th>\n",
       "      <th>WindDir9am</th>\n",
       "      <th>...</th>\n",
       "      <th>Humidity9am</th>\n",
       "      <th>Humidity3pm</th>\n",
       "      <th>Pressure9am</th>\n",
       "      <th>Pressure3pm</th>\n",
       "      <th>Cloud9am</th>\n",
       "      <th>Cloud3pm</th>\n",
       "      <th>Temp9am</th>\n",
       "      <th>Temp3pm</th>\n",
       "      <th>RainToday</th>\n",
       "      <th>RainTomorrow</th>\n",
       "    </tr>\n",
       "  </thead>\n",
       "  <tbody>\n",
       "    <tr>\n",
       "      <th>0</th>\n",
       "      <td>2008-12-01</td>\n",
       "      <td>Albury</td>\n",
       "      <td>13.4</td>\n",
       "      <td>22.9</td>\n",
       "      <td>0.6</td>\n",
       "      <td>NaN</td>\n",
       "      <td>NaN</td>\n",
       "      <td>W</td>\n",
       "      <td>44.0</td>\n",
       "      <td>W</td>\n",
       "      <td>...</td>\n",
       "      <td>71.0</td>\n",
       "      <td>22.0</td>\n",
       "      <td>1007.7</td>\n",
       "      <td>1007.1</td>\n",
       "      <td>8.0</td>\n",
       "      <td>NaN</td>\n",
       "      <td>16.9</td>\n",
       "      <td>21.8</td>\n",
       "      <td>No</td>\n",
       "      <td>No</td>\n",
       "    </tr>\n",
       "    <tr>\n",
       "      <th>1</th>\n",
       "      <td>2008-12-02</td>\n",
       "      <td>Albury</td>\n",
       "      <td>7.4</td>\n",
       "      <td>25.1</td>\n",
       "      <td>0.0</td>\n",
       "      <td>NaN</td>\n",
       "      <td>NaN</td>\n",
       "      <td>WNW</td>\n",
       "      <td>44.0</td>\n",
       "      <td>NNW</td>\n",
       "      <td>...</td>\n",
       "      <td>44.0</td>\n",
       "      <td>25.0</td>\n",
       "      <td>1010.6</td>\n",
       "      <td>1007.8</td>\n",
       "      <td>NaN</td>\n",
       "      <td>NaN</td>\n",
       "      <td>17.2</td>\n",
       "      <td>24.3</td>\n",
       "      <td>No</td>\n",
       "      <td>No</td>\n",
       "    </tr>\n",
       "    <tr>\n",
       "      <th>2</th>\n",
       "      <td>2008-12-03</td>\n",
       "      <td>Albury</td>\n",
       "      <td>12.9</td>\n",
       "      <td>25.7</td>\n",
       "      <td>0.0</td>\n",
       "      <td>NaN</td>\n",
       "      <td>NaN</td>\n",
       "      <td>WSW</td>\n",
       "      <td>46.0</td>\n",
       "      <td>W</td>\n",
       "      <td>...</td>\n",
       "      <td>38.0</td>\n",
       "      <td>30.0</td>\n",
       "      <td>1007.6</td>\n",
       "      <td>1008.7</td>\n",
       "      <td>NaN</td>\n",
       "      <td>2.0</td>\n",
       "      <td>21.0</td>\n",
       "      <td>23.2</td>\n",
       "      <td>No</td>\n",
       "      <td>No</td>\n",
       "    </tr>\n",
       "    <tr>\n",
       "      <th>3</th>\n",
       "      <td>2008-12-04</td>\n",
       "      <td>Albury</td>\n",
       "      <td>9.2</td>\n",
       "      <td>28.0</td>\n",
       "      <td>0.0</td>\n",
       "      <td>NaN</td>\n",
       "      <td>NaN</td>\n",
       "      <td>NE</td>\n",
       "      <td>24.0</td>\n",
       "      <td>SE</td>\n",
       "      <td>...</td>\n",
       "      <td>45.0</td>\n",
       "      <td>16.0</td>\n",
       "      <td>1017.6</td>\n",
       "      <td>1012.8</td>\n",
       "      <td>NaN</td>\n",
       "      <td>NaN</td>\n",
       "      <td>18.1</td>\n",
       "      <td>26.5</td>\n",
       "      <td>No</td>\n",
       "      <td>No</td>\n",
       "    </tr>\n",
       "    <tr>\n",
       "      <th>4</th>\n",
       "      <td>2008-12-05</td>\n",
       "      <td>Albury</td>\n",
       "      <td>17.5</td>\n",
       "      <td>32.3</td>\n",
       "      <td>1.0</td>\n",
       "      <td>NaN</td>\n",
       "      <td>NaN</td>\n",
       "      <td>W</td>\n",
       "      <td>41.0</td>\n",
       "      <td>ENE</td>\n",
       "      <td>...</td>\n",
       "      <td>82.0</td>\n",
       "      <td>33.0</td>\n",
       "      <td>1010.8</td>\n",
       "      <td>1006.0</td>\n",
       "      <td>7.0</td>\n",
       "      <td>8.0</td>\n",
       "      <td>17.8</td>\n",
       "      <td>29.7</td>\n",
       "      <td>No</td>\n",
       "      <td>No</td>\n",
       "    </tr>\n",
       "  </tbody>\n",
       "</table>\n",
       "<p>5 rows × 23 columns</p>\n",
       "</div>"
      ],
      "text/plain": [
       "         Date Location  MinTemp  MaxTemp  Rainfall  Evaporation  Sunshine  \\\n",
       "0  2008-12-01   Albury     13.4     22.9       0.6          NaN       NaN   \n",
       "1  2008-12-02   Albury      7.4     25.1       0.0          NaN       NaN   \n",
       "2  2008-12-03   Albury     12.9     25.7       0.0          NaN       NaN   \n",
       "3  2008-12-04   Albury      9.2     28.0       0.0          NaN       NaN   \n",
       "4  2008-12-05   Albury     17.5     32.3       1.0          NaN       NaN   \n",
       "\n",
       "  WindGustDir  WindGustSpeed WindDir9am  ... Humidity9am  Humidity3pm  \\\n",
       "0           W           44.0          W  ...        71.0         22.0   \n",
       "1         WNW           44.0        NNW  ...        44.0         25.0   \n",
       "2         WSW           46.0          W  ...        38.0         30.0   \n",
       "3          NE           24.0         SE  ...        45.0         16.0   \n",
       "4           W           41.0        ENE  ...        82.0         33.0   \n",
       "\n",
       "   Pressure9am  Pressure3pm  Cloud9am  Cloud3pm  Temp9am  Temp3pm  RainToday  \\\n",
       "0       1007.7       1007.1       8.0       NaN     16.9     21.8         No   \n",
       "1       1010.6       1007.8       NaN       NaN     17.2     24.3         No   \n",
       "2       1007.6       1008.7       NaN       2.0     21.0     23.2         No   \n",
       "3       1017.6       1012.8       NaN       NaN     18.1     26.5         No   \n",
       "4       1010.8       1006.0       7.0       8.0     17.8     29.7         No   \n",
       "\n",
       "   RainTomorrow  \n",
       "0            No  \n",
       "1            No  \n",
       "2            No  \n",
       "3            No  \n",
       "4            No  \n",
       "\n",
       "[5 rows x 23 columns]"
      ]
     },
     "execution_count": 4,
     "metadata": {},
     "output_type": "execute_result"
    }
   ],
   "source": [
    "df.head()"
   ]
  },
  {
   "cell_type": "code",
   "execution_count": 5,
   "id": "5a6104ea",
   "metadata": {},
   "outputs": [
    {
     "data": {
      "text/html": [
       "<div>\n",
       "<style scoped>\n",
       "    .dataframe tbody tr th:only-of-type {\n",
       "        vertical-align: middle;\n",
       "    }\n",
       "\n",
       "    .dataframe tbody tr th {\n",
       "        vertical-align: top;\n",
       "    }\n",
       "\n",
       "    .dataframe thead th {\n",
       "        text-align: right;\n",
       "    }\n",
       "</style>\n",
       "<table border=\"1\" class=\"dataframe\">\n",
       "  <thead>\n",
       "    <tr style=\"text-align: right;\">\n",
       "      <th></th>\n",
       "      <th>Date</th>\n",
       "      <th>Location</th>\n",
       "      <th>MinTemp</th>\n",
       "      <th>MaxTemp</th>\n",
       "      <th>Rainfall</th>\n",
       "      <th>Evaporation</th>\n",
       "      <th>Sunshine</th>\n",
       "      <th>WindGustDir</th>\n",
       "      <th>WindGustSpeed</th>\n",
       "      <th>WindDir9am</th>\n",
       "      <th>...</th>\n",
       "      <th>Humidity9am</th>\n",
       "      <th>Humidity3pm</th>\n",
       "      <th>Pressure9am</th>\n",
       "      <th>Pressure3pm</th>\n",
       "      <th>Cloud9am</th>\n",
       "      <th>Cloud3pm</th>\n",
       "      <th>Temp9am</th>\n",
       "      <th>Temp3pm</th>\n",
       "      <th>RainToday</th>\n",
       "      <th>RainTomorrow</th>\n",
       "    </tr>\n",
       "  </thead>\n",
       "  <tbody>\n",
       "    <tr>\n",
       "      <th>8420</th>\n",
       "      <td>2017-06-21</td>\n",
       "      <td>Uluru</td>\n",
       "      <td>2.8</td>\n",
       "      <td>23.4</td>\n",
       "      <td>0.0</td>\n",
       "      <td>NaN</td>\n",
       "      <td>NaN</td>\n",
       "      <td>E</td>\n",
       "      <td>31.0</td>\n",
       "      <td>SE</td>\n",
       "      <td>...</td>\n",
       "      <td>51.0</td>\n",
       "      <td>24.0</td>\n",
       "      <td>1024.6</td>\n",
       "      <td>1020.3</td>\n",
       "      <td>NaN</td>\n",
       "      <td>NaN</td>\n",
       "      <td>10.1</td>\n",
       "      <td>22.4</td>\n",
       "      <td>No</td>\n",
       "      <td>No</td>\n",
       "    </tr>\n",
       "    <tr>\n",
       "      <th>8421</th>\n",
       "      <td>2017-06-22</td>\n",
       "      <td>Uluru</td>\n",
       "      <td>3.6</td>\n",
       "      <td>25.3</td>\n",
       "      <td>0.0</td>\n",
       "      <td>NaN</td>\n",
       "      <td>NaN</td>\n",
       "      <td>NNW</td>\n",
       "      <td>22.0</td>\n",
       "      <td>SE</td>\n",
       "      <td>...</td>\n",
       "      <td>56.0</td>\n",
       "      <td>21.0</td>\n",
       "      <td>1023.5</td>\n",
       "      <td>1019.1</td>\n",
       "      <td>NaN</td>\n",
       "      <td>NaN</td>\n",
       "      <td>10.9</td>\n",
       "      <td>24.5</td>\n",
       "      <td>No</td>\n",
       "      <td>No</td>\n",
       "    </tr>\n",
       "    <tr>\n",
       "      <th>8422</th>\n",
       "      <td>2017-06-23</td>\n",
       "      <td>Uluru</td>\n",
       "      <td>5.4</td>\n",
       "      <td>26.9</td>\n",
       "      <td>0.0</td>\n",
       "      <td>NaN</td>\n",
       "      <td>NaN</td>\n",
       "      <td>N</td>\n",
       "      <td>37.0</td>\n",
       "      <td>SE</td>\n",
       "      <td>...</td>\n",
       "      <td>53.0</td>\n",
       "      <td>24.0</td>\n",
       "      <td>1021.0</td>\n",
       "      <td>1016.8</td>\n",
       "      <td>NaN</td>\n",
       "      <td>NaN</td>\n",
       "      <td>12.5</td>\n",
       "      <td>26.1</td>\n",
       "      <td>No</td>\n",
       "      <td>No</td>\n",
       "    </tr>\n",
       "    <tr>\n",
       "      <th>8423</th>\n",
       "      <td>2017-06-24</td>\n",
       "      <td>Uluru</td>\n",
       "      <td>7.8</td>\n",
       "      <td>27.0</td>\n",
       "      <td>0.0</td>\n",
       "      <td>NaN</td>\n",
       "      <td>NaN</td>\n",
       "      <td>SE</td>\n",
       "      <td>28.0</td>\n",
       "      <td>SSE</td>\n",
       "      <td>...</td>\n",
       "      <td>51.0</td>\n",
       "      <td>24.0</td>\n",
       "      <td>1019.4</td>\n",
       "      <td>1016.5</td>\n",
       "      <td>3.0</td>\n",
       "      <td>2.0</td>\n",
       "      <td>15.1</td>\n",
       "      <td>26.0</td>\n",
       "      <td>No</td>\n",
       "      <td>No</td>\n",
       "    </tr>\n",
       "    <tr>\n",
       "      <th>8424</th>\n",
       "      <td>2017-06-25</td>\n",
       "      <td>Uluru</td>\n",
       "      <td>14.9</td>\n",
       "      <td>NaN</td>\n",
       "      <td>0.0</td>\n",
       "      <td>NaN</td>\n",
       "      <td>NaN</td>\n",
       "      <td>NaN</td>\n",
       "      <td>NaN</td>\n",
       "      <td>ESE</td>\n",
       "      <td>...</td>\n",
       "      <td>62.0</td>\n",
       "      <td>36.0</td>\n",
       "      <td>1020.2</td>\n",
       "      <td>1017.9</td>\n",
       "      <td>8.0</td>\n",
       "      <td>8.0</td>\n",
       "      <td>15.0</td>\n",
       "      <td>20.9</td>\n",
       "      <td>No</td>\n",
       "      <td>NaN</td>\n",
       "    </tr>\n",
       "  </tbody>\n",
       "</table>\n",
       "<p>5 rows × 23 columns</p>\n",
       "</div>"
      ],
      "text/plain": [
       "            Date Location  MinTemp  MaxTemp  Rainfall  Evaporation  Sunshine  \\\n",
       "8420  2017-06-21    Uluru      2.8     23.4       0.0          NaN       NaN   \n",
       "8421  2017-06-22    Uluru      3.6     25.3       0.0          NaN       NaN   \n",
       "8422  2017-06-23    Uluru      5.4     26.9       0.0          NaN       NaN   \n",
       "8423  2017-06-24    Uluru      7.8     27.0       0.0          NaN       NaN   \n",
       "8424  2017-06-25    Uluru     14.9      NaN       0.0          NaN       NaN   \n",
       "\n",
       "     WindGustDir  WindGustSpeed WindDir9am  ... Humidity9am  Humidity3pm  \\\n",
       "8420           E           31.0         SE  ...        51.0         24.0   \n",
       "8421         NNW           22.0         SE  ...        56.0         21.0   \n",
       "8422           N           37.0         SE  ...        53.0         24.0   \n",
       "8423          SE           28.0        SSE  ...        51.0         24.0   \n",
       "8424         NaN            NaN        ESE  ...        62.0         36.0   \n",
       "\n",
       "      Pressure9am  Pressure3pm  Cloud9am  Cloud3pm  Temp9am  Temp3pm  \\\n",
       "8420       1024.6       1020.3       NaN       NaN     10.1     22.4   \n",
       "8421       1023.5       1019.1       NaN       NaN     10.9     24.5   \n",
       "8422       1021.0       1016.8       NaN       NaN     12.5     26.1   \n",
       "8423       1019.4       1016.5       3.0       2.0     15.1     26.0   \n",
       "8424       1020.2       1017.9       8.0       8.0     15.0     20.9   \n",
       "\n",
       "      RainToday  RainTomorrow  \n",
       "8420         No            No  \n",
       "8421         No            No  \n",
       "8422         No            No  \n",
       "8423         No            No  \n",
       "8424         No           NaN  \n",
       "\n",
       "[5 rows x 23 columns]"
      ]
     },
     "execution_count": 5,
     "metadata": {},
     "output_type": "execute_result"
    }
   ],
   "source": [
    "df.tail()"
   ]
  },
  {
   "cell_type": "code",
   "execution_count": 6,
   "id": "bab78055",
   "metadata": {},
   "outputs": [
    {
     "data": {
      "text/html": [
       "<div>\n",
       "<style scoped>\n",
       "    .dataframe tbody tr th:only-of-type {\n",
       "        vertical-align: middle;\n",
       "    }\n",
       "\n",
       "    .dataframe tbody tr th {\n",
       "        vertical-align: top;\n",
       "    }\n",
       "\n",
       "    .dataframe thead th {\n",
       "        text-align: right;\n",
       "    }\n",
       "</style>\n",
       "<table border=\"1\" class=\"dataframe\">\n",
       "  <thead>\n",
       "    <tr style=\"text-align: right;\">\n",
       "      <th></th>\n",
       "      <th>Date</th>\n",
       "      <th>Location</th>\n",
       "      <th>MinTemp</th>\n",
       "      <th>MaxTemp</th>\n",
       "      <th>Rainfall</th>\n",
       "      <th>Evaporation</th>\n",
       "      <th>Sunshine</th>\n",
       "      <th>WindGustDir</th>\n",
       "      <th>WindGustSpeed</th>\n",
       "      <th>WindDir9am</th>\n",
       "      <th>...</th>\n",
       "      <th>Humidity9am</th>\n",
       "      <th>Humidity3pm</th>\n",
       "      <th>Pressure9am</th>\n",
       "      <th>Pressure3pm</th>\n",
       "      <th>Cloud9am</th>\n",
       "      <th>Cloud3pm</th>\n",
       "      <th>Temp9am</th>\n",
       "      <th>Temp3pm</th>\n",
       "      <th>RainToday</th>\n",
       "      <th>RainTomorrow</th>\n",
       "    </tr>\n",
       "  </thead>\n",
       "  <tbody>\n",
       "    <tr>\n",
       "      <th>6653</th>\n",
       "      <td>2012-07-07</td>\n",
       "      <td>Brisbane</td>\n",
       "      <td>10.7</td>\n",
       "      <td>21.4</td>\n",
       "      <td>0.0</td>\n",
       "      <td>3.4</td>\n",
       "      <td>4.8</td>\n",
       "      <td>ESE</td>\n",
       "      <td>26.0</td>\n",
       "      <td>SW</td>\n",
       "      <td>...</td>\n",
       "      <td>75.0</td>\n",
       "      <td>53.0</td>\n",
       "      <td>1028.0</td>\n",
       "      <td>1025.6</td>\n",
       "      <td>3.0</td>\n",
       "      <td>5.0</td>\n",
       "      <td>15.0</td>\n",
       "      <td>19.8</td>\n",
       "      <td>No</td>\n",
       "      <td>No</td>\n",
       "    </tr>\n",
       "    <tr>\n",
       "      <th>3387</th>\n",
       "      <td>2017-05-07</td>\n",
       "      <td>Williamtown</td>\n",
       "      <td>9.6</td>\n",
       "      <td>23.2</td>\n",
       "      <td>0.0</td>\n",
       "      <td>NaN</td>\n",
       "      <td>NaN</td>\n",
       "      <td>S</td>\n",
       "      <td>37.0</td>\n",
       "      <td>WNW</td>\n",
       "      <td>...</td>\n",
       "      <td>62.0</td>\n",
       "      <td>29.0</td>\n",
       "      <td>1023.7</td>\n",
       "      <td>1022.6</td>\n",
       "      <td>NaN</td>\n",
       "      <td>NaN</td>\n",
       "      <td>17.7</td>\n",
       "      <td>21.3</td>\n",
       "      <td>No</td>\n",
       "      <td>No</td>\n",
       "    </tr>\n",
       "    <tr>\n",
       "      <th>6240</th>\n",
       "      <td>2011-05-21</td>\n",
       "      <td>Brisbane</td>\n",
       "      <td>14.1</td>\n",
       "      <td>23.2</td>\n",
       "      <td>0.4</td>\n",
       "      <td>3.0</td>\n",
       "      <td>4.5</td>\n",
       "      <td>E</td>\n",
       "      <td>22.0</td>\n",
       "      <td>WSW</td>\n",
       "      <td>...</td>\n",
       "      <td>85.0</td>\n",
       "      <td>77.0</td>\n",
       "      <td>1025.7</td>\n",
       "      <td>1022.2</td>\n",
       "      <td>7.0</td>\n",
       "      <td>4.0</td>\n",
       "      <td>17.0</td>\n",
       "      <td>21.1</td>\n",
       "      <td>No</td>\n",
       "      <td>Yes</td>\n",
       "    </tr>\n",
       "    <tr>\n",
       "      <th>8044</th>\n",
       "      <td>2014-03-13</td>\n",
       "      <td>PerthAirport</td>\n",
       "      <td>20.7</td>\n",
       "      <td>27.8</td>\n",
       "      <td>0.2</td>\n",
       "      <td>9.0</td>\n",
       "      <td>2.1</td>\n",
       "      <td>WSW</td>\n",
       "      <td>33.0</td>\n",
       "      <td>N</td>\n",
       "      <td>...</td>\n",
       "      <td>67.0</td>\n",
       "      <td>53.0</td>\n",
       "      <td>1012.6</td>\n",
       "      <td>1011.5</td>\n",
       "      <td>7.0</td>\n",
       "      <td>7.0</td>\n",
       "      <td>24.2</td>\n",
       "      <td>26.5</td>\n",
       "      <td>No</td>\n",
       "      <td>No</td>\n",
       "    </tr>\n",
       "    <tr>\n",
       "      <th>4913</th>\n",
       "      <td>2010-11-02</td>\n",
       "      <td>Melbourne</td>\n",
       "      <td>10.5</td>\n",
       "      <td>19.0</td>\n",
       "      <td>0.6</td>\n",
       "      <td>4.4</td>\n",
       "      <td>3.2</td>\n",
       "      <td>WSW</td>\n",
       "      <td>44.0</td>\n",
       "      <td>WSW</td>\n",
       "      <td>...</td>\n",
       "      <td>78.0</td>\n",
       "      <td>77.0</td>\n",
       "      <td>1018.4</td>\n",
       "      <td>1016.9</td>\n",
       "      <td>NaN</td>\n",
       "      <td>NaN</td>\n",
       "      <td>13.4</td>\n",
       "      <td>16.1</td>\n",
       "      <td>No</td>\n",
       "      <td>Yes</td>\n",
       "    </tr>\n",
       "  </tbody>\n",
       "</table>\n",
       "<p>5 rows × 23 columns</p>\n",
       "</div>"
      ],
      "text/plain": [
       "            Date      Location  MinTemp  MaxTemp  Rainfall  Evaporation  \\\n",
       "6653  2012-07-07      Brisbane     10.7     21.4       0.0          3.4   \n",
       "3387  2017-05-07   Williamtown      9.6     23.2       0.0          NaN   \n",
       "6240  2011-05-21      Brisbane     14.1     23.2       0.4          3.0   \n",
       "8044  2014-03-13  PerthAirport     20.7     27.8       0.2          9.0   \n",
       "4913  2010-11-02     Melbourne     10.5     19.0       0.6          4.4   \n",
       "\n",
       "      Sunshine WindGustDir  WindGustSpeed WindDir9am  ... Humidity9am  \\\n",
       "6653       4.8         ESE           26.0         SW  ...        75.0   \n",
       "3387       NaN           S           37.0        WNW  ...        62.0   \n",
       "6240       4.5           E           22.0        WSW  ...        85.0   \n",
       "8044       2.1         WSW           33.0          N  ...        67.0   \n",
       "4913       3.2         WSW           44.0        WSW  ...        78.0   \n",
       "\n",
       "      Humidity3pm  Pressure9am  Pressure3pm  Cloud9am  Cloud3pm  Temp9am  \\\n",
       "6653         53.0       1028.0       1025.6       3.0       5.0     15.0   \n",
       "3387         29.0       1023.7       1022.6       NaN       NaN     17.7   \n",
       "6240         77.0       1025.7       1022.2       7.0       4.0     17.0   \n",
       "8044         53.0       1012.6       1011.5       7.0       7.0     24.2   \n",
       "4913         77.0       1018.4       1016.9       NaN       NaN     13.4   \n",
       "\n",
       "      Temp3pm  RainToday  RainTomorrow  \n",
       "6653     19.8         No            No  \n",
       "3387     21.3         No            No  \n",
       "6240     21.1         No           Yes  \n",
       "8044     26.5         No            No  \n",
       "4913     16.1         No           Yes  \n",
       "\n",
       "[5 rows x 23 columns]"
      ]
     },
     "execution_count": 6,
     "metadata": {},
     "output_type": "execute_result"
    }
   ],
   "source": [
    "df.sample(5)"
   ]
  },
  {
   "cell_type": "markdown",
   "id": "73af65f3",
   "metadata": {},
   "source": [
    "# Shape of the Dataset"
   ]
  },
  {
   "cell_type": "code",
   "execution_count": 7,
   "id": "150057eb",
   "metadata": {},
   "outputs": [
    {
     "data": {
      "text/plain": [
       "(8425, 23)"
      ]
     },
     "execution_count": 7,
     "metadata": {},
     "output_type": "execute_result"
    }
   ],
   "source": [
    "df.shape"
   ]
  },
  {
   "cell_type": "code",
   "execution_count": 8,
   "id": "85ce7d12",
   "metadata": {},
   "outputs": [
    {
     "name": "stdout",
     "output_type": "stream",
     "text": [
      "Number of Rows : 8425\n",
      "Number of Columns : 23\n"
     ]
    }
   ],
   "source": [
    "print(\"Number of Rows :\",df.shape[0])\n",
    "print(\"Number of Columns :\",df.shape[1])"
   ]
  },
  {
   "cell_type": "markdown",
   "id": "38d81ffe",
   "metadata": {},
   "source": [
    "The shape attribute give us total number of rows and total number of column which are present in my dataset."
   ]
  },
  {
   "cell_type": "markdown",
   "id": "8652655e",
   "metadata": {},
   "source": [
    "# Information of the Dataset"
   ]
  },
  {
   "cell_type": "code",
   "execution_count": 9,
   "id": "87dc2e6d",
   "metadata": {},
   "outputs": [
    {
     "name": "stdout",
     "output_type": "stream",
     "text": [
      "<class 'pandas.core.frame.DataFrame'>\n",
      "RangeIndex: 8425 entries, 0 to 8424\n",
      "Data columns (total 23 columns):\n",
      " #   Column         Non-Null Count  Dtype  \n",
      "---  ------         --------------  -----  \n",
      " 0   Date           8425 non-null   object \n",
      " 1   Location       8425 non-null   object \n",
      " 2   MinTemp        8350 non-null   float64\n",
      " 3   MaxTemp        8365 non-null   float64\n",
      " 4   Rainfall       8185 non-null   float64\n",
      " 5   Evaporation    4913 non-null   float64\n",
      " 6   Sunshine       4431 non-null   float64\n",
      " 7   WindGustDir    7434 non-null   object \n",
      " 8   WindGustSpeed  7434 non-null   float64\n",
      " 9   WindDir9am     7596 non-null   object \n",
      " 10  WindDir3pm     8117 non-null   object \n",
      " 11  WindSpeed9am   8349 non-null   float64\n",
      " 12  WindSpeed3pm   8318 non-null   float64\n",
      " 13  Humidity9am    8366 non-null   float64\n",
      " 14  Humidity3pm    8323 non-null   float64\n",
      " 15  Pressure9am    7116 non-null   float64\n",
      " 16  Pressure3pm    7113 non-null   float64\n",
      " 17  Cloud9am       6004 non-null   float64\n",
      " 18  Cloud3pm       5970 non-null   float64\n",
      " 19  Temp9am        8369 non-null   float64\n",
      " 20  Temp3pm        8329 non-null   float64\n",
      " 21  RainToday      8185 non-null   object \n",
      " 22  RainTomorrow   8186 non-null   object \n",
      "dtypes: float64(16), object(7)\n",
      "memory usage: 1.5+ MB\n"
     ]
    }
   ],
   "source": [
    "df.info()"
   ]
  },
  {
   "cell_type": "markdown",
   "id": "4b45a228",
   "metadata": {},
   "source": [
    "The info attribute give us brief about the dataset which includes Indexing type, column type, null values and memory usage."
   ]
  },
  {
   "cell_type": "markdown",
   "id": "6e4f7c2d",
   "metadata": {},
   "source": [
    "# Summary of the Dataset"
   ]
  },
  {
   "cell_type": "code",
   "execution_count": 10,
   "id": "52124239",
   "metadata": {},
   "outputs": [
    {
     "data": {
      "text/html": [
       "<div>\n",
       "<style scoped>\n",
       "    .dataframe tbody tr th:only-of-type {\n",
       "        vertical-align: middle;\n",
       "    }\n",
       "\n",
       "    .dataframe tbody tr th {\n",
       "        vertical-align: top;\n",
       "    }\n",
       "\n",
       "    .dataframe thead th {\n",
       "        text-align: right;\n",
       "    }\n",
       "</style>\n",
       "<table border=\"1\" class=\"dataframe\">\n",
       "  <thead>\n",
       "    <tr style=\"text-align: right;\">\n",
       "      <th></th>\n",
       "      <th>MinTemp</th>\n",
       "      <th>MaxTemp</th>\n",
       "      <th>Rainfall</th>\n",
       "      <th>Evaporation</th>\n",
       "      <th>Sunshine</th>\n",
       "      <th>WindGustSpeed</th>\n",
       "      <th>WindSpeed9am</th>\n",
       "      <th>WindSpeed3pm</th>\n",
       "      <th>Humidity9am</th>\n",
       "      <th>Humidity3pm</th>\n",
       "      <th>Pressure9am</th>\n",
       "      <th>Pressure3pm</th>\n",
       "      <th>Cloud9am</th>\n",
       "      <th>Cloud3pm</th>\n",
       "      <th>Temp9am</th>\n",
       "      <th>Temp3pm</th>\n",
       "    </tr>\n",
       "  </thead>\n",
       "  <tbody>\n",
       "    <tr>\n",
       "      <th>count</th>\n",
       "      <td>8350.000000</td>\n",
       "      <td>8365.000000</td>\n",
       "      <td>8185.000000</td>\n",
       "      <td>4913.000000</td>\n",
       "      <td>4431.000000</td>\n",
       "      <td>7434.000000</td>\n",
       "      <td>8349.000000</td>\n",
       "      <td>8318.000000</td>\n",
       "      <td>8366.000000</td>\n",
       "      <td>8323.000000</td>\n",
       "      <td>7116.000000</td>\n",
       "      <td>7113.000000</td>\n",
       "      <td>6004.000000</td>\n",
       "      <td>5970.000000</td>\n",
       "      <td>8369.000000</td>\n",
       "      <td>8329.000000</td>\n",
       "    </tr>\n",
       "    <tr>\n",
       "      <th>mean</th>\n",
       "      <td>13.193305</td>\n",
       "      <td>23.859976</td>\n",
       "      <td>2.805913</td>\n",
       "      <td>5.389395</td>\n",
       "      <td>7.632205</td>\n",
       "      <td>40.174469</td>\n",
       "      <td>13.847646</td>\n",
       "      <td>18.533662</td>\n",
       "      <td>67.822496</td>\n",
       "      <td>51.249790</td>\n",
       "      <td>1017.640233</td>\n",
       "      <td>1015.236075</td>\n",
       "      <td>4.566622</td>\n",
       "      <td>4.503183</td>\n",
       "      <td>17.762015</td>\n",
       "      <td>22.442934</td>\n",
       "    </tr>\n",
       "    <tr>\n",
       "      <th>std</th>\n",
       "      <td>5.403596</td>\n",
       "      <td>6.136408</td>\n",
       "      <td>10.459379</td>\n",
       "      <td>5.044484</td>\n",
       "      <td>3.896235</td>\n",
       "      <td>14.665721</td>\n",
       "      <td>10.174579</td>\n",
       "      <td>9.766986</td>\n",
       "      <td>16.833283</td>\n",
       "      <td>18.423774</td>\n",
       "      <td>6.828699</td>\n",
       "      <td>6.766681</td>\n",
       "      <td>2.877658</td>\n",
       "      <td>2.731659</td>\n",
       "      <td>5.627035</td>\n",
       "      <td>5.980020</td>\n",
       "    </tr>\n",
       "    <tr>\n",
       "      <th>min</th>\n",
       "      <td>-2.000000</td>\n",
       "      <td>8.200000</td>\n",
       "      <td>0.000000</td>\n",
       "      <td>0.000000</td>\n",
       "      <td>0.000000</td>\n",
       "      <td>7.000000</td>\n",
       "      <td>0.000000</td>\n",
       "      <td>0.000000</td>\n",
       "      <td>10.000000</td>\n",
       "      <td>6.000000</td>\n",
       "      <td>989.800000</td>\n",
       "      <td>982.900000</td>\n",
       "      <td>0.000000</td>\n",
       "      <td>0.000000</td>\n",
       "      <td>1.900000</td>\n",
       "      <td>7.300000</td>\n",
       "    </tr>\n",
       "    <tr>\n",
       "      <th>25%</th>\n",
       "      <td>9.200000</td>\n",
       "      <td>19.300000</td>\n",
       "      <td>0.000000</td>\n",
       "      <td>2.600000</td>\n",
       "      <td>4.750000</td>\n",
       "      <td>30.000000</td>\n",
       "      <td>6.000000</td>\n",
       "      <td>11.000000</td>\n",
       "      <td>56.000000</td>\n",
       "      <td>39.000000</td>\n",
       "      <td>1013.000000</td>\n",
       "      <td>1010.400000</td>\n",
       "      <td>1.000000</td>\n",
       "      <td>2.000000</td>\n",
       "      <td>13.800000</td>\n",
       "      <td>18.000000</td>\n",
       "    </tr>\n",
       "    <tr>\n",
       "      <th>50%</th>\n",
       "      <td>13.300000</td>\n",
       "      <td>23.300000</td>\n",
       "      <td>0.000000</td>\n",
       "      <td>4.600000</td>\n",
       "      <td>8.700000</td>\n",
       "      <td>39.000000</td>\n",
       "      <td>13.000000</td>\n",
       "      <td>19.000000</td>\n",
       "      <td>68.000000</td>\n",
       "      <td>51.000000</td>\n",
       "      <td>1017.700000</td>\n",
       "      <td>1015.300000</td>\n",
       "      <td>5.000000</td>\n",
       "      <td>5.000000</td>\n",
       "      <td>17.800000</td>\n",
       "      <td>21.900000</td>\n",
       "    </tr>\n",
       "    <tr>\n",
       "      <th>75%</th>\n",
       "      <td>17.400000</td>\n",
       "      <td>28.000000</td>\n",
       "      <td>1.000000</td>\n",
       "      <td>7.000000</td>\n",
       "      <td>10.700000</td>\n",
       "      <td>50.000000</td>\n",
       "      <td>20.000000</td>\n",
       "      <td>24.000000</td>\n",
       "      <td>80.000000</td>\n",
       "      <td>63.000000</td>\n",
       "      <td>1022.300000</td>\n",
       "      <td>1019.800000</td>\n",
       "      <td>7.000000</td>\n",
       "      <td>7.000000</td>\n",
       "      <td>21.900000</td>\n",
       "      <td>26.400000</td>\n",
       "    </tr>\n",
       "    <tr>\n",
       "      <th>max</th>\n",
       "      <td>28.500000</td>\n",
       "      <td>45.500000</td>\n",
       "      <td>371.000000</td>\n",
       "      <td>145.000000</td>\n",
       "      <td>13.900000</td>\n",
       "      <td>107.000000</td>\n",
       "      <td>63.000000</td>\n",
       "      <td>83.000000</td>\n",
       "      <td>100.000000</td>\n",
       "      <td>99.000000</td>\n",
       "      <td>1039.000000</td>\n",
       "      <td>1036.000000</td>\n",
       "      <td>8.000000</td>\n",
       "      <td>8.000000</td>\n",
       "      <td>39.400000</td>\n",
       "      <td>44.100000</td>\n",
       "    </tr>\n",
       "  </tbody>\n",
       "</table>\n",
       "</div>"
      ],
      "text/plain": [
       "           MinTemp      MaxTemp     Rainfall  Evaporation     Sunshine  \\\n",
       "count  8350.000000  8365.000000  8185.000000  4913.000000  4431.000000   \n",
       "mean     13.193305    23.859976     2.805913     5.389395     7.632205   \n",
       "std       5.403596     6.136408    10.459379     5.044484     3.896235   \n",
       "min      -2.000000     8.200000     0.000000     0.000000     0.000000   \n",
       "25%       9.200000    19.300000     0.000000     2.600000     4.750000   \n",
       "50%      13.300000    23.300000     0.000000     4.600000     8.700000   \n",
       "75%      17.400000    28.000000     1.000000     7.000000    10.700000   \n",
       "max      28.500000    45.500000   371.000000   145.000000    13.900000   \n",
       "\n",
       "       WindGustSpeed  WindSpeed9am  WindSpeed3pm  Humidity9am  Humidity3pm  \\\n",
       "count    7434.000000   8349.000000   8318.000000  8366.000000  8323.000000   \n",
       "mean       40.174469     13.847646     18.533662    67.822496    51.249790   \n",
       "std        14.665721     10.174579      9.766986    16.833283    18.423774   \n",
       "min         7.000000      0.000000      0.000000    10.000000     6.000000   \n",
       "25%        30.000000      6.000000     11.000000    56.000000    39.000000   \n",
       "50%        39.000000     13.000000     19.000000    68.000000    51.000000   \n",
       "75%        50.000000     20.000000     24.000000    80.000000    63.000000   \n",
       "max       107.000000     63.000000     83.000000   100.000000    99.000000   \n",
       "\n",
       "       Pressure9am  Pressure3pm     Cloud9am     Cloud3pm      Temp9am  \\\n",
       "count  7116.000000  7113.000000  6004.000000  5970.000000  8369.000000   \n",
       "mean   1017.640233  1015.236075     4.566622     4.503183    17.762015   \n",
       "std       6.828699     6.766681     2.877658     2.731659     5.627035   \n",
       "min     989.800000   982.900000     0.000000     0.000000     1.900000   \n",
       "25%    1013.000000  1010.400000     1.000000     2.000000    13.800000   \n",
       "50%    1017.700000  1015.300000     5.000000     5.000000    17.800000   \n",
       "75%    1022.300000  1019.800000     7.000000     7.000000    21.900000   \n",
       "max    1039.000000  1036.000000     8.000000     8.000000    39.400000   \n",
       "\n",
       "           Temp3pm  \n",
       "count  8329.000000  \n",
       "mean     22.442934  \n",
       "std       5.980020  \n",
       "min       7.300000  \n",
       "25%      18.000000  \n",
       "50%      21.900000  \n",
       "75%      26.400000  \n",
       "max      44.100000  "
      ]
     },
     "execution_count": 10,
     "metadata": {},
     "output_type": "execute_result"
    }
   ],
   "source": [
    "df.describe()"
   ]
  },
  {
   "cell_type": "markdown",
   "id": "34421570",
   "metadata": {},
   "source": [
    "the describe method will help to see how data has been spread for numerical values."
   ]
  },
  {
   "cell_type": "code",
   "execution_count": 11,
   "id": "3ce95036",
   "metadata": {},
   "outputs": [
    {
     "data": {
      "text/plain": [
       "<AxesSubplot:>"
      ]
     },
     "execution_count": 11,
     "metadata": {},
     "output_type": "execute_result"
    },
    {
     "data": {
      "image/png": "[encoded data removed]",
      "text/plain": [
       "<Figure size 1296x432 with 2 Axes>"
      ]
     },
     "metadata": {
      "needs_background": "light"
     },
     "output_type": "display_data"
    }
   ],
   "source": [
    "plt.figure(figsize=(18,6))\n",
    "sns.heatmap(df.describe(),annot=True,cmap='Blues_r')"
   ]
  },
  {
   "cell_type": "markdown",
   "id": "63019d8d",
   "metadata": {},
   "source": [
    "change data dtype object to datetime64"
   ]
  },
  {
   "cell_type": "code",
   "execution_count": 14,
   "id": "88b138f3",
   "metadata": {},
   "outputs": [],
   "source": [
    "df['Date'] = pd.to_datetime(df.Date)"
   ]
  },
  {
   "cell_type": "markdown",
   "id": "1831f5b4",
   "metadata": {},
   "source": [
    "# Handling Missing Values"
   ]
  },
  {
   "cell_type": "code",
   "execution_count": 16,
   "id": "2697ea30",
   "metadata": {},
   "outputs": [
    {
     "data": {
      "text/plain": [
       "Date                0\n",
       "Location            0\n",
       "MinTemp            75\n",
       "MaxTemp            60\n",
       "Rainfall          240\n",
       "Evaporation      3512\n",
       "Sunshine         3994\n",
       "WindGustDir       991\n",
       "WindGustSpeed     991\n",
       "WindDir9am        829\n",
       "WindDir3pm        308\n",
       "WindSpeed9am       76\n",
       "WindSpeed3pm      107\n",
       "Humidity9am        59\n",
       "Humidity3pm       102\n",
       "Pressure9am      1309\n",
       "Pressure3pm      1312\n",
       "Cloud9am         2421\n",
       "Cloud3pm         2455\n",
       "Temp9am            56\n",
       "Temp3pm            96\n",
       "RainToday         240\n",
       "RainTomorrow      239\n",
       "dtype: int64"
      ]
     },
     "execution_count": 16,
     "metadata": {},
     "output_type": "execute_result"
    }
   ],
   "source": [
    "df.isnull().sum()"
   ]
  },
  {
   "cell_type": "code",
   "execution_count": 17,
   "id": "5a20a2d4",
   "metadata": {},
   "outputs": [
    {
     "data": {
      "text/plain": [
       "dtype('float64')"
      ]
     },
     "execution_count": 17,
     "metadata": {},
     "output_type": "execute_result"
    }
   ],
   "source": [
    "df['MinTemp'].dtype"
   ]
  },
  {
   "cell_type": "code",
   "execution_count": 18,
   "id": "6450d2f2",
   "metadata": {},
   "outputs": [
    {
     "data": {
      "text/plain": [
       "13.3"
      ]
     },
     "execution_count": 18,
     "metadata": {},
     "output_type": "execute_result"
    }
   ],
   "source": [
    "med = df['MinTemp'].median()\n",
    "med"
   ]
  },
  {
   "cell_type": "code",
   "execution_count": 19,
   "id": "684f131e",
   "metadata": {},
   "outputs": [],
   "source": [
    "df['MinTemp'].fillna(med,inplace=True)"
   ]
  },
  {
   "cell_type": "code",
   "execution_count": 20,
   "id": "70074b6b",
   "metadata": {},
   "outputs": [
    {
     "data": {
      "text/plain": [
       "dtype('float64')"
      ]
     },
     "execution_count": 20,
     "metadata": {},
     "output_type": "execute_result"
    }
   ],
   "source": [
    "df['MaxTemp'].dtype"
   ]
  },
  {
   "cell_type": "code",
   "execution_count": 21,
   "id": "36f111c3",
   "metadata": {},
   "outputs": [
    {
     "data": {
      "text/plain": [
       "23.3"
      ]
     },
     "execution_count": 21,
     "metadata": {},
     "output_type": "execute_result"
    }
   ],
   "source": [
    "med = df['MaxTemp'].median()\n",
    "med"
   ]
  },
  {
   "cell_type": "code",
   "execution_count": 22,
   "id": "3bc30768",
   "metadata": {},
   "outputs": [],
   "source": [
    "df['MaxTemp'].fillna(med,inplace=True)"
   ]
  },
  {
   "cell_type": "code",
   "execution_count": 23,
   "id": "ce94f7f7",
   "metadata": {},
   "outputs": [
    {
     "data": {
      "text/plain": [
       "dtype('float64')"
      ]
     },
     "execution_count": 23,
     "metadata": {},
     "output_type": "execute_result"
    }
   ],
   "source": [
    "df['Rainfall'].dtype"
   ]
  },
  {
   "cell_type": "code",
   "execution_count": 24,
   "id": "b07b5939",
   "metadata": {},
   "outputs": [
    {
     "data": {
      "text/plain": [
       "0.0"
      ]
     },
     "execution_count": 24,
     "metadata": {},
     "output_type": "execute_result"
    }
   ],
   "source": [
    "med = df['Rainfall'].median()\n",
    "med"
   ]
  },
  {
   "cell_type": "code",
   "execution_count": 25,
   "id": "cdd0e00f",
   "metadata": {},
   "outputs": [],
   "source": [
    "df['Rainfall'].fillna(med,inplace=True)"
   ]
  },
  {
   "cell_type": "code",
   "execution_count": 28,
   "id": "9e286023",
   "metadata": {},
   "outputs": [
    {
     "data": {
      "text/plain": [
       "dtype('float64')"
      ]
     },
     "execution_count": 28,
     "metadata": {},
     "output_type": "execute_result"
    }
   ],
   "source": [
    "df['Evaporation'].dtype"
   ]
  },
  {
   "cell_type": "code",
   "execution_count": 29,
   "id": "f18bec0a",
   "metadata": {},
   "outputs": [
    {
     "data": {
      "text/plain": [
       "4.6"
      ]
     },
     "execution_count": 29,
     "metadata": {},
     "output_type": "execute_result"
    }
   ],
   "source": [
    "med = df['Evaporation'].median()\n",
    "med"
   ]
  },
  {
   "cell_type": "code",
   "execution_count": 30,
   "id": "39705ac3",
   "metadata": {},
   "outputs": [],
   "source": [
    "df['Evaporation'].fillna(med,inplace=True)"
   ]
  },
  {
   "cell_type": "code",
   "execution_count": 32,
   "id": "30752993",
   "metadata": {},
   "outputs": [
    {
     "data": {
      "text/plain": [
       "dtype('float64')"
      ]
     },
     "execution_count": 32,
     "metadata": {},
     "output_type": "execute_result"
    }
   ],
   "source": [
    "df['Sunshine'].dtype"
   ]
  },
  {
   "cell_type": "code",
   "execution_count": 33,
   "id": "b38314a3",
   "metadata": {},
   "outputs": [
    {
     "data": {
      "text/plain": [
       "8.7"
      ]
     },
     "execution_count": 33,
     "metadata": {},
     "output_type": "execute_result"
    }
   ],
   "source": [
    "med = df['Sunshine'].median()\n",
    "med"
   ]
  },
  {
   "cell_type": "code",
   "execution_count": 34,
   "id": "6d0919cf",
   "metadata": {},
   "outputs": [],
   "source": [
    "df['Sunshine'].fillna(med,inplace=True)"
   ]
  },
  {
   "cell_type": "code",
   "execution_count": 35,
   "id": "7b273090",
   "metadata": {},
   "outputs": [
    {
     "data": {
      "text/plain": [
       "dtype('O')"
      ]
     },
     "execution_count": 35,
     "metadata": {},
     "output_type": "execute_result"
    }
   ],
   "source": [
    "df['WindGustDir'].dtype"
   ]
  },
  {
   "cell_type": "code",
   "execution_count": 36,
   "id": "1ddd9ac1",
   "metadata": {},
   "outputs": [
    {
     "data": {
      "text/plain": [
       "0    N\n",
       "Name: WindGustDir, dtype: object"
      ]
     },
     "execution_count": 36,
     "metadata": {},
     "output_type": "execute_result"
    }
   ],
   "source": [
    "mod = df['WindGustDir'].mode()\n",
    "mod"
   ]
  },
  {
   "cell_type": "code",
   "execution_count": 37,
   "id": "b8dae63e",
   "metadata": {},
   "outputs": [],
   "source": [
    "df['WindGustDir'].fillna(mod[0],inplace=True)"
   ]
  },
  {
   "cell_type": "code",
   "execution_count": 38,
   "id": "2ee8eb14",
   "metadata": {},
   "outputs": [
    {
     "data": {
      "text/plain": [
       "dtype('float64')"
      ]
     },
     "execution_count": 38,
     "metadata": {},
     "output_type": "execute_result"
    }
   ],
   "source": [
    "df['WindGustSpeed'].dtype"
   ]
  },
  {
   "cell_type": "code",
   "execution_count": 39,
   "id": "e60c1f6e",
   "metadata": {},
   "outputs": [
    {
     "data": {
      "text/plain": [
       "39.0"
      ]
     },
     "execution_count": 39,
     "metadata": {},
     "output_type": "execute_result"
    }
   ],
   "source": [
    "med = df['WindGustSpeed'].median()\n",
    "med"
   ]
  },
  {
   "cell_type": "code",
   "execution_count": 40,
   "id": "eeb27725",
   "metadata": {},
   "outputs": [],
   "source": [
    "df['WindGustSpeed'].fillna(med,inplace=True)"
   ]
  },
  {
   "cell_type": "code",
   "execution_count": 42,
   "id": "278cebde",
   "metadata": {},
   "outputs": [
    {
     "data": {
      "text/plain": [
       "dtype('O')"
      ]
     },
     "execution_count": 42,
     "metadata": {},
     "output_type": "execute_result"
    }
   ],
   "source": [
    "df['WindDir9am'].dtype"
   ]
  },
  {
   "cell_type": "code",
   "execution_count": 43,
   "id": "0f977449",
   "metadata": {},
   "outputs": [
    {
     "data": {
      "text/plain": [
       "0    N\n",
       "Name: WindDir9am, dtype: object"
      ]
     },
     "execution_count": 43,
     "metadata": {},
     "output_type": "execute_result"
    }
   ],
   "source": [
    "mod = df['WindDir9am'].mode()\n",
    "mod"
   ]
  },
  {
   "cell_type": "code",
   "execution_count": 44,
   "id": "f638f92c",
   "metadata": {},
   "outputs": [],
   "source": [
    "df['WindDir9am'].fillna(mod[0],inplace=True)"
   ]
  },
  {
   "cell_type": "code",
   "execution_count": 45,
   "id": "25cbdc50",
   "metadata": {},
   "outputs": [
    {
     "data": {
      "text/plain": [
       "dtype('O')"
      ]
     },
     "execution_count": 45,
     "metadata": {},
     "output_type": "execute_result"
    }
   ],
   "source": [
    "df['WindDir3pm'].dtype"
   ]
  },
  {
   "cell_type": "code",
   "execution_count": 46,
   "id": "8826b534",
   "metadata": {},
   "outputs": [
    {
     "data": {
      "text/plain": [
       "0    SE\n",
       "Name: WindDir3pm, dtype: object"
      ]
     },
     "execution_count": 46,
     "metadata": {},
     "output_type": "execute_result"
    }
   ],
   "source": [
    "mod = df['WindDir3pm'].mode()\n",
    "mod"
   ]
  },
  {
   "cell_type": "code",
   "execution_count": 47,
   "id": "31d0f9c2",
   "metadata": {},
   "outputs": [],
   "source": [
    "df['WindDir3pm'].fillna(mod[0],inplace=True)"
   ]
  },
  {
   "cell_type": "code",
   "execution_count": 49,
   "id": "8669ea4c",
   "metadata": {},
   "outputs": [
    {
     "data": {
      "text/plain": [
       "dtype('float64')"
      ]
     },
     "execution_count": 49,
     "metadata": {},
     "output_type": "execute_result"
    }
   ],
   "source": [
    "df['WindSpeed9am'].dtype"
   ]
  },
  {
   "cell_type": "code",
   "execution_count": 50,
   "id": "a71c44d6",
   "metadata": {},
   "outputs": [
    {
     "data": {
      "text/plain": [
       "13.0"
      ]
     },
     "execution_count": 50,
     "metadata": {},
     "output_type": "execute_result"
    }
   ],
   "source": [
    "med = df['WindSpeed9am'].median()\n",
    "med"
   ]
  },
  {
   "cell_type": "code",
   "execution_count": 51,
   "id": "ba767033",
   "metadata": {},
   "outputs": [],
   "source": [
    "df['WindSpeed9am'].fillna(med,inplace=True)"
   ]
  },
  {
   "cell_type": "code",
   "execution_count": 52,
   "id": "760d1965",
   "metadata": {},
   "outputs": [
    {
     "data": {
      "text/plain": [
       "dtype('float64')"
      ]
     },
     "execution_count": 52,
     "metadata": {},
     "output_type": "execute_result"
    }
   ],
   "source": [
    "df['WindSpeed3pm'].dtype"
   ]
  },
  {
   "cell_type": "code",
   "execution_count": 53,
   "id": "ea692455",
   "metadata": {},
   "outputs": [
    {
     "data": {
      "text/plain": [
       "19.0"
      ]
     },
     "execution_count": 53,
     "metadata": {},
     "output_type": "execute_result"
    }
   ],
   "source": [
    "med = df['WindSpeed3pm'].median()\n",
    "med"
   ]
  },
  {
   "cell_type": "code",
   "execution_count": 54,
   "id": "76bf368a",
   "metadata": {},
   "outputs": [],
   "source": [
    "df['WindSpeed3pm'].fillna(med,inplace=True)"
   ]
  },
  {
   "cell_type": "code",
   "execution_count": 56,
   "id": "e18f80ea",
   "metadata": {},
   "outputs": [
    {
     "data": {
      "text/plain": [
       "dtype('float64')"
      ]
     },
     "execution_count": 56,
     "metadata": {},
     "output_type": "execute_result"
    }
   ],
   "source": [
    "df['Humidity9am'].dtype"
   ]
  },
  {
   "cell_type": "code",
   "execution_count": 57,
   "id": "a363e858",
   "metadata": {},
   "outputs": [
    {
     "data": {
      "text/plain": [
       "68.0"
      ]
     },
     "execution_count": 57,
     "metadata": {},
     "output_type": "execute_result"
    }
   ],
   "source": [
    "med = df['Humidity9am'].median()\n",
    "med"
   ]
  },
  {
   "cell_type": "code",
   "execution_count": 58,
   "id": "83c25a43",
   "metadata": {},
   "outputs": [],
   "source": [
    "df['Humidity9am'].fillna(med,inplace=True)"
   ]
  },
  {
   "cell_type": "code",
   "execution_count": 59,
   "id": "1c35b4c3",
   "metadata": {},
   "outputs": [
    {
     "data": {
      "text/plain": [
       "dtype('float64')"
      ]
     },
     "execution_count": 59,
     "metadata": {},
     "output_type": "execute_result"
    }
   ],
   "source": [
    "df['Humidity3pm'].dtype"
   ]
  },
  {
   "cell_type": "code",
   "execution_count": 60,
   "id": "32d59214",
   "metadata": {},
   "outputs": [],
   "source": [
    "med = df['Humidity3pm'].fillna(med,inplace=True)"
   ]
  },
  {
   "cell_type": "code",
   "execution_count": 61,
   "id": "1d6a4aec",
   "metadata": {},
   "outputs": [
    {
     "data": {
      "text/plain": [
       "dtype('float64')"
      ]
     },
     "execution_count": 61,
     "metadata": {},
     "output_type": "execute_result"
    }
   ],
   "source": [
    "df['Pressure9am'].dtype"
   ]
  },
  {
   "cell_type": "code",
   "execution_count": 62,
   "id": "d2155dd6",
   "metadata": {},
   "outputs": [
    {
     "data": {
      "text/plain": [
       "1017.7"
      ]
     },
     "execution_count": 62,
     "metadata": {},
     "output_type": "execute_result"
    }
   ],
   "source": [
    "med = df['Pressure9am'].median()\n",
    "med"
   ]
  },
  {
   "cell_type": "code",
   "execution_count": 63,
   "id": "ca148878",
   "metadata": {},
   "outputs": [],
   "source": [
    "df['Pressure9am'].fillna(med,inplace=True)"
   ]
  },
  {
   "cell_type": "code",
   "execution_count": 64,
   "id": "3ec9817d",
   "metadata": {},
   "outputs": [
    {
     "data": {
      "text/plain": [
       "dtype('float64')"
      ]
     },
     "execution_count": 64,
     "metadata": {},
     "output_type": "execute_result"
    }
   ],
   "source": [
    "df['Pressure3pm'].dtype"
   ]
  },
  {
   "cell_type": "code",
   "execution_count": 65,
   "id": "c8dbe309",
   "metadata": {},
   "outputs": [
    {
     "data": {
      "text/plain": [
       "1015.3"
      ]
     },
     "execution_count": 65,
     "metadata": {},
     "output_type": "execute_result"
    }
   ],
   "source": [
    "med = df['Pressure3pm'].median()\n",
    "med"
   ]
  },
  {
   "cell_type": "code",
   "execution_count": 66,
   "id": "8f886bdd",
   "metadata": {},
   "outputs": [],
   "source": [
    "df['Pressure3pm'].fillna(med,inplace=True)"
   ]
  },
  {
   "cell_type": "code",
   "execution_count": 68,
   "id": "9e343810",
   "metadata": {},
   "outputs": [
    {
     "data": {
      "text/plain": [
       "dtype('float64')"
      ]
     },
     "execution_count": 68,
     "metadata": {},
     "output_type": "execute_result"
    }
   ],
   "source": [
    "df['Cloud9am'].dtype"
   ]
  },
  {
   "cell_type": "code",
   "execution_count": 69,
   "id": "d3055b20",
   "metadata": {},
   "outputs": [
    {
     "data": {
      "text/plain": [
       "5.0"
      ]
     },
     "execution_count": 69,
     "metadata": {},
     "output_type": "execute_result"
    }
   ],
   "source": [
    "med = df['Cloud9am'].median()\n",
    "med"
   ]
  },
  {
   "cell_type": "code",
   "execution_count": 70,
   "id": "63da03ce",
   "metadata": {},
   "outputs": [],
   "source": [
    "df['Cloud9am'].fillna(med,inplace=True)"
   ]
  },
  {
   "cell_type": "code",
   "execution_count": 71,
   "id": "cc6ce8df",
   "metadata": {},
   "outputs": [
    {
     "data": {
      "text/plain": [
       "dtype('float64')"
      ]
     },
     "execution_count": 71,
     "metadata": {},
     "output_type": "execute_result"
    }
   ],
   "source": [
    "df['Cloud3pm'].dtype"
   ]
  },
  {
   "cell_type": "code",
   "execution_count": 72,
   "id": "c7504bd1",
   "metadata": {},
   "outputs": [
    {
     "data": {
      "text/plain": [
       "5.0"
      ]
     },
     "execution_count": 72,
     "metadata": {},
     "output_type": "execute_result"
    }
   ],
   "source": [
    "med = df['Cloud3pm'].median()\n",
    "med"
   ]
  },
  {
   "cell_type": "code",
   "execution_count": 73,
   "id": "a28f6f0a",
   "metadata": {},
   "outputs": [],
   "source": [
    "df['Cloud3pm'].fillna(med,inplace=True)"
   ]
  },
  {
   "cell_type": "code",
   "execution_count": 74,
   "id": "341b53d3",
   "metadata": {},
   "outputs": [
    {
     "data": {
      "text/plain": [
       "dtype('float64')"
      ]
     },
     "execution_count": 74,
     "metadata": {},
     "output_type": "execute_result"
    }
   ],
   "source": [
    "df['Temp9am'].dtype"
   ]
  },
  {
   "cell_type": "code",
   "execution_count": 75,
   "id": "c563fa8c",
   "metadata": {},
   "outputs": [
    {
     "data": {
      "text/plain": [
       "17.8"
      ]
     },
     "execution_count": 75,
     "metadata": {},
     "output_type": "execute_result"
    }
   ],
   "source": [
    "med = df['Temp9am'].median()\n",
    "med"
   ]
  },
  {
   "cell_type": "code",
   "execution_count": 76,
   "id": "a19eb07d",
   "metadata": {},
   "outputs": [],
   "source": [
    "df['Temp9am'].fillna(med,inplace=True)"
   ]
  },
  {
   "cell_type": "code",
   "execution_count": 77,
   "id": "118fb776",
   "metadata": {},
   "outputs": [
    {
     "data": {
      "text/plain": [
       "dtype('float64')"
      ]
     },
     "execution_count": 77,
     "metadata": {},
     "output_type": "execute_result"
    }
   ],
   "source": [
    "df['Temp3pm'].dtype"
   ]
  },
  {
   "cell_type": "code",
   "execution_count": 78,
   "id": "debd9f40",
   "metadata": {},
   "outputs": [
    {
     "data": {
      "text/plain": [
       "21.9"
      ]
     },
     "execution_count": 78,
     "metadata": {},
     "output_type": "execute_result"
    }
   ],
   "source": [
    "med = df['Temp3pm'].median()\n",
    "med"
   ]
  },
  {
   "cell_type": "code",
   "execution_count": 79,
   "id": "6f6c5a08",
   "metadata": {},
   "outputs": [],
   "source": [
    "df['Temp3pm'].fillna(med,inplace=True)"
   ]
  },
  {
   "cell_type": "code",
   "execution_count": 80,
   "id": "0fd16c71",
   "metadata": {},
   "outputs": [
    {
     "data": {
      "text/plain": [
       "dtype('O')"
      ]
     },
     "execution_count": 80,
     "metadata": {},
     "output_type": "execute_result"
    }
   ],
   "source": [
    "df['RainToday'].dtype"
   ]
  },
  {
   "cell_type": "code",
   "execution_count": 81,
   "id": "2b8ef466",
   "metadata": {},
   "outputs": [
    {
     "data": {
      "text/plain": [
       "0    No\n",
       "Name: RainToday, dtype: object"
      ]
     },
     "execution_count": 81,
     "metadata": {},
     "output_type": "execute_result"
    }
   ],
   "source": [
    "mod = df['RainToday'].mode()\n",
    "mod"
   ]
  },
  {
   "cell_type": "code",
   "execution_count": 82,
   "id": "15340239",
   "metadata": {},
   "outputs": [],
   "source": [
    "df['RainToday'].fillna(mod[0],inplace=True)"
   ]
  },
  {
   "cell_type": "code",
   "execution_count": 84,
   "id": "fa58c6e5",
   "metadata": {},
   "outputs": [
    {
     "data": {
      "text/plain": [
       "dtype('O')"
      ]
     },
     "execution_count": 84,
     "metadata": {},
     "output_type": "execute_result"
    }
   ],
   "source": [
    "df['RainTomorrow'].dtype"
   ]
  },
  {
   "cell_type": "code",
   "execution_count": 85,
   "id": "96d275da",
   "metadata": {},
   "outputs": [
    {
     "data": {
      "text/plain": [
       "0    No\n",
       "Name: RainTomorrow, dtype: object"
      ]
     },
     "execution_count": 85,
     "metadata": {},
     "output_type": "execute_result"
    }
   ],
   "source": [
    "mod = df['RainTomorrow'].mode()\n",
    "mod"
   ]
  },
  {
   "cell_type": "code",
   "execution_count": 86,
   "id": "cd75c2b5",
   "metadata": {},
   "outputs": [],
   "source": [
    "df['RainTomorrow'].fillna(mod[0],inplace=True)"
   ]
  },
  {
   "cell_type": "code",
   "execution_count": 87,
   "id": "193b0e10",
   "metadata": {},
   "outputs": [
    {
     "data": {
      "text/plain": [
       "Date             0\n",
       "Location         0\n",
       "MinTemp          0\n",
       "MaxTemp          0\n",
       "Rainfall         0\n",
       "Evaporation      0\n",
       "Sunshine         0\n",
       "WindGustDir      0\n",
       "WindGustSpeed    0\n",
       "WindDir9am       0\n",
       "WindDir3pm       0\n",
       "WindSpeed9am     0\n",
       "WindSpeed3pm     0\n",
       "Humidity9am      0\n",
       "Humidity3pm      0\n",
       "Pressure9am      0\n",
       "Pressure3pm      0\n",
       "Cloud9am         0\n",
       "Cloud3pm         0\n",
       "Temp9am          0\n",
       "Temp3pm          0\n",
       "RainToday        0\n",
       "RainTomorrow     0\n",
       "dtype: int64"
      ]
     },
     "execution_count": 87,
     "metadata": {},
     "output_type": "execute_result"
    }
   ],
   "source": [
    "df.isnull().sum()"
   ]
  },
  {
   "cell_type": "markdown",
   "id": "b7fa8853",
   "metadata": {},
   "source": [
    "Now we can see no null values are present in my dataset."
   ]
  },
  {
   "cell_type": "markdown",
   "id": "d322a0d2",
   "metadata": {},
   "source": [
    "we can also check by visualization"
   ]
  },
  {
   "cell_type": "code",
   "execution_count": 88,
   "id": "99cfb480",
   "metadata": {},
   "outputs": [
    {
     "data": {
      "text/plain": [
       "<AxesSubplot:>"
      ]
     },
     "execution_count": 88,
     "metadata": {},
     "output_type": "execute_result"
    },
    {
     "data": {
      "image/png": "[encoded data removed]",
      "text/plain": [
       "<Figure size 432x288 with 2 Axes>"
      ]
     },
     "metadata": {
      "needs_background": "light"
     },
     "output_type": "display_data"
    }
   ],
   "source": [
    "sns.heatmap(df.isnull(),cmap='Blues_r')"
   ]
  },
  {
   "cell_type": "markdown",
   "id": "4bd93557",
   "metadata": {},
   "source": [
    "# Data Visualization"
   ]
  },
  {
   "cell_type": "markdown",
   "id": "9486b7c7",
   "metadata": {},
   "source": [
    "# Univerate Analysis"
   ]
  },
  {
   "cell_type": "markdown",
   "id": "7850ffc7",
   "metadata": {},
   "source": [
    "when we are doing any analysis with single column then that is called Univerate Analysis"
   ]
  },
  {
   "cell_type": "code",
   "execution_count": 90,
   "id": "f688b920",
   "metadata": {},
   "outputs": [
    {
     "data": {
      "text/plain": [
       "<AxesSubplot:xlabel='RainTomorrow', ylabel='count'>"
      ]
     },
     "execution_count": 90,
     "metadata": {},
     "output_type": "execute_result"
    },
    {
     "data": {
      "image/png": "[encoded data removed]",
      "text/plain": [
       "<Figure size 432x288 with 1 Axes>"
      ]
     },
     "metadata": {
      "needs_background": "light"
     },
     "output_type": "display_data"
    }
   ],
   "source": [
    "sns.countplot(df['RainTomorrow'])"
   ]
  },
  {
   "cell_type": "markdown",
   "id": "f43f23bc",
   "metadata": {},
   "source": [
    "here, we can see the maximum chance tomorrow rain will not come."
   ]
  },
  {
   "cell_type": "code",
   "execution_count": 91,
   "id": "de470d40",
   "metadata": {},
   "outputs": [
    {
     "data": {
      "text/plain": [
       "<AxesSubplot:xlabel='RainToday', ylabel='count'>"
      ]
     },
     "execution_count": 91,
     "metadata": {},
     "output_type": "execute_result"
    },
    {
     "data": {
      "image/png": "[encoded data removed]",
      "text/plain": [
       "<Figure size 432x288 with 1 Axes>"
      ]
     },
     "metadata": {
      "needs_background": "light"
     },
     "output_type": "display_data"
    }
   ],
   "source": [
    "sns.countplot(df['RainToday'])"
   ]
  },
  {
   "cell_type": "markdown",
   "id": "cf7ec421",
   "metadata": {},
   "source": [
    "here, we can see maximum chance today rain will not come and few chance today rain will come"
   ]
  },
  {
   "cell_type": "code",
   "execution_count": 99,
   "id": "df674e7c",
   "metadata": {},
   "outputs": [
    {
     "data": {
      "text/plain": [
       "<AxesSubplot:xlabel='Cloud9am', ylabel='count'>"
      ]
     },
     "execution_count": 99,
     "metadata": {},
     "output_type": "execute_result"
    },
    {
     "data": {
      "image/png": "[encoded data removed]",
      "text/plain": [
       "<Figure size 432x288 with 1 Axes>"
      ]
     },
     "metadata": {
      "needs_background": "light"
     },
     "output_type": "display_data"
    }
   ],
   "source": [
    "sns.countplot(df['Cloud9am'])"
   ]
  },
  {
   "cell_type": "markdown",
   "id": "1cd4b71d",
   "metadata": {},
   "source": [
    "here, we can see at 9am the cloud high at 5"
   ]
  },
  {
   "cell_type": "code",
   "execution_count": 100,
   "id": "3d6285c2",
   "metadata": {},
   "outputs": [
    {
     "data": {
      "text/plain": [
       "<AxesSubplot:xlabel='Cloud3pm', ylabel='count'>"
      ]
     },
     "execution_count": 100,
     "metadata": {},
     "output_type": "execute_result"
    },
    {
     "data": {
      "image/png": "[encoded data removed]",
      "text/plain": [
       "<Figure size 432x288 with 1 Axes>"
      ]
     },
     "metadata": {
      "needs_background": "light"
     },
     "output_type": "display_data"
    }
   ],
   "source": [
    "sns.countplot(df['Cloud3pm'])"
   ]
  },
  {
   "cell_type": "markdown",
   "id": "50fcc76b",
   "metadata": {},
   "source": [
    "here, we can see at 3pm the cloud high at 5"
   ]
  },
  {
   "cell_type": "code",
   "execution_count": 106,
   "id": "ce11d5a5",
   "metadata": {},
   "outputs": [
    {
     "data": {
      "text/plain": [
       "<AxesSubplot:xlabel='WindDir9am', ylabel='count'>"
      ]
     },
     "execution_count": 106,
     "metadata": {},
     "output_type": "execute_result"
    },
    {
     "data": {
      "image/png": "[encoded data removed]",
      "text/plain": [
       "<Figure size 432x288 with 1 Axes>"
      ]
     },
     "metadata": {
      "needs_background": "light"
     },
     "output_type": "display_data"
    }
   ],
   "source": [
    "sns.countplot(df['WindDir9am'])"
   ]
  },
  {
   "cell_type": "markdown",
   "id": "3b70c9c3",
   "metadata": {},
   "source": [
    "here, we can se WindDir 9am high at N"
   ]
  },
  {
   "cell_type": "code",
   "execution_count": 107,
   "id": "c2905357",
   "metadata": {},
   "outputs": [
    {
     "data": {
      "text/plain": [
       "<AxesSubplot:xlabel='WindDir3pm', ylabel='count'>"
      ]
     },
     "execution_count": 107,
     "metadata": {},
     "output_type": "execute_result"
    },
    {
     "data": {
      "image/png": "[encoded data removed]",
      "text/plain": [
       "<Figure size 432x288 with 1 Axes>"
      ]
     },
     "metadata": {
      "needs_background": "light"
     },
     "output_type": "display_data"
    }
   ],
   "source": [
    "sns.countplot(df['WindDir3pm'])"
   ]
  },
  {
   "cell_type": "markdown",
   "id": "f3a050fa",
   "metadata": {},
   "source": [
    "here, we can see WindDir3pm high at SE"
   ]
  },
  {
   "cell_type": "code",
   "execution_count": 110,
   "id": "dc74b712",
   "metadata": {},
   "outputs": [
    {
     "data": {
      "text/plain": [
       "<AxesSubplot:xlabel='WindGustDir', ylabel='count'>"
      ]
     },
     "execution_count": 110,
     "metadata": {},
     "output_type": "execute_result"
    },
    {
     "data": {
      "image/png": "[encoded data removed]",
      "text/plain": [
       "<Figure size 432x288 with 1 Axes>"
      ]
     },
     "metadata": {
      "needs_background": "light"
     },
     "output_type": "display_data"
    }
   ],
   "source": [
    "sns.countplot(df['WindGustDir'])"
   ]
  },
  {
   "cell_type": "markdown",
   "id": "755a6fc2",
   "metadata": {},
   "source": [
    "here, we can see WindGustDir high at N"
   ]
  },
  {
   "cell_type": "code",
   "execution_count": 119,
   "id": "cf33429b",
   "metadata": {},
   "outputs": [
    {
     "data": {
      "text/plain": [
       "<AxesSubplot:xlabel='Location', ylabel='count'>"
      ]
     },
     "execution_count": 119,
     "metadata": {},
     "output_type": "execute_result"
    },
    {
     "data": {
      "image/png": "[encoded data removed]",
      "text/plain": [
       "<Figure size 1296x576 with 1 Axes>"
      ]
     },
     "metadata": {
      "needs_background": "light"
     },
     "output_type": "display_data"
    }
   ],
   "source": [
    "plt.figure(figsize=(18,8))\n",
    "sns.countplot(df['Location'])"
   ]
  },
  {
   "cell_type": "markdown",
   "id": "0721ea7b",
   "metadata": {},
   "source": [
    "here, we can see Maximum Location for rainfall are Melbourne"
   ]
  },
  {
   "cell_type": "markdown",
   "id": "6c2c64fe",
   "metadata": {},
   "source": [
    "# Convert Columns from string to numerical values"
   ]
  },
  {
   "cell_type": "code",
   "execution_count": 125,
   "id": "4cd83767",
   "metadata": {},
   "outputs": [],
   "source": [
    "df.replace({'Location':{'Melbourne':0,'Williamtown':1,'PerthAirport':2,'Albury':3,'Newcastle':4,'CoffsHarbour':5,'Brisbane':6,'Penrith':7,'Wollongong':8,'Darwin':9,'Adelaide':10,'Uluru':11}},inplace=True)"
   ]
  },
  {
   "cell_type": "code",
   "execution_count": 128,
   "id": "2198dda5",
   "metadata": {},
   "outputs": [],
   "source": [
    "df.replace({'WindGustDir':{'N':0,'SSE':1,'S':2,'SW':3,'E':4,'WNW':5,'W':6,'SE':7,'ENE':8,'NW':9,'NE':10,'WSW':11,'SSW':12,'NNE':13,'ESE':14,'NNW':15}},inplace=True)"
   ]
  },
  {
   "cell_type": "code",
   "execution_count": 131,
   "id": "ced1e389",
   "metadata": {},
   "outputs": [],
   "source": [
    "df.replace({'WindDir9am':{'N':0,'SSE':1,'S':2,'SW':3,'E':4,'WNW':5,'W':6,'SE':7,'ENE':8,'NW':9,'NE':10,'WSW':11,'SSW':12,'NNE':13,'ESE':14,'NNW':15}},inplace=True)"
   ]
  },
  {
   "cell_type": "code",
   "execution_count": 133,
   "id": "3d58ed46",
   "metadata": {},
   "outputs": [
    {
     "data": {
      "text/plain": [
       "<bound method IndexOpsMixin.tolist of Index(['Date', 'Location', 'MinTemp', 'MaxTemp', 'Rainfall', 'Evaporation',\n",
       "       'Sunshine', 'WindGustDir', 'WindGustSpeed', 'WindDir9am', 'WindDir3pm',\n",
       "       'WindSpeed9am', 'WindSpeed3pm', 'Humidity9am', 'Humidity3pm',\n",
       "       'Pressure9am', 'Pressure3pm', 'Cloud9am', 'Cloud3pm', 'Temp9am',\n",
       "       'Temp3pm', 'RainToday', 'RainTomorrow'],\n",
       "      dtype='object')>"
      ]
     },
     "execution_count": 133,
     "metadata": {},
     "output_type": "execute_result"
    }
   ],
   "source": [
    "df.columns.to_list"
   ]
  },
  {
   "cell_type": "code",
   "execution_count": 134,
   "id": "9a8bde8f",
   "metadata": {},
   "outputs": [],
   "source": [
    "df.replace({'WindDir3pm':{'N':0,'SSE':1,'S':2,'SW':3,'E':4,'WNW':5,'W':6,'SE':7,'ENE':8,'NW':9,'NE':10,'WSW':11,'SSW':12,'NNE':13,'ESE':14,'NNW':15}},inplace=True)"
   ]
  },
  {
   "cell_type": "code",
   "execution_count": 155,
   "id": "423010b8",
   "metadata": {},
   "outputs": [],
   "source": [
    "df.replace({'RainToday':{'No':0,'Yes':1},'RainTomorrow':{'No':0,'Yes':1}},inplace=True)"
   ]
  },
  {
   "cell_type": "markdown",
   "id": "1c415ec3",
   "metadata": {},
   "source": [
    "# Correlation Matrix"
   ]
  },
  {
   "cell_type": "code",
   "execution_count": 157,
   "id": "e246247f",
   "metadata": {},
   "outputs": [
    {
     "data": {
      "text/html": [
       "<div>\n",
       "<style scoped>\n",
       "    .dataframe tbody tr th:only-of-type {\n",
       "        vertical-align: middle;\n",
       "    }\n",
       "\n",
       "    .dataframe tbody tr th {\n",
       "        vertical-align: top;\n",
       "    }\n",
       "\n",
       "    .dataframe thead th {\n",
       "        text-align: right;\n",
       "    }\n",
       "</style>\n",
       "<table border=\"1\" class=\"dataframe\">\n",
       "  <thead>\n",
       "    <tr style=\"text-align: right;\">\n",
       "      <th></th>\n",
       "      <th>Location</th>\n",
       "      <th>MinTemp</th>\n",
       "      <th>MaxTemp</th>\n",
       "      <th>Rainfall</th>\n",
       "      <th>Evaporation</th>\n",
       "      <th>Sunshine</th>\n",
       "      <th>WindGustDir</th>\n",
       "      <th>WindGustSpeed</th>\n",
       "      <th>WindDir9am</th>\n",
       "      <th>WindDir3pm</th>\n",
       "      <th>...</th>\n",
       "      <th>Humidity9am</th>\n",
       "      <th>Humidity3pm</th>\n",
       "      <th>Pressure9am</th>\n",
       "      <th>Pressure3pm</th>\n",
       "      <th>Cloud9am</th>\n",
       "      <th>Cloud3pm</th>\n",
       "      <th>Temp9am</th>\n",
       "      <th>Temp3pm</th>\n",
       "      <th>RainToday</th>\n",
       "      <th>RainTomorrow</th>\n",
       "    </tr>\n",
       "  </thead>\n",
       "  <tbody>\n",
       "    <tr>\n",
       "      <th>Location</th>\n",
       "      <td>1.000000</td>\n",
       "      <td>0.104692</td>\n",
       "      <td>0.067777</td>\n",
       "      <td>0.015488</td>\n",
       "      <td>-0.052789</td>\n",
       "      <td>0.154304</td>\n",
       "      <td>0.149034</td>\n",
       "      <td>-0.215894</td>\n",
       "      <td>0.054192</td>\n",
       "      <td>0.154658</td>\n",
       "      <td>...</td>\n",
       "      <td>-0.007596</td>\n",
       "      <td>0.042657</td>\n",
       "      <td>-0.006483</td>\n",
       "      <td>-0.037756</td>\n",
       "      <td>-0.075573</td>\n",
       "      <td>-0.064662</td>\n",
       "      <td>0.130165</td>\n",
       "      <td>0.081589</td>\n",
       "      <td>-0.014551</td>\n",
       "      <td>-0.015262</td>\n",
       "    </tr>\n",
       "    <tr>\n",
       "      <th>MinTemp</th>\n",
       "      <td>0.104692</td>\n",
       "      <td>1.000000</td>\n",
       "      <td>0.717522</td>\n",
       "      <td>0.085765</td>\n",
       "      <td>0.262887</td>\n",
       "      <td>0.031722</td>\n",
       "      <td>0.043916</td>\n",
       "      <td>0.230200</td>\n",
       "      <td>0.069053</td>\n",
       "      <td>0.032334</td>\n",
       "      <td>...</td>\n",
       "      <td>-0.130711</td>\n",
       "      <td>0.074828</td>\n",
       "      <td>-0.429683</td>\n",
       "      <td>-0.423261</td>\n",
       "      <td>0.078412</td>\n",
       "      <td>0.022147</td>\n",
       "      <td>0.887111</td>\n",
       "      <td>0.685859</td>\n",
       "      <td>0.064752</td>\n",
       "      <td>0.092965</td>\n",
       "    </tr>\n",
       "    <tr>\n",
       "      <th>MaxTemp</th>\n",
       "      <td>0.067777</td>\n",
       "      <td>0.717522</td>\n",
       "      <td>1.000000</td>\n",
       "      <td>-0.087595</td>\n",
       "      <td>0.326713</td>\n",
       "      <td>0.357559</td>\n",
       "      <td>0.071307</td>\n",
       "      <td>0.139909</td>\n",
       "      <td>0.059094</td>\n",
       "      <td>0.078455</td>\n",
       "      <td>...</td>\n",
       "      <td>-0.391081</td>\n",
       "      <td>-0.422432</td>\n",
       "      <td>-0.325758</td>\n",
       "      <td>-0.403283</td>\n",
       "      <td>-0.255267</td>\n",
       "      <td>-0.252942</td>\n",
       "      <td>0.866085</td>\n",
       "      <td>0.974690</td>\n",
       "      <td>-0.224693</td>\n",
       "      <td>-0.152672</td>\n",
       "    </tr>\n",
       "    <tr>\n",
       "      <th>Rainfall</th>\n",
       "      <td>0.015488</td>\n",
       "      <td>0.085765</td>\n",
       "      <td>-0.087595</td>\n",
       "      <td>1.000000</td>\n",
       "      <td>0.020252</td>\n",
       "      <td>-0.166957</td>\n",
       "      <td>-0.004222</td>\n",
       "      <td>0.082628</td>\n",
       "      <td>0.017778</td>\n",
       "      <td>-0.002127</td>\n",
       "      <td>...</td>\n",
       "      <td>0.227587</td>\n",
       "      <td>0.232641</td>\n",
       "      <td>-0.069595</td>\n",
       "      <td>-0.031261</td>\n",
       "      <td>0.176615</td>\n",
       "      <td>0.142066</td>\n",
       "      <td>-0.007356</td>\n",
       "      <td>-0.090649</td>\n",
       "      <td>0.464941</td>\n",
       "      <td>0.219015</td>\n",
       "    </tr>\n",
       "    <tr>\n",
       "      <th>Evaporation</th>\n",
       "      <td>-0.052789</td>\n",
       "      <td>0.262887</td>\n",
       "      <td>0.326713</td>\n",
       "      <td>0.020252</td>\n",
       "      <td>1.000000</td>\n",
       "      <td>0.217816</td>\n",
       "      <td>-0.002946</td>\n",
       "      <td>0.147367</td>\n",
       "      <td>0.006682</td>\n",
       "      <td>-0.006166</td>\n",
       "      <td>...</td>\n",
       "      <td>-0.235151</td>\n",
       "      <td>-0.170255</td>\n",
       "      <td>-0.177701</td>\n",
       "      <td>-0.189711</td>\n",
       "      <td>-0.078895</td>\n",
       "      <td>-0.119121</td>\n",
       "      <td>0.316489</td>\n",
       "      <td>0.318211</td>\n",
       "      <td>-0.090225</td>\n",
       "      <td>-0.060025</td>\n",
       "    </tr>\n",
       "    <tr>\n",
       "      <th>Sunshine</th>\n",
       "      <td>0.154304</td>\n",
       "      <td>0.031722</td>\n",
       "      <td>0.357559</td>\n",
       "      <td>-0.166957</td>\n",
       "      <td>0.217816</td>\n",
       "      <td>1.000000</td>\n",
       "      <td>0.018334</td>\n",
       "      <td>-0.034623</td>\n",
       "      <td>0.054708</td>\n",
       "      <td>0.037669</td>\n",
       "      <td>...</td>\n",
       "      <td>-0.316515</td>\n",
       "      <td>-0.416872</td>\n",
       "      <td>0.025163</td>\n",
       "      <td>-0.032167</td>\n",
       "      <td>-0.489100</td>\n",
       "      <td>-0.511608</td>\n",
       "      <td>0.219706</td>\n",
       "      <td>0.376915</td>\n",
       "      <td>-0.228963</td>\n",
       "      <td>-0.321410</td>\n",
       "    </tr>\n",
       "    <tr>\n",
       "      <th>WindGustDir</th>\n",
       "      <td>0.149034</td>\n",
       "      <td>0.043916</td>\n",
       "      <td>0.071307</td>\n",
       "      <td>-0.004222</td>\n",
       "      <td>-0.002946</td>\n",
       "      <td>0.018334</td>\n",
       "      <td>1.000000</td>\n",
       "      <td>-0.049870</td>\n",
       "      <td>0.170746</td>\n",
       "      <td>0.171330</td>\n",
       "      <td>...</td>\n",
       "      <td>-0.010396</td>\n",
       "      <td>-0.030574</td>\n",
       "      <td>-0.043826</td>\n",
       "      <td>-0.063644</td>\n",
       "      <td>0.005782</td>\n",
       "      <td>0.005986</td>\n",
       "      <td>0.075100</td>\n",
       "      <td>0.072841</td>\n",
       "      <td>0.004460</td>\n",
       "      <td>0.012740</td>\n",
       "    </tr>\n",
       "    <tr>\n",
       "      <th>WindGustSpeed</th>\n",
       "      <td>-0.215894</td>\n",
       "      <td>0.230200</td>\n",
       "      <td>0.139909</td>\n",
       "      <td>0.082628</td>\n",
       "      <td>0.147367</td>\n",
       "      <td>-0.034623</td>\n",
       "      <td>-0.049870</td>\n",
       "      <td>1.000000</td>\n",
       "      <td>-0.010505</td>\n",
       "      <td>-0.060793</td>\n",
       "      <td>...</td>\n",
       "      <td>-0.271865</td>\n",
       "      <td>-0.093313</td>\n",
       "      <td>-0.407139</td>\n",
       "      <td>-0.372553</td>\n",
       "      <td>0.019763</td>\n",
       "      <td>0.070237</td>\n",
       "      <td>0.202275</td>\n",
       "      <td>0.102066</td>\n",
       "      <td>0.076890</td>\n",
       "      <td>0.190274</td>\n",
       "    </tr>\n",
       "    <tr>\n",
       "      <th>WindDir9am</th>\n",
       "      <td>0.054192</td>\n",
       "      <td>0.069053</td>\n",
       "      <td>0.059094</td>\n",
       "      <td>0.017778</td>\n",
       "      <td>0.006682</td>\n",
       "      <td>0.054708</td>\n",
       "      <td>0.170746</td>\n",
       "      <td>-0.010505</td>\n",
       "      <td>1.000000</td>\n",
       "      <td>0.069863</td>\n",
       "      <td>...</td>\n",
       "      <td>-0.086681</td>\n",
       "      <td>-0.030157</td>\n",
       "      <td>-0.041775</td>\n",
       "      <td>-0.044392</td>\n",
       "      <td>-0.032660</td>\n",
       "      <td>-0.043710</td>\n",
       "      <td>0.105690</td>\n",
       "      <td>0.062093</td>\n",
       "      <td>0.013378</td>\n",
       "      <td>-0.020075</td>\n",
       "    </tr>\n",
       "    <tr>\n",
       "      <th>WindDir3pm</th>\n",
       "      <td>0.154658</td>\n",
       "      <td>0.032334</td>\n",
       "      <td>0.078455</td>\n",
       "      <td>-0.002127</td>\n",
       "      <td>-0.006166</td>\n",
       "      <td>0.037669</td>\n",
       "      <td>0.171330</td>\n",
       "      <td>-0.060793</td>\n",
       "      <td>0.069863</td>\n",
       "      <td>1.000000</td>\n",
       "      <td>...</td>\n",
       "      <td>0.032141</td>\n",
       "      <td>0.007315</td>\n",
       "      <td>-0.045592</td>\n",
       "      <td>-0.078928</td>\n",
       "      <td>-0.051568</td>\n",
       "      <td>-0.022666</td>\n",
       "      <td>0.075381</td>\n",
       "      <td>0.081791</td>\n",
       "      <td>-0.016941</td>\n",
       "      <td>0.023836</td>\n",
       "    </tr>\n",
       "    <tr>\n",
       "      <th>WindSpeed9am</th>\n",
       "      <td>-0.278246</td>\n",
       "      <td>0.136643</td>\n",
       "      <td>0.013444</td>\n",
       "      <td>0.048726</td>\n",
       "      <td>0.133320</td>\n",
       "      <td>-0.068995</td>\n",
       "      <td>-0.016655</td>\n",
       "      <td>0.606090</td>\n",
       "      <td>0.036837</td>\n",
       "      <td>-0.121920</td>\n",
       "      <td>...</td>\n",
       "      <td>-0.358391</td>\n",
       "      <td>-0.114496</td>\n",
       "      <td>-0.175584</td>\n",
       "      <td>-0.139429</td>\n",
       "      <td>-0.006931</td>\n",
       "      <td>0.047359</td>\n",
       "      <td>0.109635</td>\n",
       "      <td>-0.002279</td>\n",
       "      <td>0.035575</td>\n",
       "      <td>0.068235</td>\n",
       "    </tr>\n",
       "    <tr>\n",
       "      <th>WindSpeed3pm</th>\n",
       "      <td>-0.247101</td>\n",
       "      <td>0.178137</td>\n",
       "      <td>0.088300</td>\n",
       "      <td>0.021594</td>\n",
       "      <td>0.121595</td>\n",
       "      <td>-0.004683</td>\n",
       "      <td>0.034268</td>\n",
       "      <td>0.639042</td>\n",
       "      <td>0.044451</td>\n",
       "      <td>-0.087471</td>\n",
       "      <td>...</td>\n",
       "      <td>-0.250930</td>\n",
       "      <td>-0.090571</td>\n",
       "      <td>-0.252752</td>\n",
       "      <td>-0.208694</td>\n",
       "      <td>-0.000171</td>\n",
       "      <td>-0.001803</td>\n",
       "      <td>0.184061</td>\n",
       "      <td>0.066078</td>\n",
       "      <td>0.015211</td>\n",
       "      <td>0.053456</td>\n",
       "    </tr>\n",
       "    <tr>\n",
       "      <th>Humidity9am</th>\n",
       "      <td>-0.007596</td>\n",
       "      <td>-0.130711</td>\n",
       "      <td>-0.391081</td>\n",
       "      <td>0.227587</td>\n",
       "      <td>-0.235151</td>\n",
       "      <td>-0.316515</td>\n",
       "      <td>-0.010396</td>\n",
       "      <td>-0.271865</td>\n",
       "      <td>-0.086681</td>\n",
       "      <td>0.032141</td>\n",
       "      <td>...</td>\n",
       "      <td>1.000000</td>\n",
       "      <td>0.631546</td>\n",
       "      <td>0.142861</td>\n",
       "      <td>0.173934</td>\n",
       "      <td>0.399198</td>\n",
       "      <td>0.294970</td>\n",
       "      <td>-0.378343</td>\n",
       "      <td>-0.382542</td>\n",
       "      <td>0.373986</td>\n",
       "      <td>0.271231</td>\n",
       "    </tr>\n",
       "    <tr>\n",
       "      <th>Humidity3pm</th>\n",
       "      <td>0.042657</td>\n",
       "      <td>0.074828</td>\n",
       "      <td>-0.422432</td>\n",
       "      <td>0.232641</td>\n",
       "      <td>-0.170255</td>\n",
       "      <td>-0.416872</td>\n",
       "      <td>-0.030574</td>\n",
       "      <td>-0.093313</td>\n",
       "      <td>-0.030157</td>\n",
       "      <td>0.007315</td>\n",
       "      <td>...</td>\n",
       "      <td>0.631546</td>\n",
       "      <td>1.000000</td>\n",
       "      <td>0.001342</td>\n",
       "      <td>0.069246</td>\n",
       "      <td>0.402668</td>\n",
       "      <td>0.420343</td>\n",
       "      <td>-0.133302</td>\n",
       "      <td>-0.490047</td>\n",
       "      <td>0.356394</td>\n",
       "      <td>0.441046</td>\n",
       "    </tr>\n",
       "    <tr>\n",
       "      <th>Pressure9am</th>\n",
       "      <td>-0.006483</td>\n",
       "      <td>-0.429683</td>\n",
       "      <td>-0.325758</td>\n",
       "      <td>-0.069595</td>\n",
       "      <td>-0.177701</td>\n",
       "      <td>0.025163</td>\n",
       "      <td>-0.043826</td>\n",
       "      <td>-0.407139</td>\n",
       "      <td>-0.041775</td>\n",
       "      <td>-0.045592</td>\n",
       "      <td>...</td>\n",
       "      <td>0.142861</td>\n",
       "      <td>0.001342</td>\n",
       "      <td>1.000000</td>\n",
       "      <td>0.961435</td>\n",
       "      <td>-0.069128</td>\n",
       "      <td>-0.078967</td>\n",
       "      <td>-0.411125</td>\n",
       "      <td>-0.283429</td>\n",
       "      <td>-0.104390</td>\n",
       "      <td>-0.163972</td>\n",
       "    </tr>\n",
       "    <tr>\n",
       "      <th>Pressure3pm</th>\n",
       "      <td>-0.037756</td>\n",
       "      <td>-0.423261</td>\n",
       "      <td>-0.403283</td>\n",
       "      <td>-0.031261</td>\n",
       "      <td>-0.189711</td>\n",
       "      <td>-0.032167</td>\n",
       "      <td>-0.063644</td>\n",
       "      <td>-0.372553</td>\n",
       "      <td>-0.044392</td>\n",
       "      <td>-0.078928</td>\n",
       "      <td>...</td>\n",
       "      <td>0.173934</td>\n",
       "      <td>0.069246</td>\n",
       "      <td>0.961435</td>\n",
       "      <td>1.000000</td>\n",
       "      <td>-0.011209</td>\n",
       "      <td>-0.025561</td>\n",
       "      <td>-0.439673</td>\n",
       "      <td>-0.369933</td>\n",
       "      <td>-0.033976</td>\n",
       "      <td>-0.135227</td>\n",
       "    </tr>\n",
       "    <tr>\n",
       "      <th>Cloud9am</th>\n",
       "      <td>-0.075573</td>\n",
       "      <td>0.078412</td>\n",
       "      <td>-0.255267</td>\n",
       "      <td>0.176615</td>\n",
       "      <td>-0.078895</td>\n",
       "      <td>-0.489100</td>\n",
       "      <td>0.005782</td>\n",
       "      <td>0.019763</td>\n",
       "      <td>-0.032660</td>\n",
       "      <td>-0.051568</td>\n",
       "      <td>...</td>\n",
       "      <td>0.399198</td>\n",
       "      <td>0.402668</td>\n",
       "      <td>-0.069128</td>\n",
       "      <td>-0.011209</td>\n",
       "      <td>1.000000</td>\n",
       "      <td>0.579788</td>\n",
       "      <td>-0.146649</td>\n",
       "      <td>-0.269166</td>\n",
       "      <td>0.272066</td>\n",
       "      <td>0.270678</td>\n",
       "    </tr>\n",
       "    <tr>\n",
       "      <th>Cloud3pm</th>\n",
       "      <td>-0.064662</td>\n",
       "      <td>0.022147</td>\n",
       "      <td>-0.252942</td>\n",
       "      <td>0.142066</td>\n",
       "      <td>-0.119121</td>\n",
       "      <td>-0.511608</td>\n",
       "      <td>0.005986</td>\n",
       "      <td>0.070237</td>\n",
       "      <td>-0.043710</td>\n",
       "      <td>-0.022666</td>\n",
       "      <td>...</td>\n",
       "      <td>0.294970</td>\n",
       "      <td>0.420343</td>\n",
       "      <td>-0.078967</td>\n",
       "      <td>-0.025561</td>\n",
       "      <td>0.579788</td>\n",
       "      <td>1.000000</td>\n",
       "      <td>-0.141417</td>\n",
       "      <td>-0.292183</td>\n",
       "      <td>0.233150</td>\n",
       "      <td>0.332197</td>\n",
       "    </tr>\n",
       "    <tr>\n",
       "      <th>Temp9am</th>\n",
       "      <td>0.130165</td>\n",
       "      <td>0.887111</td>\n",
       "      <td>0.866085</td>\n",
       "      <td>-0.007356</td>\n",
       "      <td>0.316489</td>\n",
       "      <td>0.219706</td>\n",
       "      <td>0.075100</td>\n",
       "      <td>0.202275</td>\n",
       "      <td>0.105690</td>\n",
       "      <td>0.075381</td>\n",
       "      <td>...</td>\n",
       "      <td>-0.378343</td>\n",
       "      <td>-0.133302</td>\n",
       "      <td>-0.411125</td>\n",
       "      <td>-0.439673</td>\n",
       "      <td>-0.146649</td>\n",
       "      <td>-0.141417</td>\n",
       "      <td>1.000000</td>\n",
       "      <td>0.834471</td>\n",
       "      <td>-0.097344</td>\n",
       "      <td>-0.023206</td>\n",
       "    </tr>\n",
       "    <tr>\n",
       "      <th>Temp3pm</th>\n",
       "      <td>0.081589</td>\n",
       "      <td>0.685859</td>\n",
       "      <td>0.974690</td>\n",
       "      <td>-0.090649</td>\n",
       "      <td>0.318211</td>\n",
       "      <td>0.376915</td>\n",
       "      <td>0.072841</td>\n",
       "      <td>0.102066</td>\n",
       "      <td>0.062093</td>\n",
       "      <td>0.081791</td>\n",
       "      <td>...</td>\n",
       "      <td>-0.382542</td>\n",
       "      <td>-0.490047</td>\n",
       "      <td>-0.283429</td>\n",
       "      <td>-0.369933</td>\n",
       "      <td>-0.269166</td>\n",
       "      <td>-0.292183</td>\n",
       "      <td>0.834471</td>\n",
       "      <td>1.000000</td>\n",
       "      <td>-0.234537</td>\n",
       "      <td>-0.193625</td>\n",
       "    </tr>\n",
       "    <tr>\n",
       "      <th>RainToday</th>\n",
       "      <td>-0.014551</td>\n",
       "      <td>0.064752</td>\n",
       "      <td>-0.224693</td>\n",
       "      <td>0.464941</td>\n",
       "      <td>-0.090225</td>\n",
       "      <td>-0.228963</td>\n",
       "      <td>0.004460</td>\n",
       "      <td>0.076890</td>\n",
       "      <td>0.013378</td>\n",
       "      <td>-0.016941</td>\n",
       "      <td>...</td>\n",
       "      <td>0.373986</td>\n",
       "      <td>0.356394</td>\n",
       "      <td>-0.104390</td>\n",
       "      <td>-0.033976</td>\n",
       "      <td>0.272066</td>\n",
       "      <td>0.233150</td>\n",
       "      <td>-0.097344</td>\n",
       "      <td>-0.234537</td>\n",
       "      <td>1.000000</td>\n",
       "      <td>0.312929</td>\n",
       "    </tr>\n",
       "    <tr>\n",
       "      <th>RainTomorrow</th>\n",
       "      <td>-0.015262</td>\n",
       "      <td>0.092965</td>\n",
       "      <td>-0.152672</td>\n",
       "      <td>0.219015</td>\n",
       "      <td>-0.060025</td>\n",
       "      <td>-0.321410</td>\n",
       "      <td>0.012740</td>\n",
       "      <td>0.190274</td>\n",
       "      <td>-0.020075</td>\n",
       "      <td>0.023836</td>\n",
       "      <td>...</td>\n",
       "      <td>0.271231</td>\n",
       "      <td>0.441046</td>\n",
       "      <td>-0.163972</td>\n",
       "      <td>-0.135227</td>\n",
       "      <td>0.270678</td>\n",
       "      <td>0.332197</td>\n",
       "      <td>-0.023206</td>\n",
       "      <td>-0.193625</td>\n",
       "      <td>0.312929</td>\n",
       "      <td>1.000000</td>\n",
       "    </tr>\n",
       "  </tbody>\n",
       "</table>\n",
       "<p>22 rows × 22 columns</p>\n",
       "</div>"
      ],
      "text/plain": [
       "               Location   MinTemp   MaxTemp  Rainfall  Evaporation  Sunshine  \\\n",
       "Location       1.000000  0.104692  0.067777  0.015488    -0.052789  0.154304   \n",
       "MinTemp        0.104692  1.000000  0.717522  0.085765     0.262887  0.031722   \n",
       "MaxTemp        0.067777  0.717522  1.000000 -0.087595     0.326713  0.357559   \n",
       "Rainfall       0.015488  0.085765 -0.087595  1.000000     0.020252 -0.166957   \n",
       "Evaporation   -0.052789  0.262887  0.326713  0.020252     1.000000  0.217816   \n",
       "Sunshine       0.154304  0.031722  0.357559 -0.166957     0.217816  1.000000   \n",
       "WindGustDir    0.149034  0.043916  0.071307 -0.004222    -0.002946  0.018334   \n",
       "WindGustSpeed -0.215894  0.230200  0.139909  0.082628     0.147367 -0.034623   \n",
       "WindDir9am     0.054192  0.069053  0.059094  0.017778     0.006682  0.054708   \n",
       "WindDir3pm     0.154658  0.032334  0.078455 -0.002127    -0.006166  0.037669   \n",
       "WindSpeed9am  -0.278246  0.136643  0.013444  0.048726     0.133320 -0.068995   \n",
       "WindSpeed3pm  -0.247101  0.178137  0.088300  0.021594     0.121595 -0.004683   \n",
       "Humidity9am   -0.007596 -0.130711 -0.391081  0.227587    -0.235151 -0.316515   \n",
       "Humidity3pm    0.042657  0.074828 -0.422432  0.232641    -0.170255 -0.416872   \n",
       "Pressure9am   -0.006483 -0.429683 -0.325758 -0.069595    -0.177701  0.025163   \n",
       "Pressure3pm   -0.037756 -0.423261 -0.403283 -0.031261    -0.189711 -0.032167   \n",
       "Cloud9am      -0.075573  0.078412 -0.255267  0.176615    -0.078895 -0.489100   \n",
       "Cloud3pm      -0.064662  0.022147 -0.252942  0.142066    -0.119121 -0.511608   \n",
       "Temp9am        0.130165  0.887111  0.866085 -0.007356     0.316489  0.219706   \n",
       "Temp3pm        0.081589  0.685859  0.974690 -0.090649     0.318211  0.376915   \n",
       "RainToday     -0.014551  0.064752 -0.224693  0.464941    -0.090225 -0.228963   \n",
       "RainTomorrow  -0.015262  0.092965 -0.152672  0.219015    -0.060025 -0.321410   \n",
       "\n",
       "               WindGustDir  WindGustSpeed  WindDir9am  WindDir3pm  ...  \\\n",
       "Location          0.149034      -0.215894    0.054192    0.154658  ...   \n",
       "MinTemp           0.043916       0.230200    0.069053    0.032334  ...   \n",
       "MaxTemp           0.071307       0.139909    0.059094    0.078455  ...   \n",
       "Rainfall         -0.004222       0.082628    0.017778   -0.002127  ...   \n",
       "Evaporation      -0.002946       0.147367    0.006682   -0.006166  ...   \n",
       "Sunshine          0.018334      -0.034623    0.054708    0.037669  ...   \n",
       "WindGustDir       1.000000      -0.049870    0.170746    0.171330  ...   \n",
       "WindGustSpeed    -0.049870       1.000000   -0.010505   -0.060793  ...   \n",
       "WindDir9am        0.170746      -0.010505    1.000000    0.069863  ...   \n",
       "WindDir3pm        0.171330      -0.060793    0.069863    1.000000  ...   \n",
       "WindSpeed9am     -0.016655       0.606090    0.036837   -0.121920  ...   \n",
       "WindSpeed3pm      0.034268       0.639042    0.044451   -0.087471  ...   \n",
       "Humidity9am      -0.010396      -0.271865   -0.086681    0.032141  ...   \n",
       "Humidity3pm      -0.030574      -0.093313   -0.030157    0.007315  ...   \n",
       "Pressure9am      -0.043826      -0.407139   -0.041775   -0.045592  ...   \n",
       "Pressure3pm      -0.063644      -0.372553   -0.044392   -0.078928  ...   \n",
       "Cloud9am          0.005782       0.019763   -0.032660   -0.051568  ...   \n",
       "Cloud3pm          0.005986       0.070237   -0.043710   -0.022666  ...   \n",
       "Temp9am           0.075100       0.202275    0.105690    0.075381  ...   \n",
       "Temp3pm           0.072841       0.102066    0.062093    0.081791  ...   \n",
       "RainToday         0.004460       0.076890    0.013378   -0.016941  ...   \n",
       "RainTomorrow      0.012740       0.190274   -0.020075    0.023836  ...   \n",
       "\n",
       "               Humidity9am  Humidity3pm  Pressure9am  Pressure3pm  Cloud9am  \\\n",
       "Location         -0.007596     0.042657    -0.006483    -0.037756 -0.075573   \n",
       "MinTemp          -0.130711     0.074828    -0.429683    -0.423261  0.078412   \n",
       "MaxTemp          -0.391081    -0.422432    -0.325758    -0.403283 -0.255267   \n",
       "Rainfall          0.227587     0.232641    -0.069595    -0.031261  0.176615   \n",
       "Evaporation      -0.235151    -0.170255    -0.177701    -0.189711 -0.078895   \n",
       "Sunshine         -0.316515    -0.416872     0.025163    -0.032167 -0.489100   \n",
       "WindGustDir      -0.010396    -0.030574    -0.043826    -0.063644  0.005782   \n",
       "WindGustSpeed    -0.271865    -0.093313    -0.407139    -0.372553  0.019763   \n",
       "WindDir9am       -0.086681    -0.030157    -0.041775    -0.044392 -0.032660   \n",
       "WindDir3pm        0.032141     0.007315    -0.045592    -0.078928 -0.051568   \n",
       "WindSpeed9am     -0.358391    -0.114496    -0.175584    -0.139429 -0.006931   \n",
       "WindSpeed3pm     -0.250930    -0.090571    -0.252752    -0.208694 -0.000171   \n",
       "Humidity9am       1.000000     0.631546     0.142861     0.173934  0.399198   \n",
       "Humidity3pm       0.631546     1.000000     0.001342     0.069246  0.402668   \n",
       "Pressure9am       0.142861     0.001342     1.000000     0.961435 -0.069128   \n",
       "Pressure3pm       0.173934     0.069246     0.961435     1.000000 -0.011209   \n",
       "Cloud9am          0.399198     0.402668    -0.069128    -0.011209  1.000000   \n",
       "Cloud3pm          0.294970     0.420343    -0.078967    -0.025561  0.579788   \n",
       "Temp9am          -0.378343    -0.133302    -0.411125    -0.439673 -0.146649   \n",
       "Temp3pm          -0.382542    -0.490047    -0.283429    -0.369933 -0.269166   \n",
       "RainToday         0.373986     0.356394    -0.104390    -0.033976  0.272066   \n",
       "RainTomorrow      0.271231     0.441046    -0.163972    -0.135227  0.270678   \n",
       "\n",
       "               Cloud3pm   Temp9am   Temp3pm  RainToday  RainTomorrow  \n",
       "Location      -0.064662  0.130165  0.081589  -0.014551     -0.015262  \n",
       "MinTemp        0.022147  0.887111  0.685859   0.064752      0.092965  \n",
       "MaxTemp       -0.252942  0.866085  0.974690  -0.224693     -0.152672  \n",
       "Rainfall       0.142066 -0.007356 -0.090649   0.464941      0.219015  \n",
       "Evaporation   -0.119121  0.316489  0.318211  -0.090225     -0.060025  \n",
       "Sunshine      -0.511608  0.219706  0.376915  -0.228963     -0.321410  \n",
       "WindGustDir    0.005986  0.075100  0.072841   0.004460      0.012740  \n",
       "WindGustSpeed  0.070237  0.202275  0.102066   0.076890      0.190274  \n",
       "WindDir9am    -0.043710  0.105690  0.062093   0.013378     -0.020075  \n",
       "WindDir3pm    -0.022666  0.075381  0.081791  -0.016941      0.023836  \n",
       "WindSpeed9am   0.047359  0.109635 -0.002279   0.035575      0.068235  \n",
       "WindSpeed3pm  -0.001803  0.184061  0.066078   0.015211      0.053456  \n",
       "Humidity9am    0.294970 -0.378343 -0.382542   0.373986      0.271231  \n",
       "Humidity3pm    0.420343 -0.133302 -0.490047   0.356394      0.441046  \n",
       "Pressure9am   -0.078967 -0.411125 -0.283429  -0.104390     -0.163972  \n",
       "Pressure3pm   -0.025561 -0.439673 -0.369933  -0.033976     -0.135227  \n",
       "Cloud9am       0.579788 -0.146649 -0.269166   0.272066      0.270678  \n",
       "Cloud3pm       1.000000 -0.141417 -0.292183   0.233150      0.332197  \n",
       "Temp9am       -0.141417  1.000000  0.834471  -0.097344     -0.023206  \n",
       "Temp3pm       -0.292183  0.834471  1.000000  -0.234537     -0.193625  \n",
       "RainToday      0.233150 -0.097344 -0.234537   1.000000      0.312929  \n",
       "RainTomorrow   0.332197 -0.023206 -0.193625   0.312929      1.000000  \n",
       "\n",
       "[22 rows x 22 columns]"
      ]
     },
     "execution_count": 157,
     "metadata": {},
     "output_type": "execute_result"
    }
   ],
   "source": [
    "df.corr()"
   ]
  },
  {
   "cell_type": "markdown",
   "id": "87e57ed0",
   "metadata": {},
   "source": [
    "This gives the correlation between the dependent and independent variable."
   ]
  },
  {
   "cell_type": "code",
   "execution_count": 158,
   "id": "0950b028",
   "metadata": {},
   "outputs": [
    {
     "data": {
      "text/plain": [
       "<AxesSubplot:>"
      ]
     },
     "execution_count": 158,
     "metadata": {},
     "output_type": "execute_result"
    },
    {
     "data": {
      "image/png": "[encoded data removed]",
      "text/plain": [
       "<Figure size 1296x576 with 2 Axes>"
      ]
     },
     "metadata": {
      "needs_background": "light"
     },
     "output_type": "display_data"
    }
   ],
   "source": [
    "plt.figure(figsize=(18,8))\n",
    "sns.heatmap(df.corr(),annot=True,cmap='Blues_r')"
   ]
  },
  {
   "cell_type": "markdown",
   "id": "e5c03cf1",
   "metadata": {},
   "source": [
    "# Splitting the Dataset into the training set and test set"
   ]
  },
  {
   "cell_type": "code",
   "execution_count": 189,
   "id": "b84c3ef3",
   "metadata": {},
   "outputs": [],
   "source": [
    "df.drop('Date',axis=1,inplace=True)"
   ]
  },
  {
   "cell_type": "code",
   "execution_count": 190,
   "id": "21a2b0d1",
   "metadata": {},
   "outputs": [],
   "source": [
    "X = df.drop('RainTomorrow',axis=1)\n",
    "y = df['RainTomorrow']"
   ]
  },
  {
   "cell_type": "code",
   "execution_count": 191,
   "id": "5b1dabf3",
   "metadata": {},
   "outputs": [],
   "source": [
    "X1 = df.drop('Rainfall',axis=1)\n",
    "y1 = df['Rainfall']"
   ]
  },
  {
   "cell_type": "code",
   "execution_count": 192,
   "id": "e62cecdb",
   "metadata": {},
   "outputs": [],
   "source": [
    "from sklearn.model_selection import train_test_split"
   ]
  },
  {
   "cell_type": "code",
   "execution_count": 193,
   "id": "1e5b49f4",
   "metadata": {},
   "outputs": [],
   "source": [
    "X_train, X_test, y_train, y_test = train_test_split(X,y,test_size=0.2,random_state=2)"
   ]
  },
  {
   "cell_type": "code",
   "execution_count": 194,
   "id": "f659af6f",
   "metadata": {},
   "outputs": [],
   "source": [
    "X1_train, X1_test, y1_train, y1_test = train_test_split(X1,y1,test_size=0.2,random_state=2)"
   ]
  },
  {
   "cell_type": "code",
   "execution_count": 195,
   "id": "a97bc42a",
   "metadata": {},
   "outputs": [
    {
     "data": {
      "text/plain": [
       "((6740, 21), (1685, 21))"
      ]
     },
     "execution_count": 195,
     "metadata": {},
     "output_type": "execute_result"
    }
   ],
   "source": [
    "X_train.shape, X_test.shape"
   ]
  },
  {
   "cell_type": "code",
   "execution_count": 196,
   "id": "33ddcf9f",
   "metadata": {},
   "outputs": [
    {
     "data": {
      "text/plain": [
       "((6740, 21), (1685, 21))"
      ]
     },
     "execution_count": 196,
     "metadata": {},
     "output_type": "execute_result"
    }
   ],
   "source": [
    "X1_train.shape, X1_test.shape"
   ]
  },
  {
   "cell_type": "markdown",
   "id": "c2d74e7e",
   "metadata": {},
   "source": [
    "# Standard Scaler"
   ]
  },
  {
   "cell_type": "code",
   "execution_count": 197,
   "id": "7bcd104d",
   "metadata": {},
   "outputs": [],
   "source": [
    "from sklearn.preprocessing import StandardScaler"
   ]
  },
  {
   "cell_type": "code",
   "execution_count": 198,
   "id": "e70c5b99",
   "metadata": {},
   "outputs": [],
   "source": [
    "st = StandardScaler()"
   ]
  },
  {
   "cell_type": "code",
   "execution_count": 199,
   "id": "e5298b17",
   "metadata": {},
   "outputs": [],
   "source": [
    "X_train_res = st.fit_transform(X_train)\n",
    "X_test_res = st.fit_transform(X_test)"
   ]
  },
  {
   "cell_type": "markdown",
   "id": "b9ecf436",
   "metadata": {},
   "source": [
    "# Applying PCA"
   ]
  },
  {
   "cell_type": "markdown",
   "id": "9a23d3cb",
   "metadata": {},
   "source": [
    "Principle Component Analysis (PCA)"
   ]
  },
  {
   "cell_type": "markdown",
   "id": "8780c5a3",
   "metadata": {},
   "source": [
    "To reduce te dimensionality of large dataset by transforming a large set of variable into a smaller one."
   ]
  },
  {
   "cell_type": "code",
   "execution_count": 201,
   "id": "deae5c8d",
   "metadata": {},
   "outputs": [],
   "source": [
    "from sklearn.decomposition import PCA"
   ]
  },
  {
   "cell_type": "code",
   "execution_count": 202,
   "id": "8284d309",
   "metadata": {},
   "outputs": [],
   "source": [
    "pca = PCA(n_components=0.90)"
   ]
  },
  {
   "cell_type": "code",
   "execution_count": 203,
   "id": "2ca5c7ab",
   "metadata": {},
   "outputs": [],
   "source": [
    "X_train_res = pca.fit_transform(X_train_res)\n",
    "X_test_res = pca.transform(X_test_res)"
   ]
  },
  {
   "cell_type": "code",
   "execution_count": 204,
   "id": "a13df57c",
   "metadata": {},
   "outputs": [
    {
     "data": {
      "text/plain": [
       "array([0.24321772, 0.14757018, 0.10955196, 0.06314168, 0.05833729,\n",
       "       0.05524095, 0.04303394, 0.04088365, 0.03895412, 0.0369735 ,\n",
       "       0.03530441, 0.02620283, 0.02312489])"
      ]
     },
     "execution_count": 204,
     "metadata": {},
     "output_type": "execute_result"
    }
   ],
   "source": [
    "pca.explained_variance_ratio_"
   ]
  },
  {
   "cell_type": "code",
   "execution_count": 205,
   "id": "ca9f73cf",
   "metadata": {},
   "outputs": [
    {
     "data": {
      "text/plain": [
       "0.9215371305752431"
      ]
     },
     "execution_count": 205,
     "metadata": {},
     "output_type": "execute_result"
    }
   ],
   "source": [
    "sum(pca.explained_variance_ratio_)"
   ]
  },
  {
   "cell_type": "markdown",
   "id": "b88b7e15",
   "metadata": {},
   "source": [
    "Pca contains 22 variables into my dataset and output is 13 components."
   ]
  },
  {
   "cell_type": "markdown",
   "id": "97aac336",
   "metadata": {},
   "source": [
    "So we can say that 13 components retaining 92% of information of our target dataset."
   ]
  },
  {
   "cell_type": "markdown",
   "id": "fd7f4cc1",
   "metadata": {},
   "source": [
    "# Model Training"
   ]
  },
  {
   "cell_type": "markdown",
   "id": "1d2ac507",
   "metadata": {},
   "source": [
    "when we are analysis my dataset then i was find in my dataset in column RainTomorrow classification problem is going on"
   ]
  },
  {
   "cell_type": "markdown",
   "id": "102ec327",
   "metadata": {},
   "source": [
    "When we are analysis my dataset then i was find in my dataset in column Rainfall regression problem is going on"
   ]
  },
  {
   "cell_type": "markdown",
   "id": "2599613e",
   "metadata": {},
   "source": [
    "# Logistic Regression"
   ]
  },
  {
   "cell_type": "code",
   "execution_count": 207,
   "id": "0fe8e740",
   "metadata": {},
   "outputs": [],
   "source": [
    "from sklearn.linear_model import LogisticRegression"
   ]
  },
  {
   "cell_type": "code",
   "execution_count": 208,
   "id": "5375ae24",
   "metadata": {},
   "outputs": [],
   "source": [
    "log = LogisticRegression()"
   ]
  },
  {
   "cell_type": "code",
   "execution_count": 209,
   "id": "ceb5c9fa",
   "metadata": {},
   "outputs": [
    {
     "data": {
      "text/plain": [
       "LogisticRegression()"
      ]
     },
     "execution_count": 209,
     "metadata": {},
     "output_type": "execute_result"
    }
   ],
   "source": [
    "log.fit(X_train_res,y_train)"
   ]
  },
  {
   "cell_type": "code",
   "execution_count": 210,
   "id": "af8ad66e",
   "metadata": {},
   "outputs": [],
   "source": [
    "y_pred1 = log.predict(X_test_res)"
   ]
  },
  {
   "cell_type": "code",
   "execution_count": 211,
   "id": "ab10e451",
   "metadata": {},
   "outputs": [],
   "source": [
    "from sklearn.metrics import accuracy_score"
   ]
  },
  {
   "cell_type": "code",
   "execution_count": 213,
   "id": "8e1411b2",
   "metadata": {},
   "outputs": [
    {
     "data": {
      "text/plain": [
       "0.8326409495548961"
      ]
     },
     "execution_count": 213,
     "metadata": {},
     "output_type": "execute_result"
    }
   ],
   "source": [
    "accuracy_score(y_test,y_pred1)"
   ]
  },
  {
   "cell_type": "markdown",
   "id": "e85a2f73",
   "metadata": {},
   "source": [
    "here, we can see LogisticRegression is 83% accurate in this dataset."
   ]
  },
  {
   "cell_type": "markdown",
   "id": "c877ce0e",
   "metadata": {},
   "source": [
    "now i will check precision score, recall score and f1 score "
   ]
  },
  {
   "cell_type": "code",
   "execution_count": 214,
   "id": "d7405d60",
   "metadata": {},
   "outputs": [],
   "source": [
    "from sklearn.metrics import precision_score, recall_score, f1_score"
   ]
  },
  {
   "cell_type": "code",
   "execution_count": 215,
   "id": "39a40320",
   "metadata": {},
   "outputs": [
    {
     "name": "stdout",
     "output_type": "stream",
     "text": [
      "Precision Score is : 0.7290836653386454\n",
      "Recall Score is : 0.4609571788413098\n",
      "F1 Score is : 0.5648148148148149\n"
     ]
    }
   ],
   "source": [
    "print('Precision Score is :',precision_score(y_test,y_pred1))\n",
    "print('Recall Score is :',recall_score(y_test,y_pred1))\n",
    "print(\"F1 Score is :\",f1_score(y_test,y_pred1))"
   ]
  },
  {
   "cell_type": "markdown",
   "id": "7d262426",
   "metadata": {},
   "source": [
    "# SVC"
   ]
  },
  {
   "cell_type": "code",
   "execution_count": 217,
   "id": "8dc7e4e1",
   "metadata": {},
   "outputs": [],
   "source": [
    "from sklearn import svm"
   ]
  },
  {
   "cell_type": "code",
   "execution_count": 218,
   "id": "055bb104",
   "metadata": {},
   "outputs": [],
   "source": [
    "svm = svm.SVC()"
   ]
  },
  {
   "cell_type": "code",
   "execution_count": 219,
   "id": "25908132",
   "metadata": {},
   "outputs": [
    {
     "data": {
      "text/plain": [
       "SVC()"
      ]
     },
     "execution_count": 219,
     "metadata": {},
     "output_type": "execute_result"
    }
   ],
   "source": [
    "svm.fit(X_train_res,y_train)"
   ]
  },
  {
   "cell_type": "code",
   "execution_count": 220,
   "id": "40009fd6",
   "metadata": {},
   "outputs": [],
   "source": [
    "y_pred2 = svm.predict(X_test_res)"
   ]
  },
  {
   "cell_type": "code",
   "execution_count": 221,
   "id": "9fc8d551",
   "metadata": {},
   "outputs": [
    {
     "data": {
      "text/plain": [
       "0.8403560830860534"
      ]
     },
     "execution_count": 221,
     "metadata": {},
     "output_type": "execute_result"
    }
   ],
   "source": [
    "accuracy_score(y_test,y_pred2)"
   ]
  },
  {
   "cell_type": "markdown",
   "id": "e8a678eb",
   "metadata": {},
   "source": [
    "here, we can see svc IS 84% accurate in this dataset."
   ]
  },
  {
   "cell_type": "code",
   "execution_count": 227,
   "id": "45874201",
   "metadata": {},
   "outputs": [
    {
     "name": "stdout",
     "output_type": "stream",
     "text": [
      "Precision Score is : 0.7857142857142857\n",
      "Recall Score is : 0.4433249370277078\n",
      "F1 Score is : 0.56682769726248\n"
     ]
    }
   ],
   "source": [
    "print('Precision Score is :',precision_score(y_test,y_pred2))\n",
    "print('Recall Score is :',recall_score(y_test,y_pred2))\n",
    "print(\"F1 Score is :\",f1_score(y_test,y_pred2))"
   ]
  },
  {
   "cell_type": "markdown",
   "id": "02d597be",
   "metadata": {},
   "source": [
    "# KNeighbors Classifier"
   ]
  },
  {
   "cell_type": "code",
   "execution_count": 222,
   "id": "df65f488",
   "metadata": {},
   "outputs": [],
   "source": [
    "from sklearn.neighbors import KNeighborsClassifier"
   ]
  },
  {
   "cell_type": "code",
   "execution_count": 223,
   "id": "606e7809",
   "metadata": {},
   "outputs": [],
   "source": [
    "knn = KNeighborsClassifier()"
   ]
  },
  {
   "cell_type": "code",
   "execution_count": 224,
   "id": "3b93b918",
   "metadata": {},
   "outputs": [
    {
     "data": {
      "text/plain": [
       "KNeighborsClassifier()"
      ]
     },
     "execution_count": 224,
     "metadata": {},
     "output_type": "execute_result"
    }
   ],
   "source": [
    "knn.fit(X_train_res,y_train)"
   ]
  },
  {
   "cell_type": "code",
   "execution_count": 225,
   "id": "e0576fe3",
   "metadata": {},
   "outputs": [],
   "source": [
    "y_pred3 = knn.predict(X_test_res)"
   ]
  },
  {
   "cell_type": "code",
   "execution_count": 226,
   "id": "0b87752a",
   "metadata": {},
   "outputs": [
    {
     "data": {
      "text/plain": [
       "0.8255192878338279"
      ]
     },
     "execution_count": 226,
     "metadata": {},
     "output_type": "execute_result"
    }
   ],
   "source": [
    "accuracy_score(y_test,y_pred3)"
   ]
  },
  {
   "cell_type": "markdown",
   "id": "774ae13b",
   "metadata": {},
   "source": [
    "here, we can see KNeighbors Classifier is 82% accurate in this dataset."
   ]
  },
  {
   "cell_type": "code",
   "execution_count": 228,
   "id": "25d53511",
   "metadata": {},
   "outputs": [
    {
     "name": "stdout",
     "output_type": "stream",
     "text": [
      "Precision Score is : 0.6914498141263941\n",
      "Recall Score is : 0.46851385390428213\n",
      "F1 Score is : 0.5585585585585585\n"
     ]
    }
   ],
   "source": [
    "print('Precision Score is :',precision_score(y_test,y_pred3))\n",
    "print('Recall Score is :',recall_score(y_test,y_pred3))\n",
    "print(\"F1 Score is :\",f1_score(y_test,y_pred3))"
   ]
  },
  {
   "cell_type": "markdown",
   "id": "f47fd89a",
   "metadata": {},
   "source": [
    "# Decision Tree Classifier"
   ]
  },
  {
   "cell_type": "code",
   "execution_count": 230,
   "id": "05c06b38",
   "metadata": {},
   "outputs": [],
   "source": [
    "from sklearn.tree import DecisionTreeClassifier"
   ]
  },
  {
   "cell_type": "code",
   "execution_count": 231,
   "id": "677cce23",
   "metadata": {},
   "outputs": [],
   "source": [
    "dt = DecisionTreeClassifier()"
   ]
  },
  {
   "cell_type": "code",
   "execution_count": 232,
   "id": "65cca343",
   "metadata": {},
   "outputs": [
    {
     "data": {
      "text/plain": [
       "DecisionTreeClassifier()"
      ]
     },
     "execution_count": 232,
     "metadata": {},
     "output_type": "execute_result"
    }
   ],
   "source": [
    "dt.fit(X_train_res,y_train)"
   ]
  },
  {
   "cell_type": "code",
   "execution_count": 233,
   "id": "a9ac24ba",
   "metadata": {},
   "outputs": [],
   "source": [
    "y_pred4 = dt.predict(X_test_res)"
   ]
  },
  {
   "cell_type": "code",
   "execution_count": 234,
   "id": "b656880e",
   "metadata": {},
   "outputs": [
    {
     "data": {
      "text/plain": [
       "0.800593471810089"
      ]
     },
     "execution_count": 234,
     "metadata": {},
     "output_type": "execute_result"
    }
   ],
   "source": [
    "accuracy_score(y_test,y_pred4)"
   ]
  },
  {
   "cell_type": "markdown",
   "id": "9795d744",
   "metadata": {},
   "source": [
    "here, we can see DecisionTree is 80% accurate in this dataset"
   ]
  },
  {
   "cell_type": "code",
   "execution_count": 240,
   "id": "05b399de",
   "metadata": {},
   "outputs": [
    {
     "name": "stdout",
     "output_type": "stream",
     "text": [
      "Precision Score is : 0.5776081424936387\n",
      "Recall Score is : 0.5717884130982368\n",
      "F1 Score is : 0.5746835443037974\n"
     ]
    }
   ],
   "source": [
    "print('Precision Score is :',precision_score(y_test,y_pred4))\n",
    "print('Recall Score is :',recall_score(y_test,y_pred4))\n",
    "print(\"F1 Score is :\",f1_score(y_test,y_pred4))"
   ]
  },
  {
   "cell_type": "markdown",
   "id": "a891f176",
   "metadata": {},
   "source": [
    "# RandomForestClassifier"
   ]
  },
  {
   "cell_type": "code",
   "execution_count": 235,
   "id": "55bed267",
   "metadata": {},
   "outputs": [],
   "source": [
    "from sklearn.ensemble import RandomForestClassifier"
   ]
  },
  {
   "cell_type": "code",
   "execution_count": 236,
   "id": "96df0eb3",
   "metadata": {},
   "outputs": [],
   "source": [
    "rf = RandomForestClassifier()"
   ]
  },
  {
   "cell_type": "code",
   "execution_count": 237,
   "id": "eb494ca8",
   "metadata": {},
   "outputs": [
    {
     "data": {
      "text/plain": [
       "RandomForestClassifier()"
      ]
     },
     "execution_count": 237,
     "metadata": {},
     "output_type": "execute_result"
    }
   ],
   "source": [
    "rf.fit(X_train_res,y_train)"
   ]
  },
  {
   "cell_type": "code",
   "execution_count": 238,
   "id": "daa2e91f",
   "metadata": {},
   "outputs": [],
   "source": [
    "y_pred5 = rf.predict(X_test_res)"
   ]
  },
  {
   "cell_type": "code",
   "execution_count": 239,
   "id": "b338473f",
   "metadata": {},
   "outputs": [
    {
     "data": {
      "text/plain": [
       "0.885459940652819"
      ]
     },
     "execution_count": 239,
     "metadata": {},
     "output_type": "execute_result"
    }
   ],
   "source": [
    "accuracy_score(y_test,y_pred5)"
   ]
  },
  {
   "cell_type": "markdown",
   "id": "f801f9c5",
   "metadata": {},
   "source": [
    "here, we can see randomforest is 88% accurate in this dataset."
   ]
  },
  {
   "cell_type": "code",
   "execution_count": 241,
   "id": "ae15f5d7",
   "metadata": {},
   "outputs": [
    {
     "name": "stdout",
     "output_type": "stream",
     "text": [
      "Precision Score is : 0.9015748031496063\n",
      "Recall Score is : 0.5768261964735516\n",
      "F1 Score is : 0.7035330261136713\n"
     ]
    }
   ],
   "source": [
    "print('Precision Score is :',precision_score(y_test,y_pred5))\n",
    "print('Recall Score is :',recall_score(y_test,y_pred5))\n",
    "print(\"F1 Score is :\",f1_score(y_test,y_pred5))"
   ]
  },
  {
   "cell_type": "markdown",
   "id": "d0a85d70",
   "metadata": {},
   "source": [
    "# Gradient Boosting Classifier"
   ]
  },
  {
   "cell_type": "code",
   "execution_count": 242,
   "id": "781a8b6d",
   "metadata": {},
   "outputs": [],
   "source": [
    "from sklearn.ensemble import GradientBoostingClassifier"
   ]
  },
  {
   "cell_type": "code",
   "execution_count": 243,
   "id": "ba0ed6e2",
   "metadata": {},
   "outputs": [],
   "source": [
    "gbc = GradientBoostingClassifier()"
   ]
  },
  {
   "cell_type": "code",
   "execution_count": 244,
   "id": "07f33abd",
   "metadata": {},
   "outputs": [
    {
     "data": {
      "text/plain": [
       "GradientBoostingClassifier()"
      ]
     },
     "execution_count": 244,
     "metadata": {},
     "output_type": "execute_result"
    }
   ],
   "source": [
    "gbc.fit(X_train_res,y_train)"
   ]
  },
  {
   "cell_type": "code",
   "execution_count": 245,
   "id": "3a8f3952",
   "metadata": {},
   "outputs": [],
   "source": [
    "y_pred6 = gbc.predict(X_test_res)"
   ]
  },
  {
   "cell_type": "code",
   "execution_count": 246,
   "id": "82baf264",
   "metadata": {},
   "outputs": [
    {
     "data": {
      "text/plain": [
       "0.8462908011869437"
      ]
     },
     "execution_count": 246,
     "metadata": {},
     "output_type": "execute_result"
    }
   ],
   "source": [
    "accuracy_score(y_test,y_pred6)"
   ]
  },
  {
   "cell_type": "markdown",
   "id": "72fe09bb",
   "metadata": {},
   "source": [
    "here, we can see Gradient Boosting 84% accurate in this dataset."
   ]
  },
  {
   "cell_type": "markdown",
   "id": "d828eee8",
   "metadata": {},
   "source": [
    "So let's visualize the result to find our best model"
   ]
  },
  {
   "cell_type": "code",
   "execution_count": 247,
   "id": "bfb153e6",
   "metadata": {},
   "outputs": [],
   "source": [
    "final_data = pd.DataFrame({'Models':['LR','SVC','KNN','DT','RF','GBC'],\n",
    "                          'ACC':[accuracy_score(y_test,y_pred1)*100,\n",
    "                                accuracy_score(y_test,y_pred2)*100,\n",
    "                                accuracy_score(y_test,y_pred3)*100,\n",
    "                                accuracy_score(y_test,y_pred4)*100,\n",
    "                                accuracy_score(y_test,y_pred5)*100,\n",
    "                                accuracy_score(y_test,y_pred6)*100]})"
   ]
  },
  {
   "cell_type": "code",
   "execution_count": 248,
   "id": "84f739f3",
   "metadata": {},
   "outputs": [
    {
     "data": {
      "text/html": [
       "<div>\n",
       "<style scoped>\n",
       "    .dataframe tbody tr th:only-of-type {\n",
       "        vertical-align: middle;\n",
       "    }\n",
       "\n",
       "    .dataframe tbody tr th {\n",
       "        vertical-align: top;\n",
       "    }\n",
       "\n",
       "    .dataframe thead th {\n",
       "        text-align: right;\n",
       "    }\n",
       "</style>\n",
       "<table border=\"1\" class=\"dataframe\">\n",
       "  <thead>\n",
       "    <tr style=\"text-align: right;\">\n",
       "      <th></th>\n",
       "      <th>Models</th>\n",
       "      <th>ACC</th>\n",
       "    </tr>\n",
       "  </thead>\n",
       "  <tbody>\n",
       "    <tr>\n",
       "      <th>0</th>\n",
       "      <td>LR</td>\n",
       "      <td>83.264095</td>\n",
       "    </tr>\n",
       "    <tr>\n",
       "      <th>1</th>\n",
       "      <td>SVC</td>\n",
       "      <td>84.035608</td>\n",
       "    </tr>\n",
       "    <tr>\n",
       "      <th>2</th>\n",
       "      <td>KNN</td>\n",
       "      <td>82.551929</td>\n",
       "    </tr>\n",
       "    <tr>\n",
       "      <th>3</th>\n",
       "      <td>DT</td>\n",
       "      <td>80.059347</td>\n",
       "    </tr>\n",
       "    <tr>\n",
       "      <th>4</th>\n",
       "      <td>RF</td>\n",
       "      <td>88.545994</td>\n",
       "    </tr>\n",
       "    <tr>\n",
       "      <th>5</th>\n",
       "      <td>GBC</td>\n",
       "      <td>84.629080</td>\n",
       "    </tr>\n",
       "  </tbody>\n",
       "</table>\n",
       "</div>"
      ],
      "text/plain": [
       "  Models        ACC\n",
       "0     LR  83.264095\n",
       "1    SVC  84.035608\n",
       "2    KNN  82.551929\n",
       "3     DT  80.059347\n",
       "4     RF  88.545994\n",
       "5    GBC  84.629080"
      ]
     },
     "execution_count": 248,
     "metadata": {},
     "output_type": "execute_result"
    }
   ],
   "source": [
    "final_data"
   ]
  },
  {
   "cell_type": "code",
   "execution_count": 249,
   "id": "f44b85c0",
   "metadata": {},
   "outputs": [
    {
     "data": {
      "text/plain": [
       "<AxesSubplot:xlabel='Models', ylabel='ACC'>"
      ]
     },
     "execution_count": 249,
     "metadata": {},
     "output_type": "execute_result"
    },
    {
     "data": {
      "image/png": "[encoded data removed]",
      "text/plain": [
       "<Figure size 432x288 with 1 Axes>"
      ]
     },
     "metadata": {
      "needs_background": "light"
     },
     "output_type": "display_data"
    }
   ],
   "source": [
    "sns.barplot(final_data['Models'],final_data['ACC'])"
   ]
  },
  {
   "cell_type": "markdown",
   "id": "ca6d2669",
   "metadata": {},
   "source": [
    "here, we can see RandomForest is best perform in this dataset."
   ]
  },
  {
   "cell_type": "markdown",
   "id": "07a5b36c",
   "metadata": {},
   "source": [
    "# Model Training "
   ]
  },
  {
   "cell_type": "markdown",
   "id": "3b66e0a9",
   "metadata": {},
   "source": [
    "# Linear Regression"
   ]
  },
  {
   "cell_type": "code",
   "execution_count": 250,
   "id": "5f0a2f21",
   "metadata": {},
   "outputs": [],
   "source": [
    "from sklearn.linear_model import LinearRegression\n",
    "from sklearn.ensemble import RandomForestRegressor\n",
    "from sklearn.ensemble import GradientBoostingRegressor"
   ]
  },
  {
   "cell_type": "code",
   "execution_count": 251,
   "id": "bda6a15e",
   "metadata": {},
   "outputs": [
    {
     "data": {
      "text/plain": [
       "GradientBoostingRegressor()"
      ]
     },
     "execution_count": 251,
     "metadata": {},
     "output_type": "execute_result"
    }
   ],
   "source": [
    "lr1 = LinearRegression()\n",
    "lr1.fit(X1_train,y1_train)\n",
    "\n",
    "rf1 = RandomForestRegressor()\n",
    "rf1.fit(X1_train,y1_train)\n",
    "\n",
    "gr1 = GradientBoostingRegressor()\n",
    "gr1.fit(X1_train,y1_train)"
   ]
  },
  {
   "cell_type": "markdown",
   "id": "923916ed",
   "metadata": {},
   "source": [
    "# Prediction on test data"
   ]
  },
  {
   "cell_type": "code",
   "execution_count": 254,
   "id": "128ccbe1",
   "metadata": {},
   "outputs": [],
   "source": [
    "y_predi1 = lr1.predict(X1_test)\n",
    "y_predi2 = rf1.predict(X1_test)\n",
    "y_predi3 = gr1.predict(X1_test)"
   ]
  },
  {
   "cell_type": "code",
   "execution_count": 255,
   "id": "82be58bf",
   "metadata": {},
   "outputs": [],
   "source": [
    "df1 = pd.DataFrame({\"Actual\":y1_test,\"LR1\":y_predi1,\"RF1\":y_predi2,'GR1':y_predi3})"
   ]
  },
  {
   "cell_type": "code",
   "execution_count": 256,
   "id": "fc9be325",
   "metadata": {},
   "outputs": [
    {
     "data": {
      "text/html": [
       "<div>\n",
       "<style scoped>\n",
       "    .dataframe tbody tr th:only-of-type {\n",
       "        vertical-align: middle;\n",
       "    }\n",
       "\n",
       "    .dataframe tbody tr th {\n",
       "        vertical-align: top;\n",
       "    }\n",
       "\n",
       "    .dataframe thead th {\n",
       "        text-align: right;\n",
       "    }\n",
       "</style>\n",
       "<table border=\"1\" class=\"dataframe\">\n",
       "  <thead>\n",
       "    <tr style=\"text-align: right;\">\n",
       "      <th></th>\n",
       "      <th>Actual</th>\n",
       "      <th>LR1</th>\n",
       "      <th>RF1</th>\n",
       "      <th>GR1</th>\n",
       "    </tr>\n",
       "  </thead>\n",
       "  <tbody>\n",
       "    <tr>\n",
       "      <th>1006</th>\n",
       "      <td>0.0</td>\n",
       "      <td>2.331520</td>\n",
       "      <td>0.116</td>\n",
       "      <td>0.728369</td>\n",
       "    </tr>\n",
       "    <tr>\n",
       "      <th>2931</th>\n",
       "      <td>7.2</td>\n",
       "      <td>11.425636</td>\n",
       "      <td>14.683</td>\n",
       "      <td>16.788603</td>\n",
       "    </tr>\n",
       "    <tr>\n",
       "      <th>5673</th>\n",
       "      <td>0.0</td>\n",
       "      <td>-1.018215</td>\n",
       "      <td>0.004</td>\n",
       "      <td>-0.338085</td>\n",
       "    </tr>\n",
       "    <tr>\n",
       "      <th>7833</th>\n",
       "      <td>8.8</td>\n",
       "      <td>9.554016</td>\n",
       "      <td>4.652</td>\n",
       "      <td>4.673842</td>\n",
       "    </tr>\n",
       "    <tr>\n",
       "      <th>2013</th>\n",
       "      <td>0.0</td>\n",
       "      <td>0.694463</td>\n",
       "      <td>0.090</td>\n",
       "      <td>0.546841</td>\n",
       "    </tr>\n",
       "    <tr>\n",
       "      <th>...</th>\n",
       "      <td>...</td>\n",
       "      <td>...</td>\n",
       "      <td>...</td>\n",
       "      <td>...</td>\n",
       "    </tr>\n",
       "    <tr>\n",
       "      <th>2926</th>\n",
       "      <td>0.0</td>\n",
       "      <td>0.071760</td>\n",
       "      <td>0.002</td>\n",
       "      <td>-0.632295</td>\n",
       "    </tr>\n",
       "    <tr>\n",
       "      <th>3265</th>\n",
       "      <td>0.2</td>\n",
       "      <td>1.195894</td>\n",
       "      <td>0.179</td>\n",
       "      <td>0.182953</td>\n",
       "    </tr>\n",
       "    <tr>\n",
       "      <th>6608</th>\n",
       "      <td>0.0</td>\n",
       "      <td>0.732879</td>\n",
       "      <td>0.056</td>\n",
       "      <td>0.086008</td>\n",
       "    </tr>\n",
       "    <tr>\n",
       "      <th>744</th>\n",
       "      <td>0.0</td>\n",
       "      <td>-0.587978</td>\n",
       "      <td>0.014</td>\n",
       "      <td>-0.206161</td>\n",
       "    </tr>\n",
       "    <tr>\n",
       "      <th>4748</th>\n",
       "      <td>0.0</td>\n",
       "      <td>-0.608667</td>\n",
       "      <td>0.006</td>\n",
       "      <td>-0.430324</td>\n",
       "    </tr>\n",
       "  </tbody>\n",
       "</table>\n",
       "<p>1685 rows × 4 columns</p>\n",
       "</div>"
      ],
      "text/plain": [
       "      Actual        LR1     RF1        GR1\n",
       "1006     0.0   2.331520   0.116   0.728369\n",
       "2931     7.2  11.425636  14.683  16.788603\n",
       "5673     0.0  -1.018215   0.004  -0.338085\n",
       "7833     8.8   9.554016   4.652   4.673842\n",
       "2013     0.0   0.694463   0.090   0.546841\n",
       "...      ...        ...     ...        ...\n",
       "2926     0.0   0.071760   0.002  -0.632295\n",
       "3265     0.2   1.195894   0.179   0.182953\n",
       "6608     0.0   0.732879   0.056   0.086008\n",
       "744      0.0  -0.587978   0.014  -0.206161\n",
       "4748     0.0  -0.608667   0.006  -0.430324\n",
       "\n",
       "[1685 rows x 4 columns]"
      ]
     },
     "execution_count": 256,
     "metadata": {},
     "output_type": "execute_result"
    }
   ],
   "source": [
    "df1"
   ]
  },
  {
   "cell_type": "markdown",
   "id": "7862c8cc",
   "metadata": {},
   "source": [
    "# Compare Performance visually"
   ]
  },
  {
   "cell_type": "markdown",
   "id": "9b0bd172",
   "metadata": {},
   "source": [
    "to find best model for regression problem"
   ]
  },
  {
   "cell_type": "code",
   "execution_count": 257,
   "id": "0fb5df90",
   "metadata": {},
   "outputs": [
    {
     "data": {
      "text/plain": [
       "<matplotlib.legend.Legend at 0x1fda748ca60>"
      ]
     },
     "execution_count": 257,
     "metadata": {},
     "output_type": "execute_result"
    },
    {
     "data": {
      "image/png": "[encoded data removed]",
      "text/plain": [
       "<Figure size 432x288 with 1 Axes>"
      ]
     },
     "metadata": {
      "needs_background": "light"
     },
     "output_type": "display_data"
    }
   ],
   "source": [
    "plt.subplot(221)\n",
    "plt.plot(df1['Actual'],label='Acutal')\n",
    "plt.plot(df1['LR1'],label='LR1')\n",
    "plt.legend()"
   ]
  },
  {
   "cell_type": "markdown",
   "id": "a29ddff2",
   "metadata": {},
   "source": [
    "it is difficult to differentiate both the value acutal value and predicted value"
   ]
  },
  {
   "cell_type": "code",
   "execution_count": 258,
   "id": "694c3996",
   "metadata": {},
   "outputs": [
    {
     "data": {
      "image/png": "[encoded data removed]",
      "text/plain": [
       "<Figure size 432x288 with 1 Axes>"
      ]
     },
     "metadata": {
      "needs_background": "light"
     },
     "output_type": "display_data"
    }
   ],
   "source": [
    "plt.subplot(221)\n",
    "plt.plot(df1['Actual'].iloc[:11],label='Acutal')\n",
    "plt.plot(df1['LR1'].iloc[:11],label='LR1')\n",
    "plt.legend()\n",
    "plt.tight_layout()"
   ]
  },
  {
   "cell_type": "code",
   "execution_count": 259,
   "id": "89c6c3f5",
   "metadata": {},
   "outputs": [
    {
     "data": {
      "image/png": "[encoded data removed]",
      "text/plain": [
       "<Figure size 432x288 with 1 Axes>"
      ]
     },
     "metadata": {
      "needs_background": "light"
     },
     "output_type": "display_data"
    }
   ],
   "source": [
    "plt.subplot(221)\n",
    "plt.plot(df1['Actual'].iloc[:11],label='Acutal')\n",
    "plt.plot(df1['RF1'].iloc[:11],label='RF1')\n",
    "plt.legend()\n",
    "plt.tight_layout()"
   ]
  },
  {
   "cell_type": "code",
   "execution_count": 260,
   "id": "19bbe27c",
   "metadata": {},
   "outputs": [
    {
     "data": {
      "image/png": "[encoded data removed]",
      "text/plain": [
       "<Figure size 432x288 with 1 Axes>"
      ]
     },
     "metadata": {
      "needs_background": "light"
     },
     "output_type": "display_data"
    }
   ],
   "source": [
    "plt.subplot(221)\n",
    "plt.plot(df1['Actual'].iloc[:11],label='Acutal')\n",
    "plt.plot(df1['GR1'].iloc[:11],label='GR1')\n",
    "plt.legend()\n",
    "plt.tight_layout()"
   ]
  },
  {
   "cell_type": "markdown",
   "id": "b06c8988",
   "metadata": {},
   "source": [
    "I want to see this all actual value and predicted value for all model in single output."
   ]
  },
  {
   "cell_type": "markdown",
   "id": "cb8da5e3",
   "metadata": {},
   "source": [
    "# Evaluating the algorithm"
   ]
  },
  {
   "cell_type": "markdown",
   "id": "ed99ea68",
   "metadata": {},
   "source": [
    "we are going to evaluate our models or called as a algorithm using r2.\n",
    "\n",
    "R2 value is used to measure the goodness of fit greater the value of r2 better the regression model"
   ]
  },
  {
   "cell_type": "code",
   "execution_count": 261,
   "id": "72086d5d",
   "metadata": {},
   "outputs": [],
   "source": [
    "from sklearn import metrics"
   ]
  },
  {
   "cell_type": "code",
   "execution_count": 262,
   "id": "4b0187f3",
   "metadata": {},
   "outputs": [],
   "source": [
    "score1 = metrics.r2_score(y1_test,y_predi1)\n",
    "score2 = metrics.r2_score(y1_test,y_predi2)\n",
    "score3 = metrics.r2_score(y1_test,y_predi3)"
   ]
  },
  {
   "cell_type": "code",
   "execution_count": 264,
   "id": "4137aa15",
   "metadata": {},
   "outputs": [
    {
     "name": "stdout",
     "output_type": "stream",
     "text": [
      "0.18948441089564905 0.36836105669321084 0.30295760301596997\n"
     ]
    }
   ],
   "source": [
    "print(score1,score2,score3)"
   ]
  },
  {
   "cell_type": "code",
   "execution_count": 265,
   "id": "064fd759",
   "metadata": {},
   "outputs": [],
   "source": [
    "s1 = metrics.mean_absolute_error(y1_test,y_predi1)\n",
    "s2 = metrics.mean_absolute_error(y1_test,y_predi2)\n",
    "s3 = metrics.mean_absolute_error(y1_test,y_predi3)"
   ]
  },
  {
   "cell_type": "code",
   "execution_count": 267,
   "id": "9c6428ab",
   "metadata": {},
   "outputs": [
    {
     "name": "stdout",
     "output_type": "stream",
     "text": [
      "3.069376192992314 1.7736005934718098 2.209026422965169\n"
     ]
    }
   ],
   "source": [
    "print(s1,s2,s3)"
   ]
  },
  {
   "cell_type": "markdown",
   "id": "54aa7a9c",
   "metadata": {},
   "source": [
    "here s2 value is lesser then all another value so model 2 is the best model"
   ]
  },
  {
   "cell_type": "markdown",
   "id": "50c05338",
   "metadata": {},
   "source": [
    "# Predict Rainfall for New data¶"
   ]
  },
  {
   "cell_type": "code",
   "execution_count": 272,
   "id": "93c4260c",
   "metadata": {},
   "outputs": [],
   "source": [
    "data = {'Location':2,\n",
    "       'MinTemp':13.3,\n",
    "       'MaxTemp':20.30,\n",
    "       'Evaporation':4.2,\n",
    "       'Sunshine':8.1,\n",
    "       'WindGustDir':5,\n",
    "       'WindGustSpeed':44.1,\n",
    "       'WindDir9am':8,\n",
    "       'WindDir3pm':12,\n",
    "       'WindSpeed9am':22.4,\n",
    "       'WindSpeed3pm':20.3,\n",
    "       'Humidity9am':72.2,\n",
    "       'Humidity3pm':21.8,\n",
    "       'Pressure9am':1232.3,\n",
    "       'Pressure3pm':1244.3,\n",
    "       'Cloud9am':8.3,\n",
    "       'Cloud3pm':4.4,\n",
    "       'Temp9am':12.3,\n",
    "       'Temp3pm':21.3,\n",
    "       'RainToday':1,\n",
    "       'RainTomorrow':1}"
   ]
  },
  {
   "cell_type": "code",
   "execution_count": 273,
   "id": "248c2ab6",
   "metadata": {},
   "outputs": [
    {
     "data": {
      "text/html": [
       "<div>\n",
       "<style scoped>\n",
       "    .dataframe tbody tr th:only-of-type {\n",
       "        vertical-align: middle;\n",
       "    }\n",
       "\n",
       "    .dataframe tbody tr th {\n",
       "        vertical-align: top;\n",
       "    }\n",
       "\n",
       "    .dataframe thead th {\n",
       "        text-align: right;\n",
       "    }\n",
       "</style>\n",
       "<table border=\"1\" class=\"dataframe\">\n",
       "  <thead>\n",
       "    <tr style=\"text-align: right;\">\n",
       "      <th></th>\n",
       "      <th>Location</th>\n",
       "      <th>MinTemp</th>\n",
       "      <th>MaxTemp</th>\n",
       "      <th>Evaporation</th>\n",
       "      <th>Sunshine</th>\n",
       "      <th>WindGustDir</th>\n",
       "      <th>WindGustSpeed</th>\n",
       "      <th>WindDir9am</th>\n",
       "      <th>WindDir3pm</th>\n",
       "      <th>WindSpeed9am</th>\n",
       "      <th>...</th>\n",
       "      <th>Humidity9am</th>\n",
       "      <th>Humidity3pm</th>\n",
       "      <th>Pressure9am</th>\n",
       "      <th>Pressure3pm</th>\n",
       "      <th>Cloud9am</th>\n",
       "      <th>Cloud3pm</th>\n",
       "      <th>Temp9am</th>\n",
       "      <th>Temp3pm</th>\n",
       "      <th>RainToday</th>\n",
       "      <th>RainTomorrow</th>\n",
       "    </tr>\n",
       "  </thead>\n",
       "  <tbody>\n",
       "    <tr>\n",
       "      <th>0</th>\n",
       "      <td>2</td>\n",
       "      <td>13.3</td>\n",
       "      <td>20.3</td>\n",
       "      <td>4.2</td>\n",
       "      <td>8.1</td>\n",
       "      <td>5</td>\n",
       "      <td>44.1</td>\n",
       "      <td>8</td>\n",
       "      <td>12</td>\n",
       "      <td>22.4</td>\n",
       "      <td>...</td>\n",
       "      <td>72.2</td>\n",
       "      <td>21.8</td>\n",
       "      <td>1232.3</td>\n",
       "      <td>1244.3</td>\n",
       "      <td>8.3</td>\n",
       "      <td>4.4</td>\n",
       "      <td>12.3</td>\n",
       "      <td>21.3</td>\n",
       "      <td>1</td>\n",
       "      <td>1</td>\n",
       "    </tr>\n",
       "  </tbody>\n",
       "</table>\n",
       "<p>1 rows × 21 columns</p>\n",
       "</div>"
      ],
      "text/plain": [
       "   Location  MinTemp  MaxTemp  Evaporation  Sunshine  WindGustDir  \\\n",
       "0         2     13.3     20.3          4.2       8.1            5   \n",
       "\n",
       "   WindGustSpeed  WindDir9am  WindDir3pm  WindSpeed9am  ...  Humidity9am  \\\n",
       "0           44.1           8          12          22.4  ...         72.2   \n",
       "\n",
       "   Humidity3pm  Pressure9am  Pressure3pm  Cloud9am  Cloud3pm  Temp9am  \\\n",
       "0         21.8       1232.3       1244.3       8.3       4.4     12.3   \n",
       "\n",
       "   Temp3pm  RainToday  RainTomorrow  \n",
       "0     21.3          1             1  \n",
       "\n",
       "[1 rows x 21 columns]"
      ]
     },
     "execution_count": 273,
     "metadata": {},
     "output_type": "execute_result"
    }
   ],
   "source": [
    "df1 = pd.DataFrame(data,index=[0])\n",
    "df1"
   ]
  },
  {
   "cell_type": "markdown",
   "id": "63e37a6e",
   "metadata": {},
   "source": [
    "i am using model 2 because that model is good"
   ]
  },
  {
   "cell_type": "code",
   "execution_count": 275,
   "id": "21ea53c4",
   "metadata": {},
   "outputs": [
    {
     "name": "stdout",
     "output_type": "stream",
     "text": [
      "[15.092]\n"
     ]
    }
   ],
   "source": [
    "new_pred = rf1.predict(df1)\n",
    "print(new_pred)"
   ]
  },
  {
   "cell_type": "markdown",
   "id": "53af20a9",
   "metadata": {},
   "source": [
    "This is Rainfall for new data"
   ]
  },
  {
   "cell_type": "markdown",
   "id": "e4222910",
   "metadata": {},
   "source": [
    "# Save the Model"
   ]
  },
  {
   "cell_type": "markdown",
   "id": "7d8c1844",
   "metadata": {},
   "source": [
    "Here we are save our best model Random Forest Classification model for classification problem."
   ]
  },
  {
   "cell_type": "markdown",
   "id": "f0fa7fdb",
   "metadata": {},
   "source": [
    "here, we can save our best model Random Forest Regression model for Regression problem."
   ]
  },
  {
   "cell_type": "code",
   "execution_count": 278,
   "id": "7bbe0b3a",
   "metadata": {},
   "outputs": [],
   "source": [
    "X = df.drop('RainTomorrow',axis=1)\n",
    "y = df['RainTomorrow']"
   ]
  },
  {
   "cell_type": "code",
   "execution_count": 279,
   "id": "6ef9cea4",
   "metadata": {},
   "outputs": [],
   "source": [
    "X1 = df.drop('Rainfall',axis=1)\n",
    "y1 = df['Rainfall']"
   ]
  },
  {
   "cell_type": "code",
   "execution_count": 280,
   "id": "7520d08b",
   "metadata": {},
   "outputs": [],
   "source": [
    "from imblearn.over_sampling import SMOTE"
   ]
  },
  {
   "cell_type": "code",
   "execution_count": 281,
   "id": "ff43f550",
   "metadata": {},
   "outputs": [],
   "source": [
    "X_res,y_res = SMOTE().fit_resample(X,y)"
   ]
  },
  {
   "cell_type": "code",
   "execution_count": 283,
   "id": "52d04e18",
   "metadata": {},
   "outputs": [],
   "source": [
    "from sklearn.preprocessing import StandardScaler"
   ]
  },
  {
   "cell_type": "code",
   "execution_count": 284,
   "id": "99fb1f97",
   "metadata": {},
   "outputs": [],
   "source": [
    "st = StandardScaler()"
   ]
  },
  {
   "cell_type": "code",
   "execution_count": 285,
   "id": "a6889e0a",
   "metadata": {},
   "outputs": [],
   "source": [
    "X = st.fit_transform(X_res)"
   ]
  },
  {
   "cell_type": "code",
   "execution_count": 286,
   "id": "58dc00bf",
   "metadata": {},
   "outputs": [],
   "source": [
    "X = pca.fit_transform(X)"
   ]
  },
  {
   "cell_type": "code",
   "execution_count": 288,
   "id": "27aa4ffa",
   "metadata": {},
   "outputs": [],
   "source": [
    "from sklearn.ensemble import RandomForestClassifier"
   ]
  },
  {
   "cell_type": "code",
   "execution_count": 299,
   "id": "9210e106",
   "metadata": {},
   "outputs": [],
   "source": [
    "from sklearn.ensemble import RandomForestRegressor"
   ]
  },
  {
   "cell_type": "code",
   "execution_count": 289,
   "id": "e75c30ef",
   "metadata": {},
   "outputs": [],
   "source": [
    "rf = RandomForestClassifier()"
   ]
  },
  {
   "cell_type": "code",
   "execution_count": 297,
   "id": "478b8122",
   "metadata": {},
   "outputs": [],
   "source": [
    "rf1 = RandomForestRegressor()"
   ]
  },
  {
   "cell_type": "code",
   "execution_count": 290,
   "id": "4f712b99",
   "metadata": {},
   "outputs": [
    {
     "data": {
      "text/plain": [
       "RandomForestClassifier()"
      ]
     },
     "execution_count": 290,
     "metadata": {},
     "output_type": "execute_result"
    }
   ],
   "source": [
    "rf.fit(X,y_res)"
   ]
  },
  {
   "cell_type": "code",
   "execution_count": 300,
   "id": "166d3aa7",
   "metadata": {},
   "outputs": [
    {
     "data": {
      "text/plain": [
       "RandomForestRegressor()"
      ]
     },
     "execution_count": 300,
     "metadata": {},
     "output_type": "execute_result"
    }
   ],
   "source": [
    "rf1.fit(X1,y1)"
   ]
  },
  {
   "cell_type": "code",
   "execution_count": 292,
   "id": "e39517db",
   "metadata": {},
   "outputs": [],
   "source": [
    "import joblib"
   ]
  },
  {
   "cell_type": "code",
   "execution_count": 293,
   "id": "26de5e18",
   "metadata": {},
   "outputs": [
    {
     "data": {
      "text/plain": [
       "['Rainfall Weather (Tomarrow) Prediction']"
      ]
     },
     "execution_count": 293,
     "metadata": {},
     "output_type": "execute_result"
    }
   ],
   "source": [
    "joblib.dump(rf,'Rainfall Weather (Tomarrow) Prediction')"
   ]
  },
  {
   "cell_type": "code",
   "execution_count": 301,
   "id": "cee1fc02",
   "metadata": {},
   "outputs": [
    {
     "data": {
      "text/plain": [
       "['Rainfall Weather (rainfall) Prediction']"
      ]
     },
     "execution_count": 301,
     "metadata": {},
     "output_type": "execute_result"
    }
   ],
   "source": [
    "joblib.dump(rf1,'Rainfall Weather (rainfall) Prediction')"
   ]
  },
  {
   "cell_type": "code",
   "execution_count": 302,
   "id": "e7ee4693",
   "metadata": {},
   "outputs": [],
   "source": [
    "model_tomarrow = joblib.load('Rainfall Weather (Tomarrow) Prediction')"
   ]
  },
  {
   "cell_type": "code",
   "execution_count": 303,
   "id": "51dbc23a",
   "metadata": {},
   "outputs": [],
   "source": [
    "model_rainfall = joblib.load('Rainfall Weather (rainfall) Prediction')"
   ]
  },
  {
   "cell_type": "markdown",
   "id": "d89076ef",
   "metadata": {},
   "source": [
    "# Prediction Tomarrow for New data"
   ]
  },
  {
   "cell_type": "code",
   "execution_count": 306,
   "id": "3e9fb20f",
   "metadata": {},
   "outputs": [],
   "source": [
    "new_data = pd.DataFrame({'Location':2,\n",
    "       'MinTemp':13.3,\n",
    "       'MaxTemp':20.30,\n",
    "       'Rainfall':0.4,\n",
    "       'Evaporation':4.2,\n",
    "       'Sunshine':8.1,\n",
    "       'WindGustDir':5,\n",
    "       'WindGustSpeed':44.1,\n",
    "       'WindDir9am':8,\n",
    "       'WindDir3pm':12,\n",
    "       'WindSpeed9am':22.4,\n",
    "       'WindSpeed3pm':20.3,\n",
    "       'Humidity9am':72.2,\n",
    "       'Humidity3pm':21.8,\n",
    "       'Pressure9am':1232.3,\n",
    "       'Pressure3pm':1244.3,\n",
    "       'Cloud9am':8.3,\n",
    "       'Cloud3pm':4.4,\n",
    "       'Temp9am':12.3,\n",
    "       'Temp3pm':21.3,\n",
    "       'RainToday':1},index=[0])"
   ]
  },
  {
   "cell_type": "code",
   "execution_count": 307,
   "id": "c135cae8",
   "metadata": {},
   "outputs": [],
   "source": [
    "test = pca.transform(st.transform(new_data))"
   ]
  },
  {
   "cell_type": "code",
   "execution_count": 311,
   "id": "5a6e7ca9",
   "metadata": {},
   "outputs": [],
   "source": [
    "result = model_tomarrow.predict(test)"
   ]
  },
  {
   "cell_type": "code",
   "execution_count": 308,
   "id": "9e9d4bdc",
   "metadata": {},
   "outputs": [
    {
     "data": {
      "text/html": [
       "<div>\n",
       "<style scoped>\n",
       "    .dataframe tbody tr th:only-of-type {\n",
       "        vertical-align: middle;\n",
       "    }\n",
       "\n",
       "    .dataframe tbody tr th {\n",
       "        vertical-align: top;\n",
       "    }\n",
       "\n",
       "    .dataframe thead th {\n",
       "        text-align: right;\n",
       "    }\n",
       "</style>\n",
       "<table border=\"1\" class=\"dataframe\">\n",
       "  <thead>\n",
       "    <tr style=\"text-align: right;\">\n",
       "      <th></th>\n",
       "      <th>Location</th>\n",
       "      <th>MinTemp</th>\n",
       "      <th>MaxTemp</th>\n",
       "      <th>Evaporation</th>\n",
       "      <th>Sunshine</th>\n",
       "      <th>WindGustDir</th>\n",
       "      <th>WindGustSpeed</th>\n",
       "      <th>WindDir9am</th>\n",
       "      <th>WindDir3pm</th>\n",
       "      <th>WindSpeed9am</th>\n",
       "      <th>...</th>\n",
       "      <th>Humidity9am</th>\n",
       "      <th>Humidity3pm</th>\n",
       "      <th>Pressure9am</th>\n",
       "      <th>Pressure3pm</th>\n",
       "      <th>Cloud9am</th>\n",
       "      <th>Cloud3pm</th>\n",
       "      <th>Temp9am</th>\n",
       "      <th>Temp3pm</th>\n",
       "      <th>RainToday</th>\n",
       "      <th>RainTomorrow</th>\n",
       "    </tr>\n",
       "  </thead>\n",
       "  <tbody>\n",
       "    <tr>\n",
       "      <th>0</th>\n",
       "      <td>2</td>\n",
       "      <td>13.3</td>\n",
       "      <td>20.3</td>\n",
       "      <td>4.2</td>\n",
       "      <td>8.1</td>\n",
       "      <td>5</td>\n",
       "      <td>44.1</td>\n",
       "      <td>8</td>\n",
       "      <td>12</td>\n",
       "      <td>22.4</td>\n",
       "      <td>...</td>\n",
       "      <td>72.2</td>\n",
       "      <td>21.8</td>\n",
       "      <td>1232.3</td>\n",
       "      <td>1244.3</td>\n",
       "      <td>8.3</td>\n",
       "      <td>4.4</td>\n",
       "      <td>12.3</td>\n",
       "      <td>21.3</td>\n",
       "      <td>1</td>\n",
       "      <td>1</td>\n",
       "    </tr>\n",
       "  </tbody>\n",
       "</table>\n",
       "<p>1 rows × 21 columns</p>\n",
       "</div>"
      ],
      "text/plain": [
       "   Location  MinTemp  MaxTemp  Evaporation  Sunshine  WindGustDir  \\\n",
       "0         2     13.3     20.3          4.2       8.1            5   \n",
       "\n",
       "   WindGustSpeed  WindDir9am  WindDir3pm  WindSpeed9am  ...  Humidity9am  \\\n",
       "0           44.1           8          12          22.4  ...         72.2   \n",
       "\n",
       "   Humidity3pm  Pressure9am  Pressure3pm  Cloud9am  Cloud3pm  Temp9am  \\\n",
       "0         21.8       1232.3       1244.3       8.3       4.4     12.3   \n",
       "\n",
       "   Temp3pm  RainToday  RainTomorrow  \n",
       "0     21.3          1             1  \n",
       "\n",
       "[1 rows x 21 columns]"
      ]
     },
     "execution_count": 308,
     "metadata": {},
     "output_type": "execute_result"
    }
   ],
   "source": [
    "df1"
   ]
  },
  {
   "cell_type": "code",
   "execution_count": 310,
   "id": "b74b9afa",
   "metadata": {},
   "outputs": [
    {
     "data": {
      "text/plain": [
       "array([18.052])"
      ]
     },
     "execution_count": 310,
     "metadata": {},
     "output_type": "execute_result"
    }
   ],
   "source": [
    "# Prediction rainfall\n",
    "model_rainfall.predict(df1)"
   ]
  },
  {
   "cell_type": "code",
   "execution_count": 312,
   "id": "008b9d4f",
   "metadata": {},
   "outputs": [
    {
     "name": "stdout",
     "output_type": "stream",
     "text": [
      "It will not be rainy tomorrow.\n"
     ]
    }
   ],
   "source": [
    "# prediction Tomarrow rain\n",
    "if result[0]==1:\n",
    "    print(\"It will be rainy tomorrow.\")\n",
    "else:\n",
    "    print(\"It will not be rainy tomorrow.\")"
   ]
  },
  {
   "cell_type": "code",
   "execution_count": null,
   "id": "7296b550",
   "metadata": {},
   "outputs": [],
   "source": []
  }
 ],
 "metadata": {
  "kernelspec": {
   "display_name": "Python 3 (ipykernel)",
   "language": "python",
   "name": "python3"
  },
  "language_info": {
   "codemirror_mode": {
    "name": "ipython",
    "version": 3
   },
   "file_extension": ".py",
   "mimetype": "text/x-python",
   "name": "python",
   "nbconvert_exporter": "python",
   "pygments_lexer": "ipython3",
   "version": "3.9.12"
  }
 },
 "nbformat": 4,
 "nbformat_minor": 5
}
