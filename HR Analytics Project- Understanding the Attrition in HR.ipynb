{
 "cells": [
  {
   "cell_type": "markdown",
   "id": "b51d0e78",
   "metadata": {},
   "source": [
    "# Basic Libraries"
   ]
  },
  {
   "cell_type": "code",
   "execution_count": 1,
   "id": "8ca2dd25",
   "metadata": {},
   "outputs": [],
   "source": [
    "import numpy as np\n",
    "import pandas as pd\n",
    "import matplotlib.pyplot as plt\n",
    "import seaborn as sns\n",
    "import warnings\n",
    "warnings.filterwarnings('ignore')"
   ]
  },
  {
   "cell_type": "markdown",
   "id": "89c50a39",
   "metadata": {},
   "source": [
    "# Project Description"
   ]
  },
  {
   "cell_type": "markdown",
   "id": "0b98a6c8",
   "metadata": {},
   "source": [
    "Every year a lot of companies hire a number of employees. The companies invest time and money in training those employees, not just this but there are training programs within the companies for their existing employees as well. The aim of these programs is to increase the effectiveness of their employees. But where HR Analytics fit in this? and is it just about improving the performance of employees?"
   ]
  },
  {
   "cell_type": "markdown",
   "id": "ea94a24b",
   "metadata": {},
   "source": [
    "# Dataset Link :-"
   ]
  },
  {
   "cell_type": "markdown",
   "id": "232a3725",
   "metadata": {},
   "source": [
    "https://github.com/dsrscientist/IBM_HR_Attrition_Rate_Analytics"
   ]
  },
  {
   "cell_type": "markdown",
   "id": "389a195d",
   "metadata": {},
   "source": [
    "# Import the Dataset and create the DataFrame"
   ]
  },
  {
   "cell_type": "code",
   "execution_count": 89,
   "id": "53ca6f84",
   "metadata": {},
   "outputs": [
    {
     "data": {
      "text/html": [
       "<div>\n",
       "<style scoped>\n",
       "    .dataframe tbody tr th:only-of-type {\n",
       "        vertical-align: middle;\n",
       "    }\n",
       "\n",
       "    .dataframe tbody tr th {\n",
       "        vertical-align: top;\n",
       "    }\n",
       "\n",
       "    .dataframe thead th {\n",
       "        text-align: right;\n",
       "    }\n",
       "</style>\n",
       "<table border=\"1\" class=\"dataframe\">\n",
       "  <thead>\n",
       "    <tr style=\"text-align: right;\">\n",
       "      <th></th>\n",
       "      <th>Age</th>\n",
       "      <th>Attrition</th>\n",
       "      <th>BusinessTravel</th>\n",
       "      <th>DailyRate</th>\n",
       "      <th>Department</th>\n",
       "      <th>DistanceFromHome</th>\n",
       "      <th>Education</th>\n",
       "      <th>EducationField</th>\n",
       "      <th>EmployeeCount</th>\n",
       "      <th>EmployeeNumber</th>\n",
       "    </tr>\n",
       "  </thead>\n",
       "  <tbody>\n",
       "    <tr>\n",
       "      <th>0</th>\n",
       "      <td>41</td>\n",
       "      <td>Yes</td>\n",
       "      <td>Travel_Rarely</td>\n",
       "      <td>1102</td>\n",
       "      <td>Sales</td>\n",
       "      <td>1</td>\n",
       "      <td>2</td>\n",
       "      <td>Life Sciences</td>\n",
       "      <td>1</td>\n",
       "      <td>1</td>\n",
       "    </tr>\n",
       "    <tr>\n",
       "      <th>1</th>\n",
       "      <td>49</td>\n",
       "      <td>No</td>\n",
       "      <td>Travel_Frequently</td>\n",
       "      <td>279</td>\n",
       "      <td>Research &amp; Development</td>\n",
       "      <td>8</td>\n",
       "      <td>1</td>\n",
       "      <td>Life Sciences</td>\n",
       "      <td>1</td>\n",
       "      <td>2</td>\n",
       "    </tr>\n",
       "    <tr>\n",
       "      <th>2</th>\n",
       "      <td>37</td>\n",
       "      <td>Yes</td>\n",
       "      <td>Travel_Rarely</td>\n",
       "      <td>1373</td>\n",
       "      <td>Research &amp; Development</td>\n",
       "      <td>2</td>\n",
       "      <td>2</td>\n",
       "      <td>Other</td>\n",
       "      <td>1</td>\n",
       "      <td>4</td>\n",
       "    </tr>\n",
       "    <tr>\n",
       "      <th>3</th>\n",
       "      <td>33</td>\n",
       "      <td>No</td>\n",
       "      <td>Travel_Frequently</td>\n",
       "      <td>1392</td>\n",
       "      <td>Research &amp; Development</td>\n",
       "      <td>3</td>\n",
       "      <td>4</td>\n",
       "      <td>Life Sciences</td>\n",
       "      <td>1</td>\n",
       "      <td>5</td>\n",
       "    </tr>\n",
       "    <tr>\n",
       "      <th>4</th>\n",
       "      <td>27</td>\n",
       "      <td>No</td>\n",
       "      <td>Travel_Rarely</td>\n",
       "      <td>591</td>\n",
       "      <td>Research &amp; Development</td>\n",
       "      <td>2</td>\n",
       "      <td>1</td>\n",
       "      <td>Medical</td>\n",
       "      <td>1</td>\n",
       "      <td>7</td>\n",
       "    </tr>\n",
       "    <tr>\n",
       "      <th>...</th>\n",
       "      <td>...</td>\n",
       "      <td>...</td>\n",
       "      <td>...</td>\n",
       "      <td>...</td>\n",
       "      <td>...</td>\n",
       "      <td>...</td>\n",
       "      <td>...</td>\n",
       "      <td>...</td>\n",
       "      <td>...</td>\n",
       "      <td>...</td>\n",
       "    </tr>\n",
       "    <tr>\n",
       "      <th>1465</th>\n",
       "      <td>36</td>\n",
       "      <td>No</td>\n",
       "      <td>Travel_Frequently</td>\n",
       "      <td>884</td>\n",
       "      <td>Research &amp; Development</td>\n",
       "      <td>23</td>\n",
       "      <td>2</td>\n",
       "      <td>Medical</td>\n",
       "      <td>1</td>\n",
       "      <td>2061</td>\n",
       "    </tr>\n",
       "    <tr>\n",
       "      <th>1466</th>\n",
       "      <td>39</td>\n",
       "      <td>No</td>\n",
       "      <td>Travel_Rarely</td>\n",
       "      <td>613</td>\n",
       "      <td>Research &amp; Development</td>\n",
       "      <td>6</td>\n",
       "      <td>1</td>\n",
       "      <td>Medical</td>\n",
       "      <td>1</td>\n",
       "      <td>2062</td>\n",
       "    </tr>\n",
       "    <tr>\n",
       "      <th>1467</th>\n",
       "      <td>27</td>\n",
       "      <td>No</td>\n",
       "      <td>Travel_Rarely</td>\n",
       "      <td>155</td>\n",
       "      <td>Research &amp; Development</td>\n",
       "      <td>4</td>\n",
       "      <td>3</td>\n",
       "      <td>Life Sciences</td>\n",
       "      <td>1</td>\n",
       "      <td>2064</td>\n",
       "    </tr>\n",
       "    <tr>\n",
       "      <th>1468</th>\n",
       "      <td>49</td>\n",
       "      <td>No</td>\n",
       "      <td>Travel_Frequently</td>\n",
       "      <td>1023</td>\n",
       "      <td>Sales</td>\n",
       "      <td>2</td>\n",
       "      <td>3</td>\n",
       "      <td>Medical</td>\n",
       "      <td>1</td>\n",
       "      <td>2065</td>\n",
       "    </tr>\n",
       "    <tr>\n",
       "      <th>1469</th>\n",
       "      <td>34</td>\n",
       "      <td>No</td>\n",
       "      <td>Travel_Rarely</td>\n",
       "      <td>628</td>\n",
       "      <td>Research &amp; Development</td>\n",
       "      <td>8</td>\n",
       "      <td>3</td>\n",
       "      <td>Medical</td>\n",
       "      <td>1</td>\n",
       "      <td>2068</td>\n",
       "    </tr>\n",
       "  </tbody>\n",
       "</table>\n",
       "<p>1470 rows × 10 columns</p>\n",
       "</div>"
      ],
      "text/plain": [
       "      Age Attrition     BusinessTravel  DailyRate              Department  \\\n",
       "0      41       Yes      Travel_Rarely       1102                   Sales   \n",
       "1      49        No  Travel_Frequently        279  Research & Development   \n",
       "2      37       Yes      Travel_Rarely       1373  Research & Development   \n",
       "3      33        No  Travel_Frequently       1392  Research & Development   \n",
       "4      27        No      Travel_Rarely        591  Research & Development   \n",
       "...   ...       ...                ...        ...                     ...   \n",
       "1465   36        No  Travel_Frequently        884  Research & Development   \n",
       "1466   39        No      Travel_Rarely        613  Research & Development   \n",
       "1467   27        No      Travel_Rarely        155  Research & Development   \n",
       "1468   49        No  Travel_Frequently       1023                   Sales   \n",
       "1469   34        No      Travel_Rarely        628  Research & Development   \n",
       "\n",
       "      DistanceFromHome  Education EducationField  EmployeeCount  \\\n",
       "0                    1          2  Life Sciences              1   \n",
       "1                    8          1  Life Sciences              1   \n",
       "2                    2          2          Other              1   \n",
       "3                    3          4  Life Sciences              1   \n",
       "4                    2          1        Medical              1   \n",
       "...                ...        ...            ...            ...   \n",
       "1465                23          2        Medical              1   \n",
       "1466                 6          1        Medical              1   \n",
       "1467                 4          3  Life Sciences              1   \n",
       "1468                 2          3        Medical              1   \n",
       "1469                 8          3        Medical              1   \n",
       "\n",
       "      EmployeeNumber  \n",
       "0                  1  \n",
       "1                  2  \n",
       "2                  4  \n",
       "3                  5  \n",
       "4                  7  \n",
       "...              ...  \n",
       "1465            2061  \n",
       "1466            2062  \n",
       "1467            2064  \n",
       "1468            2065  \n",
       "1469            2068  \n",
       "\n",
       "[1470 rows x 10 columns]"
      ]
     },
     "execution_count": 89,
     "metadata": {},
     "output_type": "execute_result"
    }
   ],
   "source": [
    "df = pd.read_csv(r'E:\\Flip Robo\\dataset\\Hr Employee.csv')\n",
    "df = df.iloc[:,0:10]\n",
    "df"
   ]
  },
  {
   "cell_type": "markdown",
   "id": "12b0c2b2",
   "metadata": {},
   "source": [
    "# Basic Data Exploration"
   ]
  },
  {
   "cell_type": "markdown",
   "id": "c8e8d526",
   "metadata": {},
   "source": [
    "In this operation, we will perform below operations to check the dataset.\n",
    "\n",
    "Head of the datset                                                                      \n",
    "The shape of the dataset                                                                            \n",
    "Info of the dataset                                                                                 \n",
    "summary of the dataset"
   ]
  },
  {
   "cell_type": "code",
   "execution_count": 90,
   "id": "070567f1",
   "metadata": {},
   "outputs": [
    {
     "data": {
      "text/html": [
       "<div>\n",
       "<style scoped>\n",
       "    .dataframe tbody tr th:only-of-type {\n",
       "        vertical-align: middle;\n",
       "    }\n",
       "\n",
       "    .dataframe tbody tr th {\n",
       "        vertical-align: top;\n",
       "    }\n",
       "\n",
       "    .dataframe thead th {\n",
       "        text-align: right;\n",
       "    }\n",
       "</style>\n",
       "<table border=\"1\" class=\"dataframe\">\n",
       "  <thead>\n",
       "    <tr style=\"text-align: right;\">\n",
       "      <th></th>\n",
       "      <th>Age</th>\n",
       "      <th>Attrition</th>\n",
       "      <th>BusinessTravel</th>\n",
       "      <th>DailyRate</th>\n",
       "      <th>Department</th>\n",
       "      <th>DistanceFromHome</th>\n",
       "      <th>Education</th>\n",
       "      <th>EducationField</th>\n",
       "      <th>EmployeeCount</th>\n",
       "      <th>EmployeeNumber</th>\n",
       "    </tr>\n",
       "  </thead>\n",
       "  <tbody>\n",
       "    <tr>\n",
       "      <th>0</th>\n",
       "      <td>41</td>\n",
       "      <td>Yes</td>\n",
       "      <td>Travel_Rarely</td>\n",
       "      <td>1102</td>\n",
       "      <td>Sales</td>\n",
       "      <td>1</td>\n",
       "      <td>2</td>\n",
       "      <td>Life Sciences</td>\n",
       "      <td>1</td>\n",
       "      <td>1</td>\n",
       "    </tr>\n",
       "    <tr>\n",
       "      <th>1</th>\n",
       "      <td>49</td>\n",
       "      <td>No</td>\n",
       "      <td>Travel_Frequently</td>\n",
       "      <td>279</td>\n",
       "      <td>Research &amp; Development</td>\n",
       "      <td>8</td>\n",
       "      <td>1</td>\n",
       "      <td>Life Sciences</td>\n",
       "      <td>1</td>\n",
       "      <td>2</td>\n",
       "    </tr>\n",
       "    <tr>\n",
       "      <th>2</th>\n",
       "      <td>37</td>\n",
       "      <td>Yes</td>\n",
       "      <td>Travel_Rarely</td>\n",
       "      <td>1373</td>\n",
       "      <td>Research &amp; Development</td>\n",
       "      <td>2</td>\n",
       "      <td>2</td>\n",
       "      <td>Other</td>\n",
       "      <td>1</td>\n",
       "      <td>4</td>\n",
       "    </tr>\n",
       "    <tr>\n",
       "      <th>3</th>\n",
       "      <td>33</td>\n",
       "      <td>No</td>\n",
       "      <td>Travel_Frequently</td>\n",
       "      <td>1392</td>\n",
       "      <td>Research &amp; Development</td>\n",
       "      <td>3</td>\n",
       "      <td>4</td>\n",
       "      <td>Life Sciences</td>\n",
       "      <td>1</td>\n",
       "      <td>5</td>\n",
       "    </tr>\n",
       "    <tr>\n",
       "      <th>4</th>\n",
       "      <td>27</td>\n",
       "      <td>No</td>\n",
       "      <td>Travel_Rarely</td>\n",
       "      <td>591</td>\n",
       "      <td>Research &amp; Development</td>\n",
       "      <td>2</td>\n",
       "      <td>1</td>\n",
       "      <td>Medical</td>\n",
       "      <td>1</td>\n",
       "      <td>7</td>\n",
       "    </tr>\n",
       "  </tbody>\n",
       "</table>\n",
       "</div>"
      ],
      "text/plain": [
       "   Age Attrition     BusinessTravel  DailyRate              Department  \\\n",
       "0   41       Yes      Travel_Rarely       1102                   Sales   \n",
       "1   49        No  Travel_Frequently        279  Research & Development   \n",
       "2   37       Yes      Travel_Rarely       1373  Research & Development   \n",
       "3   33        No  Travel_Frequently       1392  Research & Development   \n",
       "4   27        No      Travel_Rarely        591  Research & Development   \n",
       "\n",
       "   DistanceFromHome  Education EducationField  EmployeeCount  EmployeeNumber  \n",
       "0                 1          2  Life Sciences              1               1  \n",
       "1                 8          1  Life Sciences              1               2  \n",
       "2                 2          2          Other              1               4  \n",
       "3                 3          4  Life Sciences              1               5  \n",
       "4                 2          1        Medical              1               7  "
      ]
     },
     "execution_count": 90,
     "metadata": {},
     "output_type": "execute_result"
    }
   ],
   "source": [
    "df.head()"
   ]
  },
  {
   "cell_type": "code",
   "execution_count": 91,
   "id": "2111fe91",
   "metadata": {},
   "outputs": [
    {
     "data": {
      "text/html": [
       "<div>\n",
       "<style scoped>\n",
       "    .dataframe tbody tr th:only-of-type {\n",
       "        vertical-align: middle;\n",
       "    }\n",
       "\n",
       "    .dataframe tbody tr th {\n",
       "        vertical-align: top;\n",
       "    }\n",
       "\n",
       "    .dataframe thead th {\n",
       "        text-align: right;\n",
       "    }\n",
       "</style>\n",
       "<table border=\"1\" class=\"dataframe\">\n",
       "  <thead>\n",
       "    <tr style=\"text-align: right;\">\n",
       "      <th></th>\n",
       "      <th>Age</th>\n",
       "      <th>Attrition</th>\n",
       "      <th>BusinessTravel</th>\n",
       "      <th>DailyRate</th>\n",
       "      <th>Department</th>\n",
       "      <th>DistanceFromHome</th>\n",
       "      <th>Education</th>\n",
       "      <th>EducationField</th>\n",
       "      <th>EmployeeCount</th>\n",
       "      <th>EmployeeNumber</th>\n",
       "    </tr>\n",
       "  </thead>\n",
       "  <tbody>\n",
       "    <tr>\n",
       "      <th>1465</th>\n",
       "      <td>36</td>\n",
       "      <td>No</td>\n",
       "      <td>Travel_Frequently</td>\n",
       "      <td>884</td>\n",
       "      <td>Research &amp; Development</td>\n",
       "      <td>23</td>\n",
       "      <td>2</td>\n",
       "      <td>Medical</td>\n",
       "      <td>1</td>\n",
       "      <td>2061</td>\n",
       "    </tr>\n",
       "    <tr>\n",
       "      <th>1466</th>\n",
       "      <td>39</td>\n",
       "      <td>No</td>\n",
       "      <td>Travel_Rarely</td>\n",
       "      <td>613</td>\n",
       "      <td>Research &amp; Development</td>\n",
       "      <td>6</td>\n",
       "      <td>1</td>\n",
       "      <td>Medical</td>\n",
       "      <td>1</td>\n",
       "      <td>2062</td>\n",
       "    </tr>\n",
       "    <tr>\n",
       "      <th>1467</th>\n",
       "      <td>27</td>\n",
       "      <td>No</td>\n",
       "      <td>Travel_Rarely</td>\n",
       "      <td>155</td>\n",
       "      <td>Research &amp; Development</td>\n",
       "      <td>4</td>\n",
       "      <td>3</td>\n",
       "      <td>Life Sciences</td>\n",
       "      <td>1</td>\n",
       "      <td>2064</td>\n",
       "    </tr>\n",
       "    <tr>\n",
       "      <th>1468</th>\n",
       "      <td>49</td>\n",
       "      <td>No</td>\n",
       "      <td>Travel_Frequently</td>\n",
       "      <td>1023</td>\n",
       "      <td>Sales</td>\n",
       "      <td>2</td>\n",
       "      <td>3</td>\n",
       "      <td>Medical</td>\n",
       "      <td>1</td>\n",
       "      <td>2065</td>\n",
       "    </tr>\n",
       "    <tr>\n",
       "      <th>1469</th>\n",
       "      <td>34</td>\n",
       "      <td>No</td>\n",
       "      <td>Travel_Rarely</td>\n",
       "      <td>628</td>\n",
       "      <td>Research &amp; Development</td>\n",
       "      <td>8</td>\n",
       "      <td>3</td>\n",
       "      <td>Medical</td>\n",
       "      <td>1</td>\n",
       "      <td>2068</td>\n",
       "    </tr>\n",
       "  </tbody>\n",
       "</table>\n",
       "</div>"
      ],
      "text/plain": [
       "      Age Attrition     BusinessTravel  DailyRate              Department  \\\n",
       "1465   36        No  Travel_Frequently        884  Research & Development   \n",
       "1466   39        No      Travel_Rarely        613  Research & Development   \n",
       "1467   27        No      Travel_Rarely        155  Research & Development   \n",
       "1468   49        No  Travel_Frequently       1023                   Sales   \n",
       "1469   34        No      Travel_Rarely        628  Research & Development   \n",
       "\n",
       "      DistanceFromHome  Education EducationField  EmployeeCount  \\\n",
       "1465                23          2        Medical              1   \n",
       "1466                 6          1        Medical              1   \n",
       "1467                 4          3  Life Sciences              1   \n",
       "1468                 2          3        Medical              1   \n",
       "1469                 8          3        Medical              1   \n",
       "\n",
       "      EmployeeNumber  \n",
       "1465            2061  \n",
       "1466            2062  \n",
       "1467            2064  \n",
       "1468            2065  \n",
       "1469            2068  "
      ]
     },
     "execution_count": 91,
     "metadata": {},
     "output_type": "execute_result"
    }
   ],
   "source": [
    "df.tail()"
   ]
  },
  {
   "cell_type": "code",
   "execution_count": 92,
   "id": "50af85c3",
   "metadata": {},
   "outputs": [
    {
     "data": {
      "text/html": [
       "<div>\n",
       "<style scoped>\n",
       "    .dataframe tbody tr th:only-of-type {\n",
       "        vertical-align: middle;\n",
       "    }\n",
       "\n",
       "    .dataframe tbody tr th {\n",
       "        vertical-align: top;\n",
       "    }\n",
       "\n",
       "    .dataframe thead th {\n",
       "        text-align: right;\n",
       "    }\n",
       "</style>\n",
       "<table border=\"1\" class=\"dataframe\">\n",
       "  <thead>\n",
       "    <tr style=\"text-align: right;\">\n",
       "      <th></th>\n",
       "      <th>Age</th>\n",
       "      <th>Attrition</th>\n",
       "      <th>BusinessTravel</th>\n",
       "      <th>DailyRate</th>\n",
       "      <th>Department</th>\n",
       "      <th>DistanceFromHome</th>\n",
       "      <th>Education</th>\n",
       "      <th>EducationField</th>\n",
       "      <th>EmployeeCount</th>\n",
       "      <th>EmployeeNumber</th>\n",
       "    </tr>\n",
       "  </thead>\n",
       "  <tbody>\n",
       "    <tr>\n",
       "      <th>423</th>\n",
       "      <td>30</td>\n",
       "      <td>No</td>\n",
       "      <td>Non-Travel</td>\n",
       "      <td>1398</td>\n",
       "      <td>Sales</td>\n",
       "      <td>22</td>\n",
       "      <td>4</td>\n",
       "      <td>Other</td>\n",
       "      <td>1</td>\n",
       "      <td>567</td>\n",
       "    </tr>\n",
       "    <tr>\n",
       "      <th>1296</th>\n",
       "      <td>30</td>\n",
       "      <td>No</td>\n",
       "      <td>Travel_Rarely</td>\n",
       "      <td>1092</td>\n",
       "      <td>Research &amp; Development</td>\n",
       "      <td>10</td>\n",
       "      <td>3</td>\n",
       "      <td>Medical</td>\n",
       "      <td>1</td>\n",
       "      <td>1816</td>\n",
       "    </tr>\n",
       "    <tr>\n",
       "      <th>1354</th>\n",
       "      <td>56</td>\n",
       "      <td>Yes</td>\n",
       "      <td>Travel_Rarely</td>\n",
       "      <td>1162</td>\n",
       "      <td>Research &amp; Development</td>\n",
       "      <td>24</td>\n",
       "      <td>2</td>\n",
       "      <td>Life Sciences</td>\n",
       "      <td>1</td>\n",
       "      <td>1907</td>\n",
       "    </tr>\n",
       "    <tr>\n",
       "      <th>1456</th>\n",
       "      <td>35</td>\n",
       "      <td>No</td>\n",
       "      <td>Travel_Frequently</td>\n",
       "      <td>1199</td>\n",
       "      <td>Research &amp; Development</td>\n",
       "      <td>18</td>\n",
       "      <td>4</td>\n",
       "      <td>Life Sciences</td>\n",
       "      <td>1</td>\n",
       "      <td>2049</td>\n",
       "    </tr>\n",
       "    <tr>\n",
       "      <th>334</th>\n",
       "      <td>45</td>\n",
       "      <td>No</td>\n",
       "      <td>Travel_Rarely</td>\n",
       "      <td>549</td>\n",
       "      <td>Research &amp; Development</td>\n",
       "      <td>8</td>\n",
       "      <td>4</td>\n",
       "      <td>Other</td>\n",
       "      <td>1</td>\n",
       "      <td>452</td>\n",
       "    </tr>\n",
       "  </tbody>\n",
       "</table>\n",
       "</div>"
      ],
      "text/plain": [
       "      Age Attrition     BusinessTravel  DailyRate              Department  \\\n",
       "423    30        No         Non-Travel       1398                   Sales   \n",
       "1296   30        No      Travel_Rarely       1092  Research & Development   \n",
       "1354   56       Yes      Travel_Rarely       1162  Research & Development   \n",
       "1456   35        No  Travel_Frequently       1199  Research & Development   \n",
       "334    45        No      Travel_Rarely        549  Research & Development   \n",
       "\n",
       "      DistanceFromHome  Education EducationField  EmployeeCount  \\\n",
       "423                 22          4          Other              1   \n",
       "1296                10          3        Medical              1   \n",
       "1354                24          2  Life Sciences              1   \n",
       "1456                18          4  Life Sciences              1   \n",
       "334                  8          4          Other              1   \n",
       "\n",
       "      EmployeeNumber  \n",
       "423              567  \n",
       "1296            1816  \n",
       "1354            1907  \n",
       "1456            2049  \n",
       "334              452  "
      ]
     },
     "execution_count": 92,
     "metadata": {},
     "output_type": "execute_result"
    }
   ],
   "source": [
    "df.sample(5)"
   ]
  },
  {
   "cell_type": "markdown",
   "id": "9c529314",
   "metadata": {},
   "source": [
    "# shape of Dataset"
   ]
  },
  {
   "cell_type": "code",
   "execution_count": 93,
   "id": "5d65f52d",
   "metadata": {},
   "outputs": [
    {
     "data": {
      "text/plain": [
       "(1470, 10)"
      ]
     },
     "execution_count": 93,
     "metadata": {},
     "output_type": "execute_result"
    }
   ],
   "source": [
    "df.shape"
   ]
  },
  {
   "cell_type": "code",
   "execution_count": 94,
   "id": "8d94d0cc",
   "metadata": {},
   "outputs": [
    {
     "name": "stdout",
     "output_type": "stream",
     "text": [
      "Number of rows : 1470\n",
      "Number of columns : 10\n"
     ]
    }
   ],
   "source": [
    "print(\"Number of rows :\",df.shape[0])\n",
    "print(\"Number of columns :\",df.shape[1])"
   ]
  },
  {
   "cell_type": "markdown",
   "id": "4c290a6e",
   "metadata": {},
   "source": [
    "The Shape attribute tell us how many rows and columns are present into the dataset. It is used to check the dimension of data.\n",
    "\n",
    "In this dataset we have 1470 Rows and 35 columns"
   ]
  },
  {
   "cell_type": "markdown",
   "id": "dc8f5c1b",
   "metadata": {},
   "source": [
    "# Information of the Dataset"
   ]
  },
  {
   "cell_type": "code",
   "execution_count": 95,
   "id": "7a806d02",
   "metadata": {},
   "outputs": [
    {
     "name": "stdout",
     "output_type": "stream",
     "text": [
      "<class 'pandas.core.frame.DataFrame'>\n",
      "RangeIndex: 1470 entries, 0 to 1469\n",
      "Data columns (total 10 columns):\n",
      " #   Column            Non-Null Count  Dtype \n",
      "---  ------            --------------  ----- \n",
      " 0   Age               1470 non-null   int64 \n",
      " 1   Attrition         1470 non-null   object\n",
      " 2   BusinessTravel    1470 non-null   object\n",
      " 3   DailyRate         1470 non-null   int64 \n",
      " 4   Department        1470 non-null   object\n",
      " 5   DistanceFromHome  1470 non-null   int64 \n",
      " 6   Education         1470 non-null   int64 \n",
      " 7   EducationField    1470 non-null   object\n",
      " 8   EmployeeCount     1470 non-null   int64 \n",
      " 9   EmployeeNumber    1470 non-null   int64 \n",
      "dtypes: int64(6), object(4)\n",
      "memory usage: 115.0+ KB\n"
     ]
    }
   ],
   "source": [
    "df.info()"
   ]
  },
  {
   "cell_type": "markdown",
   "id": "903f94c7",
   "metadata": {},
   "source": [
    "The Info attribute tell us brief about the dataset which includes indexing type, column type, null values and memory usage."
   ]
  },
  {
   "cell_type": "markdown",
   "id": "0d7e0b97",
   "metadata": {},
   "source": [
    "# Summary of the Dataset"
   ]
  },
  {
   "cell_type": "code",
   "execution_count": 96,
   "id": "b099c7e2",
   "metadata": {},
   "outputs": [
    {
     "data": {
      "text/html": [
       "<div>\n",
       "<style scoped>\n",
       "    .dataframe tbody tr th:only-of-type {\n",
       "        vertical-align: middle;\n",
       "    }\n",
       "\n",
       "    .dataframe tbody tr th {\n",
       "        vertical-align: top;\n",
       "    }\n",
       "\n",
       "    .dataframe thead th {\n",
       "        text-align: right;\n",
       "    }\n",
       "</style>\n",
       "<table border=\"1\" class=\"dataframe\">\n",
       "  <thead>\n",
       "    <tr style=\"text-align: right;\">\n",
       "      <th></th>\n",
       "      <th>Age</th>\n",
       "      <th>DailyRate</th>\n",
       "      <th>DistanceFromHome</th>\n",
       "      <th>Education</th>\n",
       "      <th>EmployeeCount</th>\n",
       "      <th>EmployeeNumber</th>\n",
       "    </tr>\n",
       "  </thead>\n",
       "  <tbody>\n",
       "    <tr>\n",
       "      <th>count</th>\n",
       "      <td>1470.000000</td>\n",
       "      <td>1470.000000</td>\n",
       "      <td>1470.000000</td>\n",
       "      <td>1470.000000</td>\n",
       "      <td>1470.0</td>\n",
       "      <td>1470.000000</td>\n",
       "    </tr>\n",
       "    <tr>\n",
       "      <th>mean</th>\n",
       "      <td>36.923810</td>\n",
       "      <td>802.485714</td>\n",
       "      <td>9.192517</td>\n",
       "      <td>2.912925</td>\n",
       "      <td>1.0</td>\n",
       "      <td>1024.865306</td>\n",
       "    </tr>\n",
       "    <tr>\n",
       "      <th>std</th>\n",
       "      <td>9.135373</td>\n",
       "      <td>403.509100</td>\n",
       "      <td>8.106864</td>\n",
       "      <td>1.024165</td>\n",
       "      <td>0.0</td>\n",
       "      <td>602.024335</td>\n",
       "    </tr>\n",
       "    <tr>\n",
       "      <th>min</th>\n",
       "      <td>18.000000</td>\n",
       "      <td>102.000000</td>\n",
       "      <td>1.000000</td>\n",
       "      <td>1.000000</td>\n",
       "      <td>1.0</td>\n",
       "      <td>1.000000</td>\n",
       "    </tr>\n",
       "    <tr>\n",
       "      <th>25%</th>\n",
       "      <td>30.000000</td>\n",
       "      <td>465.000000</td>\n",
       "      <td>2.000000</td>\n",
       "      <td>2.000000</td>\n",
       "      <td>1.0</td>\n",
       "      <td>491.250000</td>\n",
       "    </tr>\n",
       "    <tr>\n",
       "      <th>50%</th>\n",
       "      <td>36.000000</td>\n",
       "      <td>802.000000</td>\n",
       "      <td>7.000000</td>\n",
       "      <td>3.000000</td>\n",
       "      <td>1.0</td>\n",
       "      <td>1020.500000</td>\n",
       "    </tr>\n",
       "    <tr>\n",
       "      <th>75%</th>\n",
       "      <td>43.000000</td>\n",
       "      <td>1157.000000</td>\n",
       "      <td>14.000000</td>\n",
       "      <td>4.000000</td>\n",
       "      <td>1.0</td>\n",
       "      <td>1555.750000</td>\n",
       "    </tr>\n",
       "    <tr>\n",
       "      <th>max</th>\n",
       "      <td>60.000000</td>\n",
       "      <td>1499.000000</td>\n",
       "      <td>29.000000</td>\n",
       "      <td>5.000000</td>\n",
       "      <td>1.0</td>\n",
       "      <td>2068.000000</td>\n",
       "    </tr>\n",
       "  </tbody>\n",
       "</table>\n",
       "</div>"
      ],
      "text/plain": [
       "               Age    DailyRate  DistanceFromHome    Education  EmployeeCount  \\\n",
       "count  1470.000000  1470.000000       1470.000000  1470.000000         1470.0   \n",
       "mean     36.923810   802.485714          9.192517     2.912925            1.0   \n",
       "std       9.135373   403.509100          8.106864     1.024165            0.0   \n",
       "min      18.000000   102.000000          1.000000     1.000000            1.0   \n",
       "25%      30.000000   465.000000          2.000000     2.000000            1.0   \n",
       "50%      36.000000   802.000000          7.000000     3.000000            1.0   \n",
       "75%      43.000000  1157.000000         14.000000     4.000000            1.0   \n",
       "max      60.000000  1499.000000         29.000000     5.000000            1.0   \n",
       "\n",
       "       EmployeeNumber  \n",
       "count     1470.000000  \n",
       "mean      1024.865306  \n",
       "std        602.024335  \n",
       "min          1.000000  \n",
       "25%        491.250000  \n",
       "50%       1020.500000  \n",
       "75%       1555.750000  \n",
       "max       2068.000000  "
      ]
     },
     "execution_count": 96,
     "metadata": {},
     "output_type": "execute_result"
    }
   ],
   "source": [
    "df.describe()"
   ]
  },
  {
   "cell_type": "markdown",
   "id": "0e662985",
   "metadata": {},
   "source": [
    "The described method will help to see how data has been spread for numerical values.                 \n",
    "\n",
    "The counts of the columns are same which means there are no missing values in the dataset.           \n",
    "\n",
    "Now we can see this data from graph."
   ]
  },
  {
   "cell_type": "code",
   "execution_count": 97,
   "id": "0b5983ca",
   "metadata": {},
   "outputs": [
    {
     "data": {
      "text/plain": [
       "<AxesSubplot:>"
      ]
     },
     "execution_count": 97,
     "metadata": {},
     "output_type": "execute_result"
    },
    {
     "data": {
      "image/png": "[encoded data removed]",
      "text/plain": [
       "<Figure size 720x432 with 2 Axes>"
      ]
     },
     "metadata": {
      "needs_background": "light"
     },
     "output_type": "display_data"
    }
   ],
   "source": [
    "plt.figure(figsize=(10,6))\n",
    "sns.heatmap(df.describe(),annot=True,cmap='Blues_r')"
   ]
  },
  {
   "cell_type": "markdown",
   "id": "2de0f740",
   "metadata": {},
   "source": [
    "# Handling Missing Value"
   ]
  },
  {
   "cell_type": "code",
   "execution_count": 98,
   "id": "9be6bf98",
   "metadata": {},
   "outputs": [
    {
     "data": {
      "text/plain": [
       "Age                 0\n",
       "Attrition           0\n",
       "BusinessTravel      0\n",
       "DailyRate           0\n",
       "Department          0\n",
       "DistanceFromHome    0\n",
       "Education           0\n",
       "EducationField      0\n",
       "EmployeeCount       0\n",
       "EmployeeNumber      0\n",
       "dtype: int64"
      ]
     },
     "execution_count": 98,
     "metadata": {},
     "output_type": "execute_result"
    }
   ],
   "source": [
    "df.isnull().sum()"
   ]
  },
  {
   "cell_type": "markdown",
   "id": "f2f760d9",
   "metadata": {},
   "source": [
    "here, we can see no null value are present in my dataset.\n",
    "\n",
    "Now i am visualizing this into graph by using heatmap."
   ]
  },
  {
   "cell_type": "code",
   "execution_count": 99,
   "id": "197a127c",
   "metadata": {},
   "outputs": [
    {
     "data": {
      "text/plain": [
       "<AxesSubplot:>"
      ]
     },
     "execution_count": 99,
     "metadata": {},
     "output_type": "execute_result"
    },
    {
     "data": {
      "image/png": "[encoded data removed]",
      "text/plain": [
       "<Figure size 432x288 with 2 Axes>"
      ]
     },
     "metadata": {
      "needs_background": "light"
     },
     "output_type": "display_data"
    }
   ],
   "source": [
    "sns.heatmap(df.isnull())"
   ]
  },
  {
   "cell_type": "markdown",
   "id": "0fd1c2ee",
   "metadata": {},
   "source": [
    "# Data Visualization"
   ]
  },
  {
   "cell_type": "code",
   "execution_count": 100,
   "id": "c7d6fd9f",
   "metadata": {},
   "outputs": [
    {
     "data": {
      "text/plain": [
       "<AxesSubplot:xlabel='Attrition', ylabel='count'>"
      ]
     },
     "execution_count": 100,
     "metadata": {},
     "output_type": "execute_result"
    },
    {
     "data": {
      "image/png": "[encoded data removed]",
      "text/plain": [
       "<Figure size 432x288 with 1 Axes>"
      ]
     },
     "metadata": {
      "needs_background": "light"
     },
     "output_type": "display_data"
    }
   ],
   "source": [
    "sns.countplot(df['Attrition'])"
   ]
  },
  {
   "cell_type": "markdown",
   "id": "3a788edb",
   "metadata": {},
   "source": [
    "here, we can see maximum people don't Attrition."
   ]
  },
  {
   "cell_type": "code",
   "execution_count": 101,
   "id": "6e715b20",
   "metadata": {},
   "outputs": [
    {
     "data": {
      "text/plain": [
       "<AxesSubplot:xlabel='BusinessTravel', ylabel='count'>"
      ]
     },
     "execution_count": 101,
     "metadata": {},
     "output_type": "execute_result"
    },
    {
     "data": {
      "image/png": "[encoded data removed]",
      "text/plain": [
       "<Figure size 432x288 with 1 Axes>"
      ]
     },
     "metadata": {
      "needs_background": "light"
     },
     "output_type": "display_data"
    }
   ],
   "source": [
    "sns.countplot(df['BusinessTravel'])"
   ]
  },
  {
   "cell_type": "markdown",
   "id": "368b5ca3",
   "metadata": {},
   "source": [
    "here, we can see Travel_Rarely is very high as compaire to other."
   ]
  },
  {
   "cell_type": "code",
   "execution_count": 102,
   "id": "e565dc6b",
   "metadata": {},
   "outputs": [
    {
     "data": {
      "text/plain": [
       "<AxesSubplot:xlabel='Department', ylabel='count'>"
      ]
     },
     "execution_count": 102,
     "metadata": {},
     "output_type": "execute_result"
    },
    {
     "data": {
      "image/png": "[encoded data removed]",
      "text/plain": [
       "<Figure size 432x288 with 1 Axes>"
      ]
     },
     "metadata": {
      "needs_background": "light"
     },
     "output_type": "display_data"
    }
   ],
   "source": [
    "sns.countplot(df['Department'])"
   ]
  },
  {
   "cell_type": "markdown",
   "id": "61c2733f",
   "metadata": {},
   "source": [
    "here, we can see in department Research and development is very high as compare to other."
   ]
  },
  {
   "cell_type": "code",
   "execution_count": 103,
   "id": "f32ba9fd",
   "metadata": {},
   "outputs": [
    {
     "data": {
      "text/plain": [
       "<AxesSubplot:xlabel='EducationField', ylabel='count'>"
      ]
     },
     "execution_count": 103,
     "metadata": {},
     "output_type": "execute_result"
    },
    {
     "data": {
      "image/png": "[encoded data removed]",
      "text/plain": [
       "<Figure size 720x360 with 1 Axes>"
      ]
     },
     "metadata": {
      "needs_background": "light"
     },
     "output_type": "display_data"
    }
   ],
   "source": [
    "plt.figure(figsize=(10,5))\n",
    "sns.countplot(df['EducationField'])"
   ]
  },
  {
   "cell_type": "markdown",
   "id": "43f2b4aa",
   "metadata": {},
   "source": [
    "Here, we can see in Education Field Life Sciences are very high then Medical as compair to other."
   ]
  },
  {
   "cell_type": "markdown",
   "id": "ee054882",
   "metadata": {},
   "source": [
    "# convert column from string to numerical values"
   ]
  },
  {
   "cell_type": "code",
   "execution_count": 110,
   "id": "162e5254",
   "metadata": {},
   "outputs": [],
   "source": [
    "df.replace({\"Attrition\":{'No':0,'Yes':1},'BusinessTravel':{'Travel_Rarely':0,'Travel_Frequently':1,'Non-Travel':2},'Department':{'Research & Development':0,'Sales':1,'Human Resources':2},'EducationField':{'Life Sciences':0,'Medical':1,'Marketing':2,'Technical Degree':3,'Other':4,'Human Resources':5}},inplace=True)"
   ]
  },
  {
   "cell_type": "code",
   "execution_count": 111,
   "id": "803ab64a",
   "metadata": {},
   "outputs": [
    {
     "data": {
      "text/html": [
       "<div>\n",
       "<style scoped>\n",
       "    .dataframe tbody tr th:only-of-type {\n",
       "        vertical-align: middle;\n",
       "    }\n",
       "\n",
       "    .dataframe tbody tr th {\n",
       "        vertical-align: top;\n",
       "    }\n",
       "\n",
       "    .dataframe thead th {\n",
       "        text-align: right;\n",
       "    }\n",
       "</style>\n",
       "<table border=\"1\" class=\"dataframe\">\n",
       "  <thead>\n",
       "    <tr style=\"text-align: right;\">\n",
       "      <th></th>\n",
       "      <th>Age</th>\n",
       "      <th>Attrition</th>\n",
       "      <th>BusinessTravel</th>\n",
       "      <th>DailyRate</th>\n",
       "      <th>Department</th>\n",
       "      <th>DistanceFromHome</th>\n",
       "      <th>Education</th>\n",
       "      <th>EducationField</th>\n",
       "      <th>EmployeeNumber</th>\n",
       "    </tr>\n",
       "  </thead>\n",
       "  <tbody>\n",
       "    <tr>\n",
       "      <th>0</th>\n",
       "      <td>41</td>\n",
       "      <td>1</td>\n",
       "      <td>0</td>\n",
       "      <td>1102</td>\n",
       "      <td>1</td>\n",
       "      <td>1</td>\n",
       "      <td>2</td>\n",
       "      <td>0</td>\n",
       "      <td>1</td>\n",
       "    </tr>\n",
       "    <tr>\n",
       "      <th>1</th>\n",
       "      <td>49</td>\n",
       "      <td>0</td>\n",
       "      <td>1</td>\n",
       "      <td>279</td>\n",
       "      <td>0</td>\n",
       "      <td>8</td>\n",
       "      <td>1</td>\n",
       "      <td>0</td>\n",
       "      <td>2</td>\n",
       "    </tr>\n",
       "    <tr>\n",
       "      <th>2</th>\n",
       "      <td>37</td>\n",
       "      <td>1</td>\n",
       "      <td>0</td>\n",
       "      <td>1373</td>\n",
       "      <td>0</td>\n",
       "      <td>2</td>\n",
       "      <td>2</td>\n",
       "      <td>4</td>\n",
       "      <td>4</td>\n",
       "    </tr>\n",
       "    <tr>\n",
       "      <th>3</th>\n",
       "      <td>33</td>\n",
       "      <td>0</td>\n",
       "      <td>1</td>\n",
       "      <td>1392</td>\n",
       "      <td>0</td>\n",
       "      <td>3</td>\n",
       "      <td>4</td>\n",
       "      <td>0</td>\n",
       "      <td>5</td>\n",
       "    </tr>\n",
       "    <tr>\n",
       "      <th>4</th>\n",
       "      <td>27</td>\n",
       "      <td>0</td>\n",
       "      <td>0</td>\n",
       "      <td>591</td>\n",
       "      <td>0</td>\n",
       "      <td>2</td>\n",
       "      <td>1</td>\n",
       "      <td>1</td>\n",
       "      <td>7</td>\n",
       "    </tr>\n",
       "  </tbody>\n",
       "</table>\n",
       "</div>"
      ],
      "text/plain": [
       "   Age  Attrition  BusinessTravel  DailyRate  Department  DistanceFromHome  \\\n",
       "0   41          1               0       1102           1                 1   \n",
       "1   49          0               1        279           0                 8   \n",
       "2   37          1               0       1373           0                 2   \n",
       "3   33          0               1       1392           0                 3   \n",
       "4   27          0               0        591           0                 2   \n",
       "\n",
       "   Education  EducationField  EmployeeNumber  \n",
       "0          2               0               1  \n",
       "1          1               0               2  \n",
       "2          2               4               4  \n",
       "3          4               0               5  \n",
       "4          1               1               7  "
      ]
     },
     "execution_count": 111,
     "metadata": {},
     "output_type": "execute_result"
    }
   ],
   "source": [
    "df.head()"
   ]
  },
  {
   "cell_type": "code",
   "execution_count": 112,
   "id": "a3b693a0",
   "metadata": {},
   "outputs": [
    {
     "data": {
      "text/plain": [
       "0    1233\n",
       "1     237\n",
       "Name: Attrition, dtype: int64"
      ]
     },
     "execution_count": 112,
     "metadata": {},
     "output_type": "execute_result"
    }
   ],
   "source": [
    "df['Attrition'].value_counts()"
   ]
  },
  {
   "cell_type": "code",
   "execution_count": 113,
   "id": "fe5b674e",
   "metadata": {},
   "outputs": [
    {
     "data": {
      "text/plain": [
       "<AxesSubplot:xlabel='Attrition', ylabel='count'>"
      ]
     },
     "execution_count": 113,
     "metadata": {},
     "output_type": "execute_result"
    },
    {
     "data": {
      "image/png": "[encoded data removed]",
      "text/plain": [
       "<Figure size 432x288 with 1 Axes>"
      ]
     },
     "metadata": {
      "needs_background": "light"
     },
     "output_type": "display_data"
    }
   ],
   "source": [
    "sns.countplot(df['Attrition'])"
   ]
  },
  {
   "cell_type": "markdown",
   "id": "a32d1d33",
   "metadata": {},
   "source": [
    "here, we can clearly visualize here imbalanced is going on."
   ]
  },
  {
   "cell_type": "markdown",
   "id": "9bab4514",
   "metadata": {},
   "source": [
    "# Handling Imblanced Dataset."
   ]
  },
  {
   "cell_type": "markdown",
   "id": "9c15d0ca",
   "metadata": {},
   "source": [
    "To solve Imbalanced dataset using SMOTE(Synthetic Minority Oversampling Technique)"
   ]
  },
  {
   "cell_type": "code",
   "execution_count": 114,
   "id": "4320eb25",
   "metadata": {},
   "outputs": [],
   "source": [
    "from imblearn.over_sampling import SMOTE"
   ]
  },
  {
   "cell_type": "code",
   "execution_count": 115,
   "id": "439f9d2b",
   "metadata": {},
   "outputs": [],
   "source": [
    "X = df.drop('Attrition',axis=1)\n",
    "y = df['Attrition']"
   ]
  },
  {
   "cell_type": "code",
   "execution_count": 116,
   "id": "410f50dc",
   "metadata": {},
   "outputs": [],
   "source": [
    "X_res, y_res = SMOTE().fit_resample(X,y)"
   ]
  },
  {
   "cell_type": "code",
   "execution_count": 117,
   "id": "899327fe",
   "metadata": {},
   "outputs": [
    {
     "data": {
      "text/plain": [
       "1    1233\n",
       "0    1233\n",
       "Name: Attrition, dtype: int64"
      ]
     },
     "execution_count": 117,
     "metadata": {},
     "output_type": "execute_result"
    }
   ],
   "source": [
    "y_res.value_counts()"
   ]
  },
  {
   "cell_type": "markdown",
   "id": "5939b1a0",
   "metadata": {},
   "source": [
    "Now my data is balanced."
   ]
  },
  {
   "cell_type": "markdown",
   "id": "9f65385c",
   "metadata": {},
   "source": [
    "# Correlatin Matrix"
   ]
  },
  {
   "cell_type": "code",
   "execution_count": 118,
   "id": "d2d19ae6",
   "metadata": {},
   "outputs": [
    {
     "data": {
      "text/html": [
       "<div>\n",
       "<style scoped>\n",
       "    .dataframe tbody tr th:only-of-type {\n",
       "        vertical-align: middle;\n",
       "    }\n",
       "\n",
       "    .dataframe tbody tr th {\n",
       "        vertical-align: top;\n",
       "    }\n",
       "\n",
       "    .dataframe thead th {\n",
       "        text-align: right;\n",
       "    }\n",
       "</style>\n",
       "<table border=\"1\" class=\"dataframe\">\n",
       "  <thead>\n",
       "    <tr style=\"text-align: right;\">\n",
       "      <th></th>\n",
       "      <th>Age</th>\n",
       "      <th>Attrition</th>\n",
       "      <th>BusinessTravel</th>\n",
       "      <th>DailyRate</th>\n",
       "      <th>Department</th>\n",
       "      <th>DistanceFromHome</th>\n",
       "      <th>Education</th>\n",
       "      <th>EducationField</th>\n",
       "      <th>EmployeeNumber</th>\n",
       "    </tr>\n",
       "  </thead>\n",
       "  <tbody>\n",
       "    <tr>\n",
       "      <th>Age</th>\n",
       "      <td>1.000000</td>\n",
       "      <td>-0.159205</td>\n",
       "      <td>-0.024751</td>\n",
       "      <td>0.010661</td>\n",
       "      <td>-0.007652</td>\n",
       "      <td>-0.001686</td>\n",
       "      <td>0.208034</td>\n",
       "      <td>-0.030912</td>\n",
       "      <td>-0.010145</td>\n",
       "    </tr>\n",
       "    <tr>\n",
       "      <th>Attrition</th>\n",
       "      <td>-0.159205</td>\n",
       "      <td>1.000000</td>\n",
       "      <td>-0.000074</td>\n",
       "      <td>-0.056652</td>\n",
       "      <td>0.077351</td>\n",
       "      <td>0.077924</td>\n",
       "      <td>-0.031373</td>\n",
       "      <td>0.062320</td>\n",
       "      <td>-0.010577</td>\n",
       "    </tr>\n",
       "    <tr>\n",
       "      <th>BusinessTravel</th>\n",
       "      <td>-0.024751</td>\n",
       "      <td>-0.000074</td>\n",
       "      <td>1.000000</td>\n",
       "      <td>0.004086</td>\n",
       "      <td>-0.000935</td>\n",
       "      <td>0.024469</td>\n",
       "      <td>-0.000757</td>\n",
       "      <td>-0.021513</td>\n",
       "      <td>0.015578</td>\n",
       "    </tr>\n",
       "    <tr>\n",
       "      <th>DailyRate</th>\n",
       "      <td>0.010661</td>\n",
       "      <td>-0.056652</td>\n",
       "      <td>0.004086</td>\n",
       "      <td>1.000000</td>\n",
       "      <td>-0.021959</td>\n",
       "      <td>-0.004985</td>\n",
       "      <td>-0.016806</td>\n",
       "      <td>-0.023428</td>\n",
       "      <td>-0.050990</td>\n",
       "    </tr>\n",
       "    <tr>\n",
       "      <th>Department</th>\n",
       "      <td>-0.007652</td>\n",
       "      <td>0.077351</td>\n",
       "      <td>-0.000935</td>\n",
       "      <td>-0.021959</td>\n",
       "      <td>1.000000</td>\n",
       "      <td>0.002196</td>\n",
       "      <td>0.019636</td>\n",
       "      <td>0.253737</td>\n",
       "      <td>0.057663</td>\n",
       "    </tr>\n",
       "    <tr>\n",
       "      <th>DistanceFromHome</th>\n",
       "      <td>-0.001686</td>\n",
       "      <td>0.077924</td>\n",
       "      <td>0.024469</td>\n",
       "      <td>-0.004985</td>\n",
       "      <td>0.002196</td>\n",
       "      <td>1.000000</td>\n",
       "      <td>0.021042</td>\n",
       "      <td>0.006907</td>\n",
       "      <td>0.032916</td>\n",
       "    </tr>\n",
       "    <tr>\n",
       "      <th>Education</th>\n",
       "      <td>0.208034</td>\n",
       "      <td>-0.031373</td>\n",
       "      <td>-0.000757</td>\n",
       "      <td>-0.016806</td>\n",
       "      <td>0.019636</td>\n",
       "      <td>0.021042</td>\n",
       "      <td>1.000000</td>\n",
       "      <td>0.031898</td>\n",
       "      <td>0.042070</td>\n",
       "    </tr>\n",
       "    <tr>\n",
       "      <th>EducationField</th>\n",
       "      <td>-0.030912</td>\n",
       "      <td>0.062320</td>\n",
       "      <td>-0.021513</td>\n",
       "      <td>-0.023428</td>\n",
       "      <td>0.253737</td>\n",
       "      <td>0.006907</td>\n",
       "      <td>0.031898</td>\n",
       "      <td>1.000000</td>\n",
       "      <td>0.019673</td>\n",
       "    </tr>\n",
       "    <tr>\n",
       "      <th>EmployeeNumber</th>\n",
       "      <td>-0.010145</td>\n",
       "      <td>-0.010577</td>\n",
       "      <td>0.015578</td>\n",
       "      <td>-0.050990</td>\n",
       "      <td>0.057663</td>\n",
       "      <td>0.032916</td>\n",
       "      <td>0.042070</td>\n",
       "      <td>0.019673</td>\n",
       "      <td>1.000000</td>\n",
       "    </tr>\n",
       "  </tbody>\n",
       "</table>\n",
       "</div>"
      ],
      "text/plain": [
       "                       Age  Attrition  BusinessTravel  DailyRate  Department  \\\n",
       "Age               1.000000  -0.159205       -0.024751   0.010661   -0.007652   \n",
       "Attrition        -0.159205   1.000000       -0.000074  -0.056652    0.077351   \n",
       "BusinessTravel   -0.024751  -0.000074        1.000000   0.004086   -0.000935   \n",
       "DailyRate         0.010661  -0.056652        0.004086   1.000000   -0.021959   \n",
       "Department       -0.007652   0.077351       -0.000935  -0.021959    1.000000   \n",
       "DistanceFromHome -0.001686   0.077924        0.024469  -0.004985    0.002196   \n",
       "Education         0.208034  -0.031373       -0.000757  -0.016806    0.019636   \n",
       "EducationField   -0.030912   0.062320       -0.021513  -0.023428    0.253737   \n",
       "EmployeeNumber   -0.010145  -0.010577        0.015578  -0.050990    0.057663   \n",
       "\n",
       "                  DistanceFromHome  Education  EducationField  EmployeeNumber  \n",
       "Age                      -0.001686   0.208034       -0.030912       -0.010145  \n",
       "Attrition                 0.077924  -0.031373        0.062320       -0.010577  \n",
       "BusinessTravel            0.024469  -0.000757       -0.021513        0.015578  \n",
       "DailyRate                -0.004985  -0.016806       -0.023428       -0.050990  \n",
       "Department                0.002196   0.019636        0.253737        0.057663  \n",
       "DistanceFromHome          1.000000   0.021042        0.006907        0.032916  \n",
       "Education                 0.021042   1.000000        0.031898        0.042070  \n",
       "EducationField            0.006907   0.031898        1.000000        0.019673  \n",
       "EmployeeNumber            0.032916   0.042070        0.019673        1.000000  "
      ]
     },
     "execution_count": 118,
     "metadata": {},
     "output_type": "execute_result"
    }
   ],
   "source": [
    "df.corr()"
   ]
  },
  {
   "cell_type": "markdown",
   "id": "aff32f54",
   "metadata": {},
   "source": [
    "This gives the correlation between the dependent and independent variables."
   ]
  },
  {
   "cell_type": "code",
   "execution_count": 119,
   "id": "7635b0b2",
   "metadata": {},
   "outputs": [
    {
     "data": {
      "text/plain": [
       "<AxesSubplot:>"
      ]
     },
     "execution_count": 119,
     "metadata": {},
     "output_type": "execute_result"
    },
    {
     "data": {
      "image/png": "[encoded data removed]",
      "text/plain": [
       "<Figure size 1080x648 with 2 Axes>"
      ]
     },
     "metadata": {
      "needs_background": "light"
     },
     "output_type": "display_data"
    }
   ],
   "source": [
    "plt.figure(figsize=(15,9))\n",
    "sns.heatmap(df.corr(),annot=True,cmap='Blues_r')"
   ]
  },
  {
   "cell_type": "markdown",
   "id": "a2caaf4c",
   "metadata": {},
   "source": [
    "# Splitting the dataset into the training set and test set"
   ]
  },
  {
   "cell_type": "code",
   "execution_count": 120,
   "id": "5d5bd307",
   "metadata": {},
   "outputs": [],
   "source": [
    "from sklearn.model_selection import train_test_split"
   ]
  },
  {
   "cell_type": "code",
   "execution_count": 121,
   "id": "90054e53",
   "metadata": {},
   "outputs": [],
   "source": [
    "X_train, X_test, y_train, y_test = train_test_split(X_res,y_res, test_size=0.2, random_state=0)"
   ]
  },
  {
   "cell_type": "code",
   "execution_count": 122,
   "id": "3a31b08f",
   "metadata": {},
   "outputs": [
    {
     "data": {
      "text/plain": [
       "((1972, 8), (494, 8))"
      ]
     },
     "execution_count": 122,
     "metadata": {},
     "output_type": "execute_result"
    }
   ],
   "source": [
    "X_train.shape, X_test.shape"
   ]
  },
  {
   "cell_type": "markdown",
   "id": "61cc4e66",
   "metadata": {},
   "source": [
    "# Standard Scaler"
   ]
  },
  {
   "cell_type": "code",
   "execution_count": 123,
   "id": "036b486d",
   "metadata": {},
   "outputs": [],
   "source": [
    "from sklearn.preprocessing import StandardScaler"
   ]
  },
  {
   "cell_type": "code",
   "execution_count": 124,
   "id": "afc73097",
   "metadata": {},
   "outputs": [],
   "source": [
    "st = StandardScaler()"
   ]
  },
  {
   "cell_type": "code",
   "execution_count": 125,
   "id": "493fd3af",
   "metadata": {},
   "outputs": [],
   "source": [
    "X_train_res = st.fit_transform(X_train)\n",
    "X_test_res = st.fit_transform(X_test)"
   ]
  },
  {
   "cell_type": "markdown",
   "id": "f0f2afaa",
   "metadata": {},
   "source": [
    "# Applying PCA"
   ]
  },
  {
   "cell_type": "markdown",
   "id": "2fbf3365",
   "metadata": {},
   "source": [
    "Prinicple Component Analysis (PCA)"
   ]
  },
  {
   "cell_type": "markdown",
   "id": "a5d99ec1",
   "metadata": {},
   "source": [
    "To reduce the dimensionality of large dataset by transforming a large set of variables into a smaller one."
   ]
  },
  {
   "cell_type": "code",
   "execution_count": 126,
   "id": "bfe8eda5",
   "metadata": {},
   "outputs": [],
   "source": [
    "from sklearn.decomposition import PCA"
   ]
  },
  {
   "cell_type": "code",
   "execution_count": 127,
   "id": "5da537b9",
   "metadata": {},
   "outputs": [],
   "source": [
    "pca = PCA(n_components=0.90)"
   ]
  },
  {
   "cell_type": "code",
   "execution_count": 128,
   "id": "6aa8523e",
   "metadata": {},
   "outputs": [],
   "source": [
    "X_train_res = pca.fit_transform(X_train_res)\n",
    "X_test_res = pca.transform(X_test_res)"
   ]
  },
  {
   "cell_type": "code",
   "execution_count": 129,
   "id": "3c954224",
   "metadata": {},
   "outputs": [
    {
     "data": {
      "text/plain": [
       "array([0.1667296 , 0.15008982, 0.13551398, 0.12772473, 0.11928094,\n",
       "       0.11520465, 0.09560049])"
      ]
     },
     "execution_count": 129,
     "metadata": {},
     "output_type": "execute_result"
    }
   ],
   "source": [
    "pca.explained_variance_ratio_"
   ]
  },
  {
   "cell_type": "code",
   "execution_count": 130,
   "id": "72ed4ace",
   "metadata": {},
   "outputs": [
    {
     "data": {
      "text/plain": [
       "0.9101442065950367"
      ]
     },
     "execution_count": 130,
     "metadata": {},
     "output_type": "execute_result"
    }
   ],
   "source": [
    "sum(pca.explained_variance_ratio_)"
   ]
  },
  {
   "cell_type": "markdown",
   "id": "57117dd0",
   "metadata": {},
   "source": [
    "pca contains 11 variables into my dataset and output is 7 components."
   ]
  },
  {
   "cell_type": "markdown",
   "id": "d97c80a1",
   "metadata": {},
   "source": [
    "So we can say that 7 components retaining 91% of information of our target dataset."
   ]
  },
  {
   "cell_type": "markdown",
   "id": "bdba9b66",
   "metadata": {},
   "source": [
    "# Model Training"
   ]
  },
  {
   "cell_type": "markdown",
   "id": "6f86cd15",
   "metadata": {},
   "source": [
    "When we are analysis my dataset then i was find in my dataset classification problem is going on."
   ]
  },
  {
   "cell_type": "markdown",
   "id": "f30f544f",
   "metadata": {},
   "source": [
    "# Logistic Regression"
   ]
  },
  {
   "cell_type": "code",
   "execution_count": 131,
   "id": "9fa8d79c",
   "metadata": {},
   "outputs": [],
   "source": [
    "from sklearn.linear_model import LogisticRegression"
   ]
  },
  {
   "cell_type": "code",
   "execution_count": 132,
   "id": "881d0b3b",
   "metadata": {},
   "outputs": [],
   "source": [
    "log = LogisticRegression()"
   ]
  },
  {
   "cell_type": "code",
   "execution_count": 133,
   "id": "3599c638",
   "metadata": {},
   "outputs": [
    {
     "data": {
      "text/plain": [
       "LogisticRegression()"
      ]
     },
     "execution_count": 133,
     "metadata": {},
     "output_type": "execute_result"
    }
   ],
   "source": [
    "log.fit(X_train_res,y_train)"
   ]
  },
  {
   "cell_type": "code",
   "execution_count": 134,
   "id": "a00014d6",
   "metadata": {},
   "outputs": [],
   "source": [
    "y_pred1 = log.predict(X_test_res)"
   ]
  },
  {
   "cell_type": "code",
   "execution_count": 135,
   "id": "6813aff0",
   "metadata": {},
   "outputs": [],
   "source": [
    "from sklearn.metrics import accuracy_score"
   ]
  },
  {
   "cell_type": "code",
   "execution_count": 136,
   "id": "d71803e7",
   "metadata": {},
   "outputs": [
    {
     "data": {
      "text/plain": [
       "0.645748987854251"
      ]
     },
     "execution_count": 136,
     "metadata": {},
     "output_type": "execute_result"
    }
   ],
   "source": [
    "accuracy_score(y_test,y_pred1)"
   ]
  },
  {
   "cell_type": "markdown",
   "id": "d6fb531c",
   "metadata": {},
   "source": [
    "Here, we can see LogisticRegression is 64% accurate in this dataset."
   ]
  },
  {
   "cell_type": "markdown",
   "id": "2feee034",
   "metadata": {},
   "source": [
    "So, now we will check precision score, recall score and f1 score"
   ]
  },
  {
   "cell_type": "code",
   "execution_count": 137,
   "id": "db65ad80",
   "metadata": {},
   "outputs": [],
   "source": [
    "from sklearn.metrics import precision_score, recall_score, f1_score"
   ]
  },
  {
   "cell_type": "code",
   "execution_count": 138,
   "id": "e34862e6",
   "metadata": {},
   "outputs": [
    {
     "name": "stdout",
     "output_type": "stream",
     "text": [
      "Precision Score is : 0.6788617886178862\n",
      "Recall Score is : 0.6349809885931559\n",
      "F1 Score is : 0.6561886051080551\n"
     ]
    }
   ],
   "source": [
    "print(\"Precision Score is :\",precision_score(y_test,y_pred1))\n",
    "print(\"Recall Score is :\",recall_score(y_test,y_pred1))\n",
    "print(\"F1 Score is :\",f1_score(y_test,y_pred1))"
   ]
  },
  {
   "cell_type": "markdown",
   "id": "626f5446",
   "metadata": {},
   "source": [
    "# SVC"
   ]
  },
  {
   "cell_type": "code",
   "execution_count": 142,
   "id": "a5841497",
   "metadata": {},
   "outputs": [],
   "source": [
    "from sklearn import svm"
   ]
  },
  {
   "cell_type": "code",
   "execution_count": 143,
   "id": "6178c670",
   "metadata": {},
   "outputs": [],
   "source": [
    "svm = svm.SVC()"
   ]
  },
  {
   "cell_type": "code",
   "execution_count": 144,
   "id": "0f5b88e3",
   "metadata": {},
   "outputs": [
    {
     "data": {
      "text/plain": [
       "SVC()"
      ]
     },
     "execution_count": 144,
     "metadata": {},
     "output_type": "execute_result"
    }
   ],
   "source": [
    "svm.fit(X_train_res,y_train)"
   ]
  },
  {
   "cell_type": "code",
   "execution_count": 145,
   "id": "e35ef88f",
   "metadata": {},
   "outputs": [],
   "source": [
    "y_pred2 = svm.predict(X_test_res)"
   ]
  },
  {
   "cell_type": "code",
   "execution_count": 146,
   "id": "21f3a293",
   "metadata": {},
   "outputs": [
    {
     "data": {
      "text/plain": [
       "0.7064777327935222"
      ]
     },
     "execution_count": 146,
     "metadata": {},
     "output_type": "execute_result"
    }
   ],
   "source": [
    "accuracy_score(y_test,y_pred2)"
   ]
  },
  {
   "cell_type": "markdown",
   "id": "958434f8",
   "metadata": {},
   "source": [
    "here, we can see SVM is 70% accurate in this dataset."
   ]
  },
  {
   "cell_type": "code",
   "execution_count": 147,
   "id": "4c8650a8",
   "metadata": {},
   "outputs": [
    {
     "name": "stdout",
     "output_type": "stream",
     "text": [
      "Precision Score is : 0.7092198581560284\n",
      "Recall Score is : 0.7604562737642585\n",
      "F1 Score is : 0.7339449541284404\n"
     ]
    }
   ],
   "source": [
    "print(\"Precision Score is :\",precision_score(y_test,y_pred2))\n",
    "print(\"Recall Score is :\",recall_score(y_test,y_pred2))\n",
    "print(\"F1 Score is :\",f1_score(y_test,y_pred2))"
   ]
  },
  {
   "cell_type": "markdown",
   "id": "e7ec1391",
   "metadata": {},
   "source": [
    "# KNeighbors Classifier"
   ]
  },
  {
   "cell_type": "code",
   "execution_count": 148,
   "id": "66fa8e60",
   "metadata": {},
   "outputs": [],
   "source": [
    "from sklearn.neighbors import KNeighborsClassifier"
   ]
  },
  {
   "cell_type": "code",
   "execution_count": 152,
   "id": "5afb7f77",
   "metadata": {},
   "outputs": [],
   "source": [
    "knn = KNeighborsClassifier()"
   ]
  },
  {
   "cell_type": "code",
   "execution_count": 153,
   "id": "afb95cd0",
   "metadata": {},
   "outputs": [
    {
     "data": {
      "text/plain": [
       "KNeighborsClassifier()"
      ]
     },
     "execution_count": 153,
     "metadata": {},
     "output_type": "execute_result"
    }
   ],
   "source": [
    "knn.fit(X_train_res,y_train)"
   ]
  },
  {
   "cell_type": "code",
   "execution_count": 154,
   "id": "85f70634",
   "metadata": {},
   "outputs": [],
   "source": [
    "y_pred3 = knn.predict(X_test_res)"
   ]
  },
  {
   "cell_type": "code",
   "execution_count": 155,
   "id": "c381db27",
   "metadata": {},
   "outputs": [
    {
     "data": {
      "text/plain": [
       "0.7064777327935222"
      ]
     },
     "execution_count": 155,
     "metadata": {},
     "output_type": "execute_result"
    }
   ],
   "source": [
    "accuracy_score(y_test,y_pred3)"
   ]
  },
  {
   "cell_type": "markdown",
   "id": "ec8f9048",
   "metadata": {},
   "source": [
    "here, we can see KNeighbors Classifier is 70% accurate in this dataset."
   ]
  },
  {
   "cell_type": "code",
   "execution_count": 156,
   "id": "06934591",
   "metadata": {},
   "outputs": [
    {
     "name": "stdout",
     "output_type": "stream",
     "text": [
      "Precision Score is : 0.6903225806451613\n",
      "Recall Score is : 0.8136882129277566\n",
      "F1 Score is : 0.7469458987783595\n"
     ]
    }
   ],
   "source": [
    "print(\"Precision Score is :\",precision_score(y_test,y_pred3))\n",
    "print(\"Recall Score is :\",recall_score(y_test,y_pred3))\n",
    "print(\"F1 Score is :\",f1_score(y_test,y_pred3))"
   ]
  },
  {
   "cell_type": "markdown",
   "id": "aa1c1185",
   "metadata": {},
   "source": [
    "# Decision Tree Classifier"
   ]
  },
  {
   "cell_type": "code",
   "execution_count": 157,
   "id": "41371e3e",
   "metadata": {},
   "outputs": [],
   "source": [
    "from sklearn.tree import DecisionTreeClassifier"
   ]
  },
  {
   "cell_type": "code",
   "execution_count": 158,
   "id": "b97cb665",
   "metadata": {},
   "outputs": [],
   "source": [
    "dt = DecisionTreeClassifier()"
   ]
  },
  {
   "cell_type": "code",
   "execution_count": 159,
   "id": "ca86058f",
   "metadata": {},
   "outputs": [
    {
     "data": {
      "text/plain": [
       "DecisionTreeClassifier()"
      ]
     },
     "execution_count": 159,
     "metadata": {},
     "output_type": "execute_result"
    }
   ],
   "source": [
    "dt.fit(X_train_res,y_train)"
   ]
  },
  {
   "cell_type": "code",
   "execution_count": 160,
   "id": "a005df6d",
   "metadata": {},
   "outputs": [],
   "source": [
    "y_pred4 = dt.predict(X_test_res)"
   ]
  },
  {
   "cell_type": "code",
   "execution_count": 161,
   "id": "7785d05a",
   "metadata": {},
   "outputs": [
    {
     "data": {
      "text/plain": [
       "0.6336032388663968"
      ]
     },
     "execution_count": 161,
     "metadata": {},
     "output_type": "execute_result"
    }
   ],
   "source": [
    "accuracy_score(y_test,y_pred4)"
   ]
  },
  {
   "cell_type": "markdown",
   "id": "bf72074f",
   "metadata": {},
   "source": [
    "here, we can see Decision Tree is 63% accurate in this dataset."
   ]
  },
  {
   "cell_type": "markdown",
   "id": "2c4ed7fa",
   "metadata": {},
   "source": [
    "# Random Forest Classifier"
   ]
  },
  {
   "cell_type": "code",
   "execution_count": 162,
   "id": "7fe5dd09",
   "metadata": {},
   "outputs": [],
   "source": [
    "from sklearn.ensemble import RandomForestClassifier"
   ]
  },
  {
   "cell_type": "code",
   "execution_count": 163,
   "id": "9d91f4a6",
   "metadata": {},
   "outputs": [],
   "source": [
    "rf = RandomForestClassifier()"
   ]
  },
  {
   "cell_type": "code",
   "execution_count": 164,
   "id": "c54b809b",
   "metadata": {},
   "outputs": [
    {
     "data": {
      "text/plain": [
       "RandomForestClassifier()"
      ]
     },
     "execution_count": 164,
     "metadata": {},
     "output_type": "execute_result"
    }
   ],
   "source": [
    "rf.fit(X_train_res,y_train)"
   ]
  },
  {
   "cell_type": "code",
   "execution_count": 165,
   "id": "a45dd092",
   "metadata": {},
   "outputs": [],
   "source": [
    "y_pred5 = rf.predict(X_test_res)"
   ]
  },
  {
   "cell_type": "code",
   "execution_count": 166,
   "id": "3fdb9c1f",
   "metadata": {},
   "outputs": [
    {
     "data": {
      "text/plain": [
       "0.7510121457489879"
      ]
     },
     "execution_count": 166,
     "metadata": {},
     "output_type": "execute_result"
    }
   ],
   "source": [
    "accuracy_score(y_test,y_pred5)"
   ]
  },
  {
   "cell_type": "markdown",
   "id": "3e6ebbee",
   "metadata": {},
   "source": [
    "here, we can see RandomForest is 75% accurate in this dataset."
   ]
  },
  {
   "cell_type": "code",
   "execution_count": 167,
   "id": "d867b6a7",
   "metadata": {},
   "outputs": [
    {
     "name": "stdout",
     "output_type": "stream",
     "text": [
      "Precision Score is : 0.782258064516129\n",
      "Recall Score is : 0.7376425855513308\n",
      "F1 Score is : 0.7592954990215265\n"
     ]
    }
   ],
   "source": [
    "print(\"Precision Score is :\",precision_score(y_test,y_pred5))\n",
    "print(\"Recall Score is :\",recall_score(y_test,y_pred5))\n",
    "print(\"F1 Score is :\",f1_score(y_test,y_pred5))"
   ]
  },
  {
   "cell_type": "markdown",
   "id": "df4c0e71",
   "metadata": {},
   "source": [
    "# Gradient Boosting Classifier"
   ]
  },
  {
   "cell_type": "code",
   "execution_count": 168,
   "id": "3d2f43a7",
   "metadata": {},
   "outputs": [],
   "source": [
    "from sklearn.ensemble import GradientBoostingClassifier"
   ]
  },
  {
   "cell_type": "code",
   "execution_count": 169,
   "id": "36c54610",
   "metadata": {},
   "outputs": [],
   "source": [
    "gr = GradientBoostingClassifier()"
   ]
  },
  {
   "cell_type": "code",
   "execution_count": 170,
   "id": "dc75fd8c",
   "metadata": {},
   "outputs": [
    {
     "data": {
      "text/plain": [
       "GradientBoostingClassifier()"
      ]
     },
     "execution_count": 170,
     "metadata": {},
     "output_type": "execute_result"
    }
   ],
   "source": [
    "gr.fit(X_train_res,y_train)"
   ]
  },
  {
   "cell_type": "code",
   "execution_count": 171,
   "id": "45ec069b",
   "metadata": {},
   "outputs": [],
   "source": [
    "y_pred6 = gr.predict(X_test_res)"
   ]
  },
  {
   "cell_type": "code",
   "execution_count": 172,
   "id": "25f2b9e1",
   "metadata": {},
   "outputs": [
    {
     "data": {
      "text/plain": [
       "0.6842105263157895"
      ]
     },
     "execution_count": 172,
     "metadata": {},
     "output_type": "execute_result"
    }
   ],
   "source": [
    "accuracy_score(y_test,y_pred6)"
   ]
  },
  {
   "cell_type": "markdown",
   "id": "618af123",
   "metadata": {},
   "source": [
    "here, we can see the Gradient Boosting is 68% accurate in this dataset."
   ]
  },
  {
   "cell_type": "code",
   "execution_count": 173,
   "id": "05e1d739",
   "metadata": {},
   "outputs": [
    {
     "name": "stdout",
     "output_type": "stream",
     "text": [
      "Precision Score is : 0.7018867924528301\n",
      "Recall Score is : 0.7072243346007605\n",
      "F1 Score is : 0.7045454545454546\n"
     ]
    }
   ],
   "source": [
    "print(\"Precision Score is :\",precision_score(y_test,y_pred6))\n",
    "print(\"Recall Score is :\",recall_score(y_test,y_pred6))\n",
    "print(\"F1 Score is :\",f1_score(y_test,y_pred6))"
   ]
  },
  {
   "cell_type": "markdown",
   "id": "1ae26e95",
   "metadata": {},
   "source": [
    "So let's visualize the result to find our best model."
   ]
  },
  {
   "cell_type": "code",
   "execution_count": 174,
   "id": "5c64e582",
   "metadata": {},
   "outputs": [],
   "source": [
    "final_data = pd.DataFrame({'Model':['LR','SVC','KNN','DT','RF','GBC'],\n",
    "                          'ACC':[accuracy_score(y_test,y_pred1)*100,\n",
    "                                accuracy_score(y_test,y_pred2)*100,\n",
    "                                accuracy_score(y_test,y_pred3)*100,\n",
    "                                accuracy_score(y_test,y_pred4)*100,\n",
    "                                accuracy_score(y_test,y_pred5)*100,\n",
    "                                accuracy_score(y_test,y_pred6)*100]})"
   ]
  },
  {
   "cell_type": "code",
   "execution_count": 175,
   "id": "b1389aed",
   "metadata": {},
   "outputs": [
    {
     "data": {
      "text/html": [
       "<div>\n",
       "<style scoped>\n",
       "    .dataframe tbody tr th:only-of-type {\n",
       "        vertical-align: middle;\n",
       "    }\n",
       "\n",
       "    .dataframe tbody tr th {\n",
       "        vertical-align: top;\n",
       "    }\n",
       "\n",
       "    .dataframe thead th {\n",
       "        text-align: right;\n",
       "    }\n",
       "</style>\n",
       "<table border=\"1\" class=\"dataframe\">\n",
       "  <thead>\n",
       "    <tr style=\"text-align: right;\">\n",
       "      <th></th>\n",
       "      <th>Model</th>\n",
       "      <th>ACC</th>\n",
       "    </tr>\n",
       "  </thead>\n",
       "  <tbody>\n",
       "    <tr>\n",
       "      <th>0</th>\n",
       "      <td>LR</td>\n",
       "      <td>64.574899</td>\n",
       "    </tr>\n",
       "    <tr>\n",
       "      <th>1</th>\n",
       "      <td>SVC</td>\n",
       "      <td>70.647773</td>\n",
       "    </tr>\n",
       "    <tr>\n",
       "      <th>2</th>\n",
       "      <td>KNN</td>\n",
       "      <td>70.647773</td>\n",
       "    </tr>\n",
       "    <tr>\n",
       "      <th>3</th>\n",
       "      <td>DT</td>\n",
       "      <td>63.360324</td>\n",
       "    </tr>\n",
       "    <tr>\n",
       "      <th>4</th>\n",
       "      <td>RF</td>\n",
       "      <td>75.101215</td>\n",
       "    </tr>\n",
       "    <tr>\n",
       "      <th>5</th>\n",
       "      <td>GBC</td>\n",
       "      <td>68.421053</td>\n",
       "    </tr>\n",
       "  </tbody>\n",
       "</table>\n",
       "</div>"
      ],
      "text/plain": [
       "  Model        ACC\n",
       "0    LR  64.574899\n",
       "1   SVC  70.647773\n",
       "2   KNN  70.647773\n",
       "3    DT  63.360324\n",
       "4    RF  75.101215\n",
       "5   GBC  68.421053"
      ]
     },
     "execution_count": 175,
     "metadata": {},
     "output_type": "execute_result"
    }
   ],
   "source": [
    "final_data"
   ]
  },
  {
   "cell_type": "code",
   "execution_count": 176,
   "id": "d7617c3e",
   "metadata": {},
   "outputs": [
    {
     "data": {
      "text/plain": [
       "<AxesSubplot:xlabel='Model', ylabel='ACC'>"
      ]
     },
     "execution_count": 176,
     "metadata": {},
     "output_type": "execute_result"
    },
    {
     "data": {
      "image/png": "[encoded data removed]",
      "text/plain": [
       "<Figure size 432x288 with 1 Axes>"
      ]
     },
     "metadata": {
      "needs_background": "light"
     },
     "output_type": "display_data"
    }
   ],
   "source": [
    "sns.barplot(final_data['Model'],final_data['ACC'])"
   ]
  },
  {
   "cell_type": "markdown",
   "id": "921ffb90",
   "metadata": {},
   "source": [
    "here, we can see RandomForest is the best model in this dataset."
   ]
  },
  {
   "cell_type": "markdown",
   "id": "12ce0c0c",
   "metadata": {},
   "source": [
    "# Save the Model"
   ]
  },
  {
   "cell_type": "markdown",
   "id": "58309b57",
   "metadata": {},
   "source": [
    "here, we are save our best model"
   ]
  },
  {
   "cell_type": "code",
   "execution_count": 177,
   "id": "6028119c",
   "metadata": {},
   "outputs": [],
   "source": [
    "X = df.drop('Attrition',axis=1)\n",
    "y = df['Attrition']"
   ]
  },
  {
   "cell_type": "code",
   "execution_count": 178,
   "id": "f308839f",
   "metadata": {},
   "outputs": [],
   "source": [
    "from imblearn.over_sampling import SMOTE"
   ]
  },
  {
   "cell_type": "code",
   "execution_count": 179,
   "id": "d3f2c12e",
   "metadata": {},
   "outputs": [],
   "source": [
    "X_Res,y_res = SMOTE().fit_resample(X,y)"
   ]
  },
  {
   "cell_type": "code",
   "execution_count": 180,
   "id": "f55625cf",
   "metadata": {},
   "outputs": [],
   "source": [
    "from sklearn.preprocessing import StandardScaler"
   ]
  },
  {
   "cell_type": "code",
   "execution_count": 181,
   "id": "2c29d48e",
   "metadata": {},
   "outputs": [],
   "source": [
    "st = StandardScaler()"
   ]
  },
  {
   "cell_type": "code",
   "execution_count": 182,
   "id": "aec942ca",
   "metadata": {},
   "outputs": [],
   "source": [
    "X = st.fit_transform(X_res)"
   ]
  },
  {
   "cell_type": "code",
   "execution_count": 183,
   "id": "4edc7df2",
   "metadata": {},
   "outputs": [],
   "source": [
    "X = pca.fit_transform(X)"
   ]
  },
  {
   "cell_type": "code",
   "execution_count": 184,
   "id": "afe22683",
   "metadata": {},
   "outputs": [],
   "source": [
    "from sklearn.ensemble import RandomForestClassifier"
   ]
  },
  {
   "cell_type": "code",
   "execution_count": 185,
   "id": "4a20ec5b",
   "metadata": {},
   "outputs": [],
   "source": [
    "rf = RandomForestClassifier()"
   ]
  },
  {
   "cell_type": "code",
   "execution_count": 186,
   "id": "4cf27d39",
   "metadata": {},
   "outputs": [
    {
     "data": {
      "text/plain": [
       "RandomForestClassifier()"
      ]
     },
     "execution_count": 186,
     "metadata": {},
     "output_type": "execute_result"
    }
   ],
   "source": [
    "rf.fit(X,y_res)"
   ]
  },
  {
   "cell_type": "code",
   "execution_count": 187,
   "id": "58885af8",
   "metadata": {},
   "outputs": [],
   "source": [
    "import joblib"
   ]
  },
  {
   "cell_type": "code",
   "execution_count": 188,
   "id": "cf928135",
   "metadata": {},
   "outputs": [
    {
     "data": {
      "text/plain": [
       "['HR Analytics Prediction']"
      ]
     },
     "execution_count": 188,
     "metadata": {},
     "output_type": "execute_result"
    }
   ],
   "source": [
    "joblib.dump(rf,'HR Analytics Prediction')"
   ]
  },
  {
   "cell_type": "code",
   "execution_count": 189,
   "id": "56339fff",
   "metadata": {},
   "outputs": [],
   "source": [
    "model = joblib.load(\"HR Analytics Prediction\")"
   ]
  },
  {
   "cell_type": "markdown",
   "id": "b641242b",
   "metadata": {},
   "source": [
    "So now lets perform prediction using this save model"
   ]
  },
  {
   "cell_type": "markdown",
   "id": "cd0f9cbf",
   "metadata": {},
   "source": [
    "# Prediction on New Data"
   ]
  },
  {
   "cell_type": "code",
   "execution_count": 190,
   "id": "440a4765",
   "metadata": {},
   "outputs": [],
   "source": [
    "new_data = pd.DataFrame({\n",
    "    'Age':25,\n",
    "    'BusinessTravel':0,\n",
    "    'DailyRate':1212,\n",
    "    'Department':1,\n",
    "    'DistanceFromHome':7,\n",
    "    'Education':2,\n",
    "    'EducationField':3,\n",
    "    'EmployeeNumber':6\n",
    "},index=[0])"
   ]
  },
  {
   "cell_type": "code",
   "execution_count": 191,
   "id": "3b58e097",
   "metadata": {},
   "outputs": [
    {
     "data": {
      "text/html": [
       "<div>\n",
       "<style scoped>\n",
       "    .dataframe tbody tr th:only-of-type {\n",
       "        vertical-align: middle;\n",
       "    }\n",
       "\n",
       "    .dataframe tbody tr th {\n",
       "        vertical-align: top;\n",
       "    }\n",
       "\n",
       "    .dataframe thead th {\n",
       "        text-align: right;\n",
       "    }\n",
       "</style>\n",
       "<table border=\"1\" class=\"dataframe\">\n",
       "  <thead>\n",
       "    <tr style=\"text-align: right;\">\n",
       "      <th></th>\n",
       "      <th>Age</th>\n",
       "      <th>BusinessTravel</th>\n",
       "      <th>DailyRate</th>\n",
       "      <th>Department</th>\n",
       "      <th>DistanceFromHome</th>\n",
       "      <th>Education</th>\n",
       "      <th>EducationField</th>\n",
       "      <th>EmployeeNumber</th>\n",
       "    </tr>\n",
       "  </thead>\n",
       "  <tbody>\n",
       "    <tr>\n",
       "      <th>0</th>\n",
       "      <td>25</td>\n",
       "      <td>0</td>\n",
       "      <td>1212</td>\n",
       "      <td>1</td>\n",
       "      <td>7</td>\n",
       "      <td>2</td>\n",
       "      <td>3</td>\n",
       "      <td>6</td>\n",
       "    </tr>\n",
       "  </tbody>\n",
       "</table>\n",
       "</div>"
      ],
      "text/plain": [
       "   Age  BusinessTravel  DailyRate  Department  DistanceFromHome  Education  \\\n",
       "0   25               0       1212           1                 7          2   \n",
       "\n",
       "   EducationField  EmployeeNumber  \n",
       "0               3               6  "
      ]
     },
     "execution_count": 191,
     "metadata": {},
     "output_type": "execute_result"
    }
   ],
   "source": [
    "new_data"
   ]
  },
  {
   "cell_type": "code",
   "execution_count": 192,
   "id": "30dfd514",
   "metadata": {},
   "outputs": [],
   "source": [
    "test = pca.transform(st.transform(new_data))"
   ]
  },
  {
   "cell_type": "code",
   "execution_count": 193,
   "id": "4f86dd86",
   "metadata": {},
   "outputs": [],
   "source": [
    "result = model.predict(test)"
   ]
  },
  {
   "cell_type": "code",
   "execution_count": 195,
   "id": "9381354b",
   "metadata": {},
   "outputs": [
    {
     "name": "stdout",
     "output_type": "stream",
     "text": [
      "No\n"
     ]
    }
   ],
   "source": [
    "if result[0] == 1:\n",
    "    print(\"Yes\")\n",
    "else:\n",
    "    print(\"No\")"
   ]
  },
  {
   "cell_type": "code",
   "execution_count": null,
   "id": "a419ebad",
   "metadata": {},
   "outputs": [],
   "source": []
  }
 ],
 "metadata": {
  "kernelspec": {
   "display_name": "Python 3 (ipykernel)",
   "language": "python",
   "name": "python3"
  },
  "language_info": {
   "codemirror_mode": {
    "name": "ipython",
    "version": 3
   },
   "file_extension": ".py",
   "mimetype": "text/x-python",
   "name": "python",
   "nbconvert_exporter": "python",
   "pygments_lexer": "ipython3",
   "version": "3.9.12"
  }
 },
 "nbformat": 4,
 "nbformat_minor": 5
}
