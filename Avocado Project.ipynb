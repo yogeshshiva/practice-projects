{
 "cells": [
  {
   "cell_type": "markdown",
   "id": "ec0eeb66",
   "metadata": {},
   "source": [
    "# Basic Libraries"
   ]
  },
  {
   "cell_type": "code",
   "execution_count": 1,
   "id": "55eaf524",
   "metadata": {},
   "outputs": [],
   "source": [
    "import numpy as np\n",
    "import pandas as pd\n",
    "import matplotlib.pyplot as plt\n",
    "import seaborn as sns\n",
    "import warnings\n",
    "warnings.filterwarnings('ignore')"
   ]
  },
  {
   "cell_type": "markdown",
   "id": "b169ba8e",
   "metadata": {},
   "source": [
    "# Project Description"
   ]
  },
  {
   "cell_type": "markdown",
   "id": "b53b2445",
   "metadata": {},
   "source": [
    "This data was downloaded from the Hass Avocado Board website in May of 2018 & compiled into a single CSV. \n",
    "The table below represents weekly 2018 retail scan data for National retail volume (units) and price. Retail scan data comes directly from retailers’ cash registers based on actual retail sales of Hass avocados. \n",
    "Starting in 2013, the table below reflects an expanded, multi-outlet retail data set. Multi-outlet reporting includes an aggregation of the following channels: grocery, mass, club, drug, dollar and military. The Average Price (of avocados) in the table reflects a per unit (per avocado) cost, even when multiple units (avocados) are sold in bags. \n",
    "The Product Lookup codes (PLU’s) in the table are only for Hass avocados. Other varieties of avocados (e.g. greenskins) are not included in this table.\n"
   ]
  },
  {
   "cell_type": "markdown",
   "id": "735b8b09",
   "metadata": {},
   "source": [
    "# Dataset link :-"
   ]
  },
  {
   "cell_type": "markdown",
   "id": "165c03f5",
   "metadata": {},
   "source": [
    "https://github.com/dsrscientist/Data-Science-ML-Capstone-Projects/blob/master/avocado.csv.zip"
   ]
  },
  {
   "cell_type": "markdown",
   "id": "5b9fe51e",
   "metadata": {},
   "source": [
    "# Import the Dataset and create the DataFrame"
   ]
  },
  {
   "cell_type": "code",
   "execution_count": 2,
   "id": "43fa387a",
   "metadata": {},
   "outputs": [
    {
     "data": {
      "text/html": [
       "<div>\n",
       "<style scoped>\n",
       "    .dataframe tbody tr th:only-of-type {\n",
       "        vertical-align: middle;\n",
       "    }\n",
       "\n",
       "    .dataframe tbody tr th {\n",
       "        vertical-align: top;\n",
       "    }\n",
       "\n",
       "    .dataframe thead th {\n",
       "        text-align: right;\n",
       "    }\n",
       "</style>\n",
       "<table border=\"1\" class=\"dataframe\">\n",
       "  <thead>\n",
       "    <tr style=\"text-align: right;\">\n",
       "      <th></th>\n",
       "      <th>Unnamed: 0</th>\n",
       "      <th>Date</th>\n",
       "      <th>AveragePrice</th>\n",
       "      <th>Total Volume</th>\n",
       "      <th>4046</th>\n",
       "      <th>4225</th>\n",
       "      <th>4770</th>\n",
       "      <th>Total Bags</th>\n",
       "      <th>Small Bags</th>\n",
       "      <th>Large Bags</th>\n",
       "      <th>XLarge Bags</th>\n",
       "      <th>type</th>\n",
       "      <th>year</th>\n",
       "      <th>region</th>\n",
       "    </tr>\n",
       "  </thead>\n",
       "  <tbody>\n",
       "    <tr>\n",
       "      <th>0</th>\n",
       "      <td>0</td>\n",
       "      <td>2015-12-27</td>\n",
       "      <td>1.33</td>\n",
       "      <td>64236.62</td>\n",
       "      <td>1036.74</td>\n",
       "      <td>54454.85</td>\n",
       "      <td>48.16</td>\n",
       "      <td>8696.87</td>\n",
       "      <td>8603.62</td>\n",
       "      <td>93.25</td>\n",
       "      <td>0.0</td>\n",
       "      <td>conventional</td>\n",
       "      <td>2015</td>\n",
       "      <td>Albany</td>\n",
       "    </tr>\n",
       "    <tr>\n",
       "      <th>1</th>\n",
       "      <td>1</td>\n",
       "      <td>2015-12-20</td>\n",
       "      <td>1.35</td>\n",
       "      <td>54876.98</td>\n",
       "      <td>674.28</td>\n",
       "      <td>44638.81</td>\n",
       "      <td>58.33</td>\n",
       "      <td>9505.56</td>\n",
       "      <td>9408.07</td>\n",
       "      <td>97.49</td>\n",
       "      <td>0.0</td>\n",
       "      <td>conventional</td>\n",
       "      <td>2015</td>\n",
       "      <td>Albany</td>\n",
       "    </tr>\n",
       "    <tr>\n",
       "      <th>2</th>\n",
       "      <td>2</td>\n",
       "      <td>2015-12-13</td>\n",
       "      <td>0.93</td>\n",
       "      <td>118220.22</td>\n",
       "      <td>794.70</td>\n",
       "      <td>109149.67</td>\n",
       "      <td>130.50</td>\n",
       "      <td>8145.35</td>\n",
       "      <td>8042.21</td>\n",
       "      <td>103.14</td>\n",
       "      <td>0.0</td>\n",
       "      <td>conventional</td>\n",
       "      <td>2015</td>\n",
       "      <td>Albany</td>\n",
       "    </tr>\n",
       "    <tr>\n",
       "      <th>3</th>\n",
       "      <td>3</td>\n",
       "      <td>2015-12-06</td>\n",
       "      <td>1.08</td>\n",
       "      <td>78992.15</td>\n",
       "      <td>1132.00</td>\n",
       "      <td>71976.41</td>\n",
       "      <td>72.58</td>\n",
       "      <td>5811.16</td>\n",
       "      <td>5677.40</td>\n",
       "      <td>133.76</td>\n",
       "      <td>0.0</td>\n",
       "      <td>conventional</td>\n",
       "      <td>2015</td>\n",
       "      <td>Albany</td>\n",
       "    </tr>\n",
       "    <tr>\n",
       "      <th>4</th>\n",
       "      <td>4</td>\n",
       "      <td>2015-11-29</td>\n",
       "      <td>1.28</td>\n",
       "      <td>51039.60</td>\n",
       "      <td>941.48</td>\n",
       "      <td>43838.39</td>\n",
       "      <td>75.78</td>\n",
       "      <td>6183.95</td>\n",
       "      <td>5986.26</td>\n",
       "      <td>197.69</td>\n",
       "      <td>0.0</td>\n",
       "      <td>conventional</td>\n",
       "      <td>2015</td>\n",
       "      <td>Albany</td>\n",
       "    </tr>\n",
       "    <tr>\n",
       "      <th>...</th>\n",
       "      <td>...</td>\n",
       "      <td>...</td>\n",
       "      <td>...</td>\n",
       "      <td>...</td>\n",
       "      <td>...</td>\n",
       "      <td>...</td>\n",
       "      <td>...</td>\n",
       "      <td>...</td>\n",
       "      <td>...</td>\n",
       "      <td>...</td>\n",
       "      <td>...</td>\n",
       "      <td>...</td>\n",
       "      <td>...</td>\n",
       "      <td>...</td>\n",
       "    </tr>\n",
       "    <tr>\n",
       "      <th>18244</th>\n",
       "      <td>7</td>\n",
       "      <td>2018-02-04</td>\n",
       "      <td>1.63</td>\n",
       "      <td>17074.83</td>\n",
       "      <td>2046.96</td>\n",
       "      <td>1529.20</td>\n",
       "      <td>0.00</td>\n",
       "      <td>13498.67</td>\n",
       "      <td>13066.82</td>\n",
       "      <td>431.85</td>\n",
       "      <td>0.0</td>\n",
       "      <td>organic</td>\n",
       "      <td>2018</td>\n",
       "      <td>WestTexNewMexico</td>\n",
       "    </tr>\n",
       "    <tr>\n",
       "      <th>18245</th>\n",
       "      <td>8</td>\n",
       "      <td>2018-01-28</td>\n",
       "      <td>1.71</td>\n",
       "      <td>13888.04</td>\n",
       "      <td>1191.70</td>\n",
       "      <td>3431.50</td>\n",
       "      <td>0.00</td>\n",
       "      <td>9264.84</td>\n",
       "      <td>8940.04</td>\n",
       "      <td>324.80</td>\n",
       "      <td>0.0</td>\n",
       "      <td>organic</td>\n",
       "      <td>2018</td>\n",
       "      <td>WestTexNewMexico</td>\n",
       "    </tr>\n",
       "    <tr>\n",
       "      <th>18246</th>\n",
       "      <td>9</td>\n",
       "      <td>2018-01-21</td>\n",
       "      <td>1.87</td>\n",
       "      <td>13766.76</td>\n",
       "      <td>1191.92</td>\n",
       "      <td>2452.79</td>\n",
       "      <td>727.94</td>\n",
       "      <td>9394.11</td>\n",
       "      <td>9351.80</td>\n",
       "      <td>42.31</td>\n",
       "      <td>0.0</td>\n",
       "      <td>organic</td>\n",
       "      <td>2018</td>\n",
       "      <td>WestTexNewMexico</td>\n",
       "    </tr>\n",
       "    <tr>\n",
       "      <th>18247</th>\n",
       "      <td>10</td>\n",
       "      <td>2018-01-14</td>\n",
       "      <td>1.93</td>\n",
       "      <td>16205.22</td>\n",
       "      <td>1527.63</td>\n",
       "      <td>2981.04</td>\n",
       "      <td>727.01</td>\n",
       "      <td>10969.54</td>\n",
       "      <td>10919.54</td>\n",
       "      <td>50.00</td>\n",
       "      <td>0.0</td>\n",
       "      <td>organic</td>\n",
       "      <td>2018</td>\n",
       "      <td>WestTexNewMexico</td>\n",
       "    </tr>\n",
       "    <tr>\n",
       "      <th>18248</th>\n",
       "      <td>11</td>\n",
       "      <td>2018-01-07</td>\n",
       "      <td>1.62</td>\n",
       "      <td>17489.58</td>\n",
       "      <td>2894.77</td>\n",
       "      <td>2356.13</td>\n",
       "      <td>224.53</td>\n",
       "      <td>12014.15</td>\n",
       "      <td>11988.14</td>\n",
       "      <td>26.01</td>\n",
       "      <td>0.0</td>\n",
       "      <td>organic</td>\n",
       "      <td>2018</td>\n",
       "      <td>WestTexNewMexico</td>\n",
       "    </tr>\n",
       "  </tbody>\n",
       "</table>\n",
       "<p>18249 rows × 14 columns</p>\n",
       "</div>"
      ],
      "text/plain": [
       "       Unnamed: 0        Date  AveragePrice  Total Volume     4046       4225  \\\n",
       "0               0  2015-12-27          1.33      64236.62  1036.74   54454.85   \n",
       "1               1  2015-12-20          1.35      54876.98   674.28   44638.81   \n",
       "2               2  2015-12-13          0.93     118220.22   794.70  109149.67   \n",
       "3               3  2015-12-06          1.08      78992.15  1132.00   71976.41   \n",
       "4               4  2015-11-29          1.28      51039.60   941.48   43838.39   \n",
       "...           ...         ...           ...           ...      ...        ...   \n",
       "18244           7  2018-02-04          1.63      17074.83  2046.96    1529.20   \n",
       "18245           8  2018-01-28          1.71      13888.04  1191.70    3431.50   \n",
       "18246           9  2018-01-21          1.87      13766.76  1191.92    2452.79   \n",
       "18247          10  2018-01-14          1.93      16205.22  1527.63    2981.04   \n",
       "18248          11  2018-01-07          1.62      17489.58  2894.77    2356.13   \n",
       "\n",
       "         4770  Total Bags  Small Bags  Large Bags  XLarge Bags          type  \\\n",
       "0       48.16     8696.87     8603.62       93.25          0.0  conventional   \n",
       "1       58.33     9505.56     9408.07       97.49          0.0  conventional   \n",
       "2      130.50     8145.35     8042.21      103.14          0.0  conventional   \n",
       "3       72.58     5811.16     5677.40      133.76          0.0  conventional   \n",
       "4       75.78     6183.95     5986.26      197.69          0.0  conventional   \n",
       "...       ...         ...         ...         ...          ...           ...   \n",
       "18244    0.00    13498.67    13066.82      431.85          0.0       organic   \n",
       "18245    0.00     9264.84     8940.04      324.80          0.0       organic   \n",
       "18246  727.94     9394.11     9351.80       42.31          0.0       organic   \n",
       "18247  727.01    10969.54    10919.54       50.00          0.0       organic   \n",
       "18248  224.53    12014.15    11988.14       26.01          0.0       organic   \n",
       "\n",
       "       year            region  \n",
       "0      2015            Albany  \n",
       "1      2015            Albany  \n",
       "2      2015            Albany  \n",
       "3      2015            Albany  \n",
       "4      2015            Albany  \n",
       "...     ...               ...  \n",
       "18244  2018  WestTexNewMexico  \n",
       "18245  2018  WestTexNewMexico  \n",
       "18246  2018  WestTexNewMexico  \n",
       "18247  2018  WestTexNewMexico  \n",
       "18248  2018  WestTexNewMexico  \n",
       "\n",
       "[18249 rows x 14 columns]"
      ]
     },
     "execution_count": 2,
     "metadata": {},
     "output_type": "execute_result"
    }
   ],
   "source": [
    "df = pd.read_csv(r'E:\\Flip Robo\\dataset\\avocado.csv.zip')\n",
    "df"
   ]
  },
  {
   "cell_type": "code",
   "execution_count": 5,
   "id": "b05cfe86",
   "metadata": {},
   "outputs": [],
   "source": [
    "df.drop('Unnamed: 0',axis=1,inplace=True)"
   ]
  },
  {
   "cell_type": "markdown",
   "id": "4b098f60",
   "metadata": {},
   "source": [
    "# Basic Data Exploration"
   ]
  },
  {
   "cell_type": "markdown",
   "id": "4252c548",
   "metadata": {},
   "source": [
    "In this operation, we will perform below operations to check the dataset.\n",
    "\n",
    "Head of the datset                                                                          \n",
    "The shape of the dataset                                                                    \n",
    "Info of the dataset                                                                               \n",
    "summary of the dataset"
   ]
  },
  {
   "cell_type": "code",
   "execution_count": 6,
   "id": "4291e75b",
   "metadata": {},
   "outputs": [
    {
     "data": {
      "text/html": [
       "<div>\n",
       "<style scoped>\n",
       "    .dataframe tbody tr th:only-of-type {\n",
       "        vertical-align: middle;\n",
       "    }\n",
       "\n",
       "    .dataframe tbody tr th {\n",
       "        vertical-align: top;\n",
       "    }\n",
       "\n",
       "    .dataframe thead th {\n",
       "        text-align: right;\n",
       "    }\n",
       "</style>\n",
       "<table border=\"1\" class=\"dataframe\">\n",
       "  <thead>\n",
       "    <tr style=\"text-align: right;\">\n",
       "      <th></th>\n",
       "      <th>Date</th>\n",
       "      <th>AveragePrice</th>\n",
       "      <th>Total Volume</th>\n",
       "      <th>4046</th>\n",
       "      <th>4225</th>\n",
       "      <th>4770</th>\n",
       "      <th>Total Bags</th>\n",
       "      <th>Small Bags</th>\n",
       "      <th>Large Bags</th>\n",
       "      <th>XLarge Bags</th>\n",
       "      <th>type</th>\n",
       "      <th>year</th>\n",
       "      <th>region</th>\n",
       "    </tr>\n",
       "  </thead>\n",
       "  <tbody>\n",
       "    <tr>\n",
       "      <th>0</th>\n",
       "      <td>2015-12-27</td>\n",
       "      <td>1.33</td>\n",
       "      <td>64236.62</td>\n",
       "      <td>1036.74</td>\n",
       "      <td>54454.85</td>\n",
       "      <td>48.16</td>\n",
       "      <td>8696.87</td>\n",
       "      <td>8603.62</td>\n",
       "      <td>93.25</td>\n",
       "      <td>0.0</td>\n",
       "      <td>conventional</td>\n",
       "      <td>2015</td>\n",
       "      <td>Albany</td>\n",
       "    </tr>\n",
       "    <tr>\n",
       "      <th>1</th>\n",
       "      <td>2015-12-20</td>\n",
       "      <td>1.35</td>\n",
       "      <td>54876.98</td>\n",
       "      <td>674.28</td>\n",
       "      <td>44638.81</td>\n",
       "      <td>58.33</td>\n",
       "      <td>9505.56</td>\n",
       "      <td>9408.07</td>\n",
       "      <td>97.49</td>\n",
       "      <td>0.0</td>\n",
       "      <td>conventional</td>\n",
       "      <td>2015</td>\n",
       "      <td>Albany</td>\n",
       "    </tr>\n",
       "    <tr>\n",
       "      <th>2</th>\n",
       "      <td>2015-12-13</td>\n",
       "      <td>0.93</td>\n",
       "      <td>118220.22</td>\n",
       "      <td>794.70</td>\n",
       "      <td>109149.67</td>\n",
       "      <td>130.50</td>\n",
       "      <td>8145.35</td>\n",
       "      <td>8042.21</td>\n",
       "      <td>103.14</td>\n",
       "      <td>0.0</td>\n",
       "      <td>conventional</td>\n",
       "      <td>2015</td>\n",
       "      <td>Albany</td>\n",
       "    </tr>\n",
       "    <tr>\n",
       "      <th>3</th>\n",
       "      <td>2015-12-06</td>\n",
       "      <td>1.08</td>\n",
       "      <td>78992.15</td>\n",
       "      <td>1132.00</td>\n",
       "      <td>71976.41</td>\n",
       "      <td>72.58</td>\n",
       "      <td>5811.16</td>\n",
       "      <td>5677.40</td>\n",
       "      <td>133.76</td>\n",
       "      <td>0.0</td>\n",
       "      <td>conventional</td>\n",
       "      <td>2015</td>\n",
       "      <td>Albany</td>\n",
       "    </tr>\n",
       "    <tr>\n",
       "      <th>4</th>\n",
       "      <td>2015-11-29</td>\n",
       "      <td>1.28</td>\n",
       "      <td>51039.60</td>\n",
       "      <td>941.48</td>\n",
       "      <td>43838.39</td>\n",
       "      <td>75.78</td>\n",
       "      <td>6183.95</td>\n",
       "      <td>5986.26</td>\n",
       "      <td>197.69</td>\n",
       "      <td>0.0</td>\n",
       "      <td>conventional</td>\n",
       "      <td>2015</td>\n",
       "      <td>Albany</td>\n",
       "    </tr>\n",
       "  </tbody>\n",
       "</table>\n",
       "</div>"
      ],
      "text/plain": [
       "         Date  AveragePrice  Total Volume     4046       4225    4770  \\\n",
       "0  2015-12-27          1.33      64236.62  1036.74   54454.85   48.16   \n",
       "1  2015-12-20          1.35      54876.98   674.28   44638.81   58.33   \n",
       "2  2015-12-13          0.93     118220.22   794.70  109149.67  130.50   \n",
       "3  2015-12-06          1.08      78992.15  1132.00   71976.41   72.58   \n",
       "4  2015-11-29          1.28      51039.60   941.48   43838.39   75.78   \n",
       "\n",
       "   Total Bags  Small Bags  Large Bags  XLarge Bags          type  year  region  \n",
       "0     8696.87     8603.62       93.25          0.0  conventional  2015  Albany  \n",
       "1     9505.56     9408.07       97.49          0.0  conventional  2015  Albany  \n",
       "2     8145.35     8042.21      103.14          0.0  conventional  2015  Albany  \n",
       "3     5811.16     5677.40      133.76          0.0  conventional  2015  Albany  \n",
       "4     6183.95     5986.26      197.69          0.0  conventional  2015  Albany  "
      ]
     },
     "execution_count": 6,
     "metadata": {},
     "output_type": "execute_result"
    }
   ],
   "source": [
    "df.head()"
   ]
  },
  {
   "cell_type": "code",
   "execution_count": 7,
   "id": "266163f5",
   "metadata": {},
   "outputs": [
    {
     "data": {
      "text/html": [
       "<div>\n",
       "<style scoped>\n",
       "    .dataframe tbody tr th:only-of-type {\n",
       "        vertical-align: middle;\n",
       "    }\n",
       "\n",
       "    .dataframe tbody tr th {\n",
       "        vertical-align: top;\n",
       "    }\n",
       "\n",
       "    .dataframe thead th {\n",
       "        text-align: right;\n",
       "    }\n",
       "</style>\n",
       "<table border=\"1\" class=\"dataframe\">\n",
       "  <thead>\n",
       "    <tr style=\"text-align: right;\">\n",
       "      <th></th>\n",
       "      <th>Date</th>\n",
       "      <th>AveragePrice</th>\n",
       "      <th>Total Volume</th>\n",
       "      <th>4046</th>\n",
       "      <th>4225</th>\n",
       "      <th>4770</th>\n",
       "      <th>Total Bags</th>\n",
       "      <th>Small Bags</th>\n",
       "      <th>Large Bags</th>\n",
       "      <th>XLarge Bags</th>\n",
       "      <th>type</th>\n",
       "      <th>year</th>\n",
       "      <th>region</th>\n",
       "    </tr>\n",
       "  </thead>\n",
       "  <tbody>\n",
       "    <tr>\n",
       "      <th>18244</th>\n",
       "      <td>2018-02-04</td>\n",
       "      <td>1.63</td>\n",
       "      <td>17074.83</td>\n",
       "      <td>2046.96</td>\n",
       "      <td>1529.20</td>\n",
       "      <td>0.00</td>\n",
       "      <td>13498.67</td>\n",
       "      <td>13066.82</td>\n",
       "      <td>431.85</td>\n",
       "      <td>0.0</td>\n",
       "      <td>organic</td>\n",
       "      <td>2018</td>\n",
       "      <td>WestTexNewMexico</td>\n",
       "    </tr>\n",
       "    <tr>\n",
       "      <th>18245</th>\n",
       "      <td>2018-01-28</td>\n",
       "      <td>1.71</td>\n",
       "      <td>13888.04</td>\n",
       "      <td>1191.70</td>\n",
       "      <td>3431.50</td>\n",
       "      <td>0.00</td>\n",
       "      <td>9264.84</td>\n",
       "      <td>8940.04</td>\n",
       "      <td>324.80</td>\n",
       "      <td>0.0</td>\n",
       "      <td>organic</td>\n",
       "      <td>2018</td>\n",
       "      <td>WestTexNewMexico</td>\n",
       "    </tr>\n",
       "    <tr>\n",
       "      <th>18246</th>\n",
       "      <td>2018-01-21</td>\n",
       "      <td>1.87</td>\n",
       "      <td>13766.76</td>\n",
       "      <td>1191.92</td>\n",
       "      <td>2452.79</td>\n",
       "      <td>727.94</td>\n",
       "      <td>9394.11</td>\n",
       "      <td>9351.80</td>\n",
       "      <td>42.31</td>\n",
       "      <td>0.0</td>\n",
       "      <td>organic</td>\n",
       "      <td>2018</td>\n",
       "      <td>WestTexNewMexico</td>\n",
       "    </tr>\n",
       "    <tr>\n",
       "      <th>18247</th>\n",
       "      <td>2018-01-14</td>\n",
       "      <td>1.93</td>\n",
       "      <td>16205.22</td>\n",
       "      <td>1527.63</td>\n",
       "      <td>2981.04</td>\n",
       "      <td>727.01</td>\n",
       "      <td>10969.54</td>\n",
       "      <td>10919.54</td>\n",
       "      <td>50.00</td>\n",
       "      <td>0.0</td>\n",
       "      <td>organic</td>\n",
       "      <td>2018</td>\n",
       "      <td>WestTexNewMexico</td>\n",
       "    </tr>\n",
       "    <tr>\n",
       "      <th>18248</th>\n",
       "      <td>2018-01-07</td>\n",
       "      <td>1.62</td>\n",
       "      <td>17489.58</td>\n",
       "      <td>2894.77</td>\n",
       "      <td>2356.13</td>\n",
       "      <td>224.53</td>\n",
       "      <td>12014.15</td>\n",
       "      <td>11988.14</td>\n",
       "      <td>26.01</td>\n",
       "      <td>0.0</td>\n",
       "      <td>organic</td>\n",
       "      <td>2018</td>\n",
       "      <td>WestTexNewMexico</td>\n",
       "    </tr>\n",
       "  </tbody>\n",
       "</table>\n",
       "</div>"
      ],
      "text/plain": [
       "             Date  AveragePrice  Total Volume     4046     4225    4770  \\\n",
       "18244  2018-02-04          1.63      17074.83  2046.96  1529.20    0.00   \n",
       "18245  2018-01-28          1.71      13888.04  1191.70  3431.50    0.00   \n",
       "18246  2018-01-21          1.87      13766.76  1191.92  2452.79  727.94   \n",
       "18247  2018-01-14          1.93      16205.22  1527.63  2981.04  727.01   \n",
       "18248  2018-01-07          1.62      17489.58  2894.77  2356.13  224.53   \n",
       "\n",
       "       Total Bags  Small Bags  Large Bags  XLarge Bags     type  year  \\\n",
       "18244    13498.67    13066.82      431.85          0.0  organic  2018   \n",
       "18245     9264.84     8940.04      324.80          0.0  organic  2018   \n",
       "18246     9394.11     9351.80       42.31          0.0  organic  2018   \n",
       "18247    10969.54    10919.54       50.00          0.0  organic  2018   \n",
       "18248    12014.15    11988.14       26.01          0.0  organic  2018   \n",
       "\n",
       "                 region  \n",
       "18244  WestTexNewMexico  \n",
       "18245  WestTexNewMexico  \n",
       "18246  WestTexNewMexico  \n",
       "18247  WestTexNewMexico  \n",
       "18248  WestTexNewMexico  "
      ]
     },
     "execution_count": 7,
     "metadata": {},
     "output_type": "execute_result"
    }
   ],
   "source": [
    "df.tail()"
   ]
  },
  {
   "cell_type": "code",
   "execution_count": 8,
   "id": "a011b4ee",
   "metadata": {},
   "outputs": [
    {
     "data": {
      "text/html": [
       "<div>\n",
       "<style scoped>\n",
       "    .dataframe tbody tr th:only-of-type {\n",
       "        vertical-align: middle;\n",
       "    }\n",
       "\n",
       "    .dataframe tbody tr th {\n",
       "        vertical-align: top;\n",
       "    }\n",
       "\n",
       "    .dataframe thead th {\n",
       "        text-align: right;\n",
       "    }\n",
       "</style>\n",
       "<table border=\"1\" class=\"dataframe\">\n",
       "  <thead>\n",
       "    <tr style=\"text-align: right;\">\n",
       "      <th></th>\n",
       "      <th>Date</th>\n",
       "      <th>AveragePrice</th>\n",
       "      <th>Total Volume</th>\n",
       "      <th>4046</th>\n",
       "      <th>4225</th>\n",
       "      <th>4770</th>\n",
       "      <th>Total Bags</th>\n",
       "      <th>Small Bags</th>\n",
       "      <th>Large Bags</th>\n",
       "      <th>XLarge Bags</th>\n",
       "      <th>type</th>\n",
       "      <th>year</th>\n",
       "      <th>region</th>\n",
       "    </tr>\n",
       "  </thead>\n",
       "  <tbody>\n",
       "    <tr>\n",
       "      <th>17629</th>\n",
       "      <td>2018-02-25</td>\n",
       "      <td>1.47</td>\n",
       "      <td>47421.15</td>\n",
       "      <td>1626.30</td>\n",
       "      <td>7913.27</td>\n",
       "      <td>49.45</td>\n",
       "      <td>37832.13</td>\n",
       "      <td>37822.13</td>\n",
       "      <td>10.00</td>\n",
       "      <td>0.0</td>\n",
       "      <td>organic</td>\n",
       "      <td>2018</td>\n",
       "      <td>BaltimoreWashington</td>\n",
       "    </tr>\n",
       "    <tr>\n",
       "      <th>14128</th>\n",
       "      <td>2016-10-09</td>\n",
       "      <td>2.72</td>\n",
       "      <td>20761.25</td>\n",
       "      <td>1173.39</td>\n",
       "      <td>16842.78</td>\n",
       "      <td>0.00</td>\n",
       "      <td>2745.08</td>\n",
       "      <td>2717.31</td>\n",
       "      <td>27.77</td>\n",
       "      <td>0.0</td>\n",
       "      <td>organic</td>\n",
       "      <td>2016</td>\n",
       "      <td>SanFrancisco</td>\n",
       "    </tr>\n",
       "    <tr>\n",
       "      <th>11349</th>\n",
       "      <td>2015-03-29</td>\n",
       "      <td>1.55</td>\n",
       "      <td>28094.96</td>\n",
       "      <td>18872.86</td>\n",
       "      <td>9215.92</td>\n",
       "      <td>0.00</td>\n",
       "      <td>6.18</td>\n",
       "      <td>6.18</td>\n",
       "      <td>0.00</td>\n",
       "      <td>0.0</td>\n",
       "      <td>organic</td>\n",
       "      <td>2015</td>\n",
       "      <td>SanFrancisco</td>\n",
       "    </tr>\n",
       "    <tr>\n",
       "      <th>14462</th>\n",
       "      <td>2016-05-08</td>\n",
       "      <td>1.47</td>\n",
       "      <td>5666.70</td>\n",
       "      <td>1939.42</td>\n",
       "      <td>608.58</td>\n",
       "      <td>0.00</td>\n",
       "      <td>3118.70</td>\n",
       "      <td>155.45</td>\n",
       "      <td>2963.25</td>\n",
       "      <td>0.0</td>\n",
       "      <td>organic</td>\n",
       "      <td>2016</td>\n",
       "      <td>StLouis</td>\n",
       "    </tr>\n",
       "    <tr>\n",
       "      <th>11877</th>\n",
       "      <td>2015-02-01</td>\n",
       "      <td>1.34</td>\n",
       "      <td>216484.22</td>\n",
       "      <td>89599.59</td>\n",
       "      <td>82183.07</td>\n",
       "      <td>184.99</td>\n",
       "      <td>44516.57</td>\n",
       "      <td>11083.16</td>\n",
       "      <td>33433.41</td>\n",
       "      <td>0.0</td>\n",
       "      <td>organic</td>\n",
       "      <td>2015</td>\n",
       "      <td>West</td>\n",
       "    </tr>\n",
       "  </tbody>\n",
       "</table>\n",
       "</div>"
      ],
      "text/plain": [
       "             Date  AveragePrice  Total Volume      4046      4225    4770  \\\n",
       "17629  2018-02-25          1.47      47421.15   1626.30   7913.27   49.45   \n",
       "14128  2016-10-09          2.72      20761.25   1173.39  16842.78    0.00   \n",
       "11349  2015-03-29          1.55      28094.96  18872.86   9215.92    0.00   \n",
       "14462  2016-05-08          1.47       5666.70   1939.42    608.58    0.00   \n",
       "11877  2015-02-01          1.34     216484.22  89599.59  82183.07  184.99   \n",
       "\n",
       "       Total Bags  Small Bags  Large Bags  XLarge Bags     type  year  \\\n",
       "17629    37832.13    37822.13       10.00          0.0  organic  2018   \n",
       "14128     2745.08     2717.31       27.77          0.0  organic  2016   \n",
       "11349        6.18        6.18        0.00          0.0  organic  2015   \n",
       "14462     3118.70      155.45     2963.25          0.0  organic  2016   \n",
       "11877    44516.57    11083.16    33433.41          0.0  organic  2015   \n",
       "\n",
       "                    region  \n",
       "17629  BaltimoreWashington  \n",
       "14128         SanFrancisco  \n",
       "11349         SanFrancisco  \n",
       "14462              StLouis  \n",
       "11877                 West  "
      ]
     },
     "execution_count": 8,
     "metadata": {},
     "output_type": "execute_result"
    }
   ],
   "source": [
    "df.sample(5)"
   ]
  },
  {
   "cell_type": "markdown",
   "id": "9a1d279d",
   "metadata": {},
   "source": [
    "# Shape of Dataset"
   ]
  },
  {
   "cell_type": "code",
   "execution_count": 9,
   "id": "ced2b296",
   "metadata": {},
   "outputs": [
    {
     "data": {
      "text/plain": [
       "(18249, 13)"
      ]
     },
     "execution_count": 9,
     "metadata": {},
     "output_type": "execute_result"
    }
   ],
   "source": [
    "df.shape"
   ]
  },
  {
   "cell_type": "code",
   "execution_count": 10,
   "id": "2f71916f",
   "metadata": {},
   "outputs": [
    {
     "name": "stdout",
     "output_type": "stream",
     "text": [
      "Number of rows : 18249\n",
      "Number of columns : 13\n"
     ]
    }
   ],
   "source": [
    "print(\"Number of rows :\",df.shape[0])\n",
    "print(\"Number of columns :\",df.shape[1])"
   ]
  },
  {
   "cell_type": "markdown",
   "id": "c54890ba",
   "metadata": {},
   "source": [
    "The Shape attribute tell us how many rows and columns are present into the dataset. It is used to check the dimension of data.\n",
    "\n",
    "In this dataset we have 18249 Rows and 13 columns"
   ]
  },
  {
   "cell_type": "markdown",
   "id": "837e8703",
   "metadata": {},
   "source": [
    "# Information of the Dataset"
   ]
  },
  {
   "cell_type": "code",
   "execution_count": 11,
   "id": "780eb17d",
   "metadata": {},
   "outputs": [
    {
     "name": "stdout",
     "output_type": "stream",
     "text": [
      "<class 'pandas.core.frame.DataFrame'>\n",
      "RangeIndex: 18249 entries, 0 to 18248\n",
      "Data columns (total 13 columns):\n",
      " #   Column        Non-Null Count  Dtype  \n",
      "---  ------        --------------  -----  \n",
      " 0   Date          18249 non-null  object \n",
      " 1   AveragePrice  18249 non-null  float64\n",
      " 2   Total Volume  18249 non-null  float64\n",
      " 3   4046          18249 non-null  float64\n",
      " 4   4225          18249 non-null  float64\n",
      " 5   4770          18249 non-null  float64\n",
      " 6   Total Bags    18249 non-null  float64\n",
      " 7   Small Bags    18249 non-null  float64\n",
      " 8   Large Bags    18249 non-null  float64\n",
      " 9   XLarge Bags   18249 non-null  float64\n",
      " 10  type          18249 non-null  object \n",
      " 11  year          18249 non-null  int64  \n",
      " 12  region        18249 non-null  object \n",
      "dtypes: float64(9), int64(1), object(3)\n",
      "memory usage: 1.8+ MB\n"
     ]
    }
   ],
   "source": [
    "df.info()"
   ]
  },
  {
   "cell_type": "markdown",
   "id": "51cbdc67",
   "metadata": {},
   "source": [
    "The Info attribute tell us brief about the dataset which includes indexing type, column type, null values and memory usage."
   ]
  },
  {
   "cell_type": "markdown",
   "id": "2cab16f0",
   "metadata": {},
   "source": [
    "# Summary of the Dataset"
   ]
  },
  {
   "cell_type": "code",
   "execution_count": 12,
   "id": "f61edc0d",
   "metadata": {},
   "outputs": [
    {
     "data": {
      "text/html": [
       "<div>\n",
       "<style scoped>\n",
       "    .dataframe tbody tr th:only-of-type {\n",
       "        vertical-align: middle;\n",
       "    }\n",
       "\n",
       "    .dataframe tbody tr th {\n",
       "        vertical-align: top;\n",
       "    }\n",
       "\n",
       "    .dataframe thead th {\n",
       "        text-align: right;\n",
       "    }\n",
       "</style>\n",
       "<table border=\"1\" class=\"dataframe\">\n",
       "  <thead>\n",
       "    <tr style=\"text-align: right;\">\n",
       "      <th></th>\n",
       "      <th>AveragePrice</th>\n",
       "      <th>Total Volume</th>\n",
       "      <th>4046</th>\n",
       "      <th>4225</th>\n",
       "      <th>4770</th>\n",
       "      <th>Total Bags</th>\n",
       "      <th>Small Bags</th>\n",
       "      <th>Large Bags</th>\n",
       "      <th>XLarge Bags</th>\n",
       "      <th>year</th>\n",
       "    </tr>\n",
       "  </thead>\n",
       "  <tbody>\n",
       "    <tr>\n",
       "      <th>count</th>\n",
       "      <td>18249.000000</td>\n",
       "      <td>1.824900e+04</td>\n",
       "      <td>1.824900e+04</td>\n",
       "      <td>1.824900e+04</td>\n",
       "      <td>1.824900e+04</td>\n",
       "      <td>1.824900e+04</td>\n",
       "      <td>1.824900e+04</td>\n",
       "      <td>1.824900e+04</td>\n",
       "      <td>18249.000000</td>\n",
       "      <td>18249.000000</td>\n",
       "    </tr>\n",
       "    <tr>\n",
       "      <th>mean</th>\n",
       "      <td>1.405978</td>\n",
       "      <td>8.506440e+05</td>\n",
       "      <td>2.930084e+05</td>\n",
       "      <td>2.951546e+05</td>\n",
       "      <td>2.283974e+04</td>\n",
       "      <td>2.396392e+05</td>\n",
       "      <td>1.821947e+05</td>\n",
       "      <td>5.433809e+04</td>\n",
       "      <td>3106.426507</td>\n",
       "      <td>2016.147899</td>\n",
       "    </tr>\n",
       "    <tr>\n",
       "      <th>std</th>\n",
       "      <td>0.402677</td>\n",
       "      <td>3.453545e+06</td>\n",
       "      <td>1.264989e+06</td>\n",
       "      <td>1.204120e+06</td>\n",
       "      <td>1.074641e+05</td>\n",
       "      <td>9.862424e+05</td>\n",
       "      <td>7.461785e+05</td>\n",
       "      <td>2.439660e+05</td>\n",
       "      <td>17692.894652</td>\n",
       "      <td>0.939938</td>\n",
       "    </tr>\n",
       "    <tr>\n",
       "      <th>min</th>\n",
       "      <td>0.440000</td>\n",
       "      <td>8.456000e+01</td>\n",
       "      <td>0.000000e+00</td>\n",
       "      <td>0.000000e+00</td>\n",
       "      <td>0.000000e+00</td>\n",
       "      <td>0.000000e+00</td>\n",
       "      <td>0.000000e+00</td>\n",
       "      <td>0.000000e+00</td>\n",
       "      <td>0.000000</td>\n",
       "      <td>2015.000000</td>\n",
       "    </tr>\n",
       "    <tr>\n",
       "      <th>25%</th>\n",
       "      <td>1.100000</td>\n",
       "      <td>1.083858e+04</td>\n",
       "      <td>8.540700e+02</td>\n",
       "      <td>3.008780e+03</td>\n",
       "      <td>0.000000e+00</td>\n",
       "      <td>5.088640e+03</td>\n",
       "      <td>2.849420e+03</td>\n",
       "      <td>1.274700e+02</td>\n",
       "      <td>0.000000</td>\n",
       "      <td>2015.000000</td>\n",
       "    </tr>\n",
       "    <tr>\n",
       "      <th>50%</th>\n",
       "      <td>1.370000</td>\n",
       "      <td>1.073768e+05</td>\n",
       "      <td>8.645300e+03</td>\n",
       "      <td>2.906102e+04</td>\n",
       "      <td>1.849900e+02</td>\n",
       "      <td>3.974383e+04</td>\n",
       "      <td>2.636282e+04</td>\n",
       "      <td>2.647710e+03</td>\n",
       "      <td>0.000000</td>\n",
       "      <td>2016.000000</td>\n",
       "    </tr>\n",
       "    <tr>\n",
       "      <th>75%</th>\n",
       "      <td>1.660000</td>\n",
       "      <td>4.329623e+05</td>\n",
       "      <td>1.110202e+05</td>\n",
       "      <td>1.502069e+05</td>\n",
       "      <td>6.243420e+03</td>\n",
       "      <td>1.107834e+05</td>\n",
       "      <td>8.333767e+04</td>\n",
       "      <td>2.202925e+04</td>\n",
       "      <td>132.500000</td>\n",
       "      <td>2017.000000</td>\n",
       "    </tr>\n",
       "    <tr>\n",
       "      <th>max</th>\n",
       "      <td>3.250000</td>\n",
       "      <td>6.250565e+07</td>\n",
       "      <td>2.274362e+07</td>\n",
       "      <td>2.047057e+07</td>\n",
       "      <td>2.546439e+06</td>\n",
       "      <td>1.937313e+07</td>\n",
       "      <td>1.338459e+07</td>\n",
       "      <td>5.719097e+06</td>\n",
       "      <td>551693.650000</td>\n",
       "      <td>2018.000000</td>\n",
       "    </tr>\n",
       "  </tbody>\n",
       "</table>\n",
       "</div>"
      ],
      "text/plain": [
       "       AveragePrice  Total Volume          4046          4225          4770  \\\n",
       "count  18249.000000  1.824900e+04  1.824900e+04  1.824900e+04  1.824900e+04   \n",
       "mean       1.405978  8.506440e+05  2.930084e+05  2.951546e+05  2.283974e+04   \n",
       "std        0.402677  3.453545e+06  1.264989e+06  1.204120e+06  1.074641e+05   \n",
       "min        0.440000  8.456000e+01  0.000000e+00  0.000000e+00  0.000000e+00   \n",
       "25%        1.100000  1.083858e+04  8.540700e+02  3.008780e+03  0.000000e+00   \n",
       "50%        1.370000  1.073768e+05  8.645300e+03  2.906102e+04  1.849900e+02   \n",
       "75%        1.660000  4.329623e+05  1.110202e+05  1.502069e+05  6.243420e+03   \n",
       "max        3.250000  6.250565e+07  2.274362e+07  2.047057e+07  2.546439e+06   \n",
       "\n",
       "         Total Bags    Small Bags    Large Bags    XLarge Bags          year  \n",
       "count  1.824900e+04  1.824900e+04  1.824900e+04   18249.000000  18249.000000  \n",
       "mean   2.396392e+05  1.821947e+05  5.433809e+04    3106.426507   2016.147899  \n",
       "std    9.862424e+05  7.461785e+05  2.439660e+05   17692.894652      0.939938  \n",
       "min    0.000000e+00  0.000000e+00  0.000000e+00       0.000000   2015.000000  \n",
       "25%    5.088640e+03  2.849420e+03  1.274700e+02       0.000000   2015.000000  \n",
       "50%    3.974383e+04  2.636282e+04  2.647710e+03       0.000000   2016.000000  \n",
       "75%    1.107834e+05  8.333767e+04  2.202925e+04     132.500000   2017.000000  \n",
       "max    1.937313e+07  1.338459e+07  5.719097e+06  551693.650000   2018.000000  "
      ]
     },
     "execution_count": 12,
     "metadata": {},
     "output_type": "execute_result"
    }
   ],
   "source": [
    "df.describe()"
   ]
  },
  {
   "cell_type": "markdown",
   "id": "be767dfb",
   "metadata": {},
   "source": [
    "The described method will help to see how data has been spread for numerical values.\n",
    "\n",
    "The counts of the columns are same which means there are no missing values in the dataset.\n",
    "\n",
    "Now we can see this data from graph."
   ]
  },
  {
   "cell_type": "code",
   "execution_count": 13,
   "id": "ab81d3ff",
   "metadata": {},
   "outputs": [
    {
     "data": {
      "text/plain": [
       "<AxesSubplot:>"
      ]
     },
     "execution_count": 13,
     "metadata": {},
     "output_type": "execute_result"
    },
    {
     "data": {
      "image/png": "[encoded data removed]",
      "text/plain": [
       "<Figure size 1440x648 with 2 Axes>"
      ]
     },
     "metadata": {
      "needs_background": "light"
     },
     "output_type": "display_data"
    }
   ],
   "source": [
    "plt.figure(figsize=(20,9))\n",
    "sns.heatmap(df.describe(),annot=True,cmap='Blues_r')"
   ]
  },
  {
   "cell_type": "markdown",
   "id": "efcda791",
   "metadata": {},
   "source": [
    "# Handling Missing Value"
   ]
  },
  {
   "cell_type": "code",
   "execution_count": 14,
   "id": "80406b54",
   "metadata": {},
   "outputs": [
    {
     "data": {
      "text/plain": [
       "Date            0\n",
       "AveragePrice    0\n",
       "Total Volume    0\n",
       "4046            0\n",
       "4225            0\n",
       "4770            0\n",
       "Total Bags      0\n",
       "Small Bags      0\n",
       "Large Bags      0\n",
       "XLarge Bags     0\n",
       "type            0\n",
       "year            0\n",
       "region          0\n",
       "dtype: int64"
      ]
     },
     "execution_count": 14,
     "metadata": {},
     "output_type": "execute_result"
    }
   ],
   "source": [
    "df.isnull().sum()"
   ]
  },
  {
   "cell_type": "markdown",
   "id": "de18b97c",
   "metadata": {},
   "source": [
    "here, we can see no null value are present in my dataset.\n",
    "\n",
    "Now i am visualizing this into graph by using heatmap."
   ]
  },
  {
   "cell_type": "code",
   "execution_count": 15,
   "id": "969d22c4",
   "metadata": {},
   "outputs": [
    {
     "data": {
      "text/plain": [
       "<AxesSubplot:>"
      ]
     },
     "execution_count": 15,
     "metadata": {},
     "output_type": "execute_result"
    },
    {
     "data": {
      "image/png": "[encoded data removed]",
      "text/plain": [
       "<Figure size 432x288 with 2 Axes>"
      ]
     },
     "metadata": {
      "needs_background": "light"
     },
     "output_type": "display_data"
    }
   ],
   "source": [
    "sns.heatmap(df.isnull())"
   ]
  },
  {
   "cell_type": "markdown",
   "id": "a25325d6",
   "metadata": {},
   "source": [
    "# converting the datatype of Date Column from object to datetime"
   ]
  },
  {
   "cell_type": "code",
   "execution_count": 16,
   "id": "d204c424",
   "metadata": {},
   "outputs": [
    {
     "name": "stdout",
     "output_type": "stream",
     "text": [
      "<class 'pandas.core.frame.DataFrame'>\n",
      "RangeIndex: 18249 entries, 0 to 18248\n",
      "Data columns (total 13 columns):\n",
      " #   Column        Non-Null Count  Dtype         \n",
      "---  ------        --------------  -----         \n",
      " 0   Date          18249 non-null  datetime64[ns]\n",
      " 1   AveragePrice  18249 non-null  float64       \n",
      " 2   Total Volume  18249 non-null  float64       \n",
      " 3   4046          18249 non-null  float64       \n",
      " 4   4225          18249 non-null  float64       \n",
      " 5   4770          18249 non-null  float64       \n",
      " 6   Total Bags    18249 non-null  float64       \n",
      " 7   Small Bags    18249 non-null  float64       \n",
      " 8   Large Bags    18249 non-null  float64       \n",
      " 9   XLarge Bags   18249 non-null  float64       \n",
      " 10  type          18249 non-null  object        \n",
      " 11  year          18249 non-null  int64         \n",
      " 12  region        18249 non-null  object        \n",
      "dtypes: datetime64[ns](1), float64(9), int64(1), object(2)\n",
      "memory usage: 1.8+ MB\n"
     ]
    }
   ],
   "source": [
    "df['Date'] = pd.to_datetime(df.Date)\n",
    "df.info()"
   ]
  },
  {
   "cell_type": "markdown",
   "id": "2c346bb4",
   "metadata": {},
   "source": [
    "# Data Visualization"
   ]
  },
  {
   "cell_type": "markdown",
   "id": "b6c0aa2d",
   "metadata": {},
   "source": [
    "# Univerate Analysis"
   ]
  },
  {
   "cell_type": "markdown",
   "id": "9c1561ee",
   "metadata": {},
   "source": [
    "When we are performing any analysis with single column then that is called Univerate Analysis."
   ]
  },
  {
   "cell_type": "code",
   "execution_count": 17,
   "id": "b13faddb",
   "metadata": {},
   "outputs": [
    {
     "data": {
      "text/plain": [
       "<AxesSubplot:xlabel='type', ylabel='count'>"
      ]
     },
     "execution_count": 17,
     "metadata": {},
     "output_type": "execute_result"
    },
    {
     "data": {
      "image/png": "[encoded data removed]",
      "text/plain": [
       "<Figure size 432x288 with 1 Axes>"
      ]
     },
     "metadata": {
      "needs_background": "light"
     },
     "output_type": "display_data"
    }
   ],
   "source": [
    "sns.countplot(df['type'])"
   ]
  },
  {
   "cell_type": "markdown",
   "id": "1485e6bb",
   "metadata": {},
   "source": [
    "here, we can see both conventional or organic are equal"
   ]
  },
  {
   "cell_type": "code",
   "execution_count": 18,
   "id": "944bd680",
   "metadata": {},
   "outputs": [
    {
     "data": {
      "text/plain": [
       "<AxesSubplot:xlabel='year', ylabel='count'>"
      ]
     },
     "execution_count": 18,
     "metadata": {},
     "output_type": "execute_result"
    },
    {
     "data": {
      "image/png": "[encoded data removed]",
      "text/plain": [
       "<Figure size 432x288 with 1 Axes>"
      ]
     },
     "metadata": {
      "needs_background": "light"
     },
     "output_type": "display_data"
    }
   ],
   "source": [
    "sns.countplot(df['year'])"
   ]
  },
  {
   "cell_type": "markdown",
   "id": "d9e16522",
   "metadata": {},
   "source": [
    "here, we can clearly see in 2018 the avocado sold is very low as compaire to other year."
   ]
  },
  {
   "cell_type": "code",
   "execution_count": 38,
   "id": "44581ec1",
   "metadata": {},
   "outputs": [
    {
     "data": {
      "text/plain": [
       "<AxesSubplot:xlabel='AveragePrice', ylabel='Count'>"
      ]
     },
     "execution_count": 38,
     "metadata": {},
     "output_type": "execute_result"
    },
    {
     "data": {
      "image/png": "[encoded data removed]",
      "text/plain": [
       "<Figure size 432x288 with 1 Axes>"
      ]
     },
     "metadata": {
      "needs_background": "light"
     },
     "output_type": "display_data"
    }
   ],
   "source": [
    "sns.histplot(df['AveragePrice'])"
   ]
  },
  {
   "cell_type": "markdown",
   "id": "57a60955",
   "metadata": {},
   "source": [
    "here, we can see Average Price lies between 1.0 to 1.7"
   ]
  },
  {
   "cell_type": "code",
   "execution_count": 42,
   "id": "57599074",
   "metadata": {},
   "outputs": [
    {
     "data": {
      "text/plain": [
       "Text(0.5, 0, 'Total Volumne')"
      ]
     },
     "execution_count": 42,
     "metadata": {},
     "output_type": "execute_result"
    },
    {
     "data": {
      "image/png": "[encoded data removed]",
      "text/plain": [
       "<Figure size 432x288 with 1 Axes>"
      ]
     },
     "metadata": {
      "needs_background": "light"
     },
     "output_type": "display_data"
    }
   ],
   "source": [
    "plt.hist(df['Total Volume'])\n",
    "plt.xlabel('Total Volumne')"
   ]
  },
  {
   "cell_type": "markdown",
   "id": "40321756",
   "metadata": {},
   "source": [
    "here, we can see total number of avacoda sold maximum lies between 0 to 1"
   ]
  },
  {
   "cell_type": "code",
   "execution_count": 47,
   "id": "e8ad0bc5",
   "metadata": {},
   "outputs": [
    {
     "data": {
      "text/plain": [
       "Text(0.5, 0, 'Total number of avocados with PLU 4046 sold')"
      ]
     },
     "execution_count": 47,
     "metadata": {},
     "output_type": "execute_result"
    },
    {
     "data": {
      "image/png": "[encoded data removed]",
      "text/plain": [
       "<Figure size 432x288 with 1 Axes>"
      ]
     },
     "metadata": {
      "needs_background": "light"
     },
     "output_type": "display_data"
    }
   ],
   "source": [
    "plt.hist(df['4046'])\n",
    "plt.xlabel('Total number of avocados with PLU 4046 sold')"
   ]
  },
  {
   "cell_type": "markdown",
   "id": "c02bdacf",
   "metadata": {},
   "source": [
    "here, we can see Total number of avocados with PLU 4046 sold maximum lies between 0 to 0.5"
   ]
  },
  {
   "cell_type": "code",
   "execution_count": 46,
   "id": "ecfa9bc5",
   "metadata": {},
   "outputs": [
    {
     "data": {
      "text/plain": [
       "Text(0.5, 0, 'Total number of avocados with PLU 4225 sold')"
      ]
     },
     "execution_count": 46,
     "metadata": {},
     "output_type": "execute_result"
    },
    {
     "data": {
      "image/png": "[encoded data removed]",
      "text/plain": [
       "<Figure size 432x288 with 1 Axes>"
      ]
     },
     "metadata": {
      "needs_background": "light"
     },
     "output_type": "display_data"
    }
   ],
   "source": [
    "plt.hist(df['4225'])\n",
    "plt.xlabel('Total number of avocados with PLU 4225 sold')"
   ]
  },
  {
   "cell_type": "markdown",
   "id": "262c87a1",
   "metadata": {},
   "source": [
    "here, we can see Total number of avocados with PLU 4225 sold maximum lies between o to 0.5"
   ]
  },
  {
   "cell_type": "code",
   "execution_count": 45,
   "id": "6ee75994",
   "metadata": {},
   "outputs": [
    {
     "data": {
      "text/plain": [
       "Text(0.5, 0, 'Total number of avocados with PLU 4770 sold')"
      ]
     },
     "execution_count": 45,
     "metadata": {},
     "output_type": "execute_result"
    },
    {
     "data": {
      "image/png": "[encoded data removed]",
      "text/plain": [
       "<Figure size 432x288 with 1 Axes>"
      ]
     },
     "metadata": {
      "needs_background": "light"
     },
     "output_type": "display_data"
    }
   ],
   "source": [
    "plt.hist(df['4770'])\n",
    "plt.xlabel('Total number of avocados with PLU 4770 sold')"
   ]
  },
  {
   "cell_type": "markdown",
   "id": "834de15c",
   "metadata": {},
   "source": [
    "here, we can see Total number of avocados with PLU 4770 sold maximum lies between 0 to 0.5"
   ]
  },
  {
   "cell_type": "code",
   "execution_count": 53,
   "id": "c5e5bb8c",
   "metadata": {},
   "outputs": [
    {
     "data": {
      "text/plain": [
       "Text(0.5, 0, 'Total No of Small bag sold')"
      ]
     },
     "execution_count": 53,
     "metadata": {},
     "output_type": "execute_result"
    },
    {
     "data": {
      "image/png": "[encoded data removed]",
      "text/plain": [
       "<Figure size 432x288 with 1 Axes>"
      ]
     },
     "metadata": {
      "needs_background": "light"
     },
     "output_type": "display_data"
    }
   ],
   "source": [
    "plt.hist(df['Small Bags'])\n",
    "plt.xlabel('Total No of Small bag sold')"
   ]
  },
  {
   "cell_type": "markdown",
   "id": "80e4fa3e",
   "metadata": {},
   "source": [
    "here, we can see total number of small bag sold maximum lies between 0 to 0.2"
   ]
  },
  {
   "cell_type": "code",
   "execution_count": 54,
   "id": "2cdc1241",
   "metadata": {},
   "outputs": [
    {
     "data": {
      "text/plain": [
       "Text(0.5, 0, 'Total Number of Large Bags Sold')"
      ]
     },
     "execution_count": 54,
     "metadata": {},
     "output_type": "execute_result"
    },
    {
     "data": {
      "image/png": "[encoded data removed]",
      "text/plain": [
       "<Figure size 432x288 with 1 Axes>"
      ]
     },
     "metadata": {
      "needs_background": "light"
     },
     "output_type": "display_data"
    }
   ],
   "source": [
    "plt.hist(df['Large Bags'])\n",
    "plt.xlabel('Total Number of Large Bags Sold')"
   ]
  },
  {
   "cell_type": "markdown",
   "id": "c04192b5",
   "metadata": {},
   "source": [
    "here, we can see total no of large bags sold between 0 to 1"
   ]
  },
  {
   "cell_type": "code",
   "execution_count": 58,
   "id": "0e2995ea",
   "metadata": {},
   "outputs": [],
   "source": [
    "df.drop('Date',axis=1,inplace=True)"
   ]
  },
  {
   "cell_type": "markdown",
   "id": "bd27579b",
   "metadata": {},
   "source": [
    "# Convert Columns from string to Numerical values"
   ]
  },
  {
   "cell_type": "markdown",
   "id": "1516a4b2",
   "metadata": {},
   "source": [
    "Encoding categorical Columns using OrdinalEncoder"
   ]
  },
  {
   "cell_type": "code",
   "execution_count": 60,
   "id": "d755dfed",
   "metadata": {},
   "outputs": [],
   "source": [
    "from sklearn.preprocessing import OrdinalEncoder"
   ]
  },
  {
   "cell_type": "code",
   "execution_count": 61,
   "id": "7e8f2d07",
   "metadata": {},
   "outputs": [],
   "source": [
    "Oe = OrdinalEncoder()"
   ]
  },
  {
   "cell_type": "code",
   "execution_count": 62,
   "id": "cecf16d6",
   "metadata": {},
   "outputs": [],
   "source": [
    "for i in df.columns:\n",
    "    if df[i].dtypes == 'object':\n",
    "        df[i] = Oe.fit_transform(df[i].values.reshape(-1,1))"
   ]
  },
  {
   "cell_type": "code",
   "execution_count": 63,
   "id": "e7c851d2",
   "metadata": {},
   "outputs": [
    {
     "data": {
      "text/html": [
       "<div>\n",
       "<style scoped>\n",
       "    .dataframe tbody tr th:only-of-type {\n",
       "        vertical-align: middle;\n",
       "    }\n",
       "\n",
       "    .dataframe tbody tr th {\n",
       "        vertical-align: top;\n",
       "    }\n",
       "\n",
       "    .dataframe thead th {\n",
       "        text-align: right;\n",
       "    }\n",
       "</style>\n",
       "<table border=\"1\" class=\"dataframe\">\n",
       "  <thead>\n",
       "    <tr style=\"text-align: right;\">\n",
       "      <th></th>\n",
       "      <th>AveragePrice</th>\n",
       "      <th>Total Volume</th>\n",
       "      <th>4046</th>\n",
       "      <th>4225</th>\n",
       "      <th>4770</th>\n",
       "      <th>Total Bags</th>\n",
       "      <th>Small Bags</th>\n",
       "      <th>Large Bags</th>\n",
       "      <th>XLarge Bags</th>\n",
       "      <th>type</th>\n",
       "      <th>year</th>\n",
       "      <th>region</th>\n",
       "    </tr>\n",
       "  </thead>\n",
       "  <tbody>\n",
       "    <tr>\n",
       "      <th>0</th>\n",
       "      <td>1.33</td>\n",
       "      <td>64236.62</td>\n",
       "      <td>1036.74</td>\n",
       "      <td>54454.85</td>\n",
       "      <td>48.16</td>\n",
       "      <td>8696.87</td>\n",
       "      <td>8603.62</td>\n",
       "      <td>93.25</td>\n",
       "      <td>0.0</td>\n",
       "      <td>0.0</td>\n",
       "      <td>2015</td>\n",
       "      <td>0.0</td>\n",
       "    </tr>\n",
       "    <tr>\n",
       "      <th>1</th>\n",
       "      <td>1.35</td>\n",
       "      <td>54876.98</td>\n",
       "      <td>674.28</td>\n",
       "      <td>44638.81</td>\n",
       "      <td>58.33</td>\n",
       "      <td>9505.56</td>\n",
       "      <td>9408.07</td>\n",
       "      <td>97.49</td>\n",
       "      <td>0.0</td>\n",
       "      <td>0.0</td>\n",
       "      <td>2015</td>\n",
       "      <td>0.0</td>\n",
       "    </tr>\n",
       "    <tr>\n",
       "      <th>2</th>\n",
       "      <td>0.93</td>\n",
       "      <td>118220.22</td>\n",
       "      <td>794.70</td>\n",
       "      <td>109149.67</td>\n",
       "      <td>130.50</td>\n",
       "      <td>8145.35</td>\n",
       "      <td>8042.21</td>\n",
       "      <td>103.14</td>\n",
       "      <td>0.0</td>\n",
       "      <td>0.0</td>\n",
       "      <td>2015</td>\n",
       "      <td>0.0</td>\n",
       "    </tr>\n",
       "    <tr>\n",
       "      <th>3</th>\n",
       "      <td>1.08</td>\n",
       "      <td>78992.15</td>\n",
       "      <td>1132.00</td>\n",
       "      <td>71976.41</td>\n",
       "      <td>72.58</td>\n",
       "      <td>5811.16</td>\n",
       "      <td>5677.40</td>\n",
       "      <td>133.76</td>\n",
       "      <td>0.0</td>\n",
       "      <td>0.0</td>\n",
       "      <td>2015</td>\n",
       "      <td>0.0</td>\n",
       "    </tr>\n",
       "    <tr>\n",
       "      <th>4</th>\n",
       "      <td>1.28</td>\n",
       "      <td>51039.60</td>\n",
       "      <td>941.48</td>\n",
       "      <td>43838.39</td>\n",
       "      <td>75.78</td>\n",
       "      <td>6183.95</td>\n",
       "      <td>5986.26</td>\n",
       "      <td>197.69</td>\n",
       "      <td>0.0</td>\n",
       "      <td>0.0</td>\n",
       "      <td>2015</td>\n",
       "      <td>0.0</td>\n",
       "    </tr>\n",
       "    <tr>\n",
       "      <th>...</th>\n",
       "      <td>...</td>\n",
       "      <td>...</td>\n",
       "      <td>...</td>\n",
       "      <td>...</td>\n",
       "      <td>...</td>\n",
       "      <td>...</td>\n",
       "      <td>...</td>\n",
       "      <td>...</td>\n",
       "      <td>...</td>\n",
       "      <td>...</td>\n",
       "      <td>...</td>\n",
       "      <td>...</td>\n",
       "    </tr>\n",
       "    <tr>\n",
       "      <th>18244</th>\n",
       "      <td>1.63</td>\n",
       "      <td>17074.83</td>\n",
       "      <td>2046.96</td>\n",
       "      <td>1529.20</td>\n",
       "      <td>0.00</td>\n",
       "      <td>13498.67</td>\n",
       "      <td>13066.82</td>\n",
       "      <td>431.85</td>\n",
       "      <td>0.0</td>\n",
       "      <td>1.0</td>\n",
       "      <td>2018</td>\n",
       "      <td>53.0</td>\n",
       "    </tr>\n",
       "    <tr>\n",
       "      <th>18245</th>\n",
       "      <td>1.71</td>\n",
       "      <td>13888.04</td>\n",
       "      <td>1191.70</td>\n",
       "      <td>3431.50</td>\n",
       "      <td>0.00</td>\n",
       "      <td>9264.84</td>\n",
       "      <td>8940.04</td>\n",
       "      <td>324.80</td>\n",
       "      <td>0.0</td>\n",
       "      <td>1.0</td>\n",
       "      <td>2018</td>\n",
       "      <td>53.0</td>\n",
       "    </tr>\n",
       "    <tr>\n",
       "      <th>18246</th>\n",
       "      <td>1.87</td>\n",
       "      <td>13766.76</td>\n",
       "      <td>1191.92</td>\n",
       "      <td>2452.79</td>\n",
       "      <td>727.94</td>\n",
       "      <td>9394.11</td>\n",
       "      <td>9351.80</td>\n",
       "      <td>42.31</td>\n",
       "      <td>0.0</td>\n",
       "      <td>1.0</td>\n",
       "      <td>2018</td>\n",
       "      <td>53.0</td>\n",
       "    </tr>\n",
       "    <tr>\n",
       "      <th>18247</th>\n",
       "      <td>1.93</td>\n",
       "      <td>16205.22</td>\n",
       "      <td>1527.63</td>\n",
       "      <td>2981.04</td>\n",
       "      <td>727.01</td>\n",
       "      <td>10969.54</td>\n",
       "      <td>10919.54</td>\n",
       "      <td>50.00</td>\n",
       "      <td>0.0</td>\n",
       "      <td>1.0</td>\n",
       "      <td>2018</td>\n",
       "      <td>53.0</td>\n",
       "    </tr>\n",
       "    <tr>\n",
       "      <th>18248</th>\n",
       "      <td>1.62</td>\n",
       "      <td>17489.58</td>\n",
       "      <td>2894.77</td>\n",
       "      <td>2356.13</td>\n",
       "      <td>224.53</td>\n",
       "      <td>12014.15</td>\n",
       "      <td>11988.14</td>\n",
       "      <td>26.01</td>\n",
       "      <td>0.0</td>\n",
       "      <td>1.0</td>\n",
       "      <td>2018</td>\n",
       "      <td>53.0</td>\n",
       "    </tr>\n",
       "  </tbody>\n",
       "</table>\n",
       "<p>18249 rows × 12 columns</p>\n",
       "</div>"
      ],
      "text/plain": [
       "       AveragePrice  Total Volume     4046       4225    4770  Total Bags  \\\n",
       "0              1.33      64236.62  1036.74   54454.85   48.16     8696.87   \n",
       "1              1.35      54876.98   674.28   44638.81   58.33     9505.56   \n",
       "2              0.93     118220.22   794.70  109149.67  130.50     8145.35   \n",
       "3              1.08      78992.15  1132.00   71976.41   72.58     5811.16   \n",
       "4              1.28      51039.60   941.48   43838.39   75.78     6183.95   \n",
       "...             ...           ...      ...        ...     ...         ...   \n",
       "18244          1.63      17074.83  2046.96    1529.20    0.00    13498.67   \n",
       "18245          1.71      13888.04  1191.70    3431.50    0.00     9264.84   \n",
       "18246          1.87      13766.76  1191.92    2452.79  727.94     9394.11   \n",
       "18247          1.93      16205.22  1527.63    2981.04  727.01    10969.54   \n",
       "18248          1.62      17489.58  2894.77    2356.13  224.53    12014.15   \n",
       "\n",
       "       Small Bags  Large Bags  XLarge Bags  type  year  region  \n",
       "0         8603.62       93.25          0.0   0.0  2015     0.0  \n",
       "1         9408.07       97.49          0.0   0.0  2015     0.0  \n",
       "2         8042.21      103.14          0.0   0.0  2015     0.0  \n",
       "3         5677.40      133.76          0.0   0.0  2015     0.0  \n",
       "4         5986.26      197.69          0.0   0.0  2015     0.0  \n",
       "...           ...         ...          ...   ...   ...     ...  \n",
       "18244    13066.82      431.85          0.0   1.0  2018    53.0  \n",
       "18245     8940.04      324.80          0.0   1.0  2018    53.0  \n",
       "18246     9351.80       42.31          0.0   1.0  2018    53.0  \n",
       "18247    10919.54       50.00          0.0   1.0  2018    53.0  \n",
       "18248    11988.14       26.01          0.0   1.0  2018    53.0  \n",
       "\n",
       "[18249 rows x 12 columns]"
      ]
     },
     "execution_count": 63,
     "metadata": {},
     "output_type": "execute_result"
    }
   ],
   "source": [
    "df"
   ]
  },
  {
   "cell_type": "markdown",
   "id": "161fc847",
   "metadata": {},
   "source": [
    "# Correlation Matrix"
   ]
  },
  {
   "cell_type": "code",
   "execution_count": 64,
   "id": "ca11c9da",
   "metadata": {},
   "outputs": [
    {
     "data": {
      "text/html": [
       "<div>\n",
       "<style scoped>\n",
       "    .dataframe tbody tr th:only-of-type {\n",
       "        vertical-align: middle;\n",
       "    }\n",
       "\n",
       "    .dataframe tbody tr th {\n",
       "        vertical-align: top;\n",
       "    }\n",
       "\n",
       "    .dataframe thead th {\n",
       "        text-align: right;\n",
       "    }\n",
       "</style>\n",
       "<table border=\"1\" class=\"dataframe\">\n",
       "  <thead>\n",
       "    <tr style=\"text-align: right;\">\n",
       "      <th></th>\n",
       "      <th>AveragePrice</th>\n",
       "      <th>Total Volume</th>\n",
       "      <th>4046</th>\n",
       "      <th>4225</th>\n",
       "      <th>4770</th>\n",
       "      <th>Total Bags</th>\n",
       "      <th>Small Bags</th>\n",
       "      <th>Large Bags</th>\n",
       "      <th>XLarge Bags</th>\n",
       "      <th>type</th>\n",
       "      <th>year</th>\n",
       "      <th>region</th>\n",
       "    </tr>\n",
       "  </thead>\n",
       "  <tbody>\n",
       "    <tr>\n",
       "      <th>AveragePrice</th>\n",
       "      <td>1.000000</td>\n",
       "      <td>-0.192752</td>\n",
       "      <td>-0.208317</td>\n",
       "      <td>-0.172928</td>\n",
       "      <td>-0.179446</td>\n",
       "      <td>-0.177088</td>\n",
       "      <td>-0.174730</td>\n",
       "      <td>-0.172940</td>\n",
       "      <td>-0.117592</td>\n",
       "      <td>0.615845</td>\n",
       "      <td>0.093197</td>\n",
       "      <td>-0.011716</td>\n",
       "    </tr>\n",
       "    <tr>\n",
       "      <th>Total Volume</th>\n",
       "      <td>-0.192752</td>\n",
       "      <td>1.000000</td>\n",
       "      <td>0.977863</td>\n",
       "      <td>0.974181</td>\n",
       "      <td>0.872202</td>\n",
       "      <td>0.963047</td>\n",
       "      <td>0.967238</td>\n",
       "      <td>0.880640</td>\n",
       "      <td>0.747157</td>\n",
       "      <td>-0.232434</td>\n",
       "      <td>0.017193</td>\n",
       "      <td>0.174176</td>\n",
       "    </tr>\n",
       "    <tr>\n",
       "      <th>4046</th>\n",
       "      <td>-0.208317</td>\n",
       "      <td>0.977863</td>\n",
       "      <td>1.000000</td>\n",
       "      <td>0.926110</td>\n",
       "      <td>0.833389</td>\n",
       "      <td>0.920057</td>\n",
       "      <td>0.925280</td>\n",
       "      <td>0.838645</td>\n",
       "      <td>0.699377</td>\n",
       "      <td>-0.225819</td>\n",
       "      <td>0.003353</td>\n",
       "      <td>0.192073</td>\n",
       "    </tr>\n",
       "    <tr>\n",
       "      <th>4225</th>\n",
       "      <td>-0.172928</td>\n",
       "      <td>0.974181</td>\n",
       "      <td>0.926110</td>\n",
       "      <td>1.000000</td>\n",
       "      <td>0.887855</td>\n",
       "      <td>0.905787</td>\n",
       "      <td>0.916031</td>\n",
       "      <td>0.810015</td>\n",
       "      <td>0.688809</td>\n",
       "      <td>-0.232289</td>\n",
       "      <td>-0.009559</td>\n",
       "      <td>0.145726</td>\n",
       "    </tr>\n",
       "    <tr>\n",
       "      <th>4770</th>\n",
       "      <td>-0.179446</td>\n",
       "      <td>0.872202</td>\n",
       "      <td>0.833389</td>\n",
       "      <td>0.887855</td>\n",
       "      <td>1.000000</td>\n",
       "      <td>0.792314</td>\n",
       "      <td>0.802733</td>\n",
       "      <td>0.698471</td>\n",
       "      <td>0.679861</td>\n",
       "      <td>-0.210027</td>\n",
       "      <td>-0.036531</td>\n",
       "      <td>0.095252</td>\n",
       "    </tr>\n",
       "    <tr>\n",
       "      <th>Total Bags</th>\n",
       "      <td>-0.177088</td>\n",
       "      <td>0.963047</td>\n",
       "      <td>0.920057</td>\n",
       "      <td>0.905787</td>\n",
       "      <td>0.792314</td>\n",
       "      <td>1.000000</td>\n",
       "      <td>0.994335</td>\n",
       "      <td>0.943009</td>\n",
       "      <td>0.804233</td>\n",
       "      <td>-0.217788</td>\n",
       "      <td>0.071552</td>\n",
       "      <td>0.175256</td>\n",
       "    </tr>\n",
       "    <tr>\n",
       "      <th>Small Bags</th>\n",
       "      <td>-0.174730</td>\n",
       "      <td>0.967238</td>\n",
       "      <td>0.925280</td>\n",
       "      <td>0.916031</td>\n",
       "      <td>0.802733</td>\n",
       "      <td>0.994335</td>\n",
       "      <td>1.000000</td>\n",
       "      <td>0.902589</td>\n",
       "      <td>0.806845</td>\n",
       "      <td>-0.220535</td>\n",
       "      <td>0.063915</td>\n",
       "      <td>0.164702</td>\n",
       "    </tr>\n",
       "    <tr>\n",
       "      <th>Large Bags</th>\n",
       "      <td>-0.172940</td>\n",
       "      <td>0.880640</td>\n",
       "      <td>0.838645</td>\n",
       "      <td>0.810015</td>\n",
       "      <td>0.698471</td>\n",
       "      <td>0.943009</td>\n",
       "      <td>0.902589</td>\n",
       "      <td>1.000000</td>\n",
       "      <td>0.710858</td>\n",
       "      <td>-0.193177</td>\n",
       "      <td>0.087891</td>\n",
       "      <td>0.198768</td>\n",
       "    </tr>\n",
       "    <tr>\n",
       "      <th>XLarge Bags</th>\n",
       "      <td>-0.117592</td>\n",
       "      <td>0.747157</td>\n",
       "      <td>0.699377</td>\n",
       "      <td>0.688809</td>\n",
       "      <td>0.679861</td>\n",
       "      <td>0.804233</td>\n",
       "      <td>0.806845</td>\n",
       "      <td>0.710858</td>\n",
       "      <td>1.000000</td>\n",
       "      <td>-0.175483</td>\n",
       "      <td>0.081033</td>\n",
       "      <td>0.082281</td>\n",
       "    </tr>\n",
       "    <tr>\n",
       "      <th>type</th>\n",
       "      <td>0.615845</td>\n",
       "      <td>-0.232434</td>\n",
       "      <td>-0.225819</td>\n",
       "      <td>-0.232289</td>\n",
       "      <td>-0.210027</td>\n",
       "      <td>-0.217788</td>\n",
       "      <td>-0.220535</td>\n",
       "      <td>-0.193177</td>\n",
       "      <td>-0.175483</td>\n",
       "      <td>1.000000</td>\n",
       "      <td>-0.000032</td>\n",
       "      <td>-0.000280</td>\n",
       "    </tr>\n",
       "    <tr>\n",
       "      <th>year</th>\n",
       "      <td>0.093197</td>\n",
       "      <td>0.017193</td>\n",
       "      <td>0.003353</td>\n",
       "      <td>-0.009559</td>\n",
       "      <td>-0.036531</td>\n",
       "      <td>0.071552</td>\n",
       "      <td>0.063915</td>\n",
       "      <td>0.087891</td>\n",
       "      <td>0.081033</td>\n",
       "      <td>-0.000032</td>\n",
       "      <td>1.000000</td>\n",
       "      <td>-0.000055</td>\n",
       "    </tr>\n",
       "    <tr>\n",
       "      <th>region</th>\n",
       "      <td>-0.011716</td>\n",
       "      <td>0.174176</td>\n",
       "      <td>0.192073</td>\n",
       "      <td>0.145726</td>\n",
       "      <td>0.095252</td>\n",
       "      <td>0.175256</td>\n",
       "      <td>0.164702</td>\n",
       "      <td>0.198768</td>\n",
       "      <td>0.082281</td>\n",
       "      <td>-0.000280</td>\n",
       "      <td>-0.000055</td>\n",
       "      <td>1.000000</td>\n",
       "    </tr>\n",
       "  </tbody>\n",
       "</table>\n",
       "</div>"
      ],
      "text/plain": [
       "              AveragePrice  Total Volume      4046      4225      4770  \\\n",
       "AveragePrice      1.000000     -0.192752 -0.208317 -0.172928 -0.179446   \n",
       "Total Volume     -0.192752      1.000000  0.977863  0.974181  0.872202   \n",
       "4046             -0.208317      0.977863  1.000000  0.926110  0.833389   \n",
       "4225             -0.172928      0.974181  0.926110  1.000000  0.887855   \n",
       "4770             -0.179446      0.872202  0.833389  0.887855  1.000000   \n",
       "Total Bags       -0.177088      0.963047  0.920057  0.905787  0.792314   \n",
       "Small Bags       -0.174730      0.967238  0.925280  0.916031  0.802733   \n",
       "Large Bags       -0.172940      0.880640  0.838645  0.810015  0.698471   \n",
       "XLarge Bags      -0.117592      0.747157  0.699377  0.688809  0.679861   \n",
       "type              0.615845     -0.232434 -0.225819 -0.232289 -0.210027   \n",
       "year              0.093197      0.017193  0.003353 -0.009559 -0.036531   \n",
       "region           -0.011716      0.174176  0.192073  0.145726  0.095252   \n",
       "\n",
       "              Total Bags  Small Bags  Large Bags  XLarge Bags      type  \\\n",
       "AveragePrice   -0.177088   -0.174730   -0.172940    -0.117592  0.615845   \n",
       "Total Volume    0.963047    0.967238    0.880640     0.747157 -0.232434   \n",
       "4046            0.920057    0.925280    0.838645     0.699377 -0.225819   \n",
       "4225            0.905787    0.916031    0.810015     0.688809 -0.232289   \n",
       "4770            0.792314    0.802733    0.698471     0.679861 -0.210027   \n",
       "Total Bags      1.000000    0.994335    0.943009     0.804233 -0.217788   \n",
       "Small Bags      0.994335    1.000000    0.902589     0.806845 -0.220535   \n",
       "Large Bags      0.943009    0.902589    1.000000     0.710858 -0.193177   \n",
       "XLarge Bags     0.804233    0.806845    0.710858     1.000000 -0.175483   \n",
       "type           -0.217788   -0.220535   -0.193177    -0.175483  1.000000   \n",
       "year            0.071552    0.063915    0.087891     0.081033 -0.000032   \n",
       "region          0.175256    0.164702    0.198768     0.082281 -0.000280   \n",
       "\n",
       "                  year    region  \n",
       "AveragePrice  0.093197 -0.011716  \n",
       "Total Volume  0.017193  0.174176  \n",
       "4046          0.003353  0.192073  \n",
       "4225         -0.009559  0.145726  \n",
       "4770         -0.036531  0.095252  \n",
       "Total Bags    0.071552  0.175256  \n",
       "Small Bags    0.063915  0.164702  \n",
       "Large Bags    0.087891  0.198768  \n",
       "XLarge Bags   0.081033  0.082281  \n",
       "type         -0.000032 -0.000280  \n",
       "year          1.000000 -0.000055  \n",
       "region       -0.000055  1.000000  "
      ]
     },
     "execution_count": 64,
     "metadata": {},
     "output_type": "execute_result"
    }
   ],
   "source": [
    "df.corr()"
   ]
  },
  {
   "cell_type": "markdown",
   "id": "57f1a6d3",
   "metadata": {},
   "source": [
    "This gives the correlation between the dependents and independents variable"
   ]
  },
  {
   "cell_type": "markdown",
   "id": "b33a92c1",
   "metadata": {},
   "source": [
    "# Binarization of target variables"
   ]
  },
  {
   "cell_type": "code",
   "execution_count": 65,
   "id": "e1772332",
   "metadata": {},
   "outputs": [
    {
     "data": {
      "text/plain": [
       "array([ 0.,  1.,  2.,  3.,  4.,  5.,  6.,  7.,  8.,  9., 10., 11., 12.,\n",
       "       13., 14., 15., 16., 17., 18., 19., 20., 21., 22., 23., 24., 25.,\n",
       "       26., 27., 28., 29., 30., 31., 32., 33., 34., 35., 36., 37., 38.,\n",
       "       39., 40., 41., 42., 43., 44., 45., 46., 47., 48., 49., 50., 51.,\n",
       "       52., 53.])"
      ]
     },
     "execution_count": 65,
     "metadata": {},
     "output_type": "execute_result"
    }
   ],
   "source": [
    "df['region'].unique()"
   ]
  },
  {
   "cell_type": "code",
   "execution_count": 66,
   "id": "49732d77",
   "metadata": {},
   "outputs": [],
   "source": [
    "df['region'] = [1 if x>=53 else 0 for x in df['region']]"
   ]
  },
  {
   "cell_type": "code",
   "execution_count": 67,
   "id": "4671f601",
   "metadata": {},
   "outputs": [
    {
     "data": {
      "text/plain": [
       "0    17914\n",
       "1      335\n",
       "Name: region, dtype: int64"
      ]
     },
     "execution_count": 67,
     "metadata": {},
     "output_type": "execute_result"
    }
   ],
   "source": [
    "df['region'].value_counts()"
   ]
  },
  {
   "cell_type": "markdown",
   "id": "6be2c589",
   "metadata": {},
   "source": [
    "here we can see our dataset are imblance firstly we will solve this imblance dataset"
   ]
  },
  {
   "cell_type": "markdown",
   "id": "0aaf4254",
   "metadata": {},
   "source": [
    "# Handling Imbalanced Dataset"
   ]
  },
  {
   "cell_type": "markdown",
   "id": "ee27ce86",
   "metadata": {},
   "source": [
    "To solve Imbalanced Dataset using SMOTE(Synthetic Minority Oversampling Technique)"
   ]
  },
  {
   "cell_type": "code",
   "execution_count": 69,
   "id": "92e91c5a",
   "metadata": {},
   "outputs": [],
   "source": [
    "from imblearn.over_sampling import SMOTE"
   ]
  },
  {
   "cell_type": "code",
   "execution_count": 70,
   "id": "3271f5ac",
   "metadata": {},
   "outputs": [],
   "source": [
    "X = df.drop('region',axis=1)\n",
    "y = df['region']"
   ]
  },
  {
   "cell_type": "code",
   "execution_count": 71,
   "id": "dfc03813",
   "metadata": {},
   "outputs": [],
   "source": [
    "X_res,y_res = SMOTE().fit_resample(X,y)"
   ]
  },
  {
   "cell_type": "code",
   "execution_count": 72,
   "id": "fd82e2cd",
   "metadata": {},
   "outputs": [
    {
     "data": {
      "text/plain": [
       "0    17914\n",
       "1    17914\n",
       "Name: region, dtype: int64"
      ]
     },
     "execution_count": 72,
     "metadata": {},
     "output_type": "execute_result"
    }
   ],
   "source": [
    "y_res.value_counts()"
   ]
  },
  {
   "cell_type": "markdown",
   "id": "a5be9f04",
   "metadata": {},
   "source": [
    "Now, my dataset are balanced"
   ]
  },
  {
   "cell_type": "markdown",
   "id": "47ccf3f5",
   "metadata": {},
   "source": [
    "# Splitting the dataset into the training set and test set"
   ]
  },
  {
   "cell_type": "code",
   "execution_count": 74,
   "id": "f3983be8",
   "metadata": {},
   "outputs": [],
   "source": [
    "from sklearn.model_selection import train_test_split"
   ]
  },
  {
   "cell_type": "code",
   "execution_count": 75,
   "id": "db604bb7",
   "metadata": {},
   "outputs": [],
   "source": [
    "X_train, X_test, y_train, y_test = train_test_split(X_res,y_res, test_size=0.2, random_state=2)"
   ]
  },
  {
   "cell_type": "code",
   "execution_count": 76,
   "id": "bc9927d9",
   "metadata": {},
   "outputs": [
    {
     "data": {
      "text/plain": [
       "((28662, 11), (7166, 11))"
      ]
     },
     "execution_count": 76,
     "metadata": {},
     "output_type": "execute_result"
    }
   ],
   "source": [
    "X_train.shape, X_test.shape"
   ]
  },
  {
   "cell_type": "code",
   "execution_count": 86,
   "id": "b73987af",
   "metadata": {},
   "outputs": [],
   "source": [
    "X1 = df.drop('AveragePrice',axis=1)\n",
    "y1 = df['AveragePrice']"
   ]
  },
  {
   "cell_type": "code",
   "execution_count": 87,
   "id": "ec1d2b5b",
   "metadata": {},
   "outputs": [],
   "source": [
    "X1_train, X1_test, y1_train, y1_test = train_test_split(X1,y1,test_size=0.2,random_state=2)"
   ]
  },
  {
   "cell_type": "code",
   "execution_count": 88,
   "id": "16ab76e7",
   "metadata": {},
   "outputs": [
    {
     "data": {
      "text/plain": [
       "((14599, 11), (3650, 11))"
      ]
     },
     "execution_count": 88,
     "metadata": {},
     "output_type": "execute_result"
    }
   ],
   "source": [
    "X1_train.shape, X1_test.shape"
   ]
  },
  {
   "cell_type": "markdown",
   "id": "43008bd6",
   "metadata": {},
   "source": [
    "# Standard Scaler"
   ]
  },
  {
   "cell_type": "code",
   "execution_count": 77,
   "id": "39f44197",
   "metadata": {},
   "outputs": [],
   "source": [
    "from sklearn.preprocessing import StandardScaler"
   ]
  },
  {
   "cell_type": "code",
   "execution_count": 78,
   "id": "9d05c112",
   "metadata": {},
   "outputs": [],
   "source": [
    "st = StandardScaler()"
   ]
  },
  {
   "cell_type": "code",
   "execution_count": 79,
   "id": "991142b4",
   "metadata": {},
   "outputs": [],
   "source": [
    "X_train_res = st.fit_transform(X_train)\n",
    "X_test_res = st.fit_transform(X_test)"
   ]
  },
  {
   "cell_type": "markdown",
   "id": "f98ee9f9",
   "metadata": {},
   "source": [
    "# Applying PCA"
   ]
  },
  {
   "cell_type": "markdown",
   "id": "9ac62116",
   "metadata": {},
   "source": [
    "Principle Components Analysis (PCA)"
   ]
  },
  {
   "cell_type": "markdown",
   "id": "bbe06d83",
   "metadata": {},
   "source": [
    "To reduce the dimensionality of large dataset by transforming a large set of variables into a smaller one"
   ]
  },
  {
   "cell_type": "code",
   "execution_count": 80,
   "id": "3f99e428",
   "metadata": {},
   "outputs": [],
   "source": [
    "from sklearn.decomposition import PCA"
   ]
  },
  {
   "cell_type": "code",
   "execution_count": 81,
   "id": "6aa18851",
   "metadata": {},
   "outputs": [],
   "source": [
    "pca = PCA(n_components=0.90)"
   ]
  },
  {
   "cell_type": "code",
   "execution_count": 82,
   "id": "7b11c83e",
   "metadata": {},
   "outputs": [],
   "source": [
    "X_train_res = pca.fit_transform(X_train_res)\n",
    "X_test_res = pca.transform(X_test_res)"
   ]
  },
  {
   "cell_type": "code",
   "execution_count": 83,
   "id": "0f1d78eb",
   "metadata": {},
   "outputs": [
    {
     "data": {
      "text/plain": [
       "array([0.6377504 , 0.14923596, 0.09412133, 0.03930454])"
      ]
     },
     "execution_count": 83,
     "metadata": {},
     "output_type": "execute_result"
    }
   ],
   "source": [
    "pca.explained_variance_ratio_"
   ]
  },
  {
   "cell_type": "code",
   "execution_count": 84,
   "id": "7be9b028",
   "metadata": {},
   "outputs": [
    {
     "data": {
      "text/plain": [
       "0.9204122286096396"
      ]
     },
     "execution_count": 84,
     "metadata": {},
     "output_type": "execute_result"
    }
   ],
   "source": [
    "sum(pca.explained_variance_ratio_)"
   ]
  },
  {
   "cell_type": "markdown",
   "id": "c36dc668",
   "metadata": {},
   "source": [
    "PCA contains 12 variables into my dataset and output is 4 components."
   ]
  },
  {
   "cell_type": "markdown",
   "id": "d6eb0a6a",
   "metadata": {},
   "source": [
    "So, we can say that 7 components retaining 92% information of our target dataset"
   ]
  },
  {
   "cell_type": "markdown",
   "id": "b2b2a09f",
   "metadata": {},
   "source": [
    "# Model Training"
   ]
  },
  {
   "cell_type": "markdown",
   "id": "d2cf598b",
   "metadata": {},
   "source": [
    "when we are analysis my dataset then i was find in my dataset in column region have classification problem is going on\n",
    "\n",
    "When we are analysis my dataset then i was find in my dataset in column Average Price have  regression problem is going on"
   ]
  },
  {
   "cell_type": "raw",
   "id": "507b7104",
   "metadata": {},
   "source": [
    "So firstly solve Classification problem"
   ]
  },
  {
   "cell_type": "markdown",
   "id": "a469bd06",
   "metadata": {},
   "source": [
    "# Logistic Regression"
   ]
  },
  {
   "cell_type": "code",
   "execution_count": 89,
   "id": "56ea23cc",
   "metadata": {},
   "outputs": [],
   "source": [
    "from sklearn.linear_model import LogisticRegression"
   ]
  },
  {
   "cell_type": "code",
   "execution_count": 90,
   "id": "b9500c68",
   "metadata": {},
   "outputs": [],
   "source": [
    "log = LogisticRegression()"
   ]
  },
  {
   "cell_type": "code",
   "execution_count": 91,
   "id": "86ed1d11",
   "metadata": {},
   "outputs": [
    {
     "data": {
      "text/plain": [
       "LogisticRegression()"
      ]
     },
     "execution_count": 91,
     "metadata": {},
     "output_type": "execute_result"
    }
   ],
   "source": [
    "log.fit(X_train_res,y_train)"
   ]
  },
  {
   "cell_type": "code",
   "execution_count": 92,
   "id": "9f809350",
   "metadata": {},
   "outputs": [],
   "source": [
    "y_pred1 = log.predict(X_test_res)"
   ]
  },
  {
   "cell_type": "code",
   "execution_count": 93,
   "id": "1577b432",
   "metadata": {},
   "outputs": [],
   "source": [
    "from sklearn.metrics import accuracy_score"
   ]
  },
  {
   "cell_type": "code",
   "execution_count": 94,
   "id": "25839f0f",
   "metadata": {},
   "outputs": [
    {
     "data": {
      "text/plain": [
       "0.5400502372313704"
      ]
     },
     "execution_count": 94,
     "metadata": {},
     "output_type": "execute_result"
    }
   ],
   "source": [
    "accuracy_score(y_test,y_pred1)"
   ]
  },
  {
   "cell_type": "markdown",
   "id": "00547450",
   "metadata": {},
   "source": [
    "here, we can see Logistic Regression is 54% accurate in this dataset"
   ]
  },
  {
   "cell_type": "markdown",
   "id": "528ee5ab",
   "metadata": {},
   "source": [
    "Now, we will check precision score, recall score, and f1 score"
   ]
  },
  {
   "cell_type": "code",
   "execution_count": 95,
   "id": "535f3784",
   "metadata": {},
   "outputs": [],
   "source": [
    "from sklearn.metrics import precision_score, recall_score, f1_score"
   ]
  },
  {
   "cell_type": "code",
   "execution_count": 96,
   "id": "e12dde7e",
   "metadata": {},
   "outputs": [
    {
     "name": "stdout",
     "output_type": "stream",
     "text": [
      "Precision Score is : 0.547329754167844\n",
      "Recall Score is : 0.533461856237951\n",
      "F1 Score is : 0.5403068340306834\n"
     ]
    }
   ],
   "source": [
    "print(\"Precision Score is :\",precision_score(y_test,y_pred1))\n",
    "print(\"Recall Score is :\",recall_score(y_test,y_pred1))\n",
    "print(\"F1 Score is :\",f1_score(y_test,y_pred1))"
   ]
  },
  {
   "cell_type": "markdown",
   "id": "6259e426",
   "metadata": {},
   "source": [
    "# SVC"
   ]
  },
  {
   "cell_type": "code",
   "execution_count": 97,
   "id": "c72499c6",
   "metadata": {},
   "outputs": [],
   "source": [
    "from sklearn import svm"
   ]
  },
  {
   "cell_type": "code",
   "execution_count": 98,
   "id": "b2b518e1",
   "metadata": {},
   "outputs": [],
   "source": [
    "svm = svm.SVC()"
   ]
  },
  {
   "cell_type": "code",
   "execution_count": 99,
   "id": "f73a4a71",
   "metadata": {},
   "outputs": [
    {
     "data": {
      "text/plain": [
       "SVC()"
      ]
     },
     "execution_count": 99,
     "metadata": {},
     "output_type": "execute_result"
    }
   ],
   "source": [
    "svm.fit(X_train_res,y_train)"
   ]
  },
  {
   "cell_type": "code",
   "execution_count": 100,
   "id": "66f80b63",
   "metadata": {},
   "outputs": [],
   "source": [
    "y_pred2 = svm.predict(X_test_res)"
   ]
  },
  {
   "cell_type": "code",
   "execution_count": 101,
   "id": "44584b12",
   "metadata": {},
   "outputs": [
    {
     "data": {
      "text/plain": [
       "0.7630477253698018"
      ]
     },
     "execution_count": 101,
     "metadata": {},
     "output_type": "execute_result"
    }
   ],
   "source": [
    "accuracy_score(y_test,y_pred2)"
   ]
  },
  {
   "cell_type": "markdown",
   "id": "e62c2d4f",
   "metadata": {},
   "source": [
    "here, we can see SVC is 76% accurate in this dataset"
   ]
  },
  {
   "cell_type": "markdown",
   "id": "22c3265b",
   "metadata": {},
   "source": [
    "Now, we will check precision score, recall score, and f1 score"
   ]
  },
  {
   "cell_type": "code",
   "execution_count": 102,
   "id": "fc5bdaca",
   "metadata": {},
   "outputs": [
    {
     "name": "stdout",
     "output_type": "stream",
     "text": [
      "Precision Score is : 0.7359043202343178\n",
      "Recall Score is : 0.8303497659047094\n",
      "F1 Score is : 0.78027950310559\n"
     ]
    }
   ],
   "source": [
    "print(\"Precision Score is :\",precision_score(y_test,y_pred2))\n",
    "print(\"Recall Score is :\",recall_score(y_test,y_pred2))\n",
    "print(\"F1 Score is :\",f1_score(y_test,y_pred2))"
   ]
  },
  {
   "cell_type": "markdown",
   "id": "664de845",
   "metadata": {},
   "source": [
    "# KNeighbors Classifier"
   ]
  },
  {
   "cell_type": "code",
   "execution_count": 103,
   "id": "9f7c9f30",
   "metadata": {},
   "outputs": [],
   "source": [
    "from sklearn.neighbors import KNeighborsClassifier"
   ]
  },
  {
   "cell_type": "code",
   "execution_count": 104,
   "id": "010d8474",
   "metadata": {},
   "outputs": [],
   "source": [
    "knn = KNeighborsClassifier()"
   ]
  },
  {
   "cell_type": "code",
   "execution_count": 105,
   "id": "b39bc4ac",
   "metadata": {},
   "outputs": [
    {
     "data": {
      "text/plain": [
       "KNeighborsClassifier()"
      ]
     },
     "execution_count": 105,
     "metadata": {},
     "output_type": "execute_result"
    }
   ],
   "source": [
    "knn.fit(X_train_res,y_train)"
   ]
  },
  {
   "cell_type": "code",
   "execution_count": 106,
   "id": "503c0660",
   "metadata": {},
   "outputs": [],
   "source": [
    "y_pred3 = knn.predict(X_test_res)"
   ]
  },
  {
   "cell_type": "code",
   "execution_count": 107,
   "id": "6bf58d45",
   "metadata": {},
   "outputs": [
    {
     "data": {
      "text/plain": [
       "0.7728160759140386"
      ]
     },
     "execution_count": 107,
     "metadata": {},
     "output_type": "execute_result"
    }
   ],
   "source": [
    "accuracy_score(y_test,y_pred3)"
   ]
  },
  {
   "cell_type": "markdown",
   "id": "9b746f02",
   "metadata": {},
   "source": [
    "here, we can see KNeighbors Classifier is 77% accurate in this dataset"
   ]
  },
  {
   "cell_type": "markdown",
   "id": "96a66ac9",
   "metadata": {},
   "source": [
    "Now, we will check precision score, recall score, and f1 score"
   ]
  },
  {
   "cell_type": "code",
   "execution_count": 113,
   "id": "9994c294",
   "metadata": {},
   "outputs": [
    {
     "name": "stdout",
     "output_type": "stream",
     "text": [
      "Precision Score is : 0.8366386554621849\n",
      "Recall Score is : 0.6854860919856789\n",
      "F1 Score is : 0.7535573720859823\n"
     ]
    }
   ],
   "source": [
    "print('Precision Score is :',precision_score(y_test,y_pred3))\n",
    "print(\"Recall Score is :\",recall_score(y_test,y_pred3))\n",
    "print(\"F1 Score is :\",f1_score(y_test,y_pred3))"
   ]
  },
  {
   "cell_type": "markdown",
   "id": "4253cb4d",
   "metadata": {},
   "source": [
    "# Decision Tree Classifier"
   ]
  },
  {
   "cell_type": "code",
   "execution_count": 108,
   "id": "5dc4fb8c",
   "metadata": {},
   "outputs": [],
   "source": [
    "from sklearn.tree import DecisionTreeClassifier"
   ]
  },
  {
   "cell_type": "code",
   "execution_count": 109,
   "id": "fdfe0374",
   "metadata": {},
   "outputs": [],
   "source": [
    "dt = DecisionTreeClassifier()"
   ]
  },
  {
   "cell_type": "code",
   "execution_count": 110,
   "id": "a6f04f9c",
   "metadata": {},
   "outputs": [
    {
     "data": {
      "text/plain": [
       "DecisionTreeClassifier()"
      ]
     },
     "execution_count": 110,
     "metadata": {},
     "output_type": "execute_result"
    }
   ],
   "source": [
    "dt.fit(X_train_res,y_train)"
   ]
  },
  {
   "cell_type": "code",
   "execution_count": 111,
   "id": "1b65abcd",
   "metadata": {},
   "outputs": [],
   "source": [
    "y_pred4 = dt.predict(X_test_res)"
   ]
  },
  {
   "cell_type": "code",
   "execution_count": 112,
   "id": "307437c4",
   "metadata": {},
   "outputs": [
    {
     "data": {
      "text/plain": [
       "0.7241138710577728"
      ]
     },
     "execution_count": 112,
     "metadata": {},
     "output_type": "execute_result"
    }
   ],
   "source": [
    "accuracy_score(y_test,y_pred4)"
   ]
  },
  {
   "cell_type": "markdown",
   "id": "1c3073e6",
   "metadata": {},
   "source": [
    "here, we can see Decision Tree is 72% accurate in this dataset"
   ]
  },
  {
   "cell_type": "code",
   "execution_count": 114,
   "id": "245dc227",
   "metadata": {},
   "outputs": [
    {
     "name": "stdout",
     "output_type": "stream",
     "text": [
      "Precision Score is : 0.9484815618221258\n",
      "Recall Score is : 0.4816854860919857\n",
      "F1 Score is : 0.6389041095890411\n"
     ]
    }
   ],
   "source": [
    "print('Precision Score is :',precision_score(y_test,y_pred4))\n",
    "print(\"Recall Score is :\",recall_score(y_test,y_pred4))\n",
    "print(\"F1 Score is :\",f1_score(y_test,y_pred4))"
   ]
  },
  {
   "cell_type": "markdown",
   "id": "b4ac543a",
   "metadata": {},
   "source": [
    "# Random Forest Classifier"
   ]
  },
  {
   "cell_type": "code",
   "execution_count": 115,
   "id": "67d2daee",
   "metadata": {},
   "outputs": [],
   "source": [
    "from sklearn.ensemble import RandomForestClassifier"
   ]
  },
  {
   "cell_type": "code",
   "execution_count": 116,
   "id": "cb9554eb",
   "metadata": {},
   "outputs": [],
   "source": [
    "rf = RandomForestClassifier()"
   ]
  },
  {
   "cell_type": "code",
   "execution_count": 117,
   "id": "b12dd236",
   "metadata": {},
   "outputs": [
    {
     "data": {
      "text/plain": [
       "RandomForestClassifier()"
      ]
     },
     "execution_count": 117,
     "metadata": {},
     "output_type": "execute_result"
    }
   ],
   "source": [
    "rf.fit(X_train_res,y_train)"
   ]
  },
  {
   "cell_type": "code",
   "execution_count": 118,
   "id": "eb8d7a56",
   "metadata": {},
   "outputs": [],
   "source": [
    "y_pred5 = rf.predict(X_test_res)"
   ]
  },
  {
   "cell_type": "code",
   "execution_count": 119,
   "id": "972bc18c",
   "metadata": {},
   "outputs": [
    {
     "data": {
      "text/plain": [
       "0.7394641361987162"
      ]
     },
     "execution_count": 119,
     "metadata": {},
     "output_type": "execute_result"
    }
   ],
   "source": [
    "accuracy_score(y_test,y_pred5)"
   ]
  },
  {
   "cell_type": "markdown",
   "id": "ce75ff61",
   "metadata": {},
   "source": [
    "here, we can see RandomForest is 73% accurate in this dataset"
   ]
  },
  {
   "cell_type": "markdown",
   "id": "b969c660",
   "metadata": {},
   "source": [
    "Now, we will check precision score, recall score, and f1 score"
   ]
  },
  {
   "cell_type": "code",
   "execution_count": 127,
   "id": "e2784f9d",
   "metadata": {},
   "outputs": [
    {
     "name": "stdout",
     "output_type": "stream",
     "text": [
      "Precision Score is : 0.9819672131147541\n",
      "Recall Score is : 0.49490498485265766\n",
      "F1 Score is : 0.6581212232191906\n"
     ]
    }
   ],
   "source": [
    "print(\"Precision Score is :\",precision_score(y_test,y_pred5))\n",
    "print(\"Recall Score is :\",recall_score(y_test,y_pred5))\n",
    "print(\"F1 Score is :\",f1_score(y_test,y_pred5))"
   ]
  },
  {
   "cell_type": "markdown",
   "id": "5095adf2",
   "metadata": {},
   "source": [
    "# Gradient Boosting Classifier"
   ]
  },
  {
   "cell_type": "code",
   "execution_count": 120,
   "id": "b56049e5",
   "metadata": {},
   "outputs": [],
   "source": [
    "from sklearn.ensemble import GradientBoostingClassifier"
   ]
  },
  {
   "cell_type": "code",
   "execution_count": 121,
   "id": "3e2ed9b5",
   "metadata": {},
   "outputs": [],
   "source": [
    "gbc = GradientBoostingClassifier()"
   ]
  },
  {
   "cell_type": "code",
   "execution_count": 122,
   "id": "c15e814b",
   "metadata": {},
   "outputs": [
    {
     "data": {
      "text/plain": [
       "GradientBoostingClassifier()"
      ]
     },
     "execution_count": 122,
     "metadata": {},
     "output_type": "execute_result"
    }
   ],
   "source": [
    "gbc.fit(X_train_res,y_train)"
   ]
  },
  {
   "cell_type": "code",
   "execution_count": 123,
   "id": "d57718e1",
   "metadata": {},
   "outputs": [],
   "source": [
    "y_pred6 = gbc.predict(X_test_res)"
   ]
  },
  {
   "cell_type": "code",
   "execution_count": 124,
   "id": "876f5d03",
   "metadata": {},
   "outputs": [
    {
     "data": {
      "text/plain": [
       "0.7408596148478929"
      ]
     },
     "execution_count": 124,
     "metadata": {},
     "output_type": "execute_result"
    }
   ],
   "source": [
    "accuracy_score(y_test,y_pred6)"
   ]
  },
  {
   "cell_type": "markdown",
   "id": "44d8891e",
   "metadata": {},
   "source": [
    "here, we can see Gradient Boosting Classifier is 74% accurate in this dataset"
   ]
  },
  {
   "cell_type": "markdown",
   "id": "ead644b4",
   "metadata": {},
   "source": [
    "Now, we will check precision score, recall score, and f1 score"
   ]
  },
  {
   "cell_type": "code",
   "execution_count": 125,
   "id": "bc1f427c",
   "metadata": {},
   "outputs": [
    {
     "name": "stdout",
     "output_type": "stream",
     "text": [
      "Precision Score is : 0.8588187702265372\n",
      "Recall Score is : 0.5846874139355549\n",
      "F1 Score is : 0.6957234147140751\n"
     ]
    }
   ],
   "source": [
    "print(\"Precision Score is :\",precision_score(y_test,y_pred6))\n",
    "print(\"Recall Score is :\",recall_score(y_test,y_pred6))\n",
    "print(\"F1 Score is :\",f1_score(y_test,y_pred6))"
   ]
  },
  {
   "cell_type": "markdown",
   "id": "61c67d2a",
   "metadata": {},
   "source": [
    "So let's visualize the resutl to find our best model"
   ]
  },
  {
   "cell_type": "code",
   "execution_count": 128,
   "id": "7cbf13ed",
   "metadata": {},
   "outputs": [],
   "source": [
    "final_data = pd.DataFrame({'Models':['LR','SVC','KNN','DT','RF','GBC'],\n",
    "                          'ACC':[accuracy_score(y_test,y_pred1)*100,\n",
    "                                accuracy_score(y_test,y_pred2)*100,\n",
    "                                accuracy_score(y_test,y_pred3)*100,\n",
    "                                accuracy_score(y_test,y_pred4)*100,\n",
    "                                accuracy_score(y_test,y_pred5)*100,\n",
    "                                accuracy_score(y_test,y_pred6)*100]})"
   ]
  },
  {
   "cell_type": "code",
   "execution_count": 129,
   "id": "1a326457",
   "metadata": {},
   "outputs": [
    {
     "data": {
      "text/html": [
       "<div>\n",
       "<style scoped>\n",
       "    .dataframe tbody tr th:only-of-type {\n",
       "        vertical-align: middle;\n",
       "    }\n",
       "\n",
       "    .dataframe tbody tr th {\n",
       "        vertical-align: top;\n",
       "    }\n",
       "\n",
       "    .dataframe thead th {\n",
       "        text-align: right;\n",
       "    }\n",
       "</style>\n",
       "<table border=\"1\" class=\"dataframe\">\n",
       "  <thead>\n",
       "    <tr style=\"text-align: right;\">\n",
       "      <th></th>\n",
       "      <th>Models</th>\n",
       "      <th>ACC</th>\n",
       "    </tr>\n",
       "  </thead>\n",
       "  <tbody>\n",
       "    <tr>\n",
       "      <th>0</th>\n",
       "      <td>LR</td>\n",
       "      <td>54.005024</td>\n",
       "    </tr>\n",
       "    <tr>\n",
       "      <th>1</th>\n",
       "      <td>SVC</td>\n",
       "      <td>76.304773</td>\n",
       "    </tr>\n",
       "    <tr>\n",
       "      <th>2</th>\n",
       "      <td>KNN</td>\n",
       "      <td>77.281608</td>\n",
       "    </tr>\n",
       "    <tr>\n",
       "      <th>3</th>\n",
       "      <td>DT</td>\n",
       "      <td>72.411387</td>\n",
       "    </tr>\n",
       "    <tr>\n",
       "      <th>4</th>\n",
       "      <td>RF</td>\n",
       "      <td>73.946414</td>\n",
       "    </tr>\n",
       "    <tr>\n",
       "      <th>5</th>\n",
       "      <td>GBC</td>\n",
       "      <td>74.085961</td>\n",
       "    </tr>\n",
       "  </tbody>\n",
       "</table>\n",
       "</div>"
      ],
      "text/plain": [
       "  Models        ACC\n",
       "0     LR  54.005024\n",
       "1    SVC  76.304773\n",
       "2    KNN  77.281608\n",
       "3     DT  72.411387\n",
       "4     RF  73.946414\n",
       "5    GBC  74.085961"
      ]
     },
     "execution_count": 129,
     "metadata": {},
     "output_type": "execute_result"
    }
   ],
   "source": [
    "final_data"
   ]
  },
  {
   "cell_type": "code",
   "execution_count": 130,
   "id": "1ae923fb",
   "metadata": {},
   "outputs": [
    {
     "data": {
      "text/plain": [
       "<AxesSubplot:xlabel='Models', ylabel='ACC'>"
      ]
     },
     "execution_count": 130,
     "metadata": {},
     "output_type": "execute_result"
    },
    {
     "data": {
      "image/png": "[encoded data removed]",
      "text/plain": [
       "<Figure size 432x288 with 1 Axes>"
      ]
     },
     "metadata": {
      "needs_background": "light"
     },
     "output_type": "display_data"
    }
   ],
   "source": [
    "sns.barplot(final_data['Models'],final_data['ACC'])"
   ]
  },
  {
   "cell_type": "markdown",
   "id": "a0c7fc33",
   "metadata": {},
   "source": [
    "here, we can see KNN is best perform in this dataset"
   ]
  },
  {
   "cell_type": "markdown",
   "id": "6afc50b4",
   "metadata": {},
   "source": [
    "so we can use KNN for prediction"
   ]
  },
  {
   "cell_type": "raw",
   "id": "2d7b1368",
   "metadata": {},
   "source": [
    "Now we can train the model for Regression problem"
   ]
  },
  {
   "cell_type": "markdown",
   "id": "f9417091",
   "metadata": {},
   "source": [
    "# Model Training"
   ]
  },
  {
   "cell_type": "markdown",
   "id": "b33274b3",
   "metadata": {},
   "source": [
    "# Linear Regression"
   ]
  },
  {
   "cell_type": "code",
   "execution_count": 131,
   "id": "9ace6012",
   "metadata": {},
   "outputs": [],
   "source": [
    "from sklearn.linear_model import LinearRegression\n",
    "from sklearn.ensemble import RandomForestRegressor\n",
    "from sklearn.ensemble import GradientBoostingRegressor"
   ]
  },
  {
   "cell_type": "code",
   "execution_count": 132,
   "id": "e5d39272",
   "metadata": {},
   "outputs": [
    {
     "data": {
      "text/plain": [
       "GradientBoostingRegressor()"
      ]
     },
     "execution_count": 132,
     "metadata": {},
     "output_type": "execute_result"
    }
   ],
   "source": [
    "lr1 = LinearRegression()\n",
    "lr1.fit(X1_train,y1_train)\n",
    "\n",
    "rf1 = RandomForestRegressor()\n",
    "rf1.fit(X1_train,y1_train)\n",
    "\n",
    "gr1 = GradientBoostingRegressor()\n",
    "gr1.fit(X1_train,y1_train)"
   ]
  },
  {
   "cell_type": "markdown",
   "id": "df39953f",
   "metadata": {},
   "source": [
    "# Prediction of test data"
   ]
  },
  {
   "cell_type": "code",
   "execution_count": 133,
   "id": "fc289755",
   "metadata": {},
   "outputs": [],
   "source": [
    "y_predi1 = lr1.predict(X1_test)\n",
    "y_predi2 = rf1.predict(X1_test)\n",
    "y_predi3 = gr1.predict(X1_test)"
   ]
  },
  {
   "cell_type": "code",
   "execution_count": 134,
   "id": "96d7528f",
   "metadata": {},
   "outputs": [],
   "source": [
    "df1 = pd.DataFrame({\"Actual\":y1_test,\"LR1\":y_predi1,\"RF1\":y_predi2,'GR1':y_predi3})"
   ]
  },
  {
   "cell_type": "code",
   "execution_count": 135,
   "id": "c3ecb434",
   "metadata": {},
   "outputs": [
    {
     "data": {
      "text/html": [
       "<div>\n",
       "<style scoped>\n",
       "    .dataframe tbody tr th:only-of-type {\n",
       "        vertical-align: middle;\n",
       "    }\n",
       "\n",
       "    .dataframe tbody tr th {\n",
       "        vertical-align: top;\n",
       "    }\n",
       "\n",
       "    .dataframe thead th {\n",
       "        text-align: right;\n",
       "    }\n",
       "</style>\n",
       "<table border=\"1\" class=\"dataframe\">\n",
       "  <thead>\n",
       "    <tr style=\"text-align: right;\">\n",
       "      <th></th>\n",
       "      <th>Actual</th>\n",
       "      <th>LR1</th>\n",
       "      <th>RF1</th>\n",
       "      <th>GR1</th>\n",
       "    </tr>\n",
       "  </thead>\n",
       "  <tbody>\n",
       "    <tr>\n",
       "      <th>1988</th>\n",
       "      <td>1.04</td>\n",
       "      <td>1.118717</td>\n",
       "      <td>0.9938</td>\n",
       "      <td>1.122312</td>\n",
       "    </tr>\n",
       "    <tr>\n",
       "      <th>319</th>\n",
       "      <td>0.98</td>\n",
       "      <td>1.032875</td>\n",
       "      <td>1.0697</td>\n",
       "      <td>1.004747</td>\n",
       "    </tr>\n",
       "    <tr>\n",
       "      <th>5833</th>\n",
       "      <td>1.39</td>\n",
       "      <td>1.231721</td>\n",
       "      <td>1.3948</td>\n",
       "      <td>1.436470</td>\n",
       "    </tr>\n",
       "    <tr>\n",
       "      <th>10797</th>\n",
       "      <td>1.87</td>\n",
       "      <td>1.610104</td>\n",
       "      <td>1.8778</td>\n",
       "      <td>1.856353</td>\n",
       "    </tr>\n",
       "    <tr>\n",
       "      <th>15632</th>\n",
       "      <td>1.97</td>\n",
       "      <td>1.693840</td>\n",
       "      <td>1.8787</td>\n",
       "      <td>1.801776</td>\n",
       "    </tr>\n",
       "    <tr>\n",
       "      <th>...</th>\n",
       "      <td>...</td>\n",
       "      <td>...</td>\n",
       "      <td>...</td>\n",
       "      <td>...</td>\n",
       "    </tr>\n",
       "    <tr>\n",
       "      <th>6840</th>\n",
       "      <td>1.45</td>\n",
       "      <td>1.200413</td>\n",
       "      <td>1.7877</td>\n",
       "      <td>1.415787</td>\n",
       "    </tr>\n",
       "    <tr>\n",
       "      <th>8283</th>\n",
       "      <td>1.89</td>\n",
       "      <td>1.190476</td>\n",
       "      <td>1.6357</td>\n",
       "      <td>1.327923</td>\n",
       "    </tr>\n",
       "    <tr>\n",
       "      <th>5121</th>\n",
       "      <td>0.95</td>\n",
       "      <td>1.142644</td>\n",
       "      <td>0.9220</td>\n",
       "      <td>1.036017</td>\n",
       "    </tr>\n",
       "    <tr>\n",
       "      <th>14391</th>\n",
       "      <td>1.51</td>\n",
       "      <td>1.651651</td>\n",
       "      <td>1.5797</td>\n",
       "      <td>1.480048</td>\n",
       "    </tr>\n",
       "    <tr>\n",
       "      <th>11851</th>\n",
       "      <td>1.81</td>\n",
       "      <td>1.604995</td>\n",
       "      <td>1.7328</td>\n",
       "      <td>1.474505</td>\n",
       "    </tr>\n",
       "  </tbody>\n",
       "</table>\n",
       "<p>3650 rows × 4 columns</p>\n",
       "</div>"
      ],
      "text/plain": [
       "       Actual       LR1     RF1       GR1\n",
       "1988     1.04  1.118717  0.9938  1.122312\n",
       "319      0.98  1.032875  1.0697  1.004747\n",
       "5833     1.39  1.231721  1.3948  1.436470\n",
       "10797    1.87  1.610104  1.8778  1.856353\n",
       "15632    1.97  1.693840  1.8787  1.801776\n",
       "...       ...       ...     ...       ...\n",
       "6840     1.45  1.200413  1.7877  1.415787\n",
       "8283     1.89  1.190476  1.6357  1.327923\n",
       "5121     0.95  1.142644  0.9220  1.036017\n",
       "14391    1.51  1.651651  1.5797  1.480048\n",
       "11851    1.81  1.604995  1.7328  1.474505\n",
       "\n",
       "[3650 rows x 4 columns]"
      ]
     },
     "execution_count": 135,
     "metadata": {},
     "output_type": "execute_result"
    }
   ],
   "source": [
    "df1"
   ]
  },
  {
   "cell_type": "markdown",
   "id": "8a0fab48",
   "metadata": {},
   "source": [
    "# Compare Performance visually"
   ]
  },
  {
   "cell_type": "markdown",
   "id": "97e11d6b",
   "metadata": {},
   "source": [
    "to find best model for regression problem"
   ]
  },
  {
   "cell_type": "code",
   "execution_count": 136,
   "id": "5de05d42",
   "metadata": {},
   "outputs": [
    {
     "data": {
      "text/plain": [
       "<matplotlib.legend.Legend at 0x1f8c9657c40>"
      ]
     },
     "execution_count": 136,
     "metadata": {},
     "output_type": "execute_result"
    },
    {
     "data": {
      "image/png": "[encoded data removed]",
      "text/plain": [
       "<Figure size 432x288 with 1 Axes>"
      ]
     },
     "metadata": {
      "needs_background": "light"
     },
     "output_type": "display_data"
    }
   ],
   "source": [
    "plt.subplot(221)\n",
    "plt.plot(df1['Actual'],label='Acutal')\n",
    "plt.plot(df1['LR1'],label='LR1')\n",
    "plt.legend()"
   ]
  },
  {
   "cell_type": "markdown",
   "id": "5e77cfbf",
   "metadata": {},
   "source": [
    "it is difficult to differentiate both the value acutal value and predicted value"
   ]
  },
  {
   "cell_type": "code",
   "execution_count": 137,
   "id": "0a1585a3",
   "metadata": {},
   "outputs": [
    {
     "data": {
      "image/png": "[encoded data removed]",
      "text/plain": [
       "<Figure size 432x288 with 1 Axes>"
      ]
     },
     "metadata": {
      "needs_background": "light"
     },
     "output_type": "display_data"
    }
   ],
   "source": [
    "plt.subplot(221)\n",
    "plt.plot(df1['Actual'].iloc[:11],label='Acutal')\n",
    "plt.plot(df1['LR1'].iloc[:11],label='LR1')\n",
    "plt.legend()\n",
    "plt.tight_layout()"
   ]
  },
  {
   "cell_type": "code",
   "execution_count": 138,
   "id": "a740add4",
   "metadata": {},
   "outputs": [
    {
     "data": {
      "image/png": "[encoded data removed]",
      "text/plain": [
       "<Figure size 432x288 with 1 Axes>"
      ]
     },
     "metadata": {
      "needs_background": "light"
     },
     "output_type": "display_data"
    }
   ],
   "source": [
    "plt.subplot(221)\n",
    "plt.plot(df1['Actual'].iloc[:11],label='Acutal')\n",
    "plt.plot(df1['RF1'].iloc[:11],label='RF1')\n",
    "plt.legend()\n",
    "plt.tight_layout()"
   ]
  },
  {
   "cell_type": "code",
   "execution_count": 139,
   "id": "bfa52e86",
   "metadata": {},
   "outputs": [
    {
     "data": {
      "image/png": "[encoded data removed]",
      "text/plain": [
       "<Figure size 432x288 with 1 Axes>"
      ]
     },
     "metadata": {
      "needs_background": "light"
     },
     "output_type": "display_data"
    }
   ],
   "source": [
    "plt.subplot(221)\n",
    "plt.plot(df1['Actual'].iloc[:11],label='Acutal')\n",
    "plt.plot(df1['GR1'].iloc[:11],label='GR1')\n",
    "plt.legend()\n",
    "plt.tight_layout()"
   ]
  },
  {
   "cell_type": "markdown",
   "id": "0222346e",
   "metadata": {},
   "source": [
    "I want to see this all actual value and predicted value for all model in single output."
   ]
  },
  {
   "cell_type": "markdown",
   "id": "80fbd6ef",
   "metadata": {},
   "source": [
    "# Evaluating the algorithm"
   ]
  },
  {
   "cell_type": "markdown",
   "id": "05fffa6c",
   "metadata": {},
   "source": [
    "we are going to evaluate our models or called as a algorithm using r2.\n",
    "\n",
    "R2 value is used to measure the goodness of fit greater the value of r2 better the regression model"
   ]
  },
  {
   "cell_type": "code",
   "execution_count": 140,
   "id": "786fbe65",
   "metadata": {},
   "outputs": [],
   "source": [
    "from sklearn import metrics"
   ]
  },
  {
   "cell_type": "code",
   "execution_count": 141,
   "id": "2f15d033",
   "metadata": {},
   "outputs": [],
   "source": [
    "score1 = metrics.r2_score(y1_test,y_predi1)\n",
    "score2 = metrics.r2_score(y1_test,y_predi2)\n",
    "score3 = metrics.r2_score(y1_test,y_predi3)"
   ]
  },
  {
   "cell_type": "code",
   "execution_count": 142,
   "id": "ef70074d",
   "metadata": {},
   "outputs": [
    {
     "name": "stdout",
     "output_type": "stream",
     "text": [
      "0.39549126970748616 0.8110083780633308 0.6539572627825914\n"
     ]
    }
   ],
   "source": [
    "print(score1,score2,score3)"
   ]
  },
  {
   "cell_type": "code",
   "execution_count": 143,
   "id": "b783e838",
   "metadata": {},
   "outputs": [],
   "source": [
    "s1 = metrics.mean_absolute_error(y1_test,y_predi1)\n",
    "s2 = metrics.mean_absolute_error(y1_test,y_predi2)\n",
    "s3 = metrics.mean_absolute_error(y1_test,y_predi3)"
   ]
  },
  {
   "cell_type": "code",
   "execution_count": 144,
   "id": "2a2c568f",
   "metadata": {},
   "outputs": [
    {
     "name": "stdout",
     "output_type": "stream",
     "text": [
      "0.23934047036099246 0.1192910684931507 0.17715641316054864\n"
     ]
    }
   ],
   "source": [
    "print(s1,s2,s3)"
   ]
  },
  {
   "cell_type": "markdown",
   "id": "93fade18",
   "metadata": {},
   "source": [
    "here s2 value is lesser then all another value so model 2 is the best model"
   ]
  },
  {
   "cell_type": "markdown",
   "id": "c461a107",
   "metadata": {},
   "source": [
    "# Predict Average price for new data"
   ]
  },
  {
   "cell_type": "code",
   "execution_count": 147,
   "id": "fb83e0a8",
   "metadata": {},
   "outputs": [],
   "source": [
    "data = {'Total Volumne':45343.53,'4046':1232.33,'4225':54545.44,'4770':34.34,'Total Bags':3434.54,\n",
    "       'Small Bags':3333.33,'Large Bags':98.33,'Xlarge Bags':0.0,'type':1.0,'year':2017,'region':1}"
   ]
  },
  {
   "cell_type": "code",
   "execution_count": 148,
   "id": "eafdce2e",
   "metadata": {},
   "outputs": [
    {
     "data": {
      "text/html": [
       "<div>\n",
       "<style scoped>\n",
       "    .dataframe tbody tr th:only-of-type {\n",
       "        vertical-align: middle;\n",
       "    }\n",
       "\n",
       "    .dataframe tbody tr th {\n",
       "        vertical-align: top;\n",
       "    }\n",
       "\n",
       "    .dataframe thead th {\n",
       "        text-align: right;\n",
       "    }\n",
       "</style>\n",
       "<table border=\"1\" class=\"dataframe\">\n",
       "  <thead>\n",
       "    <tr style=\"text-align: right;\">\n",
       "      <th></th>\n",
       "      <th>Total Volumne</th>\n",
       "      <th>4046</th>\n",
       "      <th>4225</th>\n",
       "      <th>4770</th>\n",
       "      <th>Total Bags</th>\n",
       "      <th>Small Bags</th>\n",
       "      <th>Large Bags</th>\n",
       "      <th>Xlarge Bags</th>\n",
       "      <th>type</th>\n",
       "      <th>year</th>\n",
       "      <th>region</th>\n",
       "    </tr>\n",
       "  </thead>\n",
       "  <tbody>\n",
       "    <tr>\n",
       "      <th>0</th>\n",
       "      <td>45343.53</td>\n",
       "      <td>1232.33</td>\n",
       "      <td>54545.44</td>\n",
       "      <td>34.34</td>\n",
       "      <td>3434.54</td>\n",
       "      <td>3333.33</td>\n",
       "      <td>98.33</td>\n",
       "      <td>0.0</td>\n",
       "      <td>1.0</td>\n",
       "      <td>2017</td>\n",
       "      <td>1</td>\n",
       "    </tr>\n",
       "  </tbody>\n",
       "</table>\n",
       "</div>"
      ],
      "text/plain": [
       "   Total Volumne     4046      4225   4770  Total Bags  Small Bags  \\\n",
       "0       45343.53  1232.33  54545.44  34.34     3434.54     3333.33   \n",
       "\n",
       "   Large Bags  Xlarge Bags  type  year  region  \n",
       "0       98.33          0.0   1.0  2017       1  "
      ]
     },
     "execution_count": 148,
     "metadata": {},
     "output_type": "execute_result"
    }
   ],
   "source": [
    "df1 = pd.DataFrame(data,index=[0])\n",
    "df1"
   ]
  },
  {
   "cell_type": "markdown",
   "id": "6f517bc1",
   "metadata": {},
   "source": [
    "i am using model 2 because that model is good"
   ]
  },
  {
   "cell_type": "code",
   "execution_count": 149,
   "id": "6461a3ca",
   "metadata": {},
   "outputs": [
    {
     "name": "stdout",
     "output_type": "stream",
     "text": [
      "[1.7022]\n"
     ]
    }
   ],
   "source": [
    "new_pred = rf1.predict(df1)\n",
    "print(new_pred)"
   ]
  },
  {
   "cell_type": "markdown",
   "id": "14ff7905",
   "metadata": {},
   "source": [
    "This is Average price of new data"
   ]
  },
  {
   "cell_type": "markdown",
   "id": "7c265f81",
   "metadata": {},
   "source": [
    "# Save the Model"
   ]
  },
  {
   "cell_type": "markdown",
   "id": "ee700b7c",
   "metadata": {},
   "source": [
    "Here we are save our best model KNeighbor Classfier model for classification problem.\n",
    "\n",
    "here, we can save our best model Random Forest Regression model for Regression problem."
   ]
  },
  {
   "cell_type": "code",
   "execution_count": 188,
   "id": "bc1b6f07",
   "metadata": {},
   "outputs": [],
   "source": [
    "X = df.drop('region',axis=1)\n",
    "y = df['region']"
   ]
  },
  {
   "cell_type": "code",
   "execution_count": 189,
   "id": "c3a6760e",
   "metadata": {},
   "outputs": [],
   "source": [
    "X1 = df.drop('AveragePrice',axis=1)\n",
    "y1 = df['AveragePrice']"
   ]
  },
  {
   "cell_type": "code",
   "execution_count": 190,
   "id": "e4888e96",
   "metadata": {},
   "outputs": [],
   "source": [
    "from imblearn.over_sampling import SMOTE"
   ]
  },
  {
   "cell_type": "code",
   "execution_count": 191,
   "id": "a7d0531f",
   "metadata": {},
   "outputs": [],
   "source": [
    "X_res,y_res = SMOTE().fit_resample(X,y)"
   ]
  },
  {
   "cell_type": "code",
   "execution_count": 192,
   "id": "a85c6355",
   "metadata": {},
   "outputs": [],
   "source": [
    "from sklearn.preprocessing import StandardScaler"
   ]
  },
  {
   "cell_type": "code",
   "execution_count": 193,
   "id": "25c042be",
   "metadata": {},
   "outputs": [],
   "source": [
    "st = StandardScaler()"
   ]
  },
  {
   "cell_type": "code",
   "execution_count": 194,
   "id": "6f0762b2",
   "metadata": {},
   "outputs": [],
   "source": [
    "X = st.fit_transform(X_res)"
   ]
  },
  {
   "cell_type": "code",
   "execution_count": 195,
   "id": "801f3a20",
   "metadata": {},
   "outputs": [],
   "source": [
    "X = pca.fit_transform(X)"
   ]
  },
  {
   "cell_type": "code",
   "execution_count": 196,
   "id": "ccfb2d34",
   "metadata": {},
   "outputs": [],
   "source": [
    "from sklearn.neighbors import KNeighborsClassifier"
   ]
  },
  {
   "cell_type": "code",
   "execution_count": 197,
   "id": "6a375823",
   "metadata": {},
   "outputs": [],
   "source": [
    "from sklearn.ensemble import RandomForestRegressor"
   ]
  },
  {
   "cell_type": "code",
   "execution_count": 198,
   "id": "6773fe1c",
   "metadata": {},
   "outputs": [],
   "source": [
    "knn = KNeighborsClassifier()"
   ]
  },
  {
   "cell_type": "code",
   "execution_count": 199,
   "id": "57bd5fce",
   "metadata": {},
   "outputs": [],
   "source": [
    "rf1 = RandomForestRegressor()"
   ]
  },
  {
   "cell_type": "code",
   "execution_count": 200,
   "id": "4d268d95",
   "metadata": {},
   "outputs": [
    {
     "data": {
      "text/plain": [
       "KNeighborsClassifier()"
      ]
     },
     "execution_count": 200,
     "metadata": {},
     "output_type": "execute_result"
    }
   ],
   "source": [
    "knn.fit(X,y_res)"
   ]
  },
  {
   "cell_type": "code",
   "execution_count": 201,
   "id": "158ac8bc",
   "metadata": {},
   "outputs": [
    {
     "data": {
      "text/plain": [
       "RandomForestRegressor()"
      ]
     },
     "execution_count": 201,
     "metadata": {},
     "output_type": "execute_result"
    }
   ],
   "source": [
    "rf1.fit(X1,y1)"
   ]
  },
  {
   "cell_type": "code",
   "execution_count": 202,
   "id": "03cf47b9",
   "metadata": {},
   "outputs": [],
   "source": [
    "import joblib"
   ]
  },
  {
   "cell_type": "code",
   "execution_count": 203,
   "id": "5158132f",
   "metadata": {},
   "outputs": [
    {
     "data": {
      "text/plain": [
       "['Avacado (region) Prediction']"
      ]
     },
     "execution_count": 203,
     "metadata": {},
     "output_type": "execute_result"
    }
   ],
   "source": [
    "joblib.dump(knn,'Avacado (region) Prediction')"
   ]
  },
  {
   "cell_type": "code",
   "execution_count": 204,
   "id": "12121bb9",
   "metadata": {},
   "outputs": [
    {
     "data": {
      "text/plain": [
       "['Avacado (Average Price) Prediction']"
      ]
     },
     "execution_count": 204,
     "metadata": {},
     "output_type": "execute_result"
    }
   ],
   "source": [
    "joblib.dump(rf1,'Avacado (Average Price) Prediction')"
   ]
  },
  {
   "cell_type": "code",
   "execution_count": 205,
   "id": "ce8a9f62",
   "metadata": {},
   "outputs": [],
   "source": [
    "model_region = joblib.load('Avacado (region) Prediction')"
   ]
  },
  {
   "cell_type": "code",
   "execution_count": 206,
   "id": "3f002588",
   "metadata": {},
   "outputs": [],
   "source": [
    "model_average = joblib.load('Avacado (Average Price) Prediction')"
   ]
  },
  {
   "cell_type": "markdown",
   "id": "e68d70f2",
   "metadata": {},
   "source": [
    "# Prediction region for New data"
   ]
  },
  {
   "cell_type": "code",
   "execution_count": 207,
   "id": "44f96c34",
   "metadata": {},
   "outputs": [],
   "source": [
    "new_data = pd.DataFrame({'AveragePrice':1.33,\n",
    "       'Total Volume':65763.33,\n",
    "       '4046':1036.33,\n",
    "       '4025':65653.33,\n",
    "       '4770':65.22,\n",
    "       'Total Bags':8747.55,\n",
    "       'Small Bags':8794.33,\n",
    "       'Large Bags':87.33,\n",
    "       'XLarge Bags':1.0,\n",
    "       'type':1.0,\n",
    "       'year':2016},index=[0])"
   ]
  },
  {
   "cell_type": "code",
   "execution_count": 208,
   "id": "91f3f581",
   "metadata": {},
   "outputs": [],
   "source": [
    "test = pca.transform(st.transform(new_data))"
   ]
  },
  {
   "cell_type": "code",
   "execution_count": 209,
   "id": "51934bc8",
   "metadata": {},
   "outputs": [],
   "source": [
    "result = model_region.predict(test)"
   ]
  },
  {
   "cell_type": "code",
   "execution_count": 210,
   "id": "a9d838b0",
   "metadata": {},
   "outputs": [
    {
     "data": {
      "text/html": [
       "<div>\n",
       "<style scoped>\n",
       "    .dataframe tbody tr th:only-of-type {\n",
       "        vertical-align: middle;\n",
       "    }\n",
       "\n",
       "    .dataframe tbody tr th {\n",
       "        vertical-align: top;\n",
       "    }\n",
       "\n",
       "    .dataframe thead th {\n",
       "        text-align: right;\n",
       "    }\n",
       "</style>\n",
       "<table border=\"1\" class=\"dataframe\">\n",
       "  <thead>\n",
       "    <tr style=\"text-align: right;\">\n",
       "      <th></th>\n",
       "      <th>Total Volumne</th>\n",
       "      <th>4046</th>\n",
       "      <th>4225</th>\n",
       "      <th>4770</th>\n",
       "      <th>Total Bags</th>\n",
       "      <th>Small Bags</th>\n",
       "      <th>Large Bags</th>\n",
       "      <th>Xlarge Bags</th>\n",
       "      <th>type</th>\n",
       "      <th>year</th>\n",
       "      <th>region</th>\n",
       "    </tr>\n",
       "  </thead>\n",
       "  <tbody>\n",
       "    <tr>\n",
       "      <th>0</th>\n",
       "      <td>45343.53</td>\n",
       "      <td>1232.33</td>\n",
       "      <td>54545.44</td>\n",
       "      <td>34.34</td>\n",
       "      <td>3434.54</td>\n",
       "      <td>3333.33</td>\n",
       "      <td>98.33</td>\n",
       "      <td>0.0</td>\n",
       "      <td>1.0</td>\n",
       "      <td>2017</td>\n",
       "      <td>1</td>\n",
       "    </tr>\n",
       "  </tbody>\n",
       "</table>\n",
       "</div>"
      ],
      "text/plain": [
       "   Total Volumne     4046      4225   4770  Total Bags  Small Bags  \\\n",
       "0       45343.53  1232.33  54545.44  34.34     3434.54     3333.33   \n",
       "\n",
       "   Large Bags  Xlarge Bags  type  year  region  \n",
       "0       98.33          0.0   1.0  2017       1  "
      ]
     },
     "execution_count": 210,
     "metadata": {},
     "output_type": "execute_result"
    }
   ],
   "source": [
    "df1"
   ]
  },
  {
   "cell_type": "code",
   "execution_count": 211,
   "id": "c957ddb1",
   "metadata": {},
   "outputs": [
    {
     "data": {
      "text/plain": [
       "array([1.7652])"
      ]
     },
     "execution_count": 211,
     "metadata": {},
     "output_type": "execute_result"
    }
   ],
   "source": [
    "# Prediction Average price\n",
    "model_average.predict(df1)"
   ]
  },
  {
   "cell_type": "code",
   "execution_count": 213,
   "id": "aa0c1ace",
   "metadata": {},
   "outputs": [
    {
     "name": "stdout",
     "output_type": "stream",
     "text": [
      "This is best region of the observation.\n"
     ]
    }
   ],
   "source": [
    "# Prediction Region\n",
    "if result[0]==0:\n",
    "    print(\"This is not best region of the observation\")\n",
    "else:\n",
    "    print(\"This is best region of the observation.\")"
   ]
  },
  {
   "cell_type": "code",
   "execution_count": null,
   "id": "d07cec26",
   "metadata": {},
   "outputs": [],
   "source": []
  }
 ],
 "metadata": {
  "kernelspec": {
   "display_name": "Python 3 (ipykernel)",
   "language": "python",
   "name": "python3"
  },
  "language_info": {
   "codemirror_mode": {
    "name": "ipython",
    "version": 3
   },
   "file_extension": ".py",
   "mimetype": "text/x-python",
   "name": "python",
   "nbconvert_exporter": "python",
   "pygments_lexer": "ipython3",
   "version": "3.9.12"
  }
 },
 "nbformat": 4,
 "nbformat_minor": 5
}
