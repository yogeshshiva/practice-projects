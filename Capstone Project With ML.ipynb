{
 "cells": [
  {
   "cell_type": "markdown",
   "id": "5db06720",
   "metadata": {},
   "source": [
    "# Basic Libraries"
   ]
  },
  {
   "cell_type": "code",
   "execution_count": 138,
   "id": "4106f847",
   "metadata": {},
   "outputs": [],
   "source": [
    "import numpy as np\n",
    "import pandas as pd\n",
    "import matplotlib.pyplot as plt\n",
    "import seaborn as sns\n",
    "import warnings\n",
    "warnings.filterwarnings('ignore')"
   ]
  },
  {
   "cell_type": "markdown",
   "id": "aeb5dad6",
   "metadata": {},
   "source": [
    "# Import The Dataset And Create The DataFrame¶"
   ]
  },
  {
   "cell_type": "code",
   "execution_count": 139,
   "id": "9fb61ea6",
   "metadata": {},
   "outputs": [
    {
     "data": {
      "text/html": [
       "<div>\n",
       "<style scoped>\n",
       "    .dataframe tbody tr th:only-of-type {\n",
       "        vertical-align: middle;\n",
       "    }\n",
       "\n",
       "    .dataframe tbody tr th {\n",
       "        vertical-align: top;\n",
       "    }\n",
       "\n",
       "    .dataframe thead th {\n",
       "        text-align: right;\n",
       "    }\n",
       "</style>\n",
       "<table border=\"1\" class=\"dataframe\">\n",
       "  <thead>\n",
       "    <tr style=\"text-align: right;\">\n",
       "      <th></th>\n",
       "      <th>SNo</th>\n",
       "      <th>Movie Name</th>\n",
       "      <th>Director1</th>\n",
       "      <th>Directorr2</th>\n",
       "      <th>Director3</th>\n",
       "      <th>Director4</th>\n",
       "      <th>Duration</th>\n",
       "      <th>Year</th>\n",
       "      <th>Ratings</th>\n",
       "    </tr>\n",
       "  </thead>\n",
       "  <tbody>\n",
       "    <tr>\n",
       "      <th>0</th>\n",
       "      <td>1</td>\n",
       "      <td>The Dark Knight</td>\n",
       "      <td>ChristopherNolan</td>\n",
       "      <td>-</td>\n",
       "      <td>-</td>\n",
       "      <td>-</td>\n",
       "      <td>152 min</td>\n",
       "      <td>2008</td>\n",
       "      <td>9.0</td>\n",
       "    </tr>\n",
       "    <tr>\n",
       "      <th>1</th>\n",
       "      <td>2</td>\n",
       "      <td>The Lord of the Rings: The Return of the King</td>\n",
       "      <td>PeterJackson</td>\n",
       "      <td>-</td>\n",
       "      <td>-</td>\n",
       "      <td>-</td>\n",
       "      <td>201 min</td>\n",
       "      <td>2003</td>\n",
       "      <td>9.0</td>\n",
       "    </tr>\n",
       "    <tr>\n",
       "      <th>2</th>\n",
       "      <td>3</td>\n",
       "      <td>Spider-Man: Across the Spider-Verse</td>\n",
       "      <td>JoaquimDosSantos</td>\n",
       "      <td>KempPowers</td>\n",
       "      <td>JustinK.Thompson</td>\n",
       "      <td>-</td>\n",
       "      <td>140 min</td>\n",
       "      <td>2023</td>\n",
       "      <td>8.9</td>\n",
       "    </tr>\n",
       "    <tr>\n",
       "      <th>3</th>\n",
       "      <td>4</td>\n",
       "      <td>Inception</td>\n",
       "      <td>ChristopherNolan</td>\n",
       "      <td>-</td>\n",
       "      <td>-</td>\n",
       "      <td>-</td>\n",
       "      <td>148 min</td>\n",
       "      <td>2010</td>\n",
       "      <td>8.8</td>\n",
       "    </tr>\n",
       "    <tr>\n",
       "      <th>4</th>\n",
       "      <td>5</td>\n",
       "      <td>The Lord of the Rings: The Fellowship of the Ring</td>\n",
       "      <td>PeterJackson</td>\n",
       "      <td>-</td>\n",
       "      <td>-</td>\n",
       "      <td>-</td>\n",
       "      <td>178 min</td>\n",
       "      <td>2001</td>\n",
       "      <td>8.8</td>\n",
       "    </tr>\n",
       "    <tr>\n",
       "      <th>...</th>\n",
       "      <td>...</td>\n",
       "      <td>...</td>\n",
       "      <td>...</td>\n",
       "      <td>...</td>\n",
       "      <td>...</td>\n",
       "      <td>...</td>\n",
       "      <td>...</td>\n",
       "      <td>...</td>\n",
       "      <td>...</td>\n",
       "    </tr>\n",
       "    <tr>\n",
       "      <th>1765</th>\n",
       "      <td>1766</td>\n",
       "      <td>Radhe</td>\n",
       "      <td>Prabhu Deva</td>\n",
       "      <td>-</td>\n",
       "      <td>-</td>\n",
       "      <td>-</td>\n",
       "      <td>109 min</td>\n",
       "      <td>2021</td>\n",
       "      <td>1.9</td>\n",
       "    </tr>\n",
       "    <tr>\n",
       "      <th>1766</th>\n",
       "      <td>1767</td>\n",
       "      <td>Race 3</td>\n",
       "      <td>Remo D'Souza</td>\n",
       "      <td>-</td>\n",
       "      <td>-</td>\n",
       "      <td>-</td>\n",
       "      <td>160 min</td>\n",
       "      <td>2018</td>\n",
       "      <td>1.9</td>\n",
       "    </tr>\n",
       "    <tr>\n",
       "      <th>1767</th>\n",
       "      <td>1768</td>\n",
       "      <td>Angels Apocalypse</td>\n",
       "      <td>Sean Cain</td>\n",
       "      <td>Enzo Zelocchi</td>\n",
       "      <td>-</td>\n",
       "      <td>-</td>\n",
       "      <td>85 min</td>\n",
       "      <td>2015</td>\n",
       "      <td>1.6</td>\n",
       "    </tr>\n",
       "    <tr>\n",
       "      <th>1768</th>\n",
       "      <td>1769</td>\n",
       "      <td>The Cost of Deception</td>\n",
       "      <td>Keith English</td>\n",
       "      <td>-</td>\n",
       "      <td>-</td>\n",
       "      <td>-</td>\n",
       "      <td>125 min</td>\n",
       "      <td>2021</td>\n",
       "      <td>1.5</td>\n",
       "    </tr>\n",
       "    <tr>\n",
       "      <th>1769</th>\n",
       "      <td>1770</td>\n",
       "      <td>Sadak 2</td>\n",
       "      <td>Mahesh Bhatt</td>\n",
       "      <td>-</td>\n",
       "      <td>-</td>\n",
       "      <td>-</td>\n",
       "      <td>133 min</td>\n",
       "      <td>2020</td>\n",
       "      <td>1.2</td>\n",
       "    </tr>\n",
       "  </tbody>\n",
       "</table>\n",
       "<p>1770 rows × 9 columns</p>\n",
       "</div>"
      ],
      "text/plain": [
       "       SNo                                         Movie Name  \\\n",
       "0        1                                    The Dark Knight   \n",
       "1        2      The Lord of the Rings: The Return of the King   \n",
       "2        3                Spider-Man: Across the Spider-Verse   \n",
       "3        4                                          Inception   \n",
       "4        5  The Lord of the Rings: The Fellowship of the Ring   \n",
       "...    ...                                                ...   \n",
       "1765  1766                                              Radhe   \n",
       "1766  1767                                             Race 3   \n",
       "1767  1768                                  Angels Apocalypse   \n",
       "1768  1769                              The Cost of Deception   \n",
       "1769  1770                                            Sadak 2   \n",
       "\n",
       "             Director1      Directorr2         Director3 Director4 Duration  \\\n",
       "0     ChristopherNolan               -                 -         -  152 min   \n",
       "1         PeterJackson               -                 -         -  201 min   \n",
       "2     JoaquimDosSantos      KempPowers  JustinK.Thompson         -  140 min   \n",
       "3     ChristopherNolan               -                 -         -  148 min   \n",
       "4         PeterJackson               -                 -         -  178 min   \n",
       "...                ...             ...               ...       ...      ...   \n",
       "1765       Prabhu Deva               -                 -         -  109 min   \n",
       "1766      Remo D'Souza               -                 -         -  160 min   \n",
       "1767         Sean Cain   Enzo Zelocchi                 -         -   85 min   \n",
       "1768     Keith English               -                 -         -  125 min   \n",
       "1769      Mahesh Bhatt               -                 -         -  133 min   \n",
       "\n",
       "      Year  Ratings  \n",
       "0     2008      9.0  \n",
       "1     2003      9.0  \n",
       "2     2023      8.9  \n",
       "3     2010      8.8  \n",
       "4     2001      8.8  \n",
       "...    ...      ...  \n",
       "1765  2021      1.9  \n",
       "1766  2018      1.9  \n",
       "1767  2015      1.6  \n",
       "1768  2021      1.5  \n",
       "1769  2020      1.2  \n",
       "\n",
       "[1770 rows x 9 columns]"
      ]
     },
     "execution_count": 139,
     "metadata": {},
     "output_type": "execute_result"
    }
   ],
   "source": [
    "df1 = pd.read_csv('Capstone_Table1.csv')\n",
    "df1"
   ]
  },
  {
   "cell_type": "code",
   "execution_count": 140,
   "id": "54f23c1f",
   "metadata": {},
   "outputs": [
    {
     "data": {
      "text/html": [
       "<div>\n",
       "<style scoped>\n",
       "    .dataframe tbody tr th:only-of-type {\n",
       "        vertical-align: middle;\n",
       "    }\n",
       "\n",
       "    .dataframe tbody tr th {\n",
       "        vertical-align: top;\n",
       "    }\n",
       "\n",
       "    .dataframe thead th {\n",
       "        text-align: right;\n",
       "    }\n",
       "</style>\n",
       "<table border=\"1\" class=\"dataframe\">\n",
       "  <thead>\n",
       "    <tr style=\"text-align: right;\">\n",
       "      <th></th>\n",
       "      <th>Star1</th>\n",
       "      <th>Star2</th>\n",
       "      <th>Star3</th>\n",
       "      <th>Star4</th>\n",
       "      <th>Votes</th>\n",
       "      <th>Genre1</th>\n",
       "      <th>Genre2</th>\n",
       "      <th>Genre3</th>\n",
       "      <th>Gross_Collection</th>\n",
       "      <th>Certification</th>\n",
       "      <th>Popularity</th>\n",
       "    </tr>\n",
       "  </thead>\n",
       "  <tbody>\n",
       "    <tr>\n",
       "      <th>0</th>\n",
       "      <td>ChristianBale</td>\n",
       "      <td>HeathLedger</td>\n",
       "      <td>AaronEckhart</td>\n",
       "      <td>MichaelCaine</td>\n",
       "      <td>2742002</td>\n",
       "      <td>Action</td>\n",
       "      <td>Crime</td>\n",
       "      <td>Drama</td>\n",
       "      <td>534.86M</td>\n",
       "      <td>PG-13</td>\n",
       "      <td>Mission: Impossible - Dead Reckoning Part One</td>\n",
       "    </tr>\n",
       "    <tr>\n",
       "      <th>1</th>\n",
       "      <td>ElijahWood</td>\n",
       "      <td>ViggoMortensen</td>\n",
       "      <td>IanMcKellen</td>\n",
       "      <td>OrlandoBloom</td>\n",
       "      <td>1899372</td>\n",
       "      <td>Action</td>\n",
       "      <td>Adventure</td>\n",
       "      <td>Drama</td>\n",
       "      <td>377.85M</td>\n",
       "      <td>PG-13</td>\n",
       "      <td>Sound of Freedom</td>\n",
       "    </tr>\n",
       "    <tr>\n",
       "      <th>2</th>\n",
       "      <td>ShameikMoore</td>\n",
       "      <td>HaileeSteinfeld</td>\n",
       "      <td>BrianTyreeHenry</td>\n",
       "      <td>LunaLaurenVelez</td>\n",
       "      <td>186672</td>\n",
       "      <td>Animation</td>\n",
       "      <td>Action</td>\n",
       "      <td>Adventure</td>\n",
       "      <td>-</td>\n",
       "      <td>PG</td>\n",
       "      <td>Indiana Jones and the Dial of Destiny</td>\n",
       "    </tr>\n",
       "    <tr>\n",
       "      <th>3</th>\n",
       "      <td>LeonardoDiCaprio</td>\n",
       "      <td>JosephGordon-Levitt</td>\n",
       "      <td>ElliotPage</td>\n",
       "      <td>KenWatanabe</td>\n",
       "      <td>2433238</td>\n",
       "      <td>Action</td>\n",
       "      <td>Adventure</td>\n",
       "      <td>Sci-Fi</td>\n",
       "      <td>292.58M</td>\n",
       "      <td>PG-13</td>\n",
       "      <td>Guardians of the Galaxy Vol. 3</td>\n",
       "    </tr>\n",
       "    <tr>\n",
       "      <th>4</th>\n",
       "      <td>ElijahWood</td>\n",
       "      <td>IanMcKellen</td>\n",
       "      <td>OrlandoBloom</td>\n",
       "      <td>SeanBean</td>\n",
       "      <td>1927794</td>\n",
       "      <td>Action</td>\n",
       "      <td>Adventure</td>\n",
       "      <td>Drama</td>\n",
       "      <td>315.54M</td>\n",
       "      <td>PG-13</td>\n",
       "      <td>Transformers: Rise of the Beasts</td>\n",
       "    </tr>\n",
       "    <tr>\n",
       "      <th>...</th>\n",
       "      <td>...</td>\n",
       "      <td>...</td>\n",
       "      <td>...</td>\n",
       "      <td>...</td>\n",
       "      <td>...</td>\n",
       "      <td>...</td>\n",
       "      <td>...</td>\n",
       "      <td>...</td>\n",
       "      <td>...</td>\n",
       "      <td>...</td>\n",
       "      <td>...</td>\n",
       "    </tr>\n",
       "    <tr>\n",
       "      <th>1765</th>\n",
       "      <td>SalmanKhan</td>\n",
       "      <td>DishaPatani</td>\n",
       "      <td>RandeepHooda</td>\n",
       "      <td>JackieShroff</td>\n",
       "      <td>179060</td>\n",
       "      <td>Action</td>\n",
       "      <td>Crime</td>\n",
       "      <td>Thriller</td>\n",
       "      <td>-</td>\n",
       "      <td>-</td>\n",
       "      <td>The Legend</td>\n",
       "    </tr>\n",
       "    <tr>\n",
       "      <th>1766</th>\n",
       "      <td>AnilKapoor</td>\n",
       "      <td>SalmanKhan</td>\n",
       "      <td>BobbyDeol</td>\n",
       "      <td>JacquelineFernandez</td>\n",
       "      <td>47815</td>\n",
       "      <td>Action</td>\n",
       "      <td>Crime</td>\n",
       "      <td>Thriller</td>\n",
       "      <td>1.69M</td>\n",
       "      <td>-</td>\n",
       "      <td>Coolie No. 1</td>\n",
       "    </tr>\n",
       "    <tr>\n",
       "      <th>1767</th>\n",
       "      <td>EnzoZelocchi</td>\n",
       "      <td>JanaRochelle</td>\n",
       "      <td>RyanC.F.Buckley</td>\n",
       "      <td>WilliamKirkham</td>\n",
       "      <td>42919</td>\n",
       "      <td>Action</td>\n",
       "      <td>Fantasy</td>\n",
       "      <td>Sci-Fi</td>\n",
       "      <td>-</td>\n",
       "      <td>-</td>\n",
       "      <td>Angels Apocalypse</td>\n",
       "    </tr>\n",
       "    <tr>\n",
       "      <th>1768</th>\n",
       "      <td>VivianneBanovits</td>\n",
       "      <td>AndrasMozes</td>\n",
       "      <td>BarnaBokor</td>\n",
       "      <td>GabriellaGubas</td>\n",
       "      <td>39601</td>\n",
       "      <td>Action</td>\n",
       "      <td>Crime</td>\n",
       "      <td>Drama</td>\n",
       "      <td>-</td>\n",
       "      <td>-</td>\n",
       "      <td>The Way to Paradise</td>\n",
       "    </tr>\n",
       "    <tr>\n",
       "      <th>1769</th>\n",
       "      <td>AliaBhatt</td>\n",
       "      <td>PoojaBhatt</td>\n",
       "      <td>AdityaRoyKapoor</td>\n",
       "      <td>SanjayDutt</td>\n",
       "      <td>96354</td>\n",
       "      <td>Action</td>\n",
       "      <td>Drama</td>\n",
       "      <td>-</td>\n",
       "      <td>-</td>\n",
       "      <td>-</td>\n",
       "      <td>Crimea</td>\n",
       "    </tr>\n",
       "  </tbody>\n",
       "</table>\n",
       "<p>1770 rows × 11 columns</p>\n",
       "</div>"
      ],
      "text/plain": [
       "                 Star1                Star2            Star3  \\\n",
       "0        ChristianBale          HeathLedger     AaronEckhart   \n",
       "1           ElijahWood       ViggoMortensen      IanMcKellen   \n",
       "2         ShameikMoore      HaileeSteinfeld  BrianTyreeHenry   \n",
       "3     LeonardoDiCaprio  JosephGordon-Levitt       ElliotPage   \n",
       "4           ElijahWood          IanMcKellen     OrlandoBloom   \n",
       "...                ...                  ...              ...   \n",
       "1765        SalmanKhan          DishaPatani     RandeepHooda   \n",
       "1766        AnilKapoor           SalmanKhan        BobbyDeol   \n",
       "1767      EnzoZelocchi         JanaRochelle  RyanC.F.Buckley   \n",
       "1768  VivianneBanovits          AndrasMozes       BarnaBokor   \n",
       "1769         AliaBhatt           PoojaBhatt  AdityaRoyKapoor   \n",
       "\n",
       "                    Star4    Votes     Genre1      Genre2      Genre3  \\\n",
       "0            MichaelCaine  2742002     Action       Crime       Drama   \n",
       "1            OrlandoBloom  1899372     Action   Adventure       Drama   \n",
       "2         LunaLaurenVelez   186672  Animation      Action   Adventure   \n",
       "3             KenWatanabe  2433238     Action   Adventure      Sci-Fi   \n",
       "4                SeanBean  1927794     Action   Adventure       Drama   \n",
       "...                   ...      ...        ...         ...         ...   \n",
       "1765         JackieShroff   179060     Action       Crime    Thriller   \n",
       "1766  JacquelineFernandez    47815     Action       Crime    Thriller   \n",
       "1767       WilliamKirkham    42919     Action     Fantasy      Sci-Fi   \n",
       "1768       GabriellaGubas    39601     Action       Crime       Drama   \n",
       "1769           SanjayDutt    96354     Action       Drama           -   \n",
       "\n",
       "     Gross_Collection Certification  \\\n",
       "0             534.86M         PG-13   \n",
       "1             377.85M         PG-13   \n",
       "2                   -            PG   \n",
       "3             292.58M         PG-13   \n",
       "4             315.54M         PG-13   \n",
       "...               ...           ...   \n",
       "1765                -             -   \n",
       "1766            1.69M             -   \n",
       "1767                -             -   \n",
       "1768                -             -   \n",
       "1769                -             -   \n",
       "\n",
       "                                         Popularity  \n",
       "0     Mission: Impossible - Dead Reckoning Part One  \n",
       "1                                  Sound of Freedom  \n",
       "2             Indiana Jones and the Dial of Destiny  \n",
       "3                    Guardians of the Galaxy Vol. 3  \n",
       "4                  Transformers: Rise of the Beasts  \n",
       "...                                             ...  \n",
       "1765                                     The Legend  \n",
       "1766                                   Coolie No. 1  \n",
       "1767                              Angels Apocalypse  \n",
       "1768                            The Way to Paradise  \n",
       "1769                                         Crimea  \n",
       "\n",
       "[1770 rows x 11 columns]"
      ]
     },
     "execution_count": 140,
     "metadata": {},
     "output_type": "execute_result"
    }
   ],
   "source": [
    "df2 = pd.read_csv('C://Users//sharm//Downloads//Capstone2.csv', encoding='latin-1')\n",
    "df2"
   ]
  },
  {
   "cell_type": "code",
   "execution_count": 141,
   "id": "bb383476",
   "metadata": {},
   "outputs": [
    {
     "data": {
      "text/html": [
       "<div>\n",
       "<style scoped>\n",
       "    .dataframe tbody tr th:only-of-type {\n",
       "        vertical-align: middle;\n",
       "    }\n",
       "\n",
       "    .dataframe tbody tr th {\n",
       "        vertical-align: top;\n",
       "    }\n",
       "\n",
       "    .dataframe thead th {\n",
       "        text-align: right;\n",
       "    }\n",
       "</style>\n",
       "<table border=\"1\" class=\"dataframe\">\n",
       "  <thead>\n",
       "    <tr style=\"text-align: right;\">\n",
       "      <th></th>\n",
       "      <th>SNo</th>\n",
       "      <th>Movie Name</th>\n",
       "      <th>Director1</th>\n",
       "      <th>Directorr2</th>\n",
       "      <th>Director3</th>\n",
       "      <th>Director4</th>\n",
       "      <th>Duration</th>\n",
       "      <th>Year</th>\n",
       "      <th>Ratings</th>\n",
       "      <th>Star1</th>\n",
       "      <th>Star2</th>\n",
       "      <th>Star3</th>\n",
       "      <th>Star4</th>\n",
       "      <th>Votes</th>\n",
       "      <th>Genre1</th>\n",
       "      <th>Genre2</th>\n",
       "      <th>Genre3</th>\n",
       "      <th>Gross_Collection</th>\n",
       "      <th>Certification</th>\n",
       "      <th>Popularity</th>\n",
       "    </tr>\n",
       "  </thead>\n",
       "  <tbody>\n",
       "    <tr>\n",
       "      <th>0</th>\n",
       "      <td>1</td>\n",
       "      <td>The Dark Knight</td>\n",
       "      <td>ChristopherNolan</td>\n",
       "      <td>-</td>\n",
       "      <td>-</td>\n",
       "      <td>-</td>\n",
       "      <td>152 min</td>\n",
       "      <td>2008</td>\n",
       "      <td>9.0</td>\n",
       "      <td>ChristianBale</td>\n",
       "      <td>HeathLedger</td>\n",
       "      <td>AaronEckhart</td>\n",
       "      <td>MichaelCaine</td>\n",
       "      <td>2742002</td>\n",
       "      <td>Action</td>\n",
       "      <td>Crime</td>\n",
       "      <td>Drama</td>\n",
       "      <td>534.86M</td>\n",
       "      <td>PG-13</td>\n",
       "      <td>Mission: Impossible - Dead Reckoning Part One</td>\n",
       "    </tr>\n",
       "    <tr>\n",
       "      <th>1</th>\n",
       "      <td>2</td>\n",
       "      <td>The Lord of the Rings: The Return of the King</td>\n",
       "      <td>PeterJackson</td>\n",
       "      <td>-</td>\n",
       "      <td>-</td>\n",
       "      <td>-</td>\n",
       "      <td>201 min</td>\n",
       "      <td>2003</td>\n",
       "      <td>9.0</td>\n",
       "      <td>ElijahWood</td>\n",
       "      <td>ViggoMortensen</td>\n",
       "      <td>IanMcKellen</td>\n",
       "      <td>OrlandoBloom</td>\n",
       "      <td>1899372</td>\n",
       "      <td>Action</td>\n",
       "      <td>Adventure</td>\n",
       "      <td>Drama</td>\n",
       "      <td>377.85M</td>\n",
       "      <td>PG-13</td>\n",
       "      <td>Sound of Freedom</td>\n",
       "    </tr>\n",
       "    <tr>\n",
       "      <th>2</th>\n",
       "      <td>3</td>\n",
       "      <td>Spider-Man: Across the Spider-Verse</td>\n",
       "      <td>JoaquimDosSantos</td>\n",
       "      <td>KempPowers</td>\n",
       "      <td>JustinK.Thompson</td>\n",
       "      <td>-</td>\n",
       "      <td>140 min</td>\n",
       "      <td>2023</td>\n",
       "      <td>8.9</td>\n",
       "      <td>ShameikMoore</td>\n",
       "      <td>HaileeSteinfeld</td>\n",
       "      <td>BrianTyreeHenry</td>\n",
       "      <td>LunaLaurenVelez</td>\n",
       "      <td>186672</td>\n",
       "      <td>Animation</td>\n",
       "      <td>Action</td>\n",
       "      <td>Adventure</td>\n",
       "      <td>-</td>\n",
       "      <td>PG</td>\n",
       "      <td>Indiana Jones and the Dial of Destiny</td>\n",
       "    </tr>\n",
       "    <tr>\n",
       "      <th>3</th>\n",
       "      <td>4</td>\n",
       "      <td>Inception</td>\n",
       "      <td>ChristopherNolan</td>\n",
       "      <td>-</td>\n",
       "      <td>-</td>\n",
       "      <td>-</td>\n",
       "      <td>148 min</td>\n",
       "      <td>2010</td>\n",
       "      <td>8.8</td>\n",
       "      <td>LeonardoDiCaprio</td>\n",
       "      <td>JosephGordon-Levitt</td>\n",
       "      <td>ElliotPage</td>\n",
       "      <td>KenWatanabe</td>\n",
       "      <td>2433238</td>\n",
       "      <td>Action</td>\n",
       "      <td>Adventure</td>\n",
       "      <td>Sci-Fi</td>\n",
       "      <td>292.58M</td>\n",
       "      <td>PG-13</td>\n",
       "      <td>Guardians of the Galaxy Vol. 3</td>\n",
       "    </tr>\n",
       "    <tr>\n",
       "      <th>4</th>\n",
       "      <td>5</td>\n",
       "      <td>The Lord of the Rings: The Fellowship of the Ring</td>\n",
       "      <td>PeterJackson</td>\n",
       "      <td>-</td>\n",
       "      <td>-</td>\n",
       "      <td>-</td>\n",
       "      <td>178 min</td>\n",
       "      <td>2001</td>\n",
       "      <td>8.8</td>\n",
       "      <td>ElijahWood</td>\n",
       "      <td>IanMcKellen</td>\n",
       "      <td>OrlandoBloom</td>\n",
       "      <td>SeanBean</td>\n",
       "      <td>1927794</td>\n",
       "      <td>Action</td>\n",
       "      <td>Adventure</td>\n",
       "      <td>Drama</td>\n",
       "      <td>315.54M</td>\n",
       "      <td>PG-13</td>\n",
       "      <td>Transformers: Rise of the Beasts</td>\n",
       "    </tr>\n",
       "    <tr>\n",
       "      <th>...</th>\n",
       "      <td>...</td>\n",
       "      <td>...</td>\n",
       "      <td>...</td>\n",
       "      <td>...</td>\n",
       "      <td>...</td>\n",
       "      <td>...</td>\n",
       "      <td>...</td>\n",
       "      <td>...</td>\n",
       "      <td>...</td>\n",
       "      <td>...</td>\n",
       "      <td>...</td>\n",
       "      <td>...</td>\n",
       "      <td>...</td>\n",
       "      <td>...</td>\n",
       "      <td>...</td>\n",
       "      <td>...</td>\n",
       "      <td>...</td>\n",
       "      <td>...</td>\n",
       "      <td>...</td>\n",
       "      <td>...</td>\n",
       "    </tr>\n",
       "    <tr>\n",
       "      <th>1765</th>\n",
       "      <td>1766</td>\n",
       "      <td>Radhe</td>\n",
       "      <td>Prabhu Deva</td>\n",
       "      <td>-</td>\n",
       "      <td>-</td>\n",
       "      <td>-</td>\n",
       "      <td>109 min</td>\n",
       "      <td>2021</td>\n",
       "      <td>1.9</td>\n",
       "      <td>SalmanKhan</td>\n",
       "      <td>DishaPatani</td>\n",
       "      <td>RandeepHooda</td>\n",
       "      <td>JackieShroff</td>\n",
       "      <td>179060</td>\n",
       "      <td>Action</td>\n",
       "      <td>Crime</td>\n",
       "      <td>Thriller</td>\n",
       "      <td>-</td>\n",
       "      <td>-</td>\n",
       "      <td>The Legend</td>\n",
       "    </tr>\n",
       "    <tr>\n",
       "      <th>1766</th>\n",
       "      <td>1767</td>\n",
       "      <td>Race 3</td>\n",
       "      <td>Remo D'Souza</td>\n",
       "      <td>-</td>\n",
       "      <td>-</td>\n",
       "      <td>-</td>\n",
       "      <td>160 min</td>\n",
       "      <td>2018</td>\n",
       "      <td>1.9</td>\n",
       "      <td>AnilKapoor</td>\n",
       "      <td>SalmanKhan</td>\n",
       "      <td>BobbyDeol</td>\n",
       "      <td>JacquelineFernandez</td>\n",
       "      <td>47815</td>\n",
       "      <td>Action</td>\n",
       "      <td>Crime</td>\n",
       "      <td>Thriller</td>\n",
       "      <td>1.69M</td>\n",
       "      <td>-</td>\n",
       "      <td>Coolie No. 1</td>\n",
       "    </tr>\n",
       "    <tr>\n",
       "      <th>1767</th>\n",
       "      <td>1768</td>\n",
       "      <td>Angels Apocalypse</td>\n",
       "      <td>Sean Cain</td>\n",
       "      <td>Enzo Zelocchi</td>\n",
       "      <td>-</td>\n",
       "      <td>-</td>\n",
       "      <td>85 min</td>\n",
       "      <td>2015</td>\n",
       "      <td>1.6</td>\n",
       "      <td>EnzoZelocchi</td>\n",
       "      <td>JanaRochelle</td>\n",
       "      <td>RyanC.F.Buckley</td>\n",
       "      <td>WilliamKirkham</td>\n",
       "      <td>42919</td>\n",
       "      <td>Action</td>\n",
       "      <td>Fantasy</td>\n",
       "      <td>Sci-Fi</td>\n",
       "      <td>-</td>\n",
       "      <td>-</td>\n",
       "      <td>Angels Apocalypse</td>\n",
       "    </tr>\n",
       "    <tr>\n",
       "      <th>1768</th>\n",
       "      <td>1769</td>\n",
       "      <td>The Cost of Deception</td>\n",
       "      <td>Keith English</td>\n",
       "      <td>-</td>\n",
       "      <td>-</td>\n",
       "      <td>-</td>\n",
       "      <td>125 min</td>\n",
       "      <td>2021</td>\n",
       "      <td>1.5</td>\n",
       "      <td>VivianneBanovits</td>\n",
       "      <td>AndrasMozes</td>\n",
       "      <td>BarnaBokor</td>\n",
       "      <td>GabriellaGubas</td>\n",
       "      <td>39601</td>\n",
       "      <td>Action</td>\n",
       "      <td>Crime</td>\n",
       "      <td>Drama</td>\n",
       "      <td>-</td>\n",
       "      <td>-</td>\n",
       "      <td>The Way to Paradise</td>\n",
       "    </tr>\n",
       "    <tr>\n",
       "      <th>1769</th>\n",
       "      <td>1770</td>\n",
       "      <td>Sadak 2</td>\n",
       "      <td>Mahesh Bhatt</td>\n",
       "      <td>-</td>\n",
       "      <td>-</td>\n",
       "      <td>-</td>\n",
       "      <td>133 min</td>\n",
       "      <td>2020</td>\n",
       "      <td>1.2</td>\n",
       "      <td>AliaBhatt</td>\n",
       "      <td>PoojaBhatt</td>\n",
       "      <td>AdityaRoyKapoor</td>\n",
       "      <td>SanjayDutt</td>\n",
       "      <td>96354</td>\n",
       "      <td>Action</td>\n",
       "      <td>Drama</td>\n",
       "      <td>-</td>\n",
       "      <td>-</td>\n",
       "      <td>-</td>\n",
       "      <td>Crimea</td>\n",
       "    </tr>\n",
       "  </tbody>\n",
       "</table>\n",
       "<p>1770 rows × 20 columns</p>\n",
       "</div>"
      ],
      "text/plain": [
       "       SNo                                         Movie Name  \\\n",
       "0        1                                    The Dark Knight   \n",
       "1        2      The Lord of the Rings: The Return of the King   \n",
       "2        3                Spider-Man: Across the Spider-Verse   \n",
       "3        4                                          Inception   \n",
       "4        5  The Lord of the Rings: The Fellowship of the Ring   \n",
       "...    ...                                                ...   \n",
       "1765  1766                                              Radhe   \n",
       "1766  1767                                             Race 3   \n",
       "1767  1768                                  Angels Apocalypse   \n",
       "1768  1769                              The Cost of Deception   \n",
       "1769  1770                                            Sadak 2   \n",
       "\n",
       "             Director1      Directorr2         Director3 Director4 Duration  \\\n",
       "0     ChristopherNolan               -                 -         -  152 min   \n",
       "1         PeterJackson               -                 -         -  201 min   \n",
       "2     JoaquimDosSantos      KempPowers  JustinK.Thompson         -  140 min   \n",
       "3     ChristopherNolan               -                 -         -  148 min   \n",
       "4         PeterJackson               -                 -         -  178 min   \n",
       "...                ...             ...               ...       ...      ...   \n",
       "1765       Prabhu Deva               -                 -         -  109 min   \n",
       "1766      Remo D'Souza               -                 -         -  160 min   \n",
       "1767         Sean Cain   Enzo Zelocchi                 -         -   85 min   \n",
       "1768     Keith English               -                 -         -  125 min   \n",
       "1769      Mahesh Bhatt               -                 -         -  133 min   \n",
       "\n",
       "      Year  Ratings             Star1                Star2            Star3  \\\n",
       "0     2008      9.0     ChristianBale          HeathLedger     AaronEckhart   \n",
       "1     2003      9.0        ElijahWood       ViggoMortensen      IanMcKellen   \n",
       "2     2023      8.9      ShameikMoore      HaileeSteinfeld  BrianTyreeHenry   \n",
       "3     2010      8.8  LeonardoDiCaprio  JosephGordon-Levitt       ElliotPage   \n",
       "4     2001      8.8        ElijahWood          IanMcKellen     OrlandoBloom   \n",
       "...    ...      ...               ...                  ...              ...   \n",
       "1765  2021      1.9        SalmanKhan          DishaPatani     RandeepHooda   \n",
       "1766  2018      1.9        AnilKapoor           SalmanKhan        BobbyDeol   \n",
       "1767  2015      1.6      EnzoZelocchi         JanaRochelle  RyanC.F.Buckley   \n",
       "1768  2021      1.5  VivianneBanovits          AndrasMozes       BarnaBokor   \n",
       "1769  2020      1.2         AliaBhatt           PoojaBhatt  AdityaRoyKapoor   \n",
       "\n",
       "                    Star4    Votes     Genre1      Genre2      Genre3  \\\n",
       "0            MichaelCaine  2742002     Action       Crime       Drama   \n",
       "1            OrlandoBloom  1899372     Action   Adventure       Drama   \n",
       "2         LunaLaurenVelez   186672  Animation      Action   Adventure   \n",
       "3             KenWatanabe  2433238     Action   Adventure      Sci-Fi   \n",
       "4                SeanBean  1927794     Action   Adventure       Drama   \n",
       "...                   ...      ...        ...         ...         ...   \n",
       "1765         JackieShroff   179060     Action       Crime    Thriller   \n",
       "1766  JacquelineFernandez    47815     Action       Crime    Thriller   \n",
       "1767       WilliamKirkham    42919     Action     Fantasy      Sci-Fi   \n",
       "1768       GabriellaGubas    39601     Action       Crime       Drama   \n",
       "1769           SanjayDutt    96354     Action       Drama           -   \n",
       "\n",
       "     Gross_Collection Certification  \\\n",
       "0             534.86M         PG-13   \n",
       "1             377.85M         PG-13   \n",
       "2                   -            PG   \n",
       "3             292.58M         PG-13   \n",
       "4             315.54M         PG-13   \n",
       "...               ...           ...   \n",
       "1765                -             -   \n",
       "1766            1.69M             -   \n",
       "1767                -             -   \n",
       "1768                -             -   \n",
       "1769                -             -   \n",
       "\n",
       "                                         Popularity  \n",
       "0     Mission: Impossible - Dead Reckoning Part One  \n",
       "1                                  Sound of Freedom  \n",
       "2             Indiana Jones and the Dial of Destiny  \n",
       "3                    Guardians of the Galaxy Vol. 3  \n",
       "4                  Transformers: Rise of the Beasts  \n",
       "...                                             ...  \n",
       "1765                                     The Legend  \n",
       "1766                                   Coolie No. 1  \n",
       "1767                              Angels Apocalypse  \n",
       "1768                            The Way to Paradise  \n",
       "1769                                         Crimea  \n",
       "\n",
       "[1770 rows x 20 columns]"
      ]
     },
     "execution_count": 141,
     "metadata": {},
     "output_type": "execute_result"
    }
   ],
   "source": [
    "df = pd.concat([df1, df2], axis=1)\n",
    "df"
   ]
  },
  {
   "cell_type": "markdown",
   "id": "bd8cd454",
   "metadata": {},
   "source": [
    "# Basic Data Exploration"
   ]
  },
  {
   "cell_type": "markdown",
   "id": "395cb0a0",
   "metadata": {},
   "source": [
    "In this Operation, we will perform below operations to check the dataset.               \n",
    "                                \n",
    "Head of the dataset                                                          \n",
    "The Shape of the dataset                                                         \n",
    "Info of the dataset                                                            \n",
    "Summary of the dataset"
   ]
  },
  {
   "cell_type": "markdown",
   "id": "a7172cfd",
   "metadata": {},
   "source": [
    "# Head of the dataset"
   ]
  },
  {
   "cell_type": "code",
   "execution_count": 142,
   "id": "75ae0af1",
   "metadata": {},
   "outputs": [
    {
     "data": {
      "text/html": [
       "<div>\n",
       "<style scoped>\n",
       "    .dataframe tbody tr th:only-of-type {\n",
       "        vertical-align: middle;\n",
       "    }\n",
       "\n",
       "    .dataframe tbody tr th {\n",
       "        vertical-align: top;\n",
       "    }\n",
       "\n",
       "    .dataframe thead th {\n",
       "        text-align: right;\n",
       "    }\n",
       "</style>\n",
       "<table border=\"1\" class=\"dataframe\">\n",
       "  <thead>\n",
       "    <tr style=\"text-align: right;\">\n",
       "      <th></th>\n",
       "      <th>SNo</th>\n",
       "      <th>Movie Name</th>\n",
       "      <th>Director1</th>\n",
       "      <th>Directorr2</th>\n",
       "      <th>Director3</th>\n",
       "      <th>Director4</th>\n",
       "      <th>Duration</th>\n",
       "      <th>Year</th>\n",
       "      <th>Ratings</th>\n",
       "      <th>Star1</th>\n",
       "      <th>Star2</th>\n",
       "      <th>Star3</th>\n",
       "      <th>Star4</th>\n",
       "      <th>Votes</th>\n",
       "      <th>Genre1</th>\n",
       "      <th>Genre2</th>\n",
       "      <th>Genre3</th>\n",
       "      <th>Gross_Collection</th>\n",
       "      <th>Certification</th>\n",
       "      <th>Popularity</th>\n",
       "    </tr>\n",
       "  </thead>\n",
       "  <tbody>\n",
       "    <tr>\n",
       "      <th>0</th>\n",
       "      <td>1</td>\n",
       "      <td>The Dark Knight</td>\n",
       "      <td>ChristopherNolan</td>\n",
       "      <td>-</td>\n",
       "      <td>-</td>\n",
       "      <td>-</td>\n",
       "      <td>152 min</td>\n",
       "      <td>2008</td>\n",
       "      <td>9.0</td>\n",
       "      <td>ChristianBale</td>\n",
       "      <td>HeathLedger</td>\n",
       "      <td>AaronEckhart</td>\n",
       "      <td>MichaelCaine</td>\n",
       "      <td>2742002</td>\n",
       "      <td>Action</td>\n",
       "      <td>Crime</td>\n",
       "      <td>Drama</td>\n",
       "      <td>534.86M</td>\n",
       "      <td>PG-13</td>\n",
       "      <td>Mission: Impossible - Dead Reckoning Part One</td>\n",
       "    </tr>\n",
       "    <tr>\n",
       "      <th>1</th>\n",
       "      <td>2</td>\n",
       "      <td>The Lord of the Rings: The Return of the King</td>\n",
       "      <td>PeterJackson</td>\n",
       "      <td>-</td>\n",
       "      <td>-</td>\n",
       "      <td>-</td>\n",
       "      <td>201 min</td>\n",
       "      <td>2003</td>\n",
       "      <td>9.0</td>\n",
       "      <td>ElijahWood</td>\n",
       "      <td>ViggoMortensen</td>\n",
       "      <td>IanMcKellen</td>\n",
       "      <td>OrlandoBloom</td>\n",
       "      <td>1899372</td>\n",
       "      <td>Action</td>\n",
       "      <td>Adventure</td>\n",
       "      <td>Drama</td>\n",
       "      <td>377.85M</td>\n",
       "      <td>PG-13</td>\n",
       "      <td>Sound of Freedom</td>\n",
       "    </tr>\n",
       "    <tr>\n",
       "      <th>2</th>\n",
       "      <td>3</td>\n",
       "      <td>Spider-Man: Across the Spider-Verse</td>\n",
       "      <td>JoaquimDosSantos</td>\n",
       "      <td>KempPowers</td>\n",
       "      <td>JustinK.Thompson</td>\n",
       "      <td>-</td>\n",
       "      <td>140 min</td>\n",
       "      <td>2023</td>\n",
       "      <td>8.9</td>\n",
       "      <td>ShameikMoore</td>\n",
       "      <td>HaileeSteinfeld</td>\n",
       "      <td>BrianTyreeHenry</td>\n",
       "      <td>LunaLaurenVelez</td>\n",
       "      <td>186672</td>\n",
       "      <td>Animation</td>\n",
       "      <td>Action</td>\n",
       "      <td>Adventure</td>\n",
       "      <td>-</td>\n",
       "      <td>PG</td>\n",
       "      <td>Indiana Jones and the Dial of Destiny</td>\n",
       "    </tr>\n",
       "    <tr>\n",
       "      <th>3</th>\n",
       "      <td>4</td>\n",
       "      <td>Inception</td>\n",
       "      <td>ChristopherNolan</td>\n",
       "      <td>-</td>\n",
       "      <td>-</td>\n",
       "      <td>-</td>\n",
       "      <td>148 min</td>\n",
       "      <td>2010</td>\n",
       "      <td>8.8</td>\n",
       "      <td>LeonardoDiCaprio</td>\n",
       "      <td>JosephGordon-Levitt</td>\n",
       "      <td>ElliotPage</td>\n",
       "      <td>KenWatanabe</td>\n",
       "      <td>2433238</td>\n",
       "      <td>Action</td>\n",
       "      <td>Adventure</td>\n",
       "      <td>Sci-Fi</td>\n",
       "      <td>292.58M</td>\n",
       "      <td>PG-13</td>\n",
       "      <td>Guardians of the Galaxy Vol. 3</td>\n",
       "    </tr>\n",
       "    <tr>\n",
       "      <th>4</th>\n",
       "      <td>5</td>\n",
       "      <td>The Lord of the Rings: The Fellowship of the Ring</td>\n",
       "      <td>PeterJackson</td>\n",
       "      <td>-</td>\n",
       "      <td>-</td>\n",
       "      <td>-</td>\n",
       "      <td>178 min</td>\n",
       "      <td>2001</td>\n",
       "      <td>8.8</td>\n",
       "      <td>ElijahWood</td>\n",
       "      <td>IanMcKellen</td>\n",
       "      <td>OrlandoBloom</td>\n",
       "      <td>SeanBean</td>\n",
       "      <td>1927794</td>\n",
       "      <td>Action</td>\n",
       "      <td>Adventure</td>\n",
       "      <td>Drama</td>\n",
       "      <td>315.54M</td>\n",
       "      <td>PG-13</td>\n",
       "      <td>Transformers: Rise of the Beasts</td>\n",
       "    </tr>\n",
       "  </tbody>\n",
       "</table>\n",
       "</div>"
      ],
      "text/plain": [
       "   SNo                                         Movie Name         Director1  \\\n",
       "0    1                                    The Dark Knight  ChristopherNolan   \n",
       "1    2      The Lord of the Rings: The Return of the King      PeterJackson   \n",
       "2    3                Spider-Man: Across the Spider-Verse  JoaquimDosSantos   \n",
       "3    4                                          Inception  ChristopherNolan   \n",
       "4    5  The Lord of the Rings: The Fellowship of the Ring      PeterJackson   \n",
       "\n",
       "   Directorr2         Director3 Director4 Duration  Year  Ratings  \\\n",
       "0           -                 -         -  152 min  2008      9.0   \n",
       "1           -                 -         -  201 min  2003      9.0   \n",
       "2  KempPowers  JustinK.Thompson         -  140 min  2023      8.9   \n",
       "3           -                 -         -  148 min  2010      8.8   \n",
       "4           -                 -         -  178 min  2001      8.8   \n",
       "\n",
       "              Star1                Star2            Star3            Star4  \\\n",
       "0     ChristianBale          HeathLedger     AaronEckhart     MichaelCaine   \n",
       "1        ElijahWood       ViggoMortensen      IanMcKellen     OrlandoBloom   \n",
       "2      ShameikMoore      HaileeSteinfeld  BrianTyreeHenry  LunaLaurenVelez   \n",
       "3  LeonardoDiCaprio  JosephGordon-Levitt       ElliotPage      KenWatanabe   \n",
       "4        ElijahWood          IanMcKellen     OrlandoBloom         SeanBean   \n",
       "\n",
       "     Votes     Genre1      Genre2      Genre3 Gross_Collection Certification  \\\n",
       "0  2742002     Action       Crime       Drama          534.86M         PG-13   \n",
       "1  1899372     Action   Adventure       Drama          377.85M         PG-13   \n",
       "2   186672  Animation      Action   Adventure                -            PG   \n",
       "3  2433238     Action   Adventure      Sci-Fi          292.58M         PG-13   \n",
       "4  1927794     Action   Adventure       Drama          315.54M         PG-13   \n",
       "\n",
       "                                      Popularity  \n",
       "0  Mission: Impossible - Dead Reckoning Part One  \n",
       "1                               Sound of Freedom  \n",
       "2          Indiana Jones and the Dial of Destiny  \n",
       "3                 Guardians of the Galaxy Vol. 3  \n",
       "4               Transformers: Rise of the Beasts  "
      ]
     },
     "execution_count": 142,
     "metadata": {},
     "output_type": "execute_result"
    }
   ],
   "source": [
    "df.head()"
   ]
  },
  {
   "cell_type": "markdown",
   "id": "4a2d6f26",
   "metadata": {},
   "source": [
    "the head attribute give us top 5 row's inside dataset."
   ]
  },
  {
   "cell_type": "code",
   "execution_count": 143,
   "id": "0c1a9b13",
   "metadata": {},
   "outputs": [
    {
     "data": {
      "text/html": [
       "<div>\n",
       "<style scoped>\n",
       "    .dataframe tbody tr th:only-of-type {\n",
       "        vertical-align: middle;\n",
       "    }\n",
       "\n",
       "    .dataframe tbody tr th {\n",
       "        vertical-align: top;\n",
       "    }\n",
       "\n",
       "    .dataframe thead th {\n",
       "        text-align: right;\n",
       "    }\n",
       "</style>\n",
       "<table border=\"1\" class=\"dataframe\">\n",
       "  <thead>\n",
       "    <tr style=\"text-align: right;\">\n",
       "      <th></th>\n",
       "      <th>SNo</th>\n",
       "      <th>Movie Name</th>\n",
       "      <th>Director1</th>\n",
       "      <th>Directorr2</th>\n",
       "      <th>Director3</th>\n",
       "      <th>Director4</th>\n",
       "      <th>Duration</th>\n",
       "      <th>Year</th>\n",
       "      <th>Ratings</th>\n",
       "      <th>Star1</th>\n",
       "      <th>Star2</th>\n",
       "      <th>Star3</th>\n",
       "      <th>Star4</th>\n",
       "      <th>Votes</th>\n",
       "      <th>Genre1</th>\n",
       "      <th>Genre2</th>\n",
       "      <th>Genre3</th>\n",
       "      <th>Gross_Collection</th>\n",
       "      <th>Certification</th>\n",
       "      <th>Popularity</th>\n",
       "    </tr>\n",
       "  </thead>\n",
       "  <tbody>\n",
       "    <tr>\n",
       "      <th>1765</th>\n",
       "      <td>1766</td>\n",
       "      <td>Radhe</td>\n",
       "      <td>Prabhu Deva</td>\n",
       "      <td>-</td>\n",
       "      <td>-</td>\n",
       "      <td>-</td>\n",
       "      <td>109 min</td>\n",
       "      <td>2021</td>\n",
       "      <td>1.9</td>\n",
       "      <td>SalmanKhan</td>\n",
       "      <td>DishaPatani</td>\n",
       "      <td>RandeepHooda</td>\n",
       "      <td>JackieShroff</td>\n",
       "      <td>179060</td>\n",
       "      <td>Action</td>\n",
       "      <td>Crime</td>\n",
       "      <td>Thriller</td>\n",
       "      <td>-</td>\n",
       "      <td>-</td>\n",
       "      <td>The Legend</td>\n",
       "    </tr>\n",
       "    <tr>\n",
       "      <th>1766</th>\n",
       "      <td>1767</td>\n",
       "      <td>Race 3</td>\n",
       "      <td>Remo D'Souza</td>\n",
       "      <td>-</td>\n",
       "      <td>-</td>\n",
       "      <td>-</td>\n",
       "      <td>160 min</td>\n",
       "      <td>2018</td>\n",
       "      <td>1.9</td>\n",
       "      <td>AnilKapoor</td>\n",
       "      <td>SalmanKhan</td>\n",
       "      <td>BobbyDeol</td>\n",
       "      <td>JacquelineFernandez</td>\n",
       "      <td>47815</td>\n",
       "      <td>Action</td>\n",
       "      <td>Crime</td>\n",
       "      <td>Thriller</td>\n",
       "      <td>1.69M</td>\n",
       "      <td>-</td>\n",
       "      <td>Coolie No. 1</td>\n",
       "    </tr>\n",
       "    <tr>\n",
       "      <th>1767</th>\n",
       "      <td>1768</td>\n",
       "      <td>Angels Apocalypse</td>\n",
       "      <td>Sean Cain</td>\n",
       "      <td>Enzo Zelocchi</td>\n",
       "      <td>-</td>\n",
       "      <td>-</td>\n",
       "      <td>85 min</td>\n",
       "      <td>2015</td>\n",
       "      <td>1.6</td>\n",
       "      <td>EnzoZelocchi</td>\n",
       "      <td>JanaRochelle</td>\n",
       "      <td>RyanC.F.Buckley</td>\n",
       "      <td>WilliamKirkham</td>\n",
       "      <td>42919</td>\n",
       "      <td>Action</td>\n",
       "      <td>Fantasy</td>\n",
       "      <td>Sci-Fi</td>\n",
       "      <td>-</td>\n",
       "      <td>-</td>\n",
       "      <td>Angels Apocalypse</td>\n",
       "    </tr>\n",
       "    <tr>\n",
       "      <th>1768</th>\n",
       "      <td>1769</td>\n",
       "      <td>The Cost of Deception</td>\n",
       "      <td>Keith English</td>\n",
       "      <td>-</td>\n",
       "      <td>-</td>\n",
       "      <td>-</td>\n",
       "      <td>125 min</td>\n",
       "      <td>2021</td>\n",
       "      <td>1.5</td>\n",
       "      <td>VivianneBanovits</td>\n",
       "      <td>AndrasMozes</td>\n",
       "      <td>BarnaBokor</td>\n",
       "      <td>GabriellaGubas</td>\n",
       "      <td>39601</td>\n",
       "      <td>Action</td>\n",
       "      <td>Crime</td>\n",
       "      <td>Drama</td>\n",
       "      <td>-</td>\n",
       "      <td>-</td>\n",
       "      <td>The Way to Paradise</td>\n",
       "    </tr>\n",
       "    <tr>\n",
       "      <th>1769</th>\n",
       "      <td>1770</td>\n",
       "      <td>Sadak 2</td>\n",
       "      <td>Mahesh Bhatt</td>\n",
       "      <td>-</td>\n",
       "      <td>-</td>\n",
       "      <td>-</td>\n",
       "      <td>133 min</td>\n",
       "      <td>2020</td>\n",
       "      <td>1.2</td>\n",
       "      <td>AliaBhatt</td>\n",
       "      <td>PoojaBhatt</td>\n",
       "      <td>AdityaRoyKapoor</td>\n",
       "      <td>SanjayDutt</td>\n",
       "      <td>96354</td>\n",
       "      <td>Action</td>\n",
       "      <td>Drama</td>\n",
       "      <td>-</td>\n",
       "      <td>-</td>\n",
       "      <td>-</td>\n",
       "      <td>Crimea</td>\n",
       "    </tr>\n",
       "  </tbody>\n",
       "</table>\n",
       "</div>"
      ],
      "text/plain": [
       "       SNo             Movie Name      Director1      Directorr2 Director3  \\\n",
       "1765  1766                  Radhe    Prabhu Deva               -         -   \n",
       "1766  1767                 Race 3   Remo D'Souza               -         -   \n",
       "1767  1768      Angels Apocalypse      Sean Cain   Enzo Zelocchi         -   \n",
       "1768  1769  The Cost of Deception  Keith English               -         -   \n",
       "1769  1770                Sadak 2   Mahesh Bhatt               -         -   \n",
       "\n",
       "     Director4 Duration  Year  Ratings             Star1         Star2  \\\n",
       "1765         -  109 min  2021      1.9        SalmanKhan   DishaPatani   \n",
       "1766         -  160 min  2018      1.9        AnilKapoor    SalmanKhan   \n",
       "1767         -   85 min  2015      1.6      EnzoZelocchi  JanaRochelle   \n",
       "1768         -  125 min  2021      1.5  VivianneBanovits   AndrasMozes   \n",
       "1769         -  133 min  2020      1.2         AliaBhatt    PoojaBhatt   \n",
       "\n",
       "                Star3                Star4   Votes  Genre1    Genre2  \\\n",
       "1765     RandeepHooda         JackieShroff  179060  Action     Crime   \n",
       "1766        BobbyDeol  JacquelineFernandez   47815  Action     Crime   \n",
       "1767  RyanC.F.Buckley       WilliamKirkham   42919  Action   Fantasy   \n",
       "1768       BarnaBokor       GabriellaGubas   39601  Action     Crime   \n",
       "1769  AdityaRoyKapoor           SanjayDutt   96354  Action     Drama   \n",
       "\n",
       "         Genre3 Gross_Collection Certification           Popularity  \n",
       "1765   Thriller                -             -           The Legend  \n",
       "1766   Thriller            1.69M             -         Coolie No. 1  \n",
       "1767     Sci-Fi                -             -    Angels Apocalypse  \n",
       "1768      Drama                -             -  The Way to Paradise  \n",
       "1769          -                -             -               Crimea  "
      ]
     },
     "execution_count": 143,
     "metadata": {},
     "output_type": "execute_result"
    }
   ],
   "source": [
    "df.tail()"
   ]
  },
  {
   "cell_type": "markdown",
   "id": "598d77f9",
   "metadata": {},
   "source": [
    "the tail attribute give us last 5 row's inside dataset"
   ]
  },
  {
   "cell_type": "code",
   "execution_count": 144,
   "id": "95bc1981",
   "metadata": {},
   "outputs": [
    {
     "data": {
      "text/html": [
       "<div>\n",
       "<style scoped>\n",
       "    .dataframe tbody tr th:only-of-type {\n",
       "        vertical-align: middle;\n",
       "    }\n",
       "\n",
       "    .dataframe tbody tr th {\n",
       "        vertical-align: top;\n",
       "    }\n",
       "\n",
       "    .dataframe thead th {\n",
       "        text-align: right;\n",
       "    }\n",
       "</style>\n",
       "<table border=\"1\" class=\"dataframe\">\n",
       "  <thead>\n",
       "    <tr style=\"text-align: right;\">\n",
       "      <th></th>\n",
       "      <th>SNo</th>\n",
       "      <th>Movie Name</th>\n",
       "      <th>Director1</th>\n",
       "      <th>Directorr2</th>\n",
       "      <th>Director3</th>\n",
       "      <th>Director4</th>\n",
       "      <th>Duration</th>\n",
       "      <th>Year</th>\n",
       "      <th>Ratings</th>\n",
       "      <th>Star1</th>\n",
       "      <th>Star2</th>\n",
       "      <th>Star3</th>\n",
       "      <th>Star4</th>\n",
       "      <th>Votes</th>\n",
       "      <th>Genre1</th>\n",
       "      <th>Genre2</th>\n",
       "      <th>Genre3</th>\n",
       "      <th>Gross_Collection</th>\n",
       "      <th>Certification</th>\n",
       "      <th>Popularity</th>\n",
       "    </tr>\n",
       "  </thead>\n",
       "  <tbody>\n",
       "    <tr>\n",
       "      <th>1216</th>\n",
       "      <td>1217</td>\n",
       "      <td>Red State</td>\n",
       "      <td>KevinSmith</td>\n",
       "      <td>-</td>\n",
       "      <td>-</td>\n",
       "      <td>-</td>\n",
       "      <td>88 min</td>\n",
       "      <td>2011</td>\n",
       "      <td>6.1</td>\n",
       "      <td>MichaelParks</td>\n",
       "      <td>MelissaLeo</td>\n",
       "      <td>JohnGoodman</td>\n",
       "      <td>MichaelAngarano</td>\n",
       "      <td>65939</td>\n",
       "      <td>Action</td>\n",
       "      <td>Crime</td>\n",
       "      <td>Horror</td>\n",
       "      <td>1.10M</td>\n",
       "      <td>R</td>\n",
       "      <td>Cats &amp; Dogs</td>\n",
       "    </tr>\n",
       "  </tbody>\n",
       "</table>\n",
       "</div>"
      ],
      "text/plain": [
       "       SNo Movie Name   Director1 Directorr2 Director3 Director4 Duration  \\\n",
       "1216  1217  Red State  KevinSmith          -         -         -   88 min   \n",
       "\n",
       "      Year  Ratings         Star1       Star2        Star3            Star4  \\\n",
       "1216  2011      6.1  MichaelParks  MelissaLeo  JohnGoodman  MichaelAngarano   \n",
       "\n",
       "      Votes  Genre1  Genre2   Genre3 Gross_Collection Certification  \\\n",
       "1216  65939  Action   Crime   Horror            1.10M             R   \n",
       "\n",
       "       Popularity  \n",
       "1216  Cats & Dogs  "
      ]
     },
     "execution_count": 144,
     "metadata": {},
     "output_type": "execute_result"
    }
   ],
   "source": [
    "df.sample()"
   ]
  },
  {
   "cell_type": "markdown",
   "id": "15ce4c8d",
   "metadata": {},
   "source": [
    "the sample attribute give as random sample inside dataset."
   ]
  },
  {
   "cell_type": "code",
   "execution_count": 145,
   "id": "9433b1c0",
   "metadata": {},
   "outputs": [
    {
     "data": {
      "text/html": [
       "<div>\n",
       "<style scoped>\n",
       "    .dataframe tbody tr th:only-of-type {\n",
       "        vertical-align: middle;\n",
       "    }\n",
       "\n",
       "    .dataframe tbody tr th {\n",
       "        vertical-align: top;\n",
       "    }\n",
       "\n",
       "    .dataframe thead th {\n",
       "        text-align: right;\n",
       "    }\n",
       "</style>\n",
       "<table border=\"1\" class=\"dataframe\">\n",
       "  <thead>\n",
       "    <tr style=\"text-align: right;\">\n",
       "      <th></th>\n",
       "      <th>SNo</th>\n",
       "      <th>Movie Name</th>\n",
       "      <th>Director1</th>\n",
       "      <th>Directorr2</th>\n",
       "      <th>Director3</th>\n",
       "      <th>Director4</th>\n",
       "      <th>Duration</th>\n",
       "      <th>Year</th>\n",
       "      <th>Ratings</th>\n",
       "      <th>Star1</th>\n",
       "      <th>Star2</th>\n",
       "      <th>Star3</th>\n",
       "      <th>Star4</th>\n",
       "      <th>Votes</th>\n",
       "      <th>Genre1</th>\n",
       "      <th>Genre2</th>\n",
       "      <th>Genre3</th>\n",
       "      <th>Gross_Collection</th>\n",
       "      <th>Certification</th>\n",
       "      <th>Popularity</th>\n",
       "    </tr>\n",
       "  </thead>\n",
       "  <tbody>\n",
       "    <tr>\n",
       "      <th>486</th>\n",
       "      <td>487</td>\n",
       "      <td>Don</td>\n",
       "      <td>FarhanAkhtar</td>\n",
       "      <td>-</td>\n",
       "      <td>-</td>\n",
       "      <td>-</td>\n",
       "      <td>171 min</td>\n",
       "      <td>I   2006</td>\n",
       "      <td>7.1</td>\n",
       "      <td>ShahRukhKhan</td>\n",
       "      <td>PriyankaChopraJonas</td>\n",
       "      <td>ArjunRampal</td>\n",
       "      <td>IshaKoppikar</td>\n",
       "      <td>39109</td>\n",
       "      <td>Action</td>\n",
       "      <td>Crime</td>\n",
       "      <td>Thriller</td>\n",
       "      <td>0.80M</td>\n",
       "      <td>Not Rated</td>\n",
       "      <td>The Fate of the Furious</td>\n",
       "    </tr>\n",
       "    <tr>\n",
       "      <th>649</th>\n",
       "      <td>650</td>\n",
       "      <td>Chappie</td>\n",
       "      <td>NeillBlomkamp</td>\n",
       "      <td>-</td>\n",
       "      <td>-</td>\n",
       "      <td>-</td>\n",
       "      <td>120 min</td>\n",
       "      <td>2015</td>\n",
       "      <td>6.8</td>\n",
       "      <td>SharltoCopley</td>\n",
       "      <td>DevPatel</td>\n",
       "      <td>HughJackman</td>\n",
       "      <td>SigourneyWeaver</td>\n",
       "      <td>261177</td>\n",
       "      <td>Action</td>\n",
       "      <td>Crime</td>\n",
       "      <td>Drama</td>\n",
       "      <td>31.57M</td>\n",
       "      <td>TV-MA</td>\n",
       "      <td>Mechanic: Resurrection</td>\n",
       "    </tr>\n",
       "    <tr>\n",
       "      <th>1189</th>\n",
       "      <td>1190</td>\n",
       "      <td>Dora and the Lost City of Gold</td>\n",
       "      <td>JamesBobin</td>\n",
       "      <td>-</td>\n",
       "      <td>-</td>\n",
       "      <td>-</td>\n",
       "      <td>102 min</td>\n",
       "      <td>2019</td>\n",
       "      <td>6.1</td>\n",
       "      <td>IsabelaMerced</td>\n",
       "      <td>EugenioDerbez</td>\n",
       "      <td>MichaelPeÃ±a</td>\n",
       "      <td>EvaLongoria</td>\n",
       "      <td>32582</td>\n",
       "      <td>Action</td>\n",
       "      <td>Adventure</td>\n",
       "      <td>Comedy</td>\n",
       "      <td>60.48M</td>\n",
       "      <td>PG-13</td>\n",
       "      <td>Arlington Road</td>\n",
       "    </tr>\n",
       "    <tr>\n",
       "      <th>554</th>\n",
       "      <td>555</td>\n",
       "      <td>Dragon: The Bruce Lee Story</td>\n",
       "      <td>RobCohen</td>\n",
       "      <td>-</td>\n",
       "      <td>-</td>\n",
       "      <td>-</td>\n",
       "      <td>120 min</td>\n",
       "      <td>1993</td>\n",
       "      <td>7.0</td>\n",
       "      <td>JasonScottLee</td>\n",
       "      <td>LaurenHolly</td>\n",
       "      <td>RobertWagner</td>\n",
       "      <td>MichaelLearned</td>\n",
       "      <td>32114</td>\n",
       "      <td>Action</td>\n",
       "      <td>Biography</td>\n",
       "      <td>Drama</td>\n",
       "      <td>35.11M</td>\n",
       "      <td>Not Rated</td>\n",
       "      <td>The Twilight Saga: Eclipse</td>\n",
       "    </tr>\n",
       "    <tr>\n",
       "      <th>433</th>\n",
       "      <td>434</td>\n",
       "      <td>Extraction II</td>\n",
       "      <td>SamHargrave</td>\n",
       "      <td>-</td>\n",
       "      <td>-</td>\n",
       "      <td>-</td>\n",
       "      <td>122 min</td>\n",
       "      <td>2023</td>\n",
       "      <td>7.1</td>\n",
       "      <td>ChrisHemsworth</td>\n",
       "      <td>GolshiftehFarahani</td>\n",
       "      <td>AdamBessa</td>\n",
       "      <td>TornikeGogrichiani</td>\n",
       "      <td>101049</td>\n",
       "      <td>Action</td>\n",
       "      <td>Thriller</td>\n",
       "      <td>-</td>\n",
       "      <td>-</td>\n",
       "      <td>R</td>\n",
       "      <td>Dredd</td>\n",
       "    </tr>\n",
       "  </tbody>\n",
       "</table>\n",
       "</div>"
      ],
      "text/plain": [
       "       SNo                      Movie Name      Director1 Directorr2  \\\n",
       "486    487                             Don   FarhanAkhtar          -   \n",
       "649    650                         Chappie  NeillBlomkamp          -   \n",
       "1189  1190  Dora and the Lost City of Gold     JamesBobin          -   \n",
       "554    555     Dragon: The Bruce Lee Story       RobCohen          -   \n",
       "433    434                   Extraction II    SamHargrave          -   \n",
       "\n",
       "     Director3 Director4 Duration        Year  Ratings           Star1  \\\n",
       "486          -         -  171 min   I   2006       7.1    ShahRukhKhan   \n",
       "649          -         -  120 min        2015      6.8   SharltoCopley   \n",
       "1189         -         -  102 min        2019      6.1   IsabelaMerced   \n",
       "554          -         -  120 min        1993      7.0   JasonScottLee   \n",
       "433          -         -  122 min        2023      7.1  ChrisHemsworth   \n",
       "\n",
       "                    Star2         Star3               Star4   Votes  Genre1  \\\n",
       "486   PriyankaChopraJonas   ArjunRampal        IshaKoppikar   39109  Action   \n",
       "649              DevPatel   HughJackman     SigourneyWeaver  261177  Action   \n",
       "1189        EugenioDerbez  MichaelPeÃ±a         EvaLongoria   32582  Action   \n",
       "554           LaurenHolly  RobertWagner      MichaelLearned   32114  Action   \n",
       "433    GolshiftehFarahani     AdamBessa  TornikeGogrichiani  101049  Action   \n",
       "\n",
       "          Genre2     Genre3 Gross_Collection Certification  \\\n",
       "486        Crime   Thriller            0.80M     Not Rated   \n",
       "649        Crime      Drama           31.57M         TV-MA   \n",
       "1189   Adventure     Comedy           60.48M         PG-13   \n",
       "554    Biography      Drama           35.11M     Not Rated   \n",
       "433     Thriller          -                -             R   \n",
       "\n",
       "                      Popularity  \n",
       "486      The Fate of the Furious  \n",
       "649       Mechanic: Resurrection  \n",
       "1189              Arlington Road  \n",
       "554   The Twilight Saga: Eclipse  \n",
       "433                        Dredd  "
      ]
     },
     "execution_count": 145,
     "metadata": {},
     "output_type": "execute_result"
    }
   ],
   "source": [
    "df.sample(5)"
   ]
  },
  {
   "cell_type": "markdown",
   "id": "3deb302f",
   "metadata": {},
   "source": [
    "the sample (5) give us 5 random sample inside dataset"
   ]
  },
  {
   "cell_type": "markdown",
   "id": "c2a0272a",
   "metadata": {},
   "source": [
    "# Shape of the dataset"
   ]
  },
  {
   "cell_type": "code",
   "execution_count": 146,
   "id": "590492af",
   "metadata": {},
   "outputs": [
    {
     "data": {
      "text/plain": [
       "(1770, 20)"
      ]
     },
     "execution_count": 146,
     "metadata": {},
     "output_type": "execute_result"
    }
   ],
   "source": [
    "df.shape"
   ]
  },
  {
   "cell_type": "code",
   "execution_count": 147,
   "id": "f7781750",
   "metadata": {},
   "outputs": [
    {
     "name": "stdout",
     "output_type": "stream",
     "text": [
      "Number of Rows : 1770\n",
      "Number of Columns : 20\n"
     ]
    }
   ],
   "source": [
    "print(\"Number of Rows :\",df.shape[0])\n",
    "print(\"Number of Columns :\",df.shape[1])"
   ]
  },
  {
   "cell_type": "markdown",
   "id": "1e439458",
   "metadata": {},
   "source": [
    "The Shape attribute tell us how many rows and columns are present into the dataset. It is used to check the dimension of data.\n",
    "\n",
    "In this dataset we have 1770 rows and 20 columns."
   ]
  },
  {
   "cell_type": "markdown",
   "id": "a51616cc",
   "metadata": {},
   "source": [
    "# Information of the dataset"
   ]
  },
  {
   "cell_type": "code",
   "execution_count": 148,
   "id": "3ca9f261",
   "metadata": {},
   "outputs": [
    {
     "name": "stdout",
     "output_type": "stream",
     "text": [
      "<class 'pandas.core.frame.DataFrame'>\n",
      "RangeIndex: 1770 entries, 0 to 1769\n",
      "Data columns (total 20 columns):\n",
      " #   Column            Non-Null Count  Dtype  \n",
      "---  ------            --------------  -----  \n",
      " 0   SNo               1770 non-null   int64  \n",
      " 1   Movie Name        1770 non-null   object \n",
      " 2   Director1         1770 non-null   object \n",
      " 3   Directorr2        1770 non-null   object \n",
      " 4   Director3         1770 non-null   object \n",
      " 5   Director4         1770 non-null   object \n",
      " 6   Duration          1770 non-null   object \n",
      " 7   Year              1770 non-null   object \n",
      " 8   Ratings           1770 non-null   float64\n",
      " 9   Star1             1770 non-null   object \n",
      " 10  Star2             1770 non-null   object \n",
      " 11  Star3             1770 non-null   object \n",
      " 12  Star4             1770 non-null   object \n",
      " 13  Votes             1770 non-null   int64  \n",
      " 14  Genre1            1770 non-null   object \n",
      " 15  Genre2            1770 non-null   object \n",
      " 16  Genre3            1770 non-null   object \n",
      " 17  Gross_Collection  1770 non-null   object \n",
      " 18  Certification     1770 non-null   object \n",
      " 19  Popularity        1770 non-null   object \n",
      "dtypes: float64(1), int64(2), object(17)\n",
      "memory usage: 276.7+ KB\n"
     ]
    }
   ],
   "source": [
    "df.info()"
   ]
  },
  {
   "cell_type": "markdown",
   "id": "09af52b9",
   "metadata": {},
   "source": [
    "# Summary of the dataset"
   ]
  },
  {
   "cell_type": "code",
   "execution_count": 149,
   "id": "4de78ec8",
   "metadata": {},
   "outputs": [
    {
     "data": {
      "text/html": [
       "<div>\n",
       "<style scoped>\n",
       "    .dataframe tbody tr th:only-of-type {\n",
       "        vertical-align: middle;\n",
       "    }\n",
       "\n",
       "    .dataframe tbody tr th {\n",
       "        vertical-align: top;\n",
       "    }\n",
       "\n",
       "    .dataframe thead th {\n",
       "        text-align: right;\n",
       "    }\n",
       "</style>\n",
       "<table border=\"1\" class=\"dataframe\">\n",
       "  <thead>\n",
       "    <tr style=\"text-align: right;\">\n",
       "      <th></th>\n",
       "      <th>SNo</th>\n",
       "      <th>Ratings</th>\n",
       "      <th>Votes</th>\n",
       "    </tr>\n",
       "  </thead>\n",
       "  <tbody>\n",
       "    <tr>\n",
       "      <th>count</th>\n",
       "      <td>1770.000000</td>\n",
       "      <td>1770.000000</td>\n",
       "      <td>1.770000e+03</td>\n",
       "    </tr>\n",
       "    <tr>\n",
       "      <th>mean</th>\n",
       "      <td>885.500000</td>\n",
       "      <td>6.479379</td>\n",
       "      <td>1.809187e+05</td>\n",
       "    </tr>\n",
       "    <tr>\n",
       "      <th>std</th>\n",
       "      <td>511.099305</td>\n",
       "      <td>0.999677</td>\n",
       "      <td>2.373057e+05</td>\n",
       "    </tr>\n",
       "    <tr>\n",
       "      <th>min</th>\n",
       "      <td>1.000000</td>\n",
       "      <td>1.200000</td>\n",
       "      <td>2.501700e+04</td>\n",
       "    </tr>\n",
       "    <tr>\n",
       "      <th>25%</th>\n",
       "      <td>443.250000</td>\n",
       "      <td>5.900000</td>\n",
       "      <td>4.750525e+04</td>\n",
       "    </tr>\n",
       "    <tr>\n",
       "      <th>50%</th>\n",
       "      <td>885.500000</td>\n",
       "      <td>6.500000</td>\n",
       "      <td>9.612400e+04</td>\n",
       "    </tr>\n",
       "    <tr>\n",
       "      <th>75%</th>\n",
       "      <td>1327.750000</td>\n",
       "      <td>7.100000</td>\n",
       "      <td>2.118995e+05</td>\n",
       "    </tr>\n",
       "    <tr>\n",
       "      <th>max</th>\n",
       "      <td>1770.000000</td>\n",
       "      <td>9.000000</td>\n",
       "      <td>2.742002e+06</td>\n",
       "    </tr>\n",
       "  </tbody>\n",
       "</table>\n",
       "</div>"
      ],
      "text/plain": [
       "               SNo      Ratings         Votes\n",
       "count  1770.000000  1770.000000  1.770000e+03\n",
       "mean    885.500000     6.479379  1.809187e+05\n",
       "std     511.099305     0.999677  2.373057e+05\n",
       "min       1.000000     1.200000  2.501700e+04\n",
       "25%     443.250000     5.900000  4.750525e+04\n",
       "50%     885.500000     6.500000  9.612400e+04\n",
       "75%    1327.750000     7.100000  2.118995e+05\n",
       "max    1770.000000     9.000000  2.742002e+06"
      ]
     },
     "execution_count": 149,
     "metadata": {},
     "output_type": "execute_result"
    }
   ],
   "source": [
    "df.describe()"
   ]
  },
  {
   "cell_type": "markdown",
   "id": "d413bbb0",
   "metadata": {},
   "source": [
    "The describe method will help to see how data has been spread for numerical values.\n",
    "\n",
    "There is a large difference between 75% percentile and max in SNo\n",
    "\n",
    "The counts of the columns are same which means there are no missing values in the dataset."
   ]
  },
  {
   "cell_type": "markdown",
   "id": "e2bace7a",
   "metadata": {},
   "source": [
    "# Handling Missing Value"
   ]
  },
  {
   "cell_type": "code",
   "execution_count": 150,
   "id": "e940716a",
   "metadata": {},
   "outputs": [
    {
     "data": {
      "text/plain": [
       "SNo                 0\n",
       "Movie Name          0\n",
       "Director1           0\n",
       "Directorr2          0\n",
       "Director3           0\n",
       "Director4           0\n",
       "Duration            0\n",
       "Year                0\n",
       "Ratings             0\n",
       "Star1               0\n",
       "Star2               0\n",
       "Star3               0\n",
       "Star4               0\n",
       "Votes               0\n",
       "Genre1              0\n",
       "Genre2              0\n",
       "Genre3              0\n",
       "Gross_Collection    0\n",
       "Certification       0\n",
       "Popularity          0\n",
       "dtype: int64"
      ]
     },
     "execution_count": 150,
     "metadata": {},
     "output_type": "execute_result"
    }
   ],
   "source": [
    "df.isnull().sum()"
   ]
  },
  {
   "cell_type": "code",
   "execution_count": 151,
   "id": "0232d34b",
   "metadata": {},
   "outputs": [
    {
     "data": {
      "text/plain": [
       "<AxesSubplot:>"
      ]
     },
     "execution_count": 151,
     "metadata": {},
     "output_type": "execute_result"
    },
    {
     "data": {
      "image/png": "[encoded data removed]",
      "text/plain": [
       "<Figure size 432x288 with 2 Axes>"
      ]
     },
     "metadata": {
      "needs_background": "light"
     },
     "output_type": "display_data"
    }
   ],
   "source": [
    "sns.heatmap(df.isnull())"
   ]
  },
  {
   "cell_type": "markdown",
   "id": "a865d9c3",
   "metadata": {},
   "source": [
    "Now, we can clearly visualize that there is no missing data present."
   ]
  },
  {
   "cell_type": "markdown",
   "id": "2f0eda7c",
   "metadata": {},
   "source": [
    "# Check for Duplicate Data"
   ]
  },
  {
   "cell_type": "code",
   "execution_count": 152,
   "id": "ae2eb06c",
   "metadata": {},
   "outputs": [],
   "source": [
    "dup_data = df.duplicated().any()"
   ]
  },
  {
   "cell_type": "code",
   "execution_count": 153,
   "id": "dc1f091a",
   "metadata": {
    "scrolled": true
   },
   "outputs": [
    {
     "name": "stdout",
     "output_type": "stream",
     "text": [
      "Are there any duplicate values ? False\n"
     ]
    }
   ],
   "source": [
    "print(\"Are there any duplicate values ?\",dup_data)"
   ]
  },
  {
   "cell_type": "markdown",
   "id": "d1890521",
   "metadata": {},
   "source": [
    "# Display Title of the Movie Having Duration >= 180 Minutes"
   ]
  },
  {
   "cell_type": "code",
   "execution_count": 154,
   "id": "ce669a3b",
   "metadata": {},
   "outputs": [
    {
     "data": {
      "text/plain": [
       "Index(['SNo', 'Movie Name', 'Director1', 'Directorr2', 'Director3',\n",
       "       'Director4', 'Duration', 'Year', 'Ratings', 'Star1', 'Star2', 'Star3',\n",
       "       'Star4', 'Votes', 'Genre1', 'Genre2', 'Genre3', 'Gross_Collection',\n",
       "       'Certification', 'Popularity'],\n",
       "      dtype='object')"
      ]
     },
     "execution_count": 154,
     "metadata": {},
     "output_type": "execute_result"
    }
   ],
   "source": [
    "df.columns"
   ]
  },
  {
   "cell_type": "code",
   "execution_count": 155,
   "id": "42e63f2a",
   "metadata": {},
   "outputs": [],
   "source": [
    "df['Duration'] = df['Duration'].str.replace(' min', '').astype(float)"
   ]
  },
  {
   "cell_type": "code",
   "execution_count": 156,
   "id": "635be5a6",
   "metadata": {},
   "outputs": [
    {
     "data": {
      "text/html": [
       "<div>\n",
       "<style scoped>\n",
       "    .dataframe tbody tr th:only-of-type {\n",
       "        vertical-align: middle;\n",
       "    }\n",
       "\n",
       "    .dataframe tbody tr th {\n",
       "        vertical-align: top;\n",
       "    }\n",
       "\n",
       "    .dataframe thead th {\n",
       "        text-align: right;\n",
       "    }\n",
       "</style>\n",
       "<table border=\"1\" class=\"dataframe\">\n",
       "  <thead>\n",
       "    <tr style=\"text-align: right;\">\n",
       "      <th></th>\n",
       "      <th>SNo</th>\n",
       "      <th>Movie Name</th>\n",
       "      <th>Director1</th>\n",
       "      <th>Directorr2</th>\n",
       "      <th>Director3</th>\n",
       "      <th>Director4</th>\n",
       "      <th>Duration</th>\n",
       "      <th>Year</th>\n",
       "      <th>Ratings</th>\n",
       "      <th>Star1</th>\n",
       "      <th>Star2</th>\n",
       "      <th>Star3</th>\n",
       "      <th>Star4</th>\n",
       "      <th>Votes</th>\n",
       "      <th>Genre1</th>\n",
       "      <th>Genre2</th>\n",
       "      <th>Genre3</th>\n",
       "      <th>Gross_Collection</th>\n",
       "      <th>Certification</th>\n",
       "      <th>Popularity</th>\n",
       "    </tr>\n",
       "  </thead>\n",
       "  <tbody>\n",
       "    <tr>\n",
       "      <th>1</th>\n",
       "      <td>2</td>\n",
       "      <td>The Lord of the Rings: The Return of the King</td>\n",
       "      <td>PeterJackson</td>\n",
       "      <td>-</td>\n",
       "      <td>-</td>\n",
       "      <td>-</td>\n",
       "      <td>201.0</td>\n",
       "      <td>2003</td>\n",
       "      <td>9.0</td>\n",
       "      <td>ElijahWood</td>\n",
       "      <td>ViggoMortensen</td>\n",
       "      <td>IanMcKellen</td>\n",
       "      <td>OrlandoBloom</td>\n",
       "      <td>1899372</td>\n",
       "      <td>Action</td>\n",
       "      <td>Adventure</td>\n",
       "      <td>Drama</td>\n",
       "      <td>377.85M</td>\n",
       "      <td>PG-13</td>\n",
       "      <td>Sound of Freedom</td>\n",
       "    </tr>\n",
       "    <tr>\n",
       "      <th>11</th>\n",
       "      <td>12</td>\n",
       "      <td>Seven Samurai</td>\n",
       "      <td>AkiraKurosawa</td>\n",
       "      <td>-</td>\n",
       "      <td>-</td>\n",
       "      <td>-</td>\n",
       "      <td>207.0</td>\n",
       "      <td>1954</td>\n",
       "      <td>8.6</td>\n",
       "      <td>ToshirÃ´Mifune</td>\n",
       "      <td>TakashiShimura</td>\n",
       "      <td>KeikoTsushima</td>\n",
       "      <td>YukikoShimazaki</td>\n",
       "      <td>355004</td>\n",
       "      <td>Action</td>\n",
       "      <td>Drama</td>\n",
       "      <td>-</td>\n",
       "      <td>0.27M</td>\n",
       "      <td>Not Rated</td>\n",
       "      <td>John Wick: Chapter 4</td>\n",
       "    </tr>\n",
       "    <tr>\n",
       "      <th>18</th>\n",
       "      <td>19</td>\n",
       "      <td>Avengers: Endgame</td>\n",
       "      <td>AnthonyRusso</td>\n",
       "      <td>JoeRusso</td>\n",
       "      <td>-</td>\n",
       "      <td>-</td>\n",
       "      <td>181.0</td>\n",
       "      <td>2019</td>\n",
       "      <td>8.4</td>\n",
       "      <td>RobertDowneyJr.</td>\n",
       "      <td>ChrisEvans</td>\n",
       "      <td>MarkRuffalo</td>\n",
       "      <td>ChrisHemsworth</td>\n",
       "      <td>1195157</td>\n",
       "      <td>Action</td>\n",
       "      <td>Adventure</td>\n",
       "      <td>Drama</td>\n",
       "      <td>858.37M</td>\n",
       "      <td>PG-13</td>\n",
       "      <td>Mission: Impossible III</td>\n",
       "    </tr>\n",
       "    <tr>\n",
       "      <th>46</th>\n",
       "      <td>47</td>\n",
       "      <td>Gangs of Wasseypur</td>\n",
       "      <td>AnuragKashyap</td>\n",
       "      <td>-</td>\n",
       "      <td>-</td>\n",
       "      <td>-</td>\n",
       "      <td>321.0</td>\n",
       "      <td>2012</td>\n",
       "      <td>8.2</td>\n",
       "      <td>ManojBajpayee</td>\n",
       "      <td>NawazuddinSiddiqui</td>\n",
       "      <td>TigmanshuDhulia</td>\n",
       "      <td>RichaChadha</td>\n",
       "      <td>99915</td>\n",
       "      <td>Action</td>\n",
       "      <td>Comedy</td>\n",
       "      <td>Crime</td>\n",
       "      <td>-</td>\n",
       "      <td>Not Rated</td>\n",
       "      <td>Top Gun</td>\n",
       "    </tr>\n",
       "    <tr>\n",
       "      <th>104</th>\n",
       "      <td>105</td>\n",
       "      <td>Arjun Reddy</td>\n",
       "      <td>SandeepReddyVanga</td>\n",
       "      <td>-</td>\n",
       "      <td>-</td>\n",
       "      <td>-</td>\n",
       "      <td>182.0</td>\n",
       "      <td>2017</td>\n",
       "      <td>8.0</td>\n",
       "      <td>VijayDeverakonda</td>\n",
       "      <td>ShaliniPandey</td>\n",
       "      <td>JiaSharma</td>\n",
       "      <td>Kanchana</td>\n",
       "      <td>26454</td>\n",
       "      <td>Action</td>\n",
       "      <td>Drama</td>\n",
       "      <td>Romance</td>\n",
       "      <td>-</td>\n",
       "      <td>Not Rated</td>\n",
       "      <td>Man of Steel</td>\n",
       "    </tr>\n",
       "    <tr>\n",
       "      <th>109</th>\n",
       "      <td>110</td>\n",
       "      <td>Zack Snyder's Justice League</td>\n",
       "      <td>ZackSnyder</td>\n",
       "      <td>-</td>\n",
       "      <td>-</td>\n",
       "      <td>-</td>\n",
       "      <td>242.0</td>\n",
       "      <td>2021</td>\n",
       "      <td>7.9</td>\n",
       "      <td>HenryCavill</td>\n",
       "      <td>BenAffleck</td>\n",
       "      <td>GalGadot</td>\n",
       "      <td>AmyAdams</td>\n",
       "      <td>418412</td>\n",
       "      <td>Action</td>\n",
       "      <td>Adventure</td>\n",
       "      <td>Fantasy</td>\n",
       "      <td>-</td>\n",
       "      <td>PG-13</td>\n",
       "      <td>Black Panther: Wakanda Forever</td>\n",
       "    </tr>\n",
       "    <tr>\n",
       "      <th>138</th>\n",
       "      <td>139</td>\n",
       "      <td>RRR</td>\n",
       "      <td>S.S.Rajamouli</td>\n",
       "      <td>-</td>\n",
       "      <td>-</td>\n",
       "      <td>-</td>\n",
       "      <td>187.0</td>\n",
       "      <td>2022</td>\n",
       "      <td>7.8</td>\n",
       "      <td>N.T.RamaRaoJr.</td>\n",
       "      <td>RamCharan</td>\n",
       "      <td>AjayDevgn</td>\n",
       "      <td>AliaBhatt</td>\n",
       "      <td>153491</td>\n",
       "      <td>Action</td>\n",
       "      <td>Drama</td>\n",
       "      <td>-</td>\n",
       "      <td>14.50M</td>\n",
       "      <td>PG-13</td>\n",
       "      <td>Jurassic World</td>\n",
       "    </tr>\n",
       "    <tr>\n",
       "      <th>201</th>\n",
       "      <td>202</td>\n",
       "      <td>Avatar: The Way of Water</td>\n",
       "      <td>JamesCameron</td>\n",
       "      <td>-</td>\n",
       "      <td>-</td>\n",
       "      <td>-</td>\n",
       "      <td>192.0</td>\n",
       "      <td>2022</td>\n",
       "      <td>7.6</td>\n",
       "      <td>SamWorthington</td>\n",
       "      <td>ZoeSaldana</td>\n",
       "      <td>SigourneyWeaver</td>\n",
       "      <td>StephenLang</td>\n",
       "      <td>434604</td>\n",
       "      <td>Action</td>\n",
       "      <td>Adventure</td>\n",
       "      <td>Fantasy</td>\n",
       "      <td>659.68M</td>\n",
       "      <td>R</td>\n",
       "      <td>Pirates of the Caribbean: Dead Man's Chest</td>\n",
       "    </tr>\n",
       "    <tr>\n",
       "      <th>267</th>\n",
       "      <td>268</td>\n",
       "      <td>It's a Mad Mad Mad Mad World</td>\n",
       "      <td>StanleyKramer</td>\n",
       "      <td>-</td>\n",
       "      <td>-</td>\n",
       "      <td>-</td>\n",
       "      <td>210.0</td>\n",
       "      <td>1963</td>\n",
       "      <td>7.5</td>\n",
       "      <td>SpencerTracy</td>\n",
       "      <td>MiltonBerle</td>\n",
       "      <td>EthelMerman</td>\n",
       "      <td>MickeyRooney</td>\n",
       "      <td>44170</td>\n",
       "      <td>Action</td>\n",
       "      <td>Adventure</td>\n",
       "      <td>Comedy</td>\n",
       "      <td>46.30M</td>\n",
       "      <td>R</td>\n",
       "      <td>Alien: Resurrection</td>\n",
       "    </tr>\n",
       "    <tr>\n",
       "      <th>269</th>\n",
       "      <td>270</td>\n",
       "      <td>Grindhouse</td>\n",
       "      <td>RobertRodriguez</td>\n",
       "      <td>EliRoth</td>\n",
       "      <td>QuentinTarantino</td>\n",
       "      <td>RobZombie</td>\n",
       "      <td>191.0</td>\n",
       "      <td>2007</td>\n",
       "      <td>7.5</td>\n",
       "      <td>KurtRussell</td>\n",
       "      <td>RoseMcGowan</td>\n",
       "      <td>DannyTrejo</td>\n",
       "      <td>ZoÃ«Bell</td>\n",
       "      <td>187956</td>\n",
       "      <td>Action</td>\n",
       "      <td>Horror</td>\n",
       "      <td>Thriller</td>\n",
       "      <td>25.04M</td>\n",
       "      <td>R</td>\n",
       "      <td>Thor</td>\n",
       "    </tr>\n",
       "    <tr>\n",
       "      <th>284</th>\n",
       "      <td>285</td>\n",
       "      <td>Jodhaa Akbar</td>\n",
       "      <td>AshutoshGowariker</td>\n",
       "      <td>-</td>\n",
       "      <td>-</td>\n",
       "      <td>-</td>\n",
       "      <td>213.0</td>\n",
       "      <td>2008</td>\n",
       "      <td>7.5</td>\n",
       "      <td>HrithikRoshan</td>\n",
       "      <td>AishwaryaRaiBachchan</td>\n",
       "      <td>SonuSood</td>\n",
       "      <td>PoonamSinha</td>\n",
       "      <td>33772</td>\n",
       "      <td>Action</td>\n",
       "      <td>Drama</td>\n",
       "      <td>History</td>\n",
       "      <td>3.44M</td>\n",
       "      <td>PG-13</td>\n",
       "      <td>Terminator: Dark Fate</td>\n",
       "    </tr>\n",
       "    <tr>\n",
       "      <th>372</th>\n",
       "      <td>373</td>\n",
       "      <td>Ghajini</td>\n",
       "      <td>A.R.Murugadoss</td>\n",
       "      <td>-</td>\n",
       "      <td>-</td>\n",
       "      <td>-</td>\n",
       "      <td>186.0</td>\n",
       "      <td>2008</td>\n",
       "      <td>7.3</td>\n",
       "      <td>AamirKhan</td>\n",
       "      <td>AsinThottumkal</td>\n",
       "      <td>JiahKhan</td>\n",
       "      <td>AamirNaik</td>\n",
       "      <td>64665</td>\n",
       "      <td>Action</td>\n",
       "      <td>Drama</td>\n",
       "      <td>Mystery</td>\n",
       "      <td>2.43M</td>\n",
       "      <td>PG-13</td>\n",
       "      <td>12 Strong</td>\n",
       "    </tr>\n",
       "    <tr>\n",
       "      <th>389</th>\n",
       "      <td>390</td>\n",
       "      <td>King Kong</td>\n",
       "      <td>PeterJackson</td>\n",
       "      <td>-</td>\n",
       "      <td>-</td>\n",
       "      <td>-</td>\n",
       "      <td>187.0</td>\n",
       "      <td>2005</td>\n",
       "      <td>7.2</td>\n",
       "      <td>NaomiWatts</td>\n",
       "      <td>JackBlack</td>\n",
       "      <td>AdrienBrody</td>\n",
       "      <td>ThomasKretschmann</td>\n",
       "      <td>435397</td>\n",
       "      <td>Action</td>\n",
       "      <td>Adventure</td>\n",
       "      <td>Romance</td>\n",
       "      <td>218.08M</td>\n",
       "      <td>PG-13</td>\n",
       "      <td>Live Free or Die Hard</td>\n",
       "    </tr>\n",
       "    <tr>\n",
       "      <th>395</th>\n",
       "      <td>396</td>\n",
       "      <td>Batman v Superman: Dawn of Justice (Ultimate E...</td>\n",
       "      <td>ZackSnyder</td>\n",
       "      <td>-</td>\n",
       "      <td>-</td>\n",
       "      <td>-</td>\n",
       "      <td>182.0</td>\n",
       "      <td>2016</td>\n",
       "      <td>7.2</td>\n",
       "      <td>AmyAdams</td>\n",
       "      <td>BenAffleck</td>\n",
       "      <td>HenryCavill</td>\n",
       "      <td>JesseEisenberg</td>\n",
       "      <td>71754</td>\n",
       "      <td>Action</td>\n",
       "      <td>Adventure</td>\n",
       "      <td>Sci-Fi</td>\n",
       "      <td>-</td>\n",
       "      <td>PG</td>\n",
       "      <td>Quantum of Solace</td>\n",
       "    </tr>\n",
       "    <tr>\n",
       "      <th>728</th>\n",
       "      <td>729</td>\n",
       "      <td>Wyatt Earp</td>\n",
       "      <td>LawrenceKasdan</td>\n",
       "      <td>-</td>\n",
       "      <td>-</td>\n",
       "      <td>-</td>\n",
       "      <td>191.0</td>\n",
       "      <td>1994</td>\n",
       "      <td>6.7</td>\n",
       "      <td>KevinCostner</td>\n",
       "      <td>DennisQuaid</td>\n",
       "      <td>GeneHackman</td>\n",
       "      <td>DavidAndrews</td>\n",
       "      <td>53287</td>\n",
       "      <td>Action</td>\n",
       "      <td>Adventure</td>\n",
       "      <td>Biography</td>\n",
       "      <td>25.05M</td>\n",
       "      <td>R</td>\n",
       "      <td>Alexander</td>\n",
       "    </tr>\n",
       "    <tr>\n",
       "      <th>1082</th>\n",
       "      <td>1083</td>\n",
       "      <td>Pearl Harbor</td>\n",
       "      <td>MichaelBay</td>\n",
       "      <td>-</td>\n",
       "      <td>-</td>\n",
       "      <td>-</td>\n",
       "      <td>183.0</td>\n",
       "      <td>2001</td>\n",
       "      <td>6.2</td>\n",
       "      <td>BenAffleck</td>\n",
       "      <td>KateBeckinsale</td>\n",
       "      <td>JoshHartnett</td>\n",
       "      <td>WilliamLeeScott</td>\n",
       "      <td>342680</td>\n",
       "      <td>Action</td>\n",
       "      <td>Drama</td>\n",
       "      <td>History</td>\n",
       "      <td>198.54M</td>\n",
       "      <td>PG</td>\n",
       "      <td>Filth</td>\n",
       "    </tr>\n",
       "    <tr>\n",
       "      <th>1683</th>\n",
       "      <td>1684</td>\n",
       "      <td>Happy New Year</td>\n",
       "      <td>FarahKhan</td>\n",
       "      <td>-</td>\n",
       "      <td>-</td>\n",
       "      <td>-</td>\n",
       "      <td>180.0</td>\n",
       "      <td>I   2014</td>\n",
       "      <td>4.9</td>\n",
       "      <td>ShahRukhKhan</td>\n",
       "      <td>DeepikaPadukone</td>\n",
       "      <td>AbhishekBachchan</td>\n",
       "      <td>BomanIrani</td>\n",
       "      <td>39140</td>\n",
       "      <td>Action</td>\n",
       "      <td>Comedy</td>\n",
       "      <td>Crime</td>\n",
       "      <td>-</td>\n",
       "      <td>R</td>\n",
       "      <td>22 Bullets</td>\n",
       "    </tr>\n",
       "  </tbody>\n",
       "</table>\n",
       "</div>"
      ],
      "text/plain": [
       "       SNo                                         Movie Name  \\\n",
       "1        2      The Lord of the Rings: The Return of the King   \n",
       "11      12                                      Seven Samurai   \n",
       "18      19                                  Avengers: Endgame   \n",
       "46      47                                 Gangs of Wasseypur   \n",
       "104    105                                        Arjun Reddy   \n",
       "109    110                       Zack Snyder's Justice League   \n",
       "138    139                                                RRR   \n",
       "201    202                           Avatar: The Way of Water   \n",
       "267    268                       It's a Mad Mad Mad Mad World   \n",
       "269    270                                         Grindhouse   \n",
       "284    285                                       Jodhaa Akbar   \n",
       "372    373                                            Ghajini   \n",
       "389    390                                          King Kong   \n",
       "395    396  Batman v Superman: Dawn of Justice (Ultimate E...   \n",
       "728    729                                         Wyatt Earp   \n",
       "1082  1083                                       Pearl Harbor   \n",
       "1683  1684                                     Happy New Year   \n",
       "\n",
       "              Director1 Directorr2         Director3  Director4  Duration  \\\n",
       "1          PeterJackson          -                 -          -     201.0   \n",
       "11        AkiraKurosawa          -                 -          -     207.0   \n",
       "18         AnthonyRusso   JoeRusso                 -          -     181.0   \n",
       "46        AnuragKashyap          -                 -          -     321.0   \n",
       "104   SandeepReddyVanga          -                 -          -     182.0   \n",
       "109          ZackSnyder          -                 -          -     242.0   \n",
       "138       S.S.Rajamouli          -                 -          -     187.0   \n",
       "201        JamesCameron          -                 -          -     192.0   \n",
       "267       StanleyKramer          -                 -          -     210.0   \n",
       "269     RobertRodriguez    EliRoth  QuentinTarantino  RobZombie     191.0   \n",
       "284   AshutoshGowariker          -                 -          -     213.0   \n",
       "372      A.R.Murugadoss          -                 -          -     186.0   \n",
       "389        PeterJackson          -                 -          -     187.0   \n",
       "395          ZackSnyder          -                 -          -     182.0   \n",
       "728      LawrenceKasdan          -                 -          -     191.0   \n",
       "1082         MichaelBay          -                 -          -     183.0   \n",
       "1683          FarahKhan          -                 -          -     180.0   \n",
       "\n",
       "            Year  Ratings             Star1                 Star2  \\\n",
       "1           2003      9.0        ElijahWood        ViggoMortensen   \n",
       "11          1954      8.6    ToshirÃ´Mifune        TakashiShimura   \n",
       "18          2019      8.4   RobertDowneyJr.            ChrisEvans   \n",
       "46          2012      8.2     ManojBajpayee    NawazuddinSiddiqui   \n",
       "104         2017      8.0  VijayDeverakonda         ShaliniPandey   \n",
       "109         2021      7.9       HenryCavill            BenAffleck   \n",
       "138         2022      7.8    N.T.RamaRaoJr.             RamCharan   \n",
       "201         2022      7.6    SamWorthington            ZoeSaldana   \n",
       "267         1963      7.5      SpencerTracy           MiltonBerle   \n",
       "269         2007      7.5       KurtRussell           RoseMcGowan   \n",
       "284         2008      7.5     HrithikRoshan  AishwaryaRaiBachchan   \n",
       "372         2008      7.3         AamirKhan        AsinThottumkal   \n",
       "389         2005      7.2        NaomiWatts             JackBlack   \n",
       "395         2016      7.2          AmyAdams            BenAffleck   \n",
       "728         1994      6.7      KevinCostner           DennisQuaid   \n",
       "1082        2001      6.2        BenAffleck        KateBeckinsale   \n",
       "1683   I   2014       4.9      ShahRukhKhan       DeepikaPadukone   \n",
       "\n",
       "                 Star3              Star4    Votes  Genre1      Genre2  \\\n",
       "1          IanMcKellen       OrlandoBloom  1899372  Action   Adventure   \n",
       "11       KeikoTsushima    YukikoShimazaki   355004  Action       Drama   \n",
       "18         MarkRuffalo     ChrisHemsworth  1195157  Action   Adventure   \n",
       "46     TigmanshuDhulia        RichaChadha    99915  Action      Comedy   \n",
       "104          JiaSharma           Kanchana    26454  Action       Drama   \n",
       "109           GalGadot           AmyAdams   418412  Action   Adventure   \n",
       "138          AjayDevgn          AliaBhatt   153491  Action       Drama   \n",
       "201    SigourneyWeaver        StephenLang   434604  Action   Adventure   \n",
       "267        EthelMerman       MickeyRooney    44170  Action   Adventure   \n",
       "269         DannyTrejo           ZoÃ«Bell   187956  Action      Horror   \n",
       "284           SonuSood        PoonamSinha    33772  Action       Drama   \n",
       "372           JiahKhan          AamirNaik    64665  Action       Drama   \n",
       "389        AdrienBrody  ThomasKretschmann   435397  Action   Adventure   \n",
       "395        HenryCavill     JesseEisenberg    71754  Action   Adventure   \n",
       "728        GeneHackman       DavidAndrews    53287  Action   Adventure   \n",
       "1082      JoshHartnett    WilliamLeeScott   342680  Action       Drama   \n",
       "1683  AbhishekBachchan         BomanIrani    39140  Action      Comedy   \n",
       "\n",
       "          Genre3 Gross_Collection Certification  \\\n",
       "1          Drama          377.85M         PG-13   \n",
       "11             -            0.27M     Not Rated   \n",
       "18         Drama          858.37M         PG-13   \n",
       "46         Crime                -     Not Rated   \n",
       "104      Romance                -     Not Rated   \n",
       "109      Fantasy                -         PG-13   \n",
       "138            -           14.50M         PG-13   \n",
       "201      Fantasy          659.68M             R   \n",
       "267       Comedy           46.30M             R   \n",
       "269     Thriller           25.04M             R   \n",
       "284      History            3.44M         PG-13   \n",
       "372      Mystery            2.43M         PG-13   \n",
       "389      Romance          218.08M         PG-13   \n",
       "395       Sci-Fi                -            PG   \n",
       "728    Biography           25.05M             R   \n",
       "1082     History          198.54M            PG   \n",
       "1683       Crime                -             R   \n",
       "\n",
       "                                      Popularity  \n",
       "1                               Sound of Freedom  \n",
       "11                          John Wick: Chapter 4  \n",
       "18                       Mission: Impossible III  \n",
       "46                                       Top Gun  \n",
       "104                                 Man of Steel  \n",
       "109               Black Panther: Wakanda Forever  \n",
       "138                               Jurassic World  \n",
       "201   Pirates of the Caribbean: Dead Man's Chest  \n",
       "267                          Alien: Resurrection  \n",
       "269                                         Thor  \n",
       "284                        Terminator: Dark Fate  \n",
       "372                                    12 Strong  \n",
       "389                        Live Free or Die Hard  \n",
       "395                            Quantum of Solace  \n",
       "728                                    Alexander  \n",
       "1082                                       Filth  \n",
       "1683                                  22 Bullets  "
      ]
     },
     "execution_count": 156,
     "metadata": {},
     "output_type": "execute_result"
    }
   ],
   "source": [
    "df[df['Duration'] >= 180]"
   ]
  },
  {
   "cell_type": "code",
   "execution_count": 157,
   "id": "cc9901a2",
   "metadata": {},
   "outputs": [
    {
     "data": {
      "text/plain": [
       "1           The Lord of the Rings: The Return of the King\n",
       "11                                          Seven Samurai\n",
       "18                                      Avengers: Endgame\n",
       "46                                     Gangs of Wasseypur\n",
       "104                                           Arjun Reddy\n",
       "109                          Zack Snyder's Justice League\n",
       "138                                                   RRR\n",
       "201                              Avatar: The Way of Water\n",
       "267                          It's a Mad Mad Mad Mad World\n",
       "269                                            Grindhouse\n",
       "284                                          Jodhaa Akbar\n",
       "372                                               Ghajini\n",
       "389                                             King Kong\n",
       "395     Batman v Superman: Dawn of Justice (Ultimate E...\n",
       "728                                            Wyatt Earp\n",
       "1082                                         Pearl Harbor\n",
       "1683                                       Happy New Year\n",
       "Name: Movie Name, dtype: object"
      ]
     },
     "execution_count": 157,
     "metadata": {},
     "output_type": "execute_result"
    }
   ],
   "source": [
    "df[df['Duration'] >= 180]['Movie Name']"
   ]
  },
  {
   "cell_type": "markdown",
   "id": "639abe54",
   "metadata": {},
   "source": [
    "# In Which year there was the highest average voting"
   ]
  },
  {
   "cell_type": "code",
   "execution_count": 158,
   "id": "c45aac90",
   "metadata": {},
   "outputs": [
    {
     "data": {
      "text/plain": [
       "Index(['SNo', 'Movie Name', 'Director1', 'Directorr2', 'Director3',\n",
       "       'Director4', 'Duration', 'Year', 'Ratings', 'Star1', 'Star2', 'Star3',\n",
       "       'Star4', 'Votes', 'Genre1', 'Genre2', 'Genre3', 'Gross_Collection',\n",
       "       'Certification', 'Popularity'],\n",
       "      dtype='object')"
      ]
     },
     "execution_count": 158,
     "metadata": {},
     "output_type": "execute_result"
    }
   ],
   "source": [
    "df.columns"
   ]
  },
  {
   "cell_type": "code",
   "execution_count": 159,
   "id": "cc001d2d",
   "metadata": {},
   "outputs": [
    {
     "data": {
      "text/plain": [
       "Year\n",
       "1977            523244.333333\n",
       "1954            355004.000000\n",
       "1980            346760.200000\n",
       " II   2014      343155.000000\n",
       "1959            336482.000000\n",
       "                    ...      \n",
       "1949             34524.000000\n",
       " III   2017      33530.000000\n",
       "1966             32202.000000\n",
       " III   2015      31752.000000\n",
       "1932             29250.000000\n",
       "Name: Votes, Length: 112, dtype: float64"
      ]
     },
     "execution_count": 159,
     "metadata": {},
     "output_type": "execute_result"
    }
   ],
   "source": [
    "df.groupby('Year')['Votes'].mean().sort_values(ascending=False)"
   ]
  },
  {
   "cell_type": "code",
   "execution_count": 160,
   "id": "49acf0da",
   "metadata": {},
   "outputs": [
    {
     "data": {
      "image/png": "[encoded data removed]",
      "text/plain": [
       "<Figure size 5760x3600 with 1 Axes>"
      ]
     },
     "metadata": {
      "needs_background": "light"
     },
     "output_type": "display_data"
    }
   ],
   "source": [
    "plt.figure(figsize=(80,50))\n",
    "sns.barplot(x='Year',y='Votes',data=df)\n",
    "plt.title(\"Votes By Year\")\n",
    "plt.show()"
   ]
  },
  {
   "cell_type": "markdown",
   "id": "eb093243",
   "metadata": {},
   "source": [
    "# Find the Average Rating for each director"
   ]
  },
  {
   "cell_type": "code",
   "execution_count": 161,
   "id": "393afe21",
   "metadata": {},
   "outputs": [
    {
     "data": {
      "text/plain": [
       "Index(['SNo', 'Movie Name', 'Director1', 'Directorr2', 'Director3',\n",
       "       'Director4', 'Duration', 'Year', 'Ratings', 'Star1', 'Star2', 'Star3',\n",
       "       'Star4', 'Votes', 'Genre1', 'Genre2', 'Genre3', 'Gross_Collection',\n",
       "       'Certification', 'Popularity'],\n",
       "      dtype='object')"
      ]
     },
     "execution_count": 161,
     "metadata": {},
     "output_type": "execute_result"
    }
   ],
   "source": [
    "df.columns"
   ]
  },
  {
   "cell_type": "code",
   "execution_count": 162,
   "id": "04bec454",
   "metadata": {},
   "outputs": [
    {
     "data": {
      "text/plain": [
       "Director1\n",
       "JoaquimDosSantos    8.90\n",
       "SudhaKongara        8.70\n",
       "MasakiKobayashi     8.60\n",
       "HanuRaghavapudi     8.60\n",
       "PeterJackson        8.45\n",
       "                    ... \n",
       "Remo D'Souza        1.90\n",
       "Prabhu Deva         1.90\n",
       "Sean Cain           1.60\n",
       "Keith English       1.50\n",
       "Mahesh Bhatt        1.20\n",
       "Name: Ratings, Length: 954, dtype: float64"
      ]
     },
     "execution_count": 162,
     "metadata": {},
     "output_type": "execute_result"
    }
   ],
   "source": [
    "df.groupby('Director1')['Ratings'].mean().sort_values(ascending=False)"
   ]
  },
  {
   "cell_type": "code",
   "execution_count": 163,
   "id": "dea60132",
   "metadata": {},
   "outputs": [
    {
     "data": {
      "text/plain": [
       "Directorr2\n",
       "KempPowers             8.90\n",
       "PeterRamsey            8.40\n",
       "Pushkar                8.20\n",
       "MehmetTutkum           8.10\n",
       "BusterKeaton           8.10\n",
       "                       ... \n",
       "OxideChunPang          5.30\n",
       "NickHamm               4.80\n",
       "GregStrause            4.55\n",
       "Balakrishnan Thevar    2.50\n",
       " Enzo Zelocchi         1.60\n",
       "Name: Ratings, Length: 91, dtype: float64"
      ]
     },
     "execution_count": 163,
     "metadata": {},
     "output_type": "execute_result"
    }
   ],
   "source": [
    "df.groupby('Directorr2')['Ratings'].mean().sort_values(ascending=False)"
   ]
  },
  {
   "cell_type": "code",
   "execution_count": 164,
   "id": "c4bdc774",
   "metadata": {},
   "outputs": [
    {
     "data": {
      "text/plain": [
       "Director3\n",
       "JustinK.Thompson        8.900000\n",
       "RodneyRothman           8.400000\n",
       "GowthamSelvaraj         8.200000\n",
       "FrankPaur               7.800000\n",
       "TensaiOkamura           7.800000\n",
       "GerdOswald              7.700000\n",
       "HideakiAnno             7.600000\n",
       "QuentinTarantino        7.500000\n",
       "ToshioMasuda            7.500000\n",
       "PaulBriggs              7.300000\n",
       "Yoann-KarlWhissell      6.700000\n",
       "-                       6.471941\n",
       "BobLogan                6.000000\n",
       "MusaMuhammedOlayinka    5.900000\n",
       "Name: Ratings, dtype: float64"
      ]
     },
     "execution_count": 164,
     "metadata": {},
     "output_type": "execute_result"
    }
   ],
   "source": [
    "df.groupby('Director3')['Ratings'].mean().sort_values(ascending=False)"
   ]
  },
  {
   "cell_type": "code",
   "execution_count": 165,
   "id": "5fb99d1f",
   "metadata": {},
   "outputs": [
    {
     "data": {
      "text/plain": [
       "Director4\n",
       "YoshiyukiTakei    7.800000\n",
       "DarrylF.Zanuck    7.700000\n",
       "RobZombie         7.500000\n",
       "-                 6.477363\n",
       "Name: Ratings, dtype: float64"
      ]
     },
     "execution_count": 165,
     "metadata": {},
     "output_type": "execute_result"
    }
   ],
   "source": [
    "df.groupby('Director4')['Ratings'].mean().sort_values(ascending=False)"
   ]
  },
  {
   "cell_type": "markdown",
   "id": "58a63724",
   "metadata": {},
   "source": [
    "# Display Top 10 Lengthy Movies Title and Duration"
   ]
  },
  {
   "cell_type": "code",
   "execution_count": 166,
   "id": "2fd64210",
   "metadata": {},
   "outputs": [
    {
     "data": {
      "text/plain": [
       "Index(['SNo', 'Movie Name', 'Director1', 'Directorr2', 'Director3',\n",
       "       'Director4', 'Duration', 'Year', 'Ratings', 'Star1', 'Star2', 'Star3',\n",
       "       'Star4', 'Votes', 'Genre1', 'Genre2', 'Genre3', 'Gross_Collection',\n",
       "       'Certification', 'Popularity'],\n",
       "      dtype='object')"
      ]
     },
     "execution_count": 166,
     "metadata": {},
     "output_type": "execute_result"
    }
   ],
   "source": [
    "df.columns"
   ]
  },
  {
   "cell_type": "code",
   "execution_count": 167,
   "id": "1b56a4db",
   "metadata": {},
   "outputs": [
    {
     "data": {
      "text/html": [
       "<div>\n",
       "<style scoped>\n",
       "    .dataframe tbody tr th:only-of-type {\n",
       "        vertical-align: middle;\n",
       "    }\n",
       "\n",
       "    .dataframe tbody tr th {\n",
       "        vertical-align: top;\n",
       "    }\n",
       "\n",
       "    .dataframe thead th {\n",
       "        text-align: right;\n",
       "    }\n",
       "</style>\n",
       "<table border=\"1\" class=\"dataframe\">\n",
       "  <thead>\n",
       "    <tr style=\"text-align: right;\">\n",
       "      <th></th>\n",
       "      <th>SNo</th>\n",
       "      <th>Movie Name</th>\n",
       "      <th>Director1</th>\n",
       "      <th>Directorr2</th>\n",
       "      <th>Director3</th>\n",
       "      <th>Director4</th>\n",
       "      <th>Duration</th>\n",
       "      <th>Year</th>\n",
       "      <th>Ratings</th>\n",
       "      <th>Star1</th>\n",
       "      <th>Star2</th>\n",
       "      <th>Star3</th>\n",
       "      <th>Star4</th>\n",
       "      <th>Votes</th>\n",
       "      <th>Genre1</th>\n",
       "      <th>Genre2</th>\n",
       "      <th>Genre3</th>\n",
       "      <th>Gross_Collection</th>\n",
       "      <th>Certification</th>\n",
       "      <th>Popularity</th>\n",
       "    </tr>\n",
       "  </thead>\n",
       "  <tbody>\n",
       "    <tr>\n",
       "      <th>46</th>\n",
       "      <td>47</td>\n",
       "      <td>Gangs of Wasseypur</td>\n",
       "      <td>AnuragKashyap</td>\n",
       "      <td>-</td>\n",
       "      <td>-</td>\n",
       "      <td>-</td>\n",
       "      <td>321.0</td>\n",
       "      <td>2012</td>\n",
       "      <td>8.2</td>\n",
       "      <td>ManojBajpayee</td>\n",
       "      <td>NawazuddinSiddiqui</td>\n",
       "      <td>TigmanshuDhulia</td>\n",
       "      <td>RichaChadha</td>\n",
       "      <td>99915</td>\n",
       "      <td>Action</td>\n",
       "      <td>Comedy</td>\n",
       "      <td>Crime</td>\n",
       "      <td>-</td>\n",
       "      <td>Not Rated</td>\n",
       "      <td>Top Gun</td>\n",
       "    </tr>\n",
       "    <tr>\n",
       "      <th>109</th>\n",
       "      <td>110</td>\n",
       "      <td>Zack Snyder's Justice League</td>\n",
       "      <td>ZackSnyder</td>\n",
       "      <td>-</td>\n",
       "      <td>-</td>\n",
       "      <td>-</td>\n",
       "      <td>242.0</td>\n",
       "      <td>2021</td>\n",
       "      <td>7.9</td>\n",
       "      <td>HenryCavill</td>\n",
       "      <td>BenAffleck</td>\n",
       "      <td>GalGadot</td>\n",
       "      <td>AmyAdams</td>\n",
       "      <td>418412</td>\n",
       "      <td>Action</td>\n",
       "      <td>Adventure</td>\n",
       "      <td>Fantasy</td>\n",
       "      <td>-</td>\n",
       "      <td>PG-13</td>\n",
       "      <td>Black Panther: Wakanda Forever</td>\n",
       "    </tr>\n",
       "    <tr>\n",
       "      <th>284</th>\n",
       "      <td>285</td>\n",
       "      <td>Jodhaa Akbar</td>\n",
       "      <td>AshutoshGowariker</td>\n",
       "      <td>-</td>\n",
       "      <td>-</td>\n",
       "      <td>-</td>\n",
       "      <td>213.0</td>\n",
       "      <td>2008</td>\n",
       "      <td>7.5</td>\n",
       "      <td>HrithikRoshan</td>\n",
       "      <td>AishwaryaRaiBachchan</td>\n",
       "      <td>SonuSood</td>\n",
       "      <td>PoonamSinha</td>\n",
       "      <td>33772</td>\n",
       "      <td>Action</td>\n",
       "      <td>Drama</td>\n",
       "      <td>History</td>\n",
       "      <td>3.44M</td>\n",
       "      <td>PG-13</td>\n",
       "      <td>Terminator: Dark Fate</td>\n",
       "    </tr>\n",
       "    <tr>\n",
       "      <th>267</th>\n",
       "      <td>268</td>\n",
       "      <td>It's a Mad Mad Mad Mad World</td>\n",
       "      <td>StanleyKramer</td>\n",
       "      <td>-</td>\n",
       "      <td>-</td>\n",
       "      <td>-</td>\n",
       "      <td>210.0</td>\n",
       "      <td>1963</td>\n",
       "      <td>7.5</td>\n",
       "      <td>SpencerTracy</td>\n",
       "      <td>MiltonBerle</td>\n",
       "      <td>EthelMerman</td>\n",
       "      <td>MickeyRooney</td>\n",
       "      <td>44170</td>\n",
       "      <td>Action</td>\n",
       "      <td>Adventure</td>\n",
       "      <td>Comedy</td>\n",
       "      <td>46.30M</td>\n",
       "      <td>R</td>\n",
       "      <td>Alien: Resurrection</td>\n",
       "    </tr>\n",
       "    <tr>\n",
       "      <th>11</th>\n",
       "      <td>12</td>\n",
       "      <td>Seven Samurai</td>\n",
       "      <td>AkiraKurosawa</td>\n",
       "      <td>-</td>\n",
       "      <td>-</td>\n",
       "      <td>-</td>\n",
       "      <td>207.0</td>\n",
       "      <td>1954</td>\n",
       "      <td>8.6</td>\n",
       "      <td>ToshirÃ´Mifune</td>\n",
       "      <td>TakashiShimura</td>\n",
       "      <td>KeikoTsushima</td>\n",
       "      <td>YukikoShimazaki</td>\n",
       "      <td>355004</td>\n",
       "      <td>Action</td>\n",
       "      <td>Drama</td>\n",
       "      <td>-</td>\n",
       "      <td>0.27M</td>\n",
       "      <td>Not Rated</td>\n",
       "      <td>John Wick: Chapter 4</td>\n",
       "    </tr>\n",
       "    <tr>\n",
       "      <th>1</th>\n",
       "      <td>2</td>\n",
       "      <td>The Lord of the Rings: The Return of the King</td>\n",
       "      <td>PeterJackson</td>\n",
       "      <td>-</td>\n",
       "      <td>-</td>\n",
       "      <td>-</td>\n",
       "      <td>201.0</td>\n",
       "      <td>2003</td>\n",
       "      <td>9.0</td>\n",
       "      <td>ElijahWood</td>\n",
       "      <td>ViggoMortensen</td>\n",
       "      <td>IanMcKellen</td>\n",
       "      <td>OrlandoBloom</td>\n",
       "      <td>1899372</td>\n",
       "      <td>Action</td>\n",
       "      <td>Adventure</td>\n",
       "      <td>Drama</td>\n",
       "      <td>377.85M</td>\n",
       "      <td>PG-13</td>\n",
       "      <td>Sound of Freedom</td>\n",
       "    </tr>\n",
       "    <tr>\n",
       "      <th>201</th>\n",
       "      <td>202</td>\n",
       "      <td>Avatar: The Way of Water</td>\n",
       "      <td>JamesCameron</td>\n",
       "      <td>-</td>\n",
       "      <td>-</td>\n",
       "      <td>-</td>\n",
       "      <td>192.0</td>\n",
       "      <td>2022</td>\n",
       "      <td>7.6</td>\n",
       "      <td>SamWorthington</td>\n",
       "      <td>ZoeSaldana</td>\n",
       "      <td>SigourneyWeaver</td>\n",
       "      <td>StephenLang</td>\n",
       "      <td>434604</td>\n",
       "      <td>Action</td>\n",
       "      <td>Adventure</td>\n",
       "      <td>Fantasy</td>\n",
       "      <td>659.68M</td>\n",
       "      <td>R</td>\n",
       "      <td>Pirates of the Caribbean: Dead Man's Chest</td>\n",
       "    </tr>\n",
       "    <tr>\n",
       "      <th>269</th>\n",
       "      <td>270</td>\n",
       "      <td>Grindhouse</td>\n",
       "      <td>RobertRodriguez</td>\n",
       "      <td>EliRoth</td>\n",
       "      <td>QuentinTarantino</td>\n",
       "      <td>RobZombie</td>\n",
       "      <td>191.0</td>\n",
       "      <td>2007</td>\n",
       "      <td>7.5</td>\n",
       "      <td>KurtRussell</td>\n",
       "      <td>RoseMcGowan</td>\n",
       "      <td>DannyTrejo</td>\n",
       "      <td>ZoÃ«Bell</td>\n",
       "      <td>187956</td>\n",
       "      <td>Action</td>\n",
       "      <td>Horror</td>\n",
       "      <td>Thriller</td>\n",
       "      <td>25.04M</td>\n",
       "      <td>R</td>\n",
       "      <td>Thor</td>\n",
       "    </tr>\n",
       "    <tr>\n",
       "      <th>728</th>\n",
       "      <td>729</td>\n",
       "      <td>Wyatt Earp</td>\n",
       "      <td>LawrenceKasdan</td>\n",
       "      <td>-</td>\n",
       "      <td>-</td>\n",
       "      <td>-</td>\n",
       "      <td>191.0</td>\n",
       "      <td>1994</td>\n",
       "      <td>6.7</td>\n",
       "      <td>KevinCostner</td>\n",
       "      <td>DennisQuaid</td>\n",
       "      <td>GeneHackman</td>\n",
       "      <td>DavidAndrews</td>\n",
       "      <td>53287</td>\n",
       "      <td>Action</td>\n",
       "      <td>Adventure</td>\n",
       "      <td>Biography</td>\n",
       "      <td>25.05M</td>\n",
       "      <td>R</td>\n",
       "      <td>Alexander</td>\n",
       "    </tr>\n",
       "    <tr>\n",
       "      <th>138</th>\n",
       "      <td>139</td>\n",
       "      <td>RRR</td>\n",
       "      <td>S.S.Rajamouli</td>\n",
       "      <td>-</td>\n",
       "      <td>-</td>\n",
       "      <td>-</td>\n",
       "      <td>187.0</td>\n",
       "      <td>2022</td>\n",
       "      <td>7.8</td>\n",
       "      <td>N.T.RamaRaoJr.</td>\n",
       "      <td>RamCharan</td>\n",
       "      <td>AjayDevgn</td>\n",
       "      <td>AliaBhatt</td>\n",
       "      <td>153491</td>\n",
       "      <td>Action</td>\n",
       "      <td>Drama</td>\n",
       "      <td>-</td>\n",
       "      <td>14.50M</td>\n",
       "      <td>PG-13</td>\n",
       "      <td>Jurassic World</td>\n",
       "    </tr>\n",
       "  </tbody>\n",
       "</table>\n",
       "</div>"
      ],
      "text/plain": [
       "     SNo                                     Movie Name          Director1  \\\n",
       "46    47                             Gangs of Wasseypur      AnuragKashyap   \n",
       "109  110                   Zack Snyder's Justice League         ZackSnyder   \n",
       "284  285                                   Jodhaa Akbar  AshutoshGowariker   \n",
       "267  268                   It's a Mad Mad Mad Mad World      StanleyKramer   \n",
       "11    12                                  Seven Samurai      AkiraKurosawa   \n",
       "1      2  The Lord of the Rings: The Return of the King       PeterJackson   \n",
       "201  202                       Avatar: The Way of Water       JamesCameron   \n",
       "269  270                                     Grindhouse    RobertRodriguez   \n",
       "728  729                                     Wyatt Earp     LawrenceKasdan   \n",
       "138  139                                            RRR      S.S.Rajamouli   \n",
       "\n",
       "    Directorr2         Director3  Director4  Duration  Year  Ratings  \\\n",
       "46           -                 -          -     321.0  2012      8.2   \n",
       "109          -                 -          -     242.0  2021      7.9   \n",
       "284          -                 -          -     213.0  2008      7.5   \n",
       "267          -                 -          -     210.0  1963      7.5   \n",
       "11           -                 -          -     207.0  1954      8.6   \n",
       "1            -                 -          -     201.0  2003      9.0   \n",
       "201          -                 -          -     192.0  2022      7.6   \n",
       "269    EliRoth  QuentinTarantino  RobZombie     191.0  2007      7.5   \n",
       "728          -                 -          -     191.0  1994      6.7   \n",
       "138          -                 -          -     187.0  2022      7.8   \n",
       "\n",
       "              Star1                 Star2            Star3            Star4  \\\n",
       "46    ManojBajpayee    NawazuddinSiddiqui  TigmanshuDhulia      RichaChadha   \n",
       "109     HenryCavill            BenAffleck         GalGadot         AmyAdams   \n",
       "284   HrithikRoshan  AishwaryaRaiBachchan         SonuSood      PoonamSinha   \n",
       "267    SpencerTracy           MiltonBerle      EthelMerman     MickeyRooney   \n",
       "11   ToshirÃ´Mifune        TakashiShimura    KeikoTsushima  YukikoShimazaki   \n",
       "1        ElijahWood        ViggoMortensen      IanMcKellen     OrlandoBloom   \n",
       "201  SamWorthington            ZoeSaldana  SigourneyWeaver      StephenLang   \n",
       "269     KurtRussell           RoseMcGowan       DannyTrejo         ZoÃ«Bell   \n",
       "728    KevinCostner           DennisQuaid      GeneHackman     DavidAndrews   \n",
       "138  N.T.RamaRaoJr.             RamCharan        AjayDevgn        AliaBhatt   \n",
       "\n",
       "       Votes  Genre1      Genre2      Genre3 Gross_Collection Certification  \\\n",
       "46     99915  Action      Comedy       Crime                -     Not Rated   \n",
       "109   418412  Action   Adventure     Fantasy                -         PG-13   \n",
       "284    33772  Action       Drama     History            3.44M         PG-13   \n",
       "267    44170  Action   Adventure      Comedy           46.30M             R   \n",
       "11    355004  Action       Drama           -            0.27M     Not Rated   \n",
       "1    1899372  Action   Adventure       Drama          377.85M         PG-13   \n",
       "201   434604  Action   Adventure     Fantasy          659.68M             R   \n",
       "269   187956  Action      Horror    Thriller           25.04M             R   \n",
       "728    53287  Action   Adventure   Biography           25.05M             R   \n",
       "138   153491  Action       Drama           -           14.50M         PG-13   \n",
       "\n",
       "                                     Popularity  \n",
       "46                                      Top Gun  \n",
       "109              Black Panther: Wakanda Forever  \n",
       "284                       Terminator: Dark Fate  \n",
       "267                         Alien: Resurrection  \n",
       "11                         John Wick: Chapter 4  \n",
       "1                              Sound of Freedom  \n",
       "201  Pirates of the Caribbean: Dead Man's Chest  \n",
       "269                                        Thor  \n",
       "728                                   Alexander  \n",
       "138                              Jurassic World  "
      ]
     },
     "execution_count": 167,
     "metadata": {},
     "output_type": "execute_result"
    }
   ],
   "source": [
    "df.nlargest(10,'Duration')"
   ]
  },
  {
   "cell_type": "code",
   "execution_count": 168,
   "id": "1ba8f938",
   "metadata": {},
   "outputs": [
    {
     "data": {
      "text/html": [
       "<div>\n",
       "<style scoped>\n",
       "    .dataframe tbody tr th:only-of-type {\n",
       "        vertical-align: middle;\n",
       "    }\n",
       "\n",
       "    .dataframe tbody tr th {\n",
       "        vertical-align: top;\n",
       "    }\n",
       "\n",
       "    .dataframe thead th {\n",
       "        text-align: right;\n",
       "    }\n",
       "</style>\n",
       "<table border=\"1\" class=\"dataframe\">\n",
       "  <thead>\n",
       "    <tr style=\"text-align: right;\">\n",
       "      <th></th>\n",
       "      <th>Movie Name</th>\n",
       "      <th>Duration</th>\n",
       "    </tr>\n",
       "  </thead>\n",
       "  <tbody>\n",
       "    <tr>\n",
       "      <th>46</th>\n",
       "      <td>Gangs of Wasseypur</td>\n",
       "      <td>321.0</td>\n",
       "    </tr>\n",
       "    <tr>\n",
       "      <th>109</th>\n",
       "      <td>Zack Snyder's Justice League</td>\n",
       "      <td>242.0</td>\n",
       "    </tr>\n",
       "    <tr>\n",
       "      <th>284</th>\n",
       "      <td>Jodhaa Akbar</td>\n",
       "      <td>213.0</td>\n",
       "    </tr>\n",
       "    <tr>\n",
       "      <th>267</th>\n",
       "      <td>It's a Mad Mad Mad Mad World</td>\n",
       "      <td>210.0</td>\n",
       "    </tr>\n",
       "    <tr>\n",
       "      <th>11</th>\n",
       "      <td>Seven Samurai</td>\n",
       "      <td>207.0</td>\n",
       "    </tr>\n",
       "    <tr>\n",
       "      <th>1</th>\n",
       "      <td>The Lord of the Rings: The Return of the King</td>\n",
       "      <td>201.0</td>\n",
       "    </tr>\n",
       "    <tr>\n",
       "      <th>201</th>\n",
       "      <td>Avatar: The Way of Water</td>\n",
       "      <td>192.0</td>\n",
       "    </tr>\n",
       "    <tr>\n",
       "      <th>269</th>\n",
       "      <td>Grindhouse</td>\n",
       "      <td>191.0</td>\n",
       "    </tr>\n",
       "    <tr>\n",
       "      <th>728</th>\n",
       "      <td>Wyatt Earp</td>\n",
       "      <td>191.0</td>\n",
       "    </tr>\n",
       "    <tr>\n",
       "      <th>138</th>\n",
       "      <td>RRR</td>\n",
       "      <td>187.0</td>\n",
       "    </tr>\n",
       "  </tbody>\n",
       "</table>\n",
       "</div>"
      ],
      "text/plain": [
       "                                        Movie Name  Duration\n",
       "46                              Gangs of Wasseypur     321.0\n",
       "109                   Zack Snyder's Justice League     242.0\n",
       "284                                   Jodhaa Akbar     213.0\n",
       "267                   It's a Mad Mad Mad Mad World     210.0\n",
       "11                                   Seven Samurai     207.0\n",
       "1    The Lord of the Rings: The Return of the King     201.0\n",
       "201                       Avatar: The Way of Water     192.0\n",
       "269                                     Grindhouse     191.0\n",
       "728                                     Wyatt Earp     191.0\n",
       "138                                            RRR     187.0"
      ]
     },
     "execution_count": 168,
     "metadata": {},
     "output_type": "execute_result"
    }
   ],
   "source": [
    "top10_len = df.nlargest(10,'Duration')[['Movie Name','Duration']]\n",
    "top10_len"
   ]
  },
  {
   "cell_type": "markdown",
   "id": "1a344f6f",
   "metadata": {},
   "source": [
    "# Display Number of Movies Per Year"
   ]
  },
  {
   "cell_type": "code",
   "execution_count": 169,
   "id": "01417d1a",
   "metadata": {},
   "outputs": [
    {
     "data": {
      "text/plain": [
       "Index(['SNo', 'Movie Name', 'Director1', 'Directorr2', 'Director3',\n",
       "       'Director4', 'Duration', 'Year', 'Ratings', 'Star1', 'Star2', 'Star3',\n",
       "       'Star4', 'Votes', 'Genre1', 'Genre2', 'Genre3', 'Gross_Collection',\n",
       "       'Certification', 'Popularity'],\n",
       "      dtype='object')"
      ]
     },
     "execution_count": 169,
     "metadata": {},
     "output_type": "execute_result"
    }
   ],
   "source": [
    "df.columns"
   ]
  },
  {
   "cell_type": "code",
   "execution_count": 170,
   "id": "dc60e848",
   "metadata": {},
   "outputs": [
    {
     "data": {
      "text/plain": [
       "2016           71\n",
       "2011           64\n",
       "2014           64\n",
       "2018           63\n",
       "2021           59\n",
       "               ..\n",
       "1932            1\n",
       "1948            1\n",
       " I   1999       1\n",
       " II   2015      1\n",
       " I   2004       1\n",
       "Name: Year, Length: 112, dtype: int64"
      ]
     },
     "execution_count": 170,
     "metadata": {},
     "output_type": "execute_result"
    }
   ],
   "source": [
    "df['Year'].value_counts()"
   ]
  },
  {
   "cell_type": "code",
   "execution_count": 171,
   "id": "fdd48aea",
   "metadata": {},
   "outputs": [
    {
     "data": {
      "text/plain": [
       "<AxesSubplot:xlabel='Year', ylabel='count'>"
      ]
     },
     "execution_count": 171,
     "metadata": {},
     "output_type": "execute_result"
    },
    {
     "data": {
      "image/png": "[encoded data removed]",
      "text/plain": [
       "<Figure size 5760x3600 with 1 Axes>"
      ]
     },
     "metadata": {
      "needs_background": "light"
     },
     "output_type": "display_data"
    }
   ],
   "source": [
    "plt.figure(figsize=(80,50))\n",
    "sns.countplot(x='Year',data=df)"
   ]
  },
  {
   "cell_type": "markdown",
   "id": "d5cab9a4",
   "metadata": {},
   "source": [
    "# Find Most Popular Movie Title (Highest Gross_Collection)"
   ]
  },
  {
   "cell_type": "code",
   "execution_count": 172,
   "id": "13ff0fad",
   "metadata": {},
   "outputs": [
    {
     "data": {
      "text/plain": [
       "46    Gangs of Wasseypur\n",
       "Name: Movie Name, dtype: object"
      ]
     },
     "execution_count": 172,
     "metadata": {},
     "output_type": "execute_result"
    }
   ],
   "source": [
    "df[df['Duration'].max()==df['Duration']]['Movie Name']"
   ]
  },
  {
   "cell_type": "markdown",
   "id": "2162a8df",
   "metadata": {},
   "source": [
    "# Display Top 10 Highest Rated Movie Titles And its Directors"
   ]
  },
  {
   "cell_type": "code",
   "execution_count": 173,
   "id": "abfbcb1c",
   "metadata": {},
   "outputs": [
    {
     "data": {
      "text/plain": [
       "Index(['SNo', 'Movie Name', 'Director1', 'Directorr2', 'Director3',\n",
       "       'Director4', 'Duration', 'Year', 'Ratings', 'Star1', 'Star2', 'Star3',\n",
       "       'Star4', 'Votes', 'Genre1', 'Genre2', 'Genre3', 'Gross_Collection',\n",
       "       'Certification', 'Popularity'],\n",
       "      dtype='object')"
      ]
     },
     "execution_count": 173,
     "metadata": {},
     "output_type": "execute_result"
    }
   ],
   "source": [
    "df.columns"
   ]
  },
  {
   "cell_type": "code",
   "execution_count": 174,
   "id": "2228bde2",
   "metadata": {},
   "outputs": [],
   "source": [
    "top10_len = df.nlargest(10,'Ratings')[['Movie Name','Ratings','Director1']]"
   ]
  },
  {
   "cell_type": "code",
   "execution_count": 175,
   "id": "bfd7402b",
   "metadata": {},
   "outputs": [
    {
     "data": {
      "text/html": [
       "<div>\n",
       "<style scoped>\n",
       "    .dataframe tbody tr th:only-of-type {\n",
       "        vertical-align: middle;\n",
       "    }\n",
       "\n",
       "    .dataframe tbody tr th {\n",
       "        vertical-align: top;\n",
       "    }\n",
       "\n",
       "    .dataframe thead th {\n",
       "        text-align: right;\n",
       "    }\n",
       "</style>\n",
       "<table border=\"1\" class=\"dataframe\">\n",
       "  <thead>\n",
       "    <tr style=\"text-align: right;\">\n",
       "      <th></th>\n",
       "      <th>Movie Name</th>\n",
       "      <th>Ratings</th>\n",
       "      <th>Director1</th>\n",
       "    </tr>\n",
       "  </thead>\n",
       "  <tbody>\n",
       "    <tr>\n",
       "      <th>0</th>\n",
       "      <td>The Dark Knight</td>\n",
       "      <td>9.0</td>\n",
       "      <td>ChristopherNolan</td>\n",
       "    </tr>\n",
       "    <tr>\n",
       "      <th>1</th>\n",
       "      <td>The Lord of the Rings: The Return of the King</td>\n",
       "      <td>9.0</td>\n",
       "      <td>PeterJackson</td>\n",
       "    </tr>\n",
       "    <tr>\n",
       "      <th>2</th>\n",
       "      <td>Spider-Man: Across the Spider-Verse</td>\n",
       "      <td>8.9</td>\n",
       "      <td>JoaquimDosSantos</td>\n",
       "    </tr>\n",
       "    <tr>\n",
       "      <th>3</th>\n",
       "      <td>Inception</td>\n",
       "      <td>8.8</td>\n",
       "      <td>ChristopherNolan</td>\n",
       "    </tr>\n",
       "    <tr>\n",
       "      <th>4</th>\n",
       "      <td>The Lord of the Rings: The Fellowship of the Ring</td>\n",
       "      <td>8.8</td>\n",
       "      <td>PeterJackson</td>\n",
       "    </tr>\n",
       "    <tr>\n",
       "      <th>5</th>\n",
       "      <td>The Lord of the Rings: The Two Towers</td>\n",
       "      <td>8.8</td>\n",
       "      <td>PeterJackson</td>\n",
       "    </tr>\n",
       "    <tr>\n",
       "      <th>6</th>\n",
       "      <td>The Matrix</td>\n",
       "      <td>8.7</td>\n",
       "      <td>LanaWachowski</td>\n",
       "    </tr>\n",
       "    <tr>\n",
       "      <th>7</th>\n",
       "      <td>Star Wars: Episode V - The Empire Strikes Back</td>\n",
       "      <td>8.7</td>\n",
       "      <td>IrvinKershner</td>\n",
       "    </tr>\n",
       "    <tr>\n",
       "      <th>8</th>\n",
       "      <td>Soorarai Pottru</td>\n",
       "      <td>8.7</td>\n",
       "      <td>SudhaKongara</td>\n",
       "    </tr>\n",
       "    <tr>\n",
       "      <th>9</th>\n",
       "      <td>Terminator 2: Judgment Day</td>\n",
       "      <td>8.6</td>\n",
       "      <td>JamesCameron</td>\n",
       "    </tr>\n",
       "  </tbody>\n",
       "</table>\n",
       "</div>"
      ],
      "text/plain": [
       "                                          Movie Name  Ratings  \\\n",
       "0                                    The Dark Knight      9.0   \n",
       "1      The Lord of the Rings: The Return of the King      9.0   \n",
       "2                Spider-Man: Across the Spider-Verse      8.9   \n",
       "3                                          Inception      8.8   \n",
       "4  The Lord of the Rings: The Fellowship of the Ring      8.8   \n",
       "5              The Lord of the Rings: The Two Towers      8.8   \n",
       "6                                         The Matrix      8.7   \n",
       "7     Star Wars: Episode V - The Empire Strikes Back      8.7   \n",
       "8                                    Soorarai Pottru      8.7   \n",
       "9                         Terminator 2: Judgment Day      8.6   \n",
       "\n",
       "          Director1  \n",
       "0  ChristopherNolan  \n",
       "1      PeterJackson  \n",
       "2  JoaquimDosSantos  \n",
       "3  ChristopherNolan  \n",
       "4      PeterJackson  \n",
       "5      PeterJackson  \n",
       "6     LanaWachowski  \n",
       "7     IrvinKershner  \n",
       "8      SudhaKongara  \n",
       "9      JamesCameron  "
      ]
     },
     "execution_count": 175,
     "metadata": {},
     "output_type": "execute_result"
    }
   ],
   "source": [
    "top10_len"
   ]
  },
  {
   "cell_type": "markdown",
   "id": "4ec21802",
   "metadata": {},
   "source": [
    "# Find Average Ratings Of Movies Year Wise"
   ]
  },
  {
   "cell_type": "code",
   "execution_count": 176,
   "id": "cb6e7a74",
   "metadata": {},
   "outputs": [
    {
     "data": {
      "text/plain": [
       "Index(['SNo', 'Movie Name', 'Director1', 'Directorr2', 'Director3',\n",
       "       'Director4', 'Duration', 'Year', 'Ratings', 'Star1', 'Star2', 'Star3',\n",
       "       'Star4', 'Votes', 'Genre1', 'Genre2', 'Genre3', 'Gross_Collection',\n",
       "       'Certification', 'Popularity'],\n",
       "      dtype='object')"
      ]
     },
     "execution_count": 176,
     "metadata": {},
     "output_type": "execute_result"
    }
   ],
   "source": [
    "df.columns"
   ]
  },
  {
   "cell_type": "code",
   "execution_count": 177,
   "id": "989c7050",
   "metadata": {},
   "outputs": [
    {
     "data": {
      "text/plain": [
       "Year\n",
       "1954            8.6\n",
       "1959            8.3\n",
       "1924            8.2\n",
       "1926            8.1\n",
       "1949            8.1\n",
       "               ... \n",
       " III   2017     5.6\n",
       " I   2020       5.6\n",
       " IV   2020      5.4\n",
       " II   2022      5.2\n",
       " I   2004       4.5\n",
       "Name: Ratings, Length: 112, dtype: float64"
      ]
     },
     "execution_count": 177,
     "metadata": {},
     "output_type": "execute_result"
    }
   ],
   "source": [
    "df.groupby('Year')['Ratings'].mean().sort_values(ascending=False)"
   ]
  },
  {
   "cell_type": "markdown",
   "id": "14546c92",
   "metadata": {},
   "source": [
    "# Classify Movies Based on Ratings [Excellent, Good and Average]"
   ]
  },
  {
   "cell_type": "code",
   "execution_count": 178,
   "id": "db63eac4",
   "metadata": {},
   "outputs": [
    {
     "data": {
      "text/plain": [
       "Index(['SNo', 'Movie Name', 'Director1', 'Directorr2', 'Director3',\n",
       "       'Director4', 'Duration', 'Year', 'Ratings', 'Star1', 'Star2', 'Star3',\n",
       "       'Star4', 'Votes', 'Genre1', 'Genre2', 'Genre3', 'Gross_Collection',\n",
       "       'Certification', 'Popularity'],\n",
       "      dtype='object')"
      ]
     },
     "execution_count": 178,
     "metadata": {},
     "output_type": "execute_result"
    }
   ],
   "source": [
    "df.columns"
   ]
  },
  {
   "cell_type": "code",
   "execution_count": 179,
   "id": "c59a47a7",
   "metadata": {},
   "outputs": [],
   "source": [
    "def rating(rating):\n",
    "    if rating >= 7.0:\n",
    "        return \"Excellent\"\n",
    "    elif rating >= 6.0:\n",
    "        return \"Good\"\n",
    "    else:\n",
    "        return \"Average\""
   ]
  },
  {
   "cell_type": "code",
   "execution_count": 180,
   "id": "d1d85914",
   "metadata": {},
   "outputs": [],
   "source": [
    "df['rating_cat'] = df['Ratings'].apply(rating)"
   ]
  },
  {
   "cell_type": "code",
   "execution_count": 181,
   "id": "5a1f13e7",
   "metadata": {},
   "outputs": [
    {
     "data": {
      "text/html": [
       "<div>\n",
       "<style scoped>\n",
       "    .dataframe tbody tr th:only-of-type {\n",
       "        vertical-align: middle;\n",
       "    }\n",
       "\n",
       "    .dataframe tbody tr th {\n",
       "        vertical-align: top;\n",
       "    }\n",
       "\n",
       "    .dataframe thead th {\n",
       "        text-align: right;\n",
       "    }\n",
       "</style>\n",
       "<table border=\"1\" class=\"dataframe\">\n",
       "  <thead>\n",
       "    <tr style=\"text-align: right;\">\n",
       "      <th></th>\n",
       "      <th>SNo</th>\n",
       "      <th>Movie Name</th>\n",
       "      <th>Director1</th>\n",
       "      <th>Directorr2</th>\n",
       "      <th>Director3</th>\n",
       "      <th>Director4</th>\n",
       "      <th>Duration</th>\n",
       "      <th>Year</th>\n",
       "      <th>Ratings</th>\n",
       "      <th>Star1</th>\n",
       "      <th>...</th>\n",
       "      <th>Star3</th>\n",
       "      <th>Star4</th>\n",
       "      <th>Votes</th>\n",
       "      <th>Genre1</th>\n",
       "      <th>Genre2</th>\n",
       "      <th>Genre3</th>\n",
       "      <th>Gross_Collection</th>\n",
       "      <th>Certification</th>\n",
       "      <th>Popularity</th>\n",
       "      <th>rating_cat</th>\n",
       "    </tr>\n",
       "  </thead>\n",
       "  <tbody>\n",
       "    <tr>\n",
       "      <th>0</th>\n",
       "      <td>1</td>\n",
       "      <td>The Dark Knight</td>\n",
       "      <td>ChristopherNolan</td>\n",
       "      <td>-</td>\n",
       "      <td>-</td>\n",
       "      <td>-</td>\n",
       "      <td>152.0</td>\n",
       "      <td>2008</td>\n",
       "      <td>9.0</td>\n",
       "      <td>ChristianBale</td>\n",
       "      <td>...</td>\n",
       "      <td>AaronEckhart</td>\n",
       "      <td>MichaelCaine</td>\n",
       "      <td>2742002</td>\n",
       "      <td>Action</td>\n",
       "      <td>Crime</td>\n",
       "      <td>Drama</td>\n",
       "      <td>534.86M</td>\n",
       "      <td>PG-13</td>\n",
       "      <td>Mission: Impossible - Dead Reckoning Part One</td>\n",
       "      <td>Excellent</td>\n",
       "    </tr>\n",
       "    <tr>\n",
       "      <th>1</th>\n",
       "      <td>2</td>\n",
       "      <td>The Lord of the Rings: The Return of the King</td>\n",
       "      <td>PeterJackson</td>\n",
       "      <td>-</td>\n",
       "      <td>-</td>\n",
       "      <td>-</td>\n",
       "      <td>201.0</td>\n",
       "      <td>2003</td>\n",
       "      <td>9.0</td>\n",
       "      <td>ElijahWood</td>\n",
       "      <td>...</td>\n",
       "      <td>IanMcKellen</td>\n",
       "      <td>OrlandoBloom</td>\n",
       "      <td>1899372</td>\n",
       "      <td>Action</td>\n",
       "      <td>Adventure</td>\n",
       "      <td>Drama</td>\n",
       "      <td>377.85M</td>\n",
       "      <td>PG-13</td>\n",
       "      <td>Sound of Freedom</td>\n",
       "      <td>Excellent</td>\n",
       "    </tr>\n",
       "    <tr>\n",
       "      <th>2</th>\n",
       "      <td>3</td>\n",
       "      <td>Spider-Man: Across the Spider-Verse</td>\n",
       "      <td>JoaquimDosSantos</td>\n",
       "      <td>KempPowers</td>\n",
       "      <td>JustinK.Thompson</td>\n",
       "      <td>-</td>\n",
       "      <td>140.0</td>\n",
       "      <td>2023</td>\n",
       "      <td>8.9</td>\n",
       "      <td>ShameikMoore</td>\n",
       "      <td>...</td>\n",
       "      <td>BrianTyreeHenry</td>\n",
       "      <td>LunaLaurenVelez</td>\n",
       "      <td>186672</td>\n",
       "      <td>Animation</td>\n",
       "      <td>Action</td>\n",
       "      <td>Adventure</td>\n",
       "      <td>-</td>\n",
       "      <td>PG</td>\n",
       "      <td>Indiana Jones and the Dial of Destiny</td>\n",
       "      <td>Excellent</td>\n",
       "    </tr>\n",
       "    <tr>\n",
       "      <th>3</th>\n",
       "      <td>4</td>\n",
       "      <td>Inception</td>\n",
       "      <td>ChristopherNolan</td>\n",
       "      <td>-</td>\n",
       "      <td>-</td>\n",
       "      <td>-</td>\n",
       "      <td>148.0</td>\n",
       "      <td>2010</td>\n",
       "      <td>8.8</td>\n",
       "      <td>LeonardoDiCaprio</td>\n",
       "      <td>...</td>\n",
       "      <td>ElliotPage</td>\n",
       "      <td>KenWatanabe</td>\n",
       "      <td>2433238</td>\n",
       "      <td>Action</td>\n",
       "      <td>Adventure</td>\n",
       "      <td>Sci-Fi</td>\n",
       "      <td>292.58M</td>\n",
       "      <td>PG-13</td>\n",
       "      <td>Guardians of the Galaxy Vol. 3</td>\n",
       "      <td>Excellent</td>\n",
       "    </tr>\n",
       "    <tr>\n",
       "      <th>4</th>\n",
       "      <td>5</td>\n",
       "      <td>The Lord of the Rings: The Fellowship of the Ring</td>\n",
       "      <td>PeterJackson</td>\n",
       "      <td>-</td>\n",
       "      <td>-</td>\n",
       "      <td>-</td>\n",
       "      <td>178.0</td>\n",
       "      <td>2001</td>\n",
       "      <td>8.8</td>\n",
       "      <td>ElijahWood</td>\n",
       "      <td>...</td>\n",
       "      <td>OrlandoBloom</td>\n",
       "      <td>SeanBean</td>\n",
       "      <td>1927794</td>\n",
       "      <td>Action</td>\n",
       "      <td>Adventure</td>\n",
       "      <td>Drama</td>\n",
       "      <td>315.54M</td>\n",
       "      <td>PG-13</td>\n",
       "      <td>Transformers: Rise of the Beasts</td>\n",
       "      <td>Excellent</td>\n",
       "    </tr>\n",
       "  </tbody>\n",
       "</table>\n",
       "<p>5 rows × 21 columns</p>\n",
       "</div>"
      ],
      "text/plain": [
       "   SNo                                         Movie Name         Director1  \\\n",
       "0    1                                    The Dark Knight  ChristopherNolan   \n",
       "1    2      The Lord of the Rings: The Return of the King      PeterJackson   \n",
       "2    3                Spider-Man: Across the Spider-Verse  JoaquimDosSantos   \n",
       "3    4                                          Inception  ChristopherNolan   \n",
       "4    5  The Lord of the Rings: The Fellowship of the Ring      PeterJackson   \n",
       "\n",
       "   Directorr2         Director3 Director4  Duration  Year  Ratings  \\\n",
       "0           -                 -         -     152.0  2008      9.0   \n",
       "1           -                 -         -     201.0  2003      9.0   \n",
       "2  KempPowers  JustinK.Thompson         -     140.0  2023      8.9   \n",
       "3           -                 -         -     148.0  2010      8.8   \n",
       "4           -                 -         -     178.0  2001      8.8   \n",
       "\n",
       "              Star1  ...            Star3            Star4    Votes  \\\n",
       "0     ChristianBale  ...     AaronEckhart     MichaelCaine  2742002   \n",
       "1        ElijahWood  ...      IanMcKellen     OrlandoBloom  1899372   \n",
       "2      ShameikMoore  ...  BrianTyreeHenry  LunaLaurenVelez   186672   \n",
       "3  LeonardoDiCaprio  ...       ElliotPage      KenWatanabe  2433238   \n",
       "4        ElijahWood  ...     OrlandoBloom         SeanBean  1927794   \n",
       "\n",
       "      Genre1      Genre2      Genre3 Gross_Collection Certification  \\\n",
       "0     Action       Crime       Drama          534.86M         PG-13   \n",
       "1     Action   Adventure       Drama          377.85M         PG-13   \n",
       "2  Animation      Action   Adventure                -            PG   \n",
       "3     Action   Adventure      Sci-Fi          292.58M         PG-13   \n",
       "4     Action   Adventure       Drama          315.54M         PG-13   \n",
       "\n",
       "                                      Popularity rating_cat  \n",
       "0  Mission: Impossible - Dead Reckoning Part One  Excellent  \n",
       "1                               Sound of Freedom  Excellent  \n",
       "2          Indiana Jones and the Dial of Destiny  Excellent  \n",
       "3                 Guardians of the Galaxy Vol. 3  Excellent  \n",
       "4               Transformers: Rise of the Beasts  Excellent  \n",
       "\n",
       "[5 rows x 21 columns]"
      ]
     },
     "execution_count": 181,
     "metadata": {},
     "output_type": "execute_result"
    }
   ],
   "source": [
    "df.head()"
   ]
  },
  {
   "cell_type": "markdown",
   "id": "066a9aea",
   "metadata": {},
   "source": [
    "# Count Number of Action Movies"
   ]
  },
  {
   "cell_type": "code",
   "execution_count": 182,
   "id": "c94740bc",
   "metadata": {},
   "outputs": [
    {
     "data": {
      "text/plain": [
       "Index(['SNo', 'Movie Name', 'Director1', 'Directorr2', 'Director3',\n",
       "       'Director4', 'Duration', 'Year', 'Ratings', 'Star1', 'Star2', 'Star3',\n",
       "       'Star4', 'Votes', 'Genre1', 'Genre2', 'Genre3', 'Gross_Collection',\n",
       "       'Certification', 'Popularity', 'rating_cat'],\n",
       "      dtype='object')"
      ]
     },
     "execution_count": 182,
     "metadata": {},
     "output_type": "execute_result"
    }
   ],
   "source": [
    "df.columns"
   ]
  },
  {
   "cell_type": "code",
   "execution_count": 183,
   "id": "303e023d",
   "metadata": {},
   "outputs": [
    {
     "data": {
      "text/plain": [
       "dtype('O')"
      ]
     },
     "execution_count": 183,
     "metadata": {},
     "output_type": "execute_result"
    }
   ],
   "source": [
    "df['Genre1'].dtype"
   ]
  },
  {
   "cell_type": "code",
   "execution_count": 184,
   "id": "4b1a7b5b",
   "metadata": {},
   "outputs": [
    {
     "data": {
      "text/html": [
       "<div>\n",
       "<style scoped>\n",
       "    .dataframe tbody tr th:only-of-type {\n",
       "        vertical-align: middle;\n",
       "    }\n",
       "\n",
       "    .dataframe tbody tr th {\n",
       "        vertical-align: top;\n",
       "    }\n",
       "\n",
       "    .dataframe thead th {\n",
       "        text-align: right;\n",
       "    }\n",
       "</style>\n",
       "<table border=\"1\" class=\"dataframe\">\n",
       "  <thead>\n",
       "    <tr style=\"text-align: right;\">\n",
       "      <th></th>\n",
       "      <th>SNo</th>\n",
       "      <th>Movie Name</th>\n",
       "      <th>Director1</th>\n",
       "      <th>Directorr2</th>\n",
       "      <th>Director3</th>\n",
       "      <th>Director4</th>\n",
       "      <th>Duration</th>\n",
       "      <th>Year</th>\n",
       "      <th>Ratings</th>\n",
       "      <th>Star1</th>\n",
       "      <th>...</th>\n",
       "      <th>Star3</th>\n",
       "      <th>Star4</th>\n",
       "      <th>Votes</th>\n",
       "      <th>Genre1</th>\n",
       "      <th>Genre2</th>\n",
       "      <th>Genre3</th>\n",
       "      <th>Gross_Collection</th>\n",
       "      <th>Certification</th>\n",
       "      <th>Popularity</th>\n",
       "      <th>rating_cat</th>\n",
       "    </tr>\n",
       "  </thead>\n",
       "  <tbody>\n",
       "    <tr>\n",
       "      <th>0</th>\n",
       "      <td>1</td>\n",
       "      <td>The Dark Knight</td>\n",
       "      <td>ChristopherNolan</td>\n",
       "      <td>-</td>\n",
       "      <td>-</td>\n",
       "      <td>-</td>\n",
       "      <td>152.0</td>\n",
       "      <td>2008</td>\n",
       "      <td>9.0</td>\n",
       "      <td>ChristianBale</td>\n",
       "      <td>...</td>\n",
       "      <td>AaronEckhart</td>\n",
       "      <td>MichaelCaine</td>\n",
       "      <td>2742002</td>\n",
       "      <td>Action</td>\n",
       "      <td>Crime</td>\n",
       "      <td>Drama</td>\n",
       "      <td>534.86M</td>\n",
       "      <td>PG-13</td>\n",
       "      <td>Mission: Impossible - Dead Reckoning Part One</td>\n",
       "      <td>Excellent</td>\n",
       "    </tr>\n",
       "    <tr>\n",
       "      <th>1</th>\n",
       "      <td>2</td>\n",
       "      <td>The Lord of the Rings: The Return of the King</td>\n",
       "      <td>PeterJackson</td>\n",
       "      <td>-</td>\n",
       "      <td>-</td>\n",
       "      <td>-</td>\n",
       "      <td>201.0</td>\n",
       "      <td>2003</td>\n",
       "      <td>9.0</td>\n",
       "      <td>ElijahWood</td>\n",
       "      <td>...</td>\n",
       "      <td>IanMcKellen</td>\n",
       "      <td>OrlandoBloom</td>\n",
       "      <td>1899372</td>\n",
       "      <td>Action</td>\n",
       "      <td>Adventure</td>\n",
       "      <td>Drama</td>\n",
       "      <td>377.85M</td>\n",
       "      <td>PG-13</td>\n",
       "      <td>Sound of Freedom</td>\n",
       "      <td>Excellent</td>\n",
       "    </tr>\n",
       "    <tr>\n",
       "      <th>3</th>\n",
       "      <td>4</td>\n",
       "      <td>Inception</td>\n",
       "      <td>ChristopherNolan</td>\n",
       "      <td>-</td>\n",
       "      <td>-</td>\n",
       "      <td>-</td>\n",
       "      <td>148.0</td>\n",
       "      <td>2010</td>\n",
       "      <td>8.8</td>\n",
       "      <td>LeonardoDiCaprio</td>\n",
       "      <td>...</td>\n",
       "      <td>ElliotPage</td>\n",
       "      <td>KenWatanabe</td>\n",
       "      <td>2433238</td>\n",
       "      <td>Action</td>\n",
       "      <td>Adventure</td>\n",
       "      <td>Sci-Fi</td>\n",
       "      <td>292.58M</td>\n",
       "      <td>PG-13</td>\n",
       "      <td>Guardians of the Galaxy Vol. 3</td>\n",
       "      <td>Excellent</td>\n",
       "    </tr>\n",
       "    <tr>\n",
       "      <th>4</th>\n",
       "      <td>5</td>\n",
       "      <td>The Lord of the Rings: The Fellowship of the Ring</td>\n",
       "      <td>PeterJackson</td>\n",
       "      <td>-</td>\n",
       "      <td>-</td>\n",
       "      <td>-</td>\n",
       "      <td>178.0</td>\n",
       "      <td>2001</td>\n",
       "      <td>8.8</td>\n",
       "      <td>ElijahWood</td>\n",
       "      <td>...</td>\n",
       "      <td>OrlandoBloom</td>\n",
       "      <td>SeanBean</td>\n",
       "      <td>1927794</td>\n",
       "      <td>Action</td>\n",
       "      <td>Adventure</td>\n",
       "      <td>Drama</td>\n",
       "      <td>315.54M</td>\n",
       "      <td>PG-13</td>\n",
       "      <td>Transformers: Rise of the Beasts</td>\n",
       "      <td>Excellent</td>\n",
       "    </tr>\n",
       "    <tr>\n",
       "      <th>5</th>\n",
       "      <td>6</td>\n",
       "      <td>The Lord of the Rings: The Two Towers</td>\n",
       "      <td>PeterJackson</td>\n",
       "      <td>-</td>\n",
       "      <td>-</td>\n",
       "      <td>-</td>\n",
       "      <td>179.0</td>\n",
       "      <td>2002</td>\n",
       "      <td>8.8</td>\n",
       "      <td>ElijahWood</td>\n",
       "      <td>...</td>\n",
       "      <td>ViggoMortensen</td>\n",
       "      <td>OrlandoBloom</td>\n",
       "      <td>1714099</td>\n",
       "      <td>Action</td>\n",
       "      <td>Adventure</td>\n",
       "      <td>Drama</td>\n",
       "      <td>342.55M</td>\n",
       "      <td>PG-13</td>\n",
       "      <td>Spider-Man: Across the Spider-Verse</td>\n",
       "      <td>Excellent</td>\n",
       "    </tr>\n",
       "    <tr>\n",
       "      <th>...</th>\n",
       "      <td>...</td>\n",
       "      <td>...</td>\n",
       "      <td>...</td>\n",
       "      <td>...</td>\n",
       "      <td>...</td>\n",
       "      <td>...</td>\n",
       "      <td>...</td>\n",
       "      <td>...</td>\n",
       "      <td>...</td>\n",
       "      <td>...</td>\n",
       "      <td>...</td>\n",
       "      <td>...</td>\n",
       "      <td>...</td>\n",
       "      <td>...</td>\n",
       "      <td>...</td>\n",
       "      <td>...</td>\n",
       "      <td>...</td>\n",
       "      <td>...</td>\n",
       "      <td>...</td>\n",
       "      <td>...</td>\n",
       "      <td>...</td>\n",
       "    </tr>\n",
       "    <tr>\n",
       "      <th>1765</th>\n",
       "      <td>1766</td>\n",
       "      <td>Radhe</td>\n",
       "      <td>Prabhu Deva</td>\n",
       "      <td>-</td>\n",
       "      <td>-</td>\n",
       "      <td>-</td>\n",
       "      <td>109.0</td>\n",
       "      <td>2021</td>\n",
       "      <td>1.9</td>\n",
       "      <td>SalmanKhan</td>\n",
       "      <td>...</td>\n",
       "      <td>RandeepHooda</td>\n",
       "      <td>JackieShroff</td>\n",
       "      <td>179060</td>\n",
       "      <td>Action</td>\n",
       "      <td>Crime</td>\n",
       "      <td>Thriller</td>\n",
       "      <td>-</td>\n",
       "      <td>-</td>\n",
       "      <td>The Legend</td>\n",
       "      <td>Average</td>\n",
       "    </tr>\n",
       "    <tr>\n",
       "      <th>1766</th>\n",
       "      <td>1767</td>\n",
       "      <td>Race 3</td>\n",
       "      <td>Remo D'Souza</td>\n",
       "      <td>-</td>\n",
       "      <td>-</td>\n",
       "      <td>-</td>\n",
       "      <td>160.0</td>\n",
       "      <td>2018</td>\n",
       "      <td>1.9</td>\n",
       "      <td>AnilKapoor</td>\n",
       "      <td>...</td>\n",
       "      <td>BobbyDeol</td>\n",
       "      <td>JacquelineFernandez</td>\n",
       "      <td>47815</td>\n",
       "      <td>Action</td>\n",
       "      <td>Crime</td>\n",
       "      <td>Thriller</td>\n",
       "      <td>1.69M</td>\n",
       "      <td>-</td>\n",
       "      <td>Coolie No. 1</td>\n",
       "      <td>Average</td>\n",
       "    </tr>\n",
       "    <tr>\n",
       "      <th>1767</th>\n",
       "      <td>1768</td>\n",
       "      <td>Angels Apocalypse</td>\n",
       "      <td>Sean Cain</td>\n",
       "      <td>Enzo Zelocchi</td>\n",
       "      <td>-</td>\n",
       "      <td>-</td>\n",
       "      <td>85.0</td>\n",
       "      <td>2015</td>\n",
       "      <td>1.6</td>\n",
       "      <td>EnzoZelocchi</td>\n",
       "      <td>...</td>\n",
       "      <td>RyanC.F.Buckley</td>\n",
       "      <td>WilliamKirkham</td>\n",
       "      <td>42919</td>\n",
       "      <td>Action</td>\n",
       "      <td>Fantasy</td>\n",
       "      <td>Sci-Fi</td>\n",
       "      <td>-</td>\n",
       "      <td>-</td>\n",
       "      <td>Angels Apocalypse</td>\n",
       "      <td>Average</td>\n",
       "    </tr>\n",
       "    <tr>\n",
       "      <th>1768</th>\n",
       "      <td>1769</td>\n",
       "      <td>The Cost of Deception</td>\n",
       "      <td>Keith English</td>\n",
       "      <td>-</td>\n",
       "      <td>-</td>\n",
       "      <td>-</td>\n",
       "      <td>125.0</td>\n",
       "      <td>2021</td>\n",
       "      <td>1.5</td>\n",
       "      <td>VivianneBanovits</td>\n",
       "      <td>...</td>\n",
       "      <td>BarnaBokor</td>\n",
       "      <td>GabriellaGubas</td>\n",
       "      <td>39601</td>\n",
       "      <td>Action</td>\n",
       "      <td>Crime</td>\n",
       "      <td>Drama</td>\n",
       "      <td>-</td>\n",
       "      <td>-</td>\n",
       "      <td>The Way to Paradise</td>\n",
       "      <td>Average</td>\n",
       "    </tr>\n",
       "    <tr>\n",
       "      <th>1769</th>\n",
       "      <td>1770</td>\n",
       "      <td>Sadak 2</td>\n",
       "      <td>Mahesh Bhatt</td>\n",
       "      <td>-</td>\n",
       "      <td>-</td>\n",
       "      <td>-</td>\n",
       "      <td>133.0</td>\n",
       "      <td>2020</td>\n",
       "      <td>1.2</td>\n",
       "      <td>AliaBhatt</td>\n",
       "      <td>...</td>\n",
       "      <td>AdityaRoyKapoor</td>\n",
       "      <td>SanjayDutt</td>\n",
       "      <td>96354</td>\n",
       "      <td>Action</td>\n",
       "      <td>Drama</td>\n",
       "      <td>-</td>\n",
       "      <td>-</td>\n",
       "      <td>-</td>\n",
       "      <td>Crimea</td>\n",
       "      <td>Average</td>\n",
       "    </tr>\n",
       "  </tbody>\n",
       "</table>\n",
       "<p>1699 rows × 21 columns</p>\n",
       "</div>"
      ],
      "text/plain": [
       "       SNo                                         Movie Name  \\\n",
       "0        1                                    The Dark Knight   \n",
       "1        2      The Lord of the Rings: The Return of the King   \n",
       "3        4                                          Inception   \n",
       "4        5  The Lord of the Rings: The Fellowship of the Ring   \n",
       "5        6              The Lord of the Rings: The Two Towers   \n",
       "...    ...                                                ...   \n",
       "1765  1766                                              Radhe   \n",
       "1766  1767                                             Race 3   \n",
       "1767  1768                                  Angels Apocalypse   \n",
       "1768  1769                              The Cost of Deception   \n",
       "1769  1770                                            Sadak 2   \n",
       "\n",
       "             Director1      Directorr2 Director3 Director4  Duration  Year  \\\n",
       "0     ChristopherNolan               -         -         -     152.0  2008   \n",
       "1         PeterJackson               -         -         -     201.0  2003   \n",
       "3     ChristopherNolan               -         -         -     148.0  2010   \n",
       "4         PeterJackson               -         -         -     178.0  2001   \n",
       "5         PeterJackson               -         -         -     179.0  2002   \n",
       "...                ...             ...       ...       ...       ...   ...   \n",
       "1765       Prabhu Deva               -         -         -     109.0  2021   \n",
       "1766      Remo D'Souza               -         -         -     160.0  2018   \n",
       "1767         Sean Cain   Enzo Zelocchi         -         -      85.0  2015   \n",
       "1768     Keith English               -         -         -     125.0  2021   \n",
       "1769      Mahesh Bhatt               -         -         -     133.0  2020   \n",
       "\n",
       "      Ratings             Star1  ...            Star3                Star4  \\\n",
       "0         9.0     ChristianBale  ...     AaronEckhart         MichaelCaine   \n",
       "1         9.0        ElijahWood  ...      IanMcKellen         OrlandoBloom   \n",
       "3         8.8  LeonardoDiCaprio  ...       ElliotPage          KenWatanabe   \n",
       "4         8.8        ElijahWood  ...     OrlandoBloom             SeanBean   \n",
       "5         8.8        ElijahWood  ...   ViggoMortensen         OrlandoBloom   \n",
       "...       ...               ...  ...              ...                  ...   \n",
       "1765      1.9        SalmanKhan  ...     RandeepHooda         JackieShroff   \n",
       "1766      1.9        AnilKapoor  ...        BobbyDeol  JacquelineFernandez   \n",
       "1767      1.6      EnzoZelocchi  ...  RyanC.F.Buckley       WilliamKirkham   \n",
       "1768      1.5  VivianneBanovits  ...       BarnaBokor       GabriellaGubas   \n",
       "1769      1.2         AliaBhatt  ...  AdityaRoyKapoor           SanjayDutt   \n",
       "\n",
       "        Votes  Genre1      Genre2     Genre3 Gross_Collection Certification  \\\n",
       "0     2742002  Action       Crime      Drama          534.86M         PG-13   \n",
       "1     1899372  Action   Adventure      Drama          377.85M         PG-13   \n",
       "3     2433238  Action   Adventure     Sci-Fi          292.58M         PG-13   \n",
       "4     1927794  Action   Adventure      Drama          315.54M         PG-13   \n",
       "5     1714099  Action   Adventure      Drama          342.55M         PG-13   \n",
       "...       ...     ...         ...        ...              ...           ...   \n",
       "1765   179060  Action       Crime   Thriller                -             -   \n",
       "1766    47815  Action       Crime   Thriller            1.69M             -   \n",
       "1767    42919  Action     Fantasy     Sci-Fi                -             -   \n",
       "1768    39601  Action       Crime      Drama                -             -   \n",
       "1769    96354  Action       Drama          -                -             -   \n",
       "\n",
       "                                         Popularity rating_cat  \n",
       "0     Mission: Impossible - Dead Reckoning Part One  Excellent  \n",
       "1                                  Sound of Freedom  Excellent  \n",
       "3                    Guardians of the Galaxy Vol. 3  Excellent  \n",
       "4                  Transformers: Rise of the Beasts  Excellent  \n",
       "5               Spider-Man: Across the Spider-Verse  Excellent  \n",
       "...                                             ...        ...  \n",
       "1765                                     The Legend    Average  \n",
       "1766                                   Coolie No. 1    Average  \n",
       "1767                              Angels Apocalypse    Average  \n",
       "1768                            The Way to Paradise    Average  \n",
       "1769                                         Crimea    Average  \n",
       "\n",
       "[1699 rows x 21 columns]"
      ]
     },
     "execution_count": 184,
     "metadata": {},
     "output_type": "execute_result"
    }
   ],
   "source": [
    "df[df['Genre1'].str.contains('Action',case=False)]"
   ]
  },
  {
   "cell_type": "code",
   "execution_count": 185,
   "id": "bb318c4d",
   "metadata": {},
   "outputs": [
    {
     "data": {
      "text/plain": [
       "1699"
      ]
     },
     "execution_count": 185,
     "metadata": {},
     "output_type": "execute_result"
    }
   ],
   "source": [
    "len(df[df['Genre1'].str.contains('Action',case=False)])"
   ]
  },
  {
   "cell_type": "code",
   "execution_count": 186,
   "id": "6ff0e1dd",
   "metadata": {},
   "outputs": [
    {
     "data": {
      "text/plain": [
       "<AxesSubplot:xlabel='Genre1', ylabel='count'>"
      ]
     },
     "execution_count": 186,
     "metadata": {},
     "output_type": "execute_result"
    },
    {
     "data": {
      "image/png": "[encoded data removed]",
      "text/plain": [
       "<Figure size 432x288 with 1 Axes>"
      ]
     },
     "metadata": {
      "needs_background": "light"
     },
     "output_type": "display_data"
    }
   ],
   "source": [
    "sns.countplot(df['Genre1'])"
   ]
  },
  {
   "cell_type": "code",
   "execution_count": 187,
   "id": "5f96f96f",
   "metadata": {},
   "outputs": [
    {
     "data": {
      "text/plain": [
       "<AxesSubplot:xlabel='Genre2', ylabel='count'>"
      ]
     },
     "execution_count": 187,
     "metadata": {},
     "output_type": "execute_result"
    },
    {
     "data": {
      "image/png": "[encoded data removed]",
      "text/plain": [
       "<Figure size 1008x432 with 1 Axes>"
      ]
     },
     "metadata": {
      "needs_background": "light"
     },
     "output_type": "display_data"
    }
   ],
   "source": [
    "plt.figure(figsize=(14,6))\n",
    "sns.countplot(df['Genre2'])"
   ]
  },
  {
   "cell_type": "code",
   "execution_count": 188,
   "id": "f1e6c88a",
   "metadata": {},
   "outputs": [
    {
     "data": {
      "text/plain": [
       "<AxesSubplot:xlabel='Genre3', ylabel='count'>"
      ]
     },
     "execution_count": 188,
     "metadata": {},
     "output_type": "execute_result"
    },
    {
     "data": {
      "image/png": "[encoded data removed]",
      "text/plain": [
       "<Figure size 1008x432 with 1 Axes>"
      ]
     },
     "metadata": {
      "needs_background": "light"
     },
     "output_type": "display_data"
    }
   ],
   "source": [
    "plt.figure(figsize=(14,6))\n",
    "sns.countplot(df['Genre3'])"
   ]
  },
  {
   "cell_type": "markdown",
   "id": "f888fb3a",
   "metadata": {},
   "source": [
    "# Drop Unecessary columns"
   ]
  },
  {
   "cell_type": "code",
   "execution_count": 189,
   "id": "50a38eff",
   "metadata": {},
   "outputs": [
    {
     "data": {
      "text/plain": [
       "Index(['SNo', 'Movie Name', 'Director1', 'Directorr2', 'Director3',\n",
       "       'Director4', 'Duration', 'Year', 'Ratings', 'Star1', 'Star2', 'Star3',\n",
       "       'Star4', 'Votes', 'Genre1', 'Genre2', 'Genre3', 'Gross_Collection',\n",
       "       'Certification', 'Popularity', 'rating_cat'],\n",
       "      dtype='object')"
      ]
     },
     "execution_count": 189,
     "metadata": {},
     "output_type": "execute_result"
    }
   ],
   "source": [
    "df.columns"
   ]
  },
  {
   "cell_type": "code",
   "execution_count": 190,
   "id": "c0f0c18a",
   "metadata": {},
   "outputs": [],
   "source": [
    "df = df.drop(['Director1','Directorr2','Director3','Duration','Star1','Star2','Star3','Star4','Certification','Popularity','rating_cat'],axis=1)"
   ]
  },
  {
   "cell_type": "code",
   "execution_count": 191,
   "id": "878eaf11",
   "metadata": {},
   "outputs": [],
   "source": [
    "df = df.drop(['Director4'],axis=1)"
   ]
  },
  {
   "cell_type": "code",
   "execution_count": 192,
   "id": "fe2dc6d8",
   "metadata": {},
   "outputs": [],
   "source": [
    "df = df.drop(['Year'],axis=1)"
   ]
  },
  {
   "cell_type": "code",
   "execution_count": 193,
   "id": "6483c5a9",
   "metadata": {},
   "outputs": [
    {
     "data": {
      "text/html": [
       "<div>\n",
       "<style scoped>\n",
       "    .dataframe tbody tr th:only-of-type {\n",
       "        vertical-align: middle;\n",
       "    }\n",
       "\n",
       "    .dataframe tbody tr th {\n",
       "        vertical-align: top;\n",
       "    }\n",
       "\n",
       "    .dataframe thead th {\n",
       "        text-align: right;\n",
       "    }\n",
       "</style>\n",
       "<table border=\"1\" class=\"dataframe\">\n",
       "  <thead>\n",
       "    <tr style=\"text-align: right;\">\n",
       "      <th></th>\n",
       "      <th>SNo</th>\n",
       "      <th>Movie Name</th>\n",
       "      <th>Ratings</th>\n",
       "      <th>Votes</th>\n",
       "      <th>Genre1</th>\n",
       "      <th>Genre2</th>\n",
       "      <th>Genre3</th>\n",
       "      <th>Gross_Collection</th>\n",
       "    </tr>\n",
       "  </thead>\n",
       "  <tbody>\n",
       "    <tr>\n",
       "      <th>0</th>\n",
       "      <td>1</td>\n",
       "      <td>The Dark Knight</td>\n",
       "      <td>9.0</td>\n",
       "      <td>2742002</td>\n",
       "      <td>Action</td>\n",
       "      <td>Crime</td>\n",
       "      <td>Drama</td>\n",
       "      <td>534.86M</td>\n",
       "    </tr>\n",
       "    <tr>\n",
       "      <th>1</th>\n",
       "      <td>2</td>\n",
       "      <td>The Lord of the Rings: The Return of the King</td>\n",
       "      <td>9.0</td>\n",
       "      <td>1899372</td>\n",
       "      <td>Action</td>\n",
       "      <td>Adventure</td>\n",
       "      <td>Drama</td>\n",
       "      <td>377.85M</td>\n",
       "    </tr>\n",
       "    <tr>\n",
       "      <th>2</th>\n",
       "      <td>3</td>\n",
       "      <td>Spider-Man: Across the Spider-Verse</td>\n",
       "      <td>8.9</td>\n",
       "      <td>186672</td>\n",
       "      <td>Animation</td>\n",
       "      <td>Action</td>\n",
       "      <td>Adventure</td>\n",
       "      <td>-</td>\n",
       "    </tr>\n",
       "    <tr>\n",
       "      <th>3</th>\n",
       "      <td>4</td>\n",
       "      <td>Inception</td>\n",
       "      <td>8.8</td>\n",
       "      <td>2433238</td>\n",
       "      <td>Action</td>\n",
       "      <td>Adventure</td>\n",
       "      <td>Sci-Fi</td>\n",
       "      <td>292.58M</td>\n",
       "    </tr>\n",
       "    <tr>\n",
       "      <th>4</th>\n",
       "      <td>5</td>\n",
       "      <td>The Lord of the Rings: The Fellowship of the Ring</td>\n",
       "      <td>8.8</td>\n",
       "      <td>1927794</td>\n",
       "      <td>Action</td>\n",
       "      <td>Adventure</td>\n",
       "      <td>Drama</td>\n",
       "      <td>315.54M</td>\n",
       "    </tr>\n",
       "    <tr>\n",
       "      <th>...</th>\n",
       "      <td>...</td>\n",
       "      <td>...</td>\n",
       "      <td>...</td>\n",
       "      <td>...</td>\n",
       "      <td>...</td>\n",
       "      <td>...</td>\n",
       "      <td>...</td>\n",
       "      <td>...</td>\n",
       "    </tr>\n",
       "    <tr>\n",
       "      <th>1765</th>\n",
       "      <td>1766</td>\n",
       "      <td>Radhe</td>\n",
       "      <td>1.9</td>\n",
       "      <td>179060</td>\n",
       "      <td>Action</td>\n",
       "      <td>Crime</td>\n",
       "      <td>Thriller</td>\n",
       "      <td>-</td>\n",
       "    </tr>\n",
       "    <tr>\n",
       "      <th>1766</th>\n",
       "      <td>1767</td>\n",
       "      <td>Race 3</td>\n",
       "      <td>1.9</td>\n",
       "      <td>47815</td>\n",
       "      <td>Action</td>\n",
       "      <td>Crime</td>\n",
       "      <td>Thriller</td>\n",
       "      <td>1.69M</td>\n",
       "    </tr>\n",
       "    <tr>\n",
       "      <th>1767</th>\n",
       "      <td>1768</td>\n",
       "      <td>Angels Apocalypse</td>\n",
       "      <td>1.6</td>\n",
       "      <td>42919</td>\n",
       "      <td>Action</td>\n",
       "      <td>Fantasy</td>\n",
       "      <td>Sci-Fi</td>\n",
       "      <td>-</td>\n",
       "    </tr>\n",
       "    <tr>\n",
       "      <th>1768</th>\n",
       "      <td>1769</td>\n",
       "      <td>The Cost of Deception</td>\n",
       "      <td>1.5</td>\n",
       "      <td>39601</td>\n",
       "      <td>Action</td>\n",
       "      <td>Crime</td>\n",
       "      <td>Drama</td>\n",
       "      <td>-</td>\n",
       "    </tr>\n",
       "    <tr>\n",
       "      <th>1769</th>\n",
       "      <td>1770</td>\n",
       "      <td>Sadak 2</td>\n",
       "      <td>1.2</td>\n",
       "      <td>96354</td>\n",
       "      <td>Action</td>\n",
       "      <td>Drama</td>\n",
       "      <td>-</td>\n",
       "      <td>-</td>\n",
       "    </tr>\n",
       "  </tbody>\n",
       "</table>\n",
       "<p>1770 rows × 8 columns</p>\n",
       "</div>"
      ],
      "text/plain": [
       "       SNo                                         Movie Name  Ratings  \\\n",
       "0        1                                    The Dark Knight      9.0   \n",
       "1        2      The Lord of the Rings: The Return of the King      9.0   \n",
       "2        3                Spider-Man: Across the Spider-Verse      8.9   \n",
       "3        4                                          Inception      8.8   \n",
       "4        5  The Lord of the Rings: The Fellowship of the Ring      8.8   \n",
       "...    ...                                                ...      ...   \n",
       "1765  1766                                              Radhe      1.9   \n",
       "1766  1767                                             Race 3      1.9   \n",
       "1767  1768                                  Angels Apocalypse      1.6   \n",
       "1768  1769                              The Cost of Deception      1.5   \n",
       "1769  1770                                            Sadak 2      1.2   \n",
       "\n",
       "        Votes     Genre1      Genre2      Genre3 Gross_Collection  \n",
       "0     2742002     Action       Crime       Drama          534.86M  \n",
       "1     1899372     Action   Adventure       Drama          377.85M  \n",
       "2      186672  Animation      Action   Adventure                -  \n",
       "3     2433238     Action   Adventure      Sci-Fi          292.58M  \n",
       "4     1927794     Action   Adventure       Drama          315.54M  \n",
       "...       ...        ...         ...         ...              ...  \n",
       "1765   179060     Action       Crime    Thriller                -  \n",
       "1766    47815     Action       Crime    Thriller            1.69M  \n",
       "1767    42919     Action     Fantasy      Sci-Fi                -  \n",
       "1768    39601     Action       Crime       Drama                -  \n",
       "1769    96354     Action       Drama           -                -  \n",
       "\n",
       "[1770 rows x 8 columns]"
      ]
     },
     "execution_count": 193,
     "metadata": {},
     "output_type": "execute_result"
    }
   ],
   "source": [
    "df"
   ]
  },
  {
   "cell_type": "code",
   "execution_count": 194,
   "id": "636441be",
   "metadata": {},
   "outputs": [],
   "source": [
    "hyphen_to_remove = \"-\"\n",
    "mask = df.apply(lambda row: row.str.contains(hyphen_to_remove).any(), axis=1)"
   ]
  },
  {
   "cell_type": "code",
   "execution_count": 195,
   "id": "589dc14f",
   "metadata": {},
   "outputs": [],
   "source": [
    "df = df[~mask]"
   ]
  },
  {
   "cell_type": "code",
   "execution_count": 196,
   "id": "aee0f85c",
   "metadata": {},
   "outputs": [
    {
     "data": {
      "text/html": [
       "<div>\n",
       "<style scoped>\n",
       "    .dataframe tbody tr th:only-of-type {\n",
       "        vertical-align: middle;\n",
       "    }\n",
       "\n",
       "    .dataframe tbody tr th {\n",
       "        vertical-align: top;\n",
       "    }\n",
       "\n",
       "    .dataframe thead th {\n",
       "        text-align: right;\n",
       "    }\n",
       "</style>\n",
       "<table border=\"1\" class=\"dataframe\">\n",
       "  <thead>\n",
       "    <tr style=\"text-align: right;\">\n",
       "      <th></th>\n",
       "      <th>SNo</th>\n",
       "      <th>Movie Name</th>\n",
       "      <th>Ratings</th>\n",
       "      <th>Votes</th>\n",
       "      <th>Genre1</th>\n",
       "      <th>Genre2</th>\n",
       "      <th>Genre3</th>\n",
       "      <th>Gross_Collection</th>\n",
       "    </tr>\n",
       "  </thead>\n",
       "  <tbody>\n",
       "    <tr>\n",
       "      <th>0</th>\n",
       "      <td>1</td>\n",
       "      <td>The Dark Knight</td>\n",
       "      <td>9.0</td>\n",
       "      <td>2742002</td>\n",
       "      <td>Action</td>\n",
       "      <td>Crime</td>\n",
       "      <td>Drama</td>\n",
       "      <td>534.86M</td>\n",
       "    </tr>\n",
       "    <tr>\n",
       "      <th>1</th>\n",
       "      <td>2</td>\n",
       "      <td>The Lord of the Rings: The Return of the King</td>\n",
       "      <td>9.0</td>\n",
       "      <td>1899372</td>\n",
       "      <td>Action</td>\n",
       "      <td>Adventure</td>\n",
       "      <td>Drama</td>\n",
       "      <td>377.85M</td>\n",
       "    </tr>\n",
       "    <tr>\n",
       "      <th>4</th>\n",
       "      <td>5</td>\n",
       "      <td>The Lord of the Rings: The Fellowship of the Ring</td>\n",
       "      <td>8.8</td>\n",
       "      <td>1927794</td>\n",
       "      <td>Action</td>\n",
       "      <td>Adventure</td>\n",
       "      <td>Drama</td>\n",
       "      <td>315.54M</td>\n",
       "    </tr>\n",
       "    <tr>\n",
       "      <th>5</th>\n",
       "      <td>6</td>\n",
       "      <td>The Lord of the Rings: The Two Towers</td>\n",
       "      <td>8.8</td>\n",
       "      <td>1714099</td>\n",
       "      <td>Action</td>\n",
       "      <td>Adventure</td>\n",
       "      <td>Drama</td>\n",
       "      <td>342.55M</td>\n",
       "    </tr>\n",
       "    <tr>\n",
       "      <th>14</th>\n",
       "      <td>15</td>\n",
       "      <td>Gladiator</td>\n",
       "      <td>8.5</td>\n",
       "      <td>1546490</td>\n",
       "      <td>Action</td>\n",
       "      <td>Adventure</td>\n",
       "      <td>Drama</td>\n",
       "      <td>187.71M</td>\n",
       "    </tr>\n",
       "    <tr>\n",
       "      <th>...</th>\n",
       "      <td>...</td>\n",
       "      <td>...</td>\n",
       "      <td>...</td>\n",
       "      <td>...</td>\n",
       "      <td>...</td>\n",
       "      <td>...</td>\n",
       "      <td>...</td>\n",
       "      <td>...</td>\n",
       "    </tr>\n",
       "    <tr>\n",
       "      <th>1751</th>\n",
       "      <td>1752</td>\n",
       "      <td>Catwoman</td>\n",
       "      <td>3.4</td>\n",
       "      <td>122915</td>\n",
       "      <td>Action</td>\n",
       "      <td>Crime</td>\n",
       "      <td>Fantasy</td>\n",
       "      <td>40.20M</td>\n",
       "    </tr>\n",
       "    <tr>\n",
       "      <th>1755</th>\n",
       "      <td>1756</td>\n",
       "      <td>BloodRayne</td>\n",
       "      <td>3.0</td>\n",
       "      <td>36592</td>\n",
       "      <td>Action</td>\n",
       "      <td>Fantasy</td>\n",
       "      <td>Horror</td>\n",
       "      <td>2.41M</td>\n",
       "    </tr>\n",
       "    <tr>\n",
       "      <th>1758</th>\n",
       "      <td>1759</td>\n",
       "      <td>Dragonball Evolution</td>\n",
       "      <td>2.5</td>\n",
       "      <td>77380</td>\n",
       "      <td>Action</td>\n",
       "      <td>Adventure</td>\n",
       "      <td>Fantasy</td>\n",
       "      <td>9.35M</td>\n",
       "    </tr>\n",
       "    <tr>\n",
       "      <th>1764</th>\n",
       "      <td>1765</td>\n",
       "      <td>House of the Dead</td>\n",
       "      <td>2.1</td>\n",
       "      <td>38088</td>\n",
       "      <td>Action</td>\n",
       "      <td>Adventure</td>\n",
       "      <td>Horror</td>\n",
       "      <td>10.25M</td>\n",
       "    </tr>\n",
       "    <tr>\n",
       "      <th>1766</th>\n",
       "      <td>1767</td>\n",
       "      <td>Race 3</td>\n",
       "      <td>1.9</td>\n",
       "      <td>47815</td>\n",
       "      <td>Action</td>\n",
       "      <td>Crime</td>\n",
       "      <td>Thriller</td>\n",
       "      <td>1.69M</td>\n",
       "    </tr>\n",
       "  </tbody>\n",
       "</table>\n",
       "<p>1085 rows × 8 columns</p>\n",
       "</div>"
      ],
      "text/plain": [
       "       SNo                                         Movie Name  Ratings  \\\n",
       "0        1                                    The Dark Knight      9.0   \n",
       "1        2      The Lord of the Rings: The Return of the King      9.0   \n",
       "4        5  The Lord of the Rings: The Fellowship of the Ring      8.8   \n",
       "5        6              The Lord of the Rings: The Two Towers      8.8   \n",
       "14      15                                          Gladiator      8.5   \n",
       "...    ...                                                ...      ...   \n",
       "1751  1752                                           Catwoman      3.4   \n",
       "1755  1756                                         BloodRayne      3.0   \n",
       "1758  1759                               Dragonball Evolution      2.5   \n",
       "1764  1765                                  House of the Dead      2.1   \n",
       "1766  1767                                             Race 3      1.9   \n",
       "\n",
       "        Votes  Genre1      Genre2     Genre3 Gross_Collection  \n",
       "0     2742002  Action       Crime      Drama          534.86M  \n",
       "1     1899372  Action   Adventure      Drama          377.85M  \n",
       "4     1927794  Action   Adventure      Drama          315.54M  \n",
       "5     1714099  Action   Adventure      Drama          342.55M  \n",
       "14    1546490  Action   Adventure      Drama          187.71M  \n",
       "...       ...     ...         ...        ...              ...  \n",
       "1751   122915  Action       Crime    Fantasy           40.20M  \n",
       "1755    36592  Action     Fantasy     Horror            2.41M  \n",
       "1758    77380  Action   Adventure    Fantasy            9.35M  \n",
       "1764    38088  Action   Adventure     Horror           10.25M  \n",
       "1766    47815  Action       Crime   Thriller            1.69M  \n",
       "\n",
       "[1085 rows x 8 columns]"
      ]
     },
     "execution_count": 196,
     "metadata": {},
     "output_type": "execute_result"
    }
   ],
   "source": [
    "df"
   ]
  },
  {
   "cell_type": "code",
   "execution_count": 197,
   "id": "88b427e0",
   "metadata": {},
   "outputs": [
    {
     "data": {
      "text/plain": [
       "dtype('O')"
      ]
     },
     "execution_count": 197,
     "metadata": {},
     "output_type": "execute_result"
    }
   ],
   "source": [
    "df['Gross_Collection'].dtypes"
   ]
  },
  {
   "cell_type": "code",
   "execution_count": 198,
   "id": "74f090f2",
   "metadata": {},
   "outputs": [],
   "source": [
    "df['Gross_Collection'] = df['Gross_Collection'].str.extract('(\\d+\\.\\d+)').astype(float)\n",
    "\n",
    "df['Gross_Collection'] = df['Gross_Collection'] * 1000000"
   ]
  },
  {
   "cell_type": "code",
   "execution_count": 199,
   "id": "9d59f23e",
   "metadata": {},
   "outputs": [
    {
     "data": {
      "text/html": [
       "<div>\n",
       "<style scoped>\n",
       "    .dataframe tbody tr th:only-of-type {\n",
       "        vertical-align: middle;\n",
       "    }\n",
       "\n",
       "    .dataframe tbody tr th {\n",
       "        vertical-align: top;\n",
       "    }\n",
       "\n",
       "    .dataframe thead th {\n",
       "        text-align: right;\n",
       "    }\n",
       "</style>\n",
       "<table border=\"1\" class=\"dataframe\">\n",
       "  <thead>\n",
       "    <tr style=\"text-align: right;\">\n",
       "      <th></th>\n",
       "      <th>SNo</th>\n",
       "      <th>Movie Name</th>\n",
       "      <th>Ratings</th>\n",
       "      <th>Votes</th>\n",
       "      <th>Genre1</th>\n",
       "      <th>Genre2</th>\n",
       "      <th>Genre3</th>\n",
       "      <th>Gross_Collection</th>\n",
       "    </tr>\n",
       "  </thead>\n",
       "  <tbody>\n",
       "    <tr>\n",
       "      <th>0</th>\n",
       "      <td>1</td>\n",
       "      <td>The Dark Knight</td>\n",
       "      <td>9.0</td>\n",
       "      <td>2742002</td>\n",
       "      <td>Action</td>\n",
       "      <td>Crime</td>\n",
       "      <td>Drama</td>\n",
       "      <td>534860000.0</td>\n",
       "    </tr>\n",
       "    <tr>\n",
       "      <th>1</th>\n",
       "      <td>2</td>\n",
       "      <td>The Lord of the Rings: The Return of the King</td>\n",
       "      <td>9.0</td>\n",
       "      <td>1899372</td>\n",
       "      <td>Action</td>\n",
       "      <td>Adventure</td>\n",
       "      <td>Drama</td>\n",
       "      <td>377850000.0</td>\n",
       "    </tr>\n",
       "    <tr>\n",
       "      <th>4</th>\n",
       "      <td>5</td>\n",
       "      <td>The Lord of the Rings: The Fellowship of the Ring</td>\n",
       "      <td>8.8</td>\n",
       "      <td>1927794</td>\n",
       "      <td>Action</td>\n",
       "      <td>Adventure</td>\n",
       "      <td>Drama</td>\n",
       "      <td>315540000.0</td>\n",
       "    </tr>\n",
       "    <tr>\n",
       "      <th>5</th>\n",
       "      <td>6</td>\n",
       "      <td>The Lord of the Rings: The Two Towers</td>\n",
       "      <td>8.8</td>\n",
       "      <td>1714099</td>\n",
       "      <td>Action</td>\n",
       "      <td>Adventure</td>\n",
       "      <td>Drama</td>\n",
       "      <td>342550000.0</td>\n",
       "    </tr>\n",
       "    <tr>\n",
       "      <th>14</th>\n",
       "      <td>15</td>\n",
       "      <td>Gladiator</td>\n",
       "      <td>8.5</td>\n",
       "      <td>1546490</td>\n",
       "      <td>Action</td>\n",
       "      <td>Adventure</td>\n",
       "      <td>Drama</td>\n",
       "      <td>187710000.0</td>\n",
       "    </tr>\n",
       "  </tbody>\n",
       "</table>\n",
       "</div>"
      ],
      "text/plain": [
       "    SNo                                         Movie Name  Ratings    Votes  \\\n",
       "0     1                                    The Dark Knight      9.0  2742002   \n",
       "1     2      The Lord of the Rings: The Return of the King      9.0  1899372   \n",
       "4     5  The Lord of the Rings: The Fellowship of the Ring      8.8  1927794   \n",
       "5     6              The Lord of the Rings: The Two Towers      8.8  1714099   \n",
       "14   15                                          Gladiator      8.5  1546490   \n",
       "\n",
       "    Genre1      Genre2  Genre3  Gross_Collection  \n",
       "0   Action       Crime   Drama       534860000.0  \n",
       "1   Action   Adventure   Drama       377850000.0  \n",
       "4   Action   Adventure   Drama       315540000.0  \n",
       "5   Action   Adventure   Drama       342550000.0  \n",
       "14  Action   Adventure   Drama       187710000.0  "
      ]
     },
     "execution_count": 199,
     "metadata": {},
     "output_type": "execute_result"
    }
   ],
   "source": [
    "df.head()"
   ]
  },
  {
   "cell_type": "code",
   "execution_count": 200,
   "id": "8fc4b1e5",
   "metadata": {},
   "outputs": [
    {
     "data": {
      "text/plain": [
       "dtype('float64')"
      ]
     },
     "execution_count": 200,
     "metadata": {},
     "output_type": "execute_result"
    }
   ],
   "source": [
    "df['Gross_Collection'].dtypes"
   ]
  },
  {
   "cell_type": "code",
   "execution_count": 201,
   "id": "6bc359ca",
   "metadata": {},
   "outputs": [],
   "source": [
    "df = df.drop(['Movie Name'],axis=1)"
   ]
  },
  {
   "cell_type": "code",
   "execution_count": 202,
   "id": "d5241dce",
   "metadata": {},
   "outputs": [
    {
     "data": {
      "text/html": [
       "<div>\n",
       "<style scoped>\n",
       "    .dataframe tbody tr th:only-of-type {\n",
       "        vertical-align: middle;\n",
       "    }\n",
       "\n",
       "    .dataframe tbody tr th {\n",
       "        vertical-align: top;\n",
       "    }\n",
       "\n",
       "    .dataframe thead th {\n",
       "        text-align: right;\n",
       "    }\n",
       "</style>\n",
       "<table border=\"1\" class=\"dataframe\">\n",
       "  <thead>\n",
       "    <tr style=\"text-align: right;\">\n",
       "      <th></th>\n",
       "      <th>SNo</th>\n",
       "      <th>Ratings</th>\n",
       "      <th>Votes</th>\n",
       "      <th>Genre1</th>\n",
       "      <th>Genre2</th>\n",
       "      <th>Genre3</th>\n",
       "      <th>Gross_Collection</th>\n",
       "    </tr>\n",
       "  </thead>\n",
       "  <tbody>\n",
       "    <tr>\n",
       "      <th>0</th>\n",
       "      <td>1</td>\n",
       "      <td>9.0</td>\n",
       "      <td>2742002</td>\n",
       "      <td>Action</td>\n",
       "      <td>Crime</td>\n",
       "      <td>Drama</td>\n",
       "      <td>534860000.0</td>\n",
       "    </tr>\n",
       "    <tr>\n",
       "      <th>1</th>\n",
       "      <td>2</td>\n",
       "      <td>9.0</td>\n",
       "      <td>1899372</td>\n",
       "      <td>Action</td>\n",
       "      <td>Adventure</td>\n",
       "      <td>Drama</td>\n",
       "      <td>377850000.0</td>\n",
       "    </tr>\n",
       "    <tr>\n",
       "      <th>4</th>\n",
       "      <td>5</td>\n",
       "      <td>8.8</td>\n",
       "      <td>1927794</td>\n",
       "      <td>Action</td>\n",
       "      <td>Adventure</td>\n",
       "      <td>Drama</td>\n",
       "      <td>315540000.0</td>\n",
       "    </tr>\n",
       "    <tr>\n",
       "      <th>5</th>\n",
       "      <td>6</td>\n",
       "      <td>8.8</td>\n",
       "      <td>1714099</td>\n",
       "      <td>Action</td>\n",
       "      <td>Adventure</td>\n",
       "      <td>Drama</td>\n",
       "      <td>342550000.0</td>\n",
       "    </tr>\n",
       "    <tr>\n",
       "      <th>14</th>\n",
       "      <td>15</td>\n",
       "      <td>8.5</td>\n",
       "      <td>1546490</td>\n",
       "      <td>Action</td>\n",
       "      <td>Adventure</td>\n",
       "      <td>Drama</td>\n",
       "      <td>187710000.0</td>\n",
       "    </tr>\n",
       "    <tr>\n",
       "      <th>...</th>\n",
       "      <td>...</td>\n",
       "      <td>...</td>\n",
       "      <td>...</td>\n",
       "      <td>...</td>\n",
       "      <td>...</td>\n",
       "      <td>...</td>\n",
       "      <td>...</td>\n",
       "    </tr>\n",
       "    <tr>\n",
       "      <th>1751</th>\n",
       "      <td>1752</td>\n",
       "      <td>3.4</td>\n",
       "      <td>122915</td>\n",
       "      <td>Action</td>\n",
       "      <td>Crime</td>\n",
       "      <td>Fantasy</td>\n",
       "      <td>40200000.0</td>\n",
       "    </tr>\n",
       "    <tr>\n",
       "      <th>1755</th>\n",
       "      <td>1756</td>\n",
       "      <td>3.0</td>\n",
       "      <td>36592</td>\n",
       "      <td>Action</td>\n",
       "      <td>Fantasy</td>\n",
       "      <td>Horror</td>\n",
       "      <td>2410000.0</td>\n",
       "    </tr>\n",
       "    <tr>\n",
       "      <th>1758</th>\n",
       "      <td>1759</td>\n",
       "      <td>2.5</td>\n",
       "      <td>77380</td>\n",
       "      <td>Action</td>\n",
       "      <td>Adventure</td>\n",
       "      <td>Fantasy</td>\n",
       "      <td>9350000.0</td>\n",
       "    </tr>\n",
       "    <tr>\n",
       "      <th>1764</th>\n",
       "      <td>1765</td>\n",
       "      <td>2.1</td>\n",
       "      <td>38088</td>\n",
       "      <td>Action</td>\n",
       "      <td>Adventure</td>\n",
       "      <td>Horror</td>\n",
       "      <td>10250000.0</td>\n",
       "    </tr>\n",
       "    <tr>\n",
       "      <th>1766</th>\n",
       "      <td>1767</td>\n",
       "      <td>1.9</td>\n",
       "      <td>47815</td>\n",
       "      <td>Action</td>\n",
       "      <td>Crime</td>\n",
       "      <td>Thriller</td>\n",
       "      <td>1690000.0</td>\n",
       "    </tr>\n",
       "  </tbody>\n",
       "</table>\n",
       "<p>1085 rows × 7 columns</p>\n",
       "</div>"
      ],
      "text/plain": [
       "       SNo  Ratings    Votes  Genre1      Genre2     Genre3  Gross_Collection\n",
       "0        1      9.0  2742002  Action       Crime      Drama       534860000.0\n",
       "1        2      9.0  1899372  Action   Adventure      Drama       377850000.0\n",
       "4        5      8.8  1927794  Action   Adventure      Drama       315540000.0\n",
       "5        6      8.8  1714099  Action   Adventure      Drama       342550000.0\n",
       "14      15      8.5  1546490  Action   Adventure      Drama       187710000.0\n",
       "...    ...      ...      ...     ...         ...        ...               ...\n",
       "1751  1752      3.4   122915  Action       Crime    Fantasy        40200000.0\n",
       "1755  1756      3.0    36592  Action     Fantasy     Horror         2410000.0\n",
       "1758  1759      2.5    77380  Action   Adventure    Fantasy         9350000.0\n",
       "1764  1765      2.1    38088  Action   Adventure     Horror        10250000.0\n",
       "1766  1767      1.9    47815  Action       Crime   Thriller         1690000.0\n",
       "\n",
       "[1085 rows x 7 columns]"
      ]
     },
     "execution_count": 202,
     "metadata": {},
     "output_type": "execute_result"
    }
   ],
   "source": [
    "df"
   ]
  },
  {
   "cell_type": "code",
   "execution_count": 203,
   "id": "b988c430",
   "metadata": {},
   "outputs": [
    {
     "data": {
      "text/plain": [
       "Action       1028\n",
       "Animation      57\n",
       "Name: Genre1, dtype: int64"
      ]
     },
     "execution_count": 203,
     "metadata": {},
     "output_type": "execute_result"
    }
   ],
   "source": [
    "df['Genre1'].value_counts()"
   ]
  },
  {
   "cell_type": "code",
   "execution_count": 204,
   "id": "02415374",
   "metadata": {},
   "outputs": [],
   "source": [
    "from sklearn.preprocessing import OrdinalEncoder\n",
    "enc = OrdinalEncoder()\n",
    "df['Genre1'] = enc.fit_transform(df[['Genre1']])"
   ]
  },
  {
   "cell_type": "code",
   "execution_count": 205,
   "id": "23cb994d",
   "metadata": {},
   "outputs": [],
   "source": [
    "from sklearn.preprocessing import OrdinalEncoder\n",
    "enc = OrdinalEncoder()\n",
    "df['Genre2'] = enc.fit_transform(df[['Genre2']])"
   ]
  },
  {
   "cell_type": "code",
   "execution_count": 206,
   "id": "0c91de89",
   "metadata": {},
   "outputs": [],
   "source": [
    "from sklearn.preprocessing import OrdinalEncoder\n",
    "enc = OrdinalEncoder()\n",
    "df['Genre3'] = enc.fit_transform(df[['Genre3']])"
   ]
  },
  {
   "cell_type": "code",
   "execution_count": 207,
   "id": "141c1d84",
   "metadata": {},
   "outputs": [
    {
     "data": {
      "text/html": [
       "<div>\n",
       "<style scoped>\n",
       "    .dataframe tbody tr th:only-of-type {\n",
       "        vertical-align: middle;\n",
       "    }\n",
       "\n",
       "    .dataframe tbody tr th {\n",
       "        vertical-align: top;\n",
       "    }\n",
       "\n",
       "    .dataframe thead th {\n",
       "        text-align: right;\n",
       "    }\n",
       "</style>\n",
       "<table border=\"1\" class=\"dataframe\">\n",
       "  <thead>\n",
       "    <tr style=\"text-align: right;\">\n",
       "      <th></th>\n",
       "      <th>SNo</th>\n",
       "      <th>Ratings</th>\n",
       "      <th>Votes</th>\n",
       "      <th>Genre1</th>\n",
       "      <th>Genre2</th>\n",
       "      <th>Genre3</th>\n",
       "      <th>Gross_Collection</th>\n",
       "    </tr>\n",
       "  </thead>\n",
       "  <tbody>\n",
       "    <tr>\n",
       "      <th>0</th>\n",
       "      <td>1</td>\n",
       "      <td>9.0</td>\n",
       "      <td>2742002</td>\n",
       "      <td>0.0</td>\n",
       "      <td>4.0</td>\n",
       "      <td>4.0</td>\n",
       "      <td>534860000.0</td>\n",
       "    </tr>\n",
       "    <tr>\n",
       "      <th>1</th>\n",
       "      <td>2</td>\n",
       "      <td>9.0</td>\n",
       "      <td>1899372</td>\n",
       "      <td>0.0</td>\n",
       "      <td>1.0</td>\n",
       "      <td>4.0</td>\n",
       "      <td>377850000.0</td>\n",
       "    </tr>\n",
       "    <tr>\n",
       "      <th>4</th>\n",
       "      <td>5</td>\n",
       "      <td>8.8</td>\n",
       "      <td>1927794</td>\n",
       "      <td>0.0</td>\n",
       "      <td>1.0</td>\n",
       "      <td>4.0</td>\n",
       "      <td>315540000.0</td>\n",
       "    </tr>\n",
       "    <tr>\n",
       "      <th>5</th>\n",
       "      <td>6</td>\n",
       "      <td>8.8</td>\n",
       "      <td>1714099</td>\n",
       "      <td>0.0</td>\n",
       "      <td>1.0</td>\n",
       "      <td>4.0</td>\n",
       "      <td>342550000.0</td>\n",
       "    </tr>\n",
       "    <tr>\n",
       "      <th>14</th>\n",
       "      <td>15</td>\n",
       "      <td>8.5</td>\n",
       "      <td>1546490</td>\n",
       "      <td>0.0</td>\n",
       "      <td>1.0</td>\n",
       "      <td>4.0</td>\n",
       "      <td>187710000.0</td>\n",
       "    </tr>\n",
       "    <tr>\n",
       "      <th>...</th>\n",
       "      <td>...</td>\n",
       "      <td>...</td>\n",
       "      <td>...</td>\n",
       "      <td>...</td>\n",
       "      <td>...</td>\n",
       "      <td>...</td>\n",
       "      <td>...</td>\n",
       "    </tr>\n",
       "    <tr>\n",
       "      <th>1751</th>\n",
       "      <td>1752</td>\n",
       "      <td>3.4</td>\n",
       "      <td>122915</td>\n",
       "      <td>0.0</td>\n",
       "      <td>4.0</td>\n",
       "      <td>6.0</td>\n",
       "      <td>40200000.0</td>\n",
       "    </tr>\n",
       "    <tr>\n",
       "      <th>1755</th>\n",
       "      <td>1756</td>\n",
       "      <td>3.0</td>\n",
       "      <td>36592</td>\n",
       "      <td>0.0</td>\n",
       "      <td>7.0</td>\n",
       "      <td>8.0</td>\n",
       "      <td>2410000.0</td>\n",
       "    </tr>\n",
       "    <tr>\n",
       "      <th>1758</th>\n",
       "      <td>1759</td>\n",
       "      <td>2.5</td>\n",
       "      <td>77380</td>\n",
       "      <td>0.0</td>\n",
       "      <td>1.0</td>\n",
       "      <td>6.0</td>\n",
       "      <td>9350000.0</td>\n",
       "    </tr>\n",
       "    <tr>\n",
       "      <th>1764</th>\n",
       "      <td>1765</td>\n",
       "      <td>2.1</td>\n",
       "      <td>38088</td>\n",
       "      <td>0.0</td>\n",
       "      <td>1.0</td>\n",
       "      <td>8.0</td>\n",
       "      <td>10250000.0</td>\n",
       "    </tr>\n",
       "    <tr>\n",
       "      <th>1766</th>\n",
       "      <td>1767</td>\n",
       "      <td>1.9</td>\n",
       "      <td>47815</td>\n",
       "      <td>0.0</td>\n",
       "      <td>4.0</td>\n",
       "      <td>13.0</td>\n",
       "      <td>1690000.0</td>\n",
       "    </tr>\n",
       "  </tbody>\n",
       "</table>\n",
       "<p>1085 rows × 7 columns</p>\n",
       "</div>"
      ],
      "text/plain": [
       "       SNo  Ratings    Votes  Genre1  Genre2  Genre3  Gross_Collection\n",
       "0        1      9.0  2742002     0.0     4.0     4.0       534860000.0\n",
       "1        2      9.0  1899372     0.0     1.0     4.0       377850000.0\n",
       "4        5      8.8  1927794     0.0     1.0     4.0       315540000.0\n",
       "5        6      8.8  1714099     0.0     1.0     4.0       342550000.0\n",
       "14      15      8.5  1546490     0.0     1.0     4.0       187710000.0\n",
       "...    ...      ...      ...     ...     ...     ...               ...\n",
       "1751  1752      3.4   122915     0.0     4.0     6.0        40200000.0\n",
       "1755  1756      3.0    36592     0.0     7.0     8.0         2410000.0\n",
       "1758  1759      2.5    77380     0.0     1.0     6.0         9350000.0\n",
       "1764  1765      2.1    38088     0.0     1.0     8.0        10250000.0\n",
       "1766  1767      1.9    47815     0.0     4.0    13.0         1690000.0\n",
       "\n",
       "[1085 rows x 7 columns]"
      ]
     },
     "execution_count": 207,
     "metadata": {},
     "output_type": "execute_result"
    }
   ],
   "source": [
    "df"
   ]
  },
  {
   "cell_type": "markdown",
   "id": "6fda66db",
   "metadata": {},
   "source": [
    "# Splitting the dataset into the training set and test set"
   ]
  },
  {
   "cell_type": "code",
   "execution_count": 208,
   "id": "c13d44d4",
   "metadata": {},
   "outputs": [
    {
     "data": {
      "text/plain": [
       "['SNo', 'Ratings', 'Votes', 'Genre1', 'Genre2', 'Genre3', 'Gross_Collection']"
      ]
     },
     "execution_count": 208,
     "metadata": {},
     "output_type": "execute_result"
    }
   ],
   "source": [
    "df.columns.tolist()"
   ]
  },
  {
   "cell_type": "code",
   "execution_count": 209,
   "id": "f0ff768c",
   "metadata": {},
   "outputs": [],
   "source": [
    "X = df.drop('Votes',axis=1)\n",
    "y = df['Votes']"
   ]
  },
  {
   "cell_type": "code",
   "execution_count": 210,
   "id": "7cb0e8fb",
   "metadata": {},
   "outputs": [],
   "source": [
    "X1 = df.drop('Gross_Collection',axis=1)\n",
    "y1 = df['Gross_Collection']"
   ]
  },
  {
   "cell_type": "code",
   "execution_count": 211,
   "id": "49c817b6",
   "metadata": {},
   "outputs": [],
   "source": [
    "from sklearn.model_selection import train_test_split"
   ]
  },
  {
   "cell_type": "code",
   "execution_count": 212,
   "id": "51e088f3",
   "metadata": {},
   "outputs": [],
   "source": [
    "X_train, X_test, y_train, y_test = train_test_split(X,y, test_size=0.2,random_state=42)"
   ]
  },
  {
   "cell_type": "code",
   "execution_count": 213,
   "id": "2240c7d6",
   "metadata": {},
   "outputs": [],
   "source": [
    "X1_train, X1_test, y1_train, y1_test = train_test_split(X1,y1,test_size=0.2,random_state=42)"
   ]
  },
  {
   "cell_type": "code",
   "execution_count": 214,
   "id": "c7216d0a",
   "metadata": {},
   "outputs": [
    {
     "data": {
      "text/plain": [
       "((868, 6), (217, 6))"
      ]
     },
     "execution_count": 214,
     "metadata": {},
     "output_type": "execute_result"
    }
   ],
   "source": [
    "X_train.shape, X_test.shape"
   ]
  },
  {
   "cell_type": "code",
   "execution_count": 215,
   "id": "d2a38a16",
   "metadata": {},
   "outputs": [
    {
     "data": {
      "text/plain": [
       "((868, 6), (217, 6))"
      ]
     },
     "execution_count": 215,
     "metadata": {},
     "output_type": "execute_result"
    }
   ],
   "source": [
    "X1_train.shape, X1_test.shape"
   ]
  },
  {
   "cell_type": "markdown",
   "id": "e61b9822",
   "metadata": {},
   "source": [
    "# Model Training"
   ]
  },
  {
   "cell_type": "code",
   "execution_count": 216,
   "id": "965457e2",
   "metadata": {},
   "outputs": [],
   "source": [
    "from sklearn.linear_model import LinearRegression\n",
    "from sklearn.svm import SVR\n",
    "from sklearn.ensemble import RandomForestRegressor\n",
    "from sklearn.ensemble import GradientBoostingRegressor"
   ]
  },
  {
   "cell_type": "markdown",
   "id": "884f959c",
   "metadata": {},
   "source": [
    "# Linear Regression"
   ]
  },
  {
   "cell_type": "code",
   "execution_count": 217,
   "id": "59f4fb37",
   "metadata": {},
   "outputs": [
    {
     "data": {
      "text/plain": [
       "GradientBoostingRegressor()"
      ]
     },
     "execution_count": 217,
     "metadata": {},
     "output_type": "execute_result"
    }
   ],
   "source": [
    "lr = LinearRegression()\n",
    "lr.fit(X_train,y_train)\n",
    "\n",
    "svm = SVR()\n",
    "svm.fit(X_train,y_train)\n",
    "\n",
    "rf = RandomForestRegressor()\n",
    "rf.fit(X_train,y_train)\n",
    "\n",
    "gr = GradientBoostingRegressor()\n",
    "gr.fit(X_train,y_train)"
   ]
  },
  {
   "cell_type": "code",
   "execution_count": 218,
   "id": "12e9cd4a",
   "metadata": {},
   "outputs": [
    {
     "data": {
      "text/plain": [
       "GradientBoostingRegressor()"
      ]
     },
     "execution_count": 218,
     "metadata": {},
     "output_type": "execute_result"
    }
   ],
   "source": [
    "lr = LinearRegression()\n",
    "lr.fit(X1_train,y1_train)\n",
    "\n",
    "svm = SVR()\n",
    "svm.fit(X1_train,y1_train)\n",
    "\n",
    "rf = RandomForestRegressor()\n",
    "rf.fit(X1_train,y1_train)\n",
    "\n",
    "gr = GradientBoostingRegressor()\n",
    "gr.fit(X1_train,y1_train)"
   ]
  },
  {
   "cell_type": "markdown",
   "id": "016f7352",
   "metadata": {},
   "source": [
    "# Prediction on test data"
   ]
  },
  {
   "cell_type": "code",
   "execution_count": 219,
   "id": "fd6f02d0",
   "metadata": {},
   "outputs": [],
   "source": [
    "y_pred1 = lr.predict(X_test)\n",
    "y_pred2 = svm.predict(X_test)\n",
    "y_pred3 = rf.predict(X_test)\n",
    "y_pred4 = gr.predict(X_test)"
   ]
  },
  {
   "cell_type": "code",
   "execution_count": 220,
   "id": "1b0f9e30",
   "metadata": {},
   "outputs": [],
   "source": [
    "y_pred11 = lr.predict(X1_test)\n",
    "y_pred12 = svm.predict(X1_test)\n",
    "y_pred13 = rf.predict(X1_test)\n",
    "y_pred14 = gr.predict(X1_test)"
   ]
  },
  {
   "cell_type": "code",
   "execution_count": 221,
   "id": "c836551d",
   "metadata": {},
   "outputs": [],
   "source": [
    "df1 = pd.DataFrame({\"Actual\":y_test,\"LR\":y_pred1,\"SVM\":y_pred2,'RF':y_pred3,'GR':y_pred4})"
   ]
  },
  {
   "cell_type": "code",
   "execution_count": 223,
   "id": "cbc96c50",
   "metadata": {},
   "outputs": [],
   "source": [
    "df2 = pd.DataFrame({\"Actual\":y1_test,\"LR\":y_pred11,\"SVM\":y_pred12,'RF':y_pred13,'GR':y_pred14})"
   ]
  },
  {
   "cell_type": "code",
   "execution_count": 224,
   "id": "99d520a4",
   "metadata": {},
   "outputs": [
    {
     "data": {
      "text/html": [
       "<div>\n",
       "<style scoped>\n",
       "    .dataframe tbody tr th:only-of-type {\n",
       "        vertical-align: middle;\n",
       "    }\n",
       "\n",
       "    .dataframe tbody tr th {\n",
       "        vertical-align: top;\n",
       "    }\n",
       "\n",
       "    .dataframe thead th {\n",
       "        text-align: right;\n",
       "    }\n",
       "</style>\n",
       "<table border=\"1\" class=\"dataframe\">\n",
       "  <thead>\n",
       "    <tr style=\"text-align: right;\">\n",
       "      <th></th>\n",
       "      <th>Actual</th>\n",
       "      <th>LR</th>\n",
       "      <th>SVM</th>\n",
       "      <th>RF</th>\n",
       "      <th>GR</th>\n",
       "    </tr>\n",
       "  </thead>\n",
       "  <tbody>\n",
       "    <tr>\n",
       "      <th>1196</th>\n",
       "      <td>94973</td>\n",
       "      <td>1.289855e+13</td>\n",
       "      <td>3.827508e+07</td>\n",
       "      <td>24097700.0</td>\n",
       "      <td>1.258403e+07</td>\n",
       "    </tr>\n",
       "    <tr>\n",
       "      <th>125</th>\n",
       "      <td>53053</td>\n",
       "      <td>4.459771e+11</td>\n",
       "      <td>3.827508e+07</td>\n",
       "      <td>17025800.0</td>\n",
       "      <td>1.845198e+07</td>\n",
       "    </tr>\n",
       "    <tr>\n",
       "      <th>1512</th>\n",
       "      <td>43407</td>\n",
       "      <td>2.286108e+12</td>\n",
       "      <td>3.827508e+07</td>\n",
       "      <td>21375200.0</td>\n",
       "      <td>1.241781e+07</td>\n",
       "    </tr>\n",
       "    <tr>\n",
       "      <th>464</th>\n",
       "      <td>43337</td>\n",
       "      <td>3.979442e+12</td>\n",
       "      <td>3.827508e+07</td>\n",
       "      <td>15872900.0</td>\n",
       "      <td>9.871362e+06</td>\n",
       "    </tr>\n",
       "    <tr>\n",
       "      <th>372</th>\n",
       "      <td>64665</td>\n",
       "      <td>2.723565e+11</td>\n",
       "      <td>3.827508e+07</td>\n",
       "      <td>13353500.0</td>\n",
       "      <td>7.020810e+06</td>\n",
       "    </tr>\n",
       "    <tr>\n",
       "      <th>...</th>\n",
       "      <td>...</td>\n",
       "      <td>...</td>\n",
       "      <td>...</td>\n",
       "      <td>...</td>\n",
       "      <td>...</td>\n",
       "    </tr>\n",
       "    <tr>\n",
       "      <th>914</th>\n",
       "      <td>58730</td>\n",
       "      <td>8.353234e+12</td>\n",
       "      <td>3.827508e+07</td>\n",
       "      <td>24412800.0</td>\n",
       "      <td>5.373368e+06</td>\n",
       "    </tr>\n",
       "    <tr>\n",
       "      <th>716</th>\n",
       "      <td>102632</td>\n",
       "      <td>5.736487e+12</td>\n",
       "      <td>3.827508e+07</td>\n",
       "      <td>23414100.0</td>\n",
       "      <td>9.663038e+06</td>\n",
       "    </tr>\n",
       "    <tr>\n",
       "      <th>1416</th>\n",
       "      <td>44431</td>\n",
       "      <td>2.667143e+12</td>\n",
       "      <td>3.827508e+07</td>\n",
       "      <td>22296300.0</td>\n",
       "      <td>1.865889e+07</td>\n",
       "    </tr>\n",
       "    <tr>\n",
       "      <th>1375</th>\n",
       "      <td>128197</td>\n",
       "      <td>7.667344e+12</td>\n",
       "      <td>3.827508e+07</td>\n",
       "      <td>22054900.0</td>\n",
       "      <td>1.241781e+07</td>\n",
       "    </tr>\n",
       "    <tr>\n",
       "      <th>551</th>\n",
       "      <td>28820</td>\n",
       "      <td>2.258148e+12</td>\n",
       "      <td>3.827508e+07</td>\n",
       "      <td>17735200.0</td>\n",
       "      <td>1.136264e+07</td>\n",
       "    </tr>\n",
       "  </tbody>\n",
       "</table>\n",
       "<p>217 rows × 5 columns</p>\n",
       "</div>"
      ],
      "text/plain": [
       "      Actual            LR           SVM          RF            GR\n",
       "1196   94973  1.289855e+13  3.827508e+07  24097700.0  1.258403e+07\n",
       "125    53053  4.459771e+11  3.827508e+07  17025800.0  1.845198e+07\n",
       "1512   43407  2.286108e+12  3.827508e+07  21375200.0  1.241781e+07\n",
       "464    43337  3.979442e+12  3.827508e+07  15872900.0  9.871362e+06\n",
       "372    64665  2.723565e+11  3.827508e+07  13353500.0  7.020810e+06\n",
       "...      ...           ...           ...         ...           ...\n",
       "914    58730  8.353234e+12  3.827508e+07  24412800.0  5.373368e+06\n",
       "716   102632  5.736487e+12  3.827508e+07  23414100.0  9.663038e+06\n",
       "1416   44431  2.667143e+12  3.827508e+07  22296300.0  1.865889e+07\n",
       "1375  128197  7.667344e+12  3.827508e+07  22054900.0  1.241781e+07\n",
       "551    28820  2.258148e+12  3.827508e+07  17735200.0  1.136264e+07\n",
       "\n",
       "[217 rows x 5 columns]"
      ]
     },
     "execution_count": 224,
     "metadata": {},
     "output_type": "execute_result"
    }
   ],
   "source": [
    "df1"
   ]
  },
  {
   "cell_type": "code",
   "execution_count": 225,
   "id": "0ffeb945",
   "metadata": {},
   "outputs": [
    {
     "data": {
      "text/html": [
       "<div>\n",
       "<style scoped>\n",
       "    .dataframe tbody tr th:only-of-type {\n",
       "        vertical-align: middle;\n",
       "    }\n",
       "\n",
       "    .dataframe tbody tr th {\n",
       "        vertical-align: top;\n",
       "    }\n",
       "\n",
       "    .dataframe thead th {\n",
       "        text-align: right;\n",
       "    }\n",
       "</style>\n",
       "<table border=\"1\" class=\"dataframe\">\n",
       "  <thead>\n",
       "    <tr style=\"text-align: right;\">\n",
       "      <th></th>\n",
       "      <th>Actual</th>\n",
       "      <th>LR</th>\n",
       "      <th>SVM</th>\n",
       "      <th>RF</th>\n",
       "      <th>GR</th>\n",
       "    </tr>\n",
       "  </thead>\n",
       "  <tbody>\n",
       "    <tr>\n",
       "      <th>1196</th>\n",
       "      <td>115100000.0</td>\n",
       "      <td>2.196252e+07</td>\n",
       "      <td>3.827499e+07</td>\n",
       "      <td>56565500.0</td>\n",
       "      <td>3.794212e+07</td>\n",
       "    </tr>\n",
       "    <tr>\n",
       "      <th>125</th>\n",
       "      <td>3980000.0</td>\n",
       "      <td>3.350424e+07</td>\n",
       "      <td>3.827496e+07</td>\n",
       "      <td>14884700.0</td>\n",
       "      <td>-4.783317e+06</td>\n",
       "    </tr>\n",
       "    <tr>\n",
       "      <th>1512</th>\n",
       "      <td>20400000.0</td>\n",
       "      <td>2.494408e+07</td>\n",
       "      <td>3.827495e+07</td>\n",
       "      <td>22779800.0</td>\n",
       "      <td>2.013594e+07</td>\n",
       "    </tr>\n",
       "    <tr>\n",
       "      <th>464</th>\n",
       "      <td>35510000.0</td>\n",
       "      <td>1.655190e+07</td>\n",
       "      <td>3.827495e+07</td>\n",
       "      <td>10385300.0</td>\n",
       "      <td>8.958467e+06</td>\n",
       "    </tr>\n",
       "    <tr>\n",
       "      <th>372</th>\n",
       "      <td>2430000.0</td>\n",
       "      <td>1.434876e+07</td>\n",
       "      <td>3.827497e+07</td>\n",
       "      <td>31232000.0</td>\n",
       "      <td>1.747591e+07</td>\n",
       "    </tr>\n",
       "    <tr>\n",
       "      <th>...</th>\n",
       "      <td>...</td>\n",
       "      <td>...</td>\n",
       "      <td>...</td>\n",
       "      <td>...</td>\n",
       "      <td>...</td>\n",
       "    </tr>\n",
       "    <tr>\n",
       "      <th>914</th>\n",
       "      <td>74540000.0</td>\n",
       "      <td>1.726272e+07</td>\n",
       "      <td>3.827496e+07</td>\n",
       "      <td>16652100.0</td>\n",
       "      <td>1.942112e+07</td>\n",
       "    </tr>\n",
       "    <tr>\n",
       "      <th>716</th>\n",
       "      <td>51190000.0</td>\n",
       "      <td>5.687466e+07</td>\n",
       "      <td>3.827499e+07</td>\n",
       "      <td>38243100.0</td>\n",
       "      <td>4.514714e+07</td>\n",
       "    </tr>\n",
       "    <tr>\n",
       "      <th>1416</th>\n",
       "      <td>23800000.0</td>\n",
       "      <td>2.323157e+07</td>\n",
       "      <td>3.827495e+07</td>\n",
       "      <td>19839000.0</td>\n",
       "      <td>2.013594e+07</td>\n",
       "    </tr>\n",
       "    <tr>\n",
       "      <th>1375</th>\n",
       "      <td>68420000.0</td>\n",
       "      <td>6.776563e+07</td>\n",
       "      <td>3.827502e+07</td>\n",
       "      <td>62420600.0</td>\n",
       "      <td>5.803368e+07</td>\n",
       "    </tr>\n",
       "    <tr>\n",
       "      <th>551</th>\n",
       "      <td>20150000.0</td>\n",
       "      <td>1.284072e+07</td>\n",
       "      <td>3.827495e+07</td>\n",
       "      <td>13762400.0</td>\n",
       "      <td>1.044974e+07</td>\n",
       "    </tr>\n",
       "  </tbody>\n",
       "</table>\n",
       "<p>217 rows × 5 columns</p>\n",
       "</div>"
      ],
      "text/plain": [
       "           Actual            LR           SVM          RF            GR\n",
       "1196  115100000.0  2.196252e+07  3.827499e+07  56565500.0  3.794212e+07\n",
       "125     3980000.0  3.350424e+07  3.827496e+07  14884700.0 -4.783317e+06\n",
       "1512   20400000.0  2.494408e+07  3.827495e+07  22779800.0  2.013594e+07\n",
       "464    35510000.0  1.655190e+07  3.827495e+07  10385300.0  8.958467e+06\n",
       "372     2430000.0  1.434876e+07  3.827497e+07  31232000.0  1.747591e+07\n",
       "...           ...           ...           ...         ...           ...\n",
       "914    74540000.0  1.726272e+07  3.827496e+07  16652100.0  1.942112e+07\n",
       "716    51190000.0  5.687466e+07  3.827499e+07  38243100.0  4.514714e+07\n",
       "1416   23800000.0  2.323157e+07  3.827495e+07  19839000.0  2.013594e+07\n",
       "1375   68420000.0  6.776563e+07  3.827502e+07  62420600.0  5.803368e+07\n",
       "551    20150000.0  1.284072e+07  3.827495e+07  13762400.0  1.044974e+07\n",
       "\n",
       "[217 rows x 5 columns]"
      ]
     },
     "execution_count": 225,
     "metadata": {},
     "output_type": "execute_result"
    }
   ],
   "source": [
    "df2"
   ]
  },
  {
   "cell_type": "markdown",
   "id": "98574505",
   "metadata": {},
   "source": [
    "# Compare Performance visually"
   ]
  },
  {
   "cell_type": "markdown",
   "id": "372019fc",
   "metadata": {},
   "source": [
    "To find best model"
   ]
  },
  {
   "cell_type": "code",
   "execution_count": 226,
   "id": "4d1c5725",
   "metadata": {},
   "outputs": [
    {
     "data": {
      "text/plain": [
       "<matplotlib.legend.Legend at 0x27281bcb0d0>"
      ]
     },
     "execution_count": 226,
     "metadata": {},
     "output_type": "execute_result"
    },
    {
     "data": {
      "image/png": "[encoded data removed]",
      "text/plain": [
       "<Figure size 432x288 with 1 Axes>"
      ]
     },
     "metadata": {
      "needs_background": "light"
     },
     "output_type": "display_data"
    }
   ],
   "source": [
    "plt.subplot(221)\n",
    "plt.plot(df1['Actual'],label='Acutal')\n",
    "plt.plot(df1['LR'],label='LR')\n",
    "plt.legend()"
   ]
  },
  {
   "cell_type": "code",
   "execution_count": 227,
   "id": "89858b82",
   "metadata": {},
   "outputs": [
    {
     "data": {
      "text/plain": [
       "<matplotlib.legend.Legend at 0x27281be7c40>"
      ]
     },
     "execution_count": 227,
     "metadata": {},
     "output_type": "execute_result"
    },
    {
     "data": {
      "image/png": "[encoded data removed]",
      "text/plain": [
       "<Figure size 432x288 with 1 Axes>"
      ]
     },
     "metadata": {
      "needs_background": "light"
     },
     "output_type": "display_data"
    }
   ],
   "source": [
    "plt.subplot(221)\n",
    "plt.plot(df2['Actual'],label='Acutal')\n",
    "plt.plot(df2['LR'],label='LR')\n",
    "plt.legend()"
   ]
  },
  {
   "cell_type": "markdown",
   "id": "912f614b",
   "metadata": {},
   "source": [
    "it is difficult to differentiate both the value acutal value and predicted value."
   ]
  },
  {
   "cell_type": "code",
   "execution_count": 228,
   "id": "f655468d",
   "metadata": {},
   "outputs": [
    {
     "data": {
      "image/png": "[encoded data removed]",
      "text/plain": [
       "<Figure size 432x288 with 1 Axes>"
      ]
     },
     "metadata": {
      "needs_background": "light"
     },
     "output_type": "display_data"
    }
   ],
   "source": [
    "plt.subplot(221)\n",
    "plt.plot(df1['Actual'].iloc[:11],label='Acutal')\n",
    "plt.plot(df1['LR'].iloc[:11],label='LR')\n",
    "plt.legend()\n",
    "plt.tight_layout()"
   ]
  },
  {
   "cell_type": "code",
   "execution_count": 229,
   "id": "315f0c0c",
   "metadata": {},
   "outputs": [
    {
     "data": {
      "image/png": "[encoded data removed]",
      "text/plain": [
       "<Figure size 432x288 with 1 Axes>"
      ]
     },
     "metadata": {
      "needs_background": "light"
     },
     "output_type": "display_data"
    }
   ],
   "source": [
    "plt.subplot(221)\n",
    "plt.plot(df2['Actual'].iloc[:11],label='Acutal')\n",
    "plt.plot(df2['LR'].iloc[:11],label='LR')\n",
    "plt.legend()\n",
    "plt.tight_layout()"
   ]
  },
  {
   "cell_type": "markdown",
   "id": "c589cf34",
   "metadata": {},
   "source": [
    "Here we can see top 10 values                    \n",
    "now we can easily compair actual value and predicted values"
   ]
  },
  {
   "cell_type": "code",
   "execution_count": 230,
   "id": "59ae73fe",
   "metadata": {},
   "outputs": [
    {
     "data": {
      "image/png": "[encoded data removed]",
      "text/plain": [
       "<Figure size 432x288 with 1 Axes>"
      ]
     },
     "metadata": {
      "needs_background": "light"
     },
     "output_type": "display_data"
    }
   ],
   "source": [
    "plt.subplot(221)\n",
    "plt.plot(df1['Actual'].iloc[:11],label='Acutal')\n",
    "plt.plot(df1['SVM'].iloc[:11],label='SVM')\n",
    "plt.legend()\n",
    "plt.tight_layout()"
   ]
  },
  {
   "cell_type": "code",
   "execution_count": 231,
   "id": "57a75a39",
   "metadata": {},
   "outputs": [
    {
     "data": {
      "image/png": "[encoded data removed]",
      "text/plain": [
       "<Figure size 432x288 with 1 Axes>"
      ]
     },
     "metadata": {
      "needs_background": "light"
     },
     "output_type": "display_data"
    }
   ],
   "source": [
    "plt.subplot(221)\n",
    "plt.plot(df2['Actual'].iloc[:11],label='Acutal')\n",
    "plt.plot(df2['SVM'].iloc[:11],label='SVM')\n",
    "plt.legend()\n",
    "plt.tight_layout()"
   ]
  },
  {
   "cell_type": "code",
   "execution_count": 232,
   "id": "37250ff6",
   "metadata": {},
   "outputs": [
    {
     "data": {
      "image/png": "[encoded data removed]",
      "text/plain": [
       "<Figure size 432x288 with 1 Axes>"
      ]
     },
     "metadata": {
      "needs_background": "light"
     },
     "output_type": "display_data"
    }
   ],
   "source": [
    "plt.subplot(221)\n",
    "plt.plot(df1['Actual'].iloc[:11],label='Acutal')\n",
    "plt.plot(df1['RF'].iloc[:11],label='RF')\n",
    "plt.legend()\n",
    "plt.tight_layout()"
   ]
  },
  {
   "cell_type": "code",
   "execution_count": 233,
   "id": "e611edbb",
   "metadata": {},
   "outputs": [
    {
     "data": {
      "image/png": "[encoded data removed]",
      "text/plain": [
       "<Figure size 432x288 with 1 Axes>"
      ]
     },
     "metadata": {
      "needs_background": "light"
     },
     "output_type": "display_data"
    }
   ],
   "source": [
    "plt.subplot(221)\n",
    "plt.plot(df2['Actual'].iloc[:11],label='Acutal')\n",
    "plt.plot(df2['RF'].iloc[:11],label='RF')\n",
    "plt.legend()\n",
    "plt.tight_layout()"
   ]
  },
  {
   "cell_type": "code",
   "execution_count": 234,
   "id": "6a5886c3",
   "metadata": {},
   "outputs": [
    {
     "data": {
      "image/png": "[encoded data removed]",
      "text/plain": [
       "<Figure size 432x288 with 1 Axes>"
      ]
     },
     "metadata": {
      "needs_background": "light"
     },
     "output_type": "display_data"
    }
   ],
   "source": [
    "plt.subplot(221)\n",
    "plt.plot(df1['Actual'].iloc[:11],label='Acutal')\n",
    "plt.plot(df1['GR'].iloc[:11],label='GR')\n",
    "plt.legend()\n",
    "plt.tight_layout()"
   ]
  },
  {
   "cell_type": "code",
   "execution_count": 235,
   "id": "790f94a5",
   "metadata": {},
   "outputs": [
    {
     "data": {
      "image/png": "[encoded data removed]",
      "text/plain": [
       "<Figure size 432x288 with 1 Axes>"
      ]
     },
     "metadata": {
      "needs_background": "light"
     },
     "output_type": "display_data"
    }
   ],
   "source": [
    "plt.subplot(221)\n",
    "plt.plot(df2['Actual'].iloc[:11],label='Acutal')\n",
    "plt.plot(df2['GR'].iloc[:11],label='GR')\n",
    "plt.legend()\n",
    "plt.tight_layout()"
   ]
  },
  {
   "cell_type": "markdown",
   "id": "6abfc94f",
   "metadata": {},
   "source": [
    "I want to see this all actual value and predicted value for all model in single output."
   ]
  },
  {
   "cell_type": "markdown",
   "id": "594a366b",
   "metadata": {},
   "source": [
    "# Evaluating the algorithm"
   ]
  },
  {
   "cell_type": "markdown",
   "id": "6322b438",
   "metadata": {},
   "source": [
    "we are going to evaluate our models or called as a algorithm using r2.\n",
    "\n",
    "R2 value is used to measure the goodness of fit greater the value of r2 better the regression model"
   ]
  },
  {
   "cell_type": "code",
   "execution_count": 236,
   "id": "2caab166",
   "metadata": {},
   "outputs": [],
   "source": [
    "from sklearn import metrics"
   ]
  },
  {
   "cell_type": "code",
   "execution_count": 237,
   "id": "d56bc26d",
   "metadata": {},
   "outputs": [],
   "source": [
    "score1 = metrics.r2_score(y_test,y_pred1)\n",
    "score2 = metrics.r2_score(y_test,y_pred2)\n",
    "score3 = metrics.r2_score(y_test,y_pred3)\n",
    "score4 = metrics.r2_score(y_test,y_pred4)"
   ]
  },
  {
   "cell_type": "code",
   "execution_count": 238,
   "id": "5a9fe054",
   "metadata": {},
   "outputs": [],
   "source": [
    "score11 = metrics.r2_score(y1_test,y_pred11)\n",
    "score12 = metrics.r2_score(y1_test,y_pred12)\n",
    "score13 = metrics.r2_score(y1_test,y_pred13)\n",
    "score14 = metrics.r2_score(y1_test,y_pred14)"
   ]
  },
  {
   "cell_type": "code",
   "execution_count": 239,
   "id": "3cfe546b",
   "metadata": {},
   "outputs": [
    {
     "name": "stdout",
     "output_type": "stream",
     "text": [
      "-2410188395298347.0 -27430.901929992484 -9221.140333347723 -6912.5208761246\n"
     ]
    }
   ],
   "source": [
    "print(score1,score2,score3,score4)"
   ]
  },
  {
   "cell_type": "code",
   "execution_count": 240,
   "id": "40ceaa9e",
   "metadata": {},
   "outputs": [
    {
     "name": "stdout",
     "output_type": "stream",
     "text": [
      "0.5448750969569265 -0.1326778540033684 0.3773330795973384 0.4264976000096369\n"
     ]
    }
   ],
   "source": [
    "print(score11,score12,score13,score14)"
   ]
  },
  {
   "cell_type": "code",
   "execution_count": 241,
   "id": "293dd042",
   "metadata": {},
   "outputs": [],
   "source": [
    "s1 = metrics.mean_absolute_error(y_test,y_pred1)\n",
    "s2 = metrics.mean_absolute_error(y_test,y_pred2)\n",
    "s3 = metrics.mean_absolute_error(y_test,y_pred3)\n",
    "s4 = metrics.mean_absolute_error(y_test,y_pred4)"
   ]
  },
  {
   "cell_type": "code",
   "execution_count": 242,
   "id": "c8142cba",
   "metadata": {},
   "outputs": [],
   "source": [
    "s11 = metrics.mean_absolute_error(y1_test,y_pred11)\n",
    "s12 = metrics.mean_absolute_error(y1_test,y_pred12)\n",
    "s13 = metrics.mean_absolute_error(y1_test,y_pred13)\n",
    "s14 = metrics.mean_absolute_error(y1_test,y_pred14)"
   ]
  },
  {
   "cell_type": "code",
   "execution_count": 243,
   "id": "77967ec3",
   "metadata": {},
   "outputs": [
    {
     "name": "stdout",
     "output_type": "stream",
     "text": [
      "7397222623148.56 38096603.10889767 21468591.811059907 15722859.864161927\n"
     ]
    }
   ],
   "source": [
    "print(s1,s2,s3,s4)"
   ]
  },
  {
   "cell_type": "code",
   "execution_count": 244,
   "id": "cb98f4d6",
   "metadata": {},
   "outputs": [
    {
     "name": "stdout",
     "output_type": "stream",
     "text": [
      "35800465.653044455 51039336.84124966 37674794.93087558 36085219.00024531\n"
     ]
    }
   ],
   "source": [
    "print(s11,s12,s13,s14)"
   ]
  },
  {
   "cell_type": "markdown",
   "id": "03c8ef1b",
   "metadata": {},
   "source": [
    "here, s4 and s14 both value is lesser than all another value so model 4 is the best model"
   ]
  },
  {
   "cell_type": "markdown",
   "id": "2e47eac0",
   "metadata": {},
   "source": [
    "# Predict Votes for New Movies"
   ]
  },
  {
   "cell_type": "code",
   "execution_count": 245,
   "id": "c6232ef3",
   "metadata": {},
   "outputs": [
    {
     "data": {
      "text/plain": [
       "Index(['SNo', 'Ratings', 'Votes', 'Genre1', 'Genre2', 'Genre3',\n",
       "       'Gross_Collection'],\n",
       "      dtype='object')"
      ]
     },
     "execution_count": 245,
     "metadata": {},
     "output_type": "execute_result"
    }
   ],
   "source": [
    "df.columns"
   ]
  },
  {
   "cell_type": "code",
   "execution_count": 265,
   "id": "770e53fe",
   "metadata": {},
   "outputs": [],
   "source": [
    "data = {'SNo':1,\n",
    "       'Ratings':7.3,\n",
    "       'Genre1':0.0,\n",
    "       'Genre2':3.0,\n",
    "       'Genre3':3.0,\n",
    "       'Gross_Collection':376870000.0}"
   ]
  },
  {
   "cell_type": "code",
   "execution_count": 266,
   "id": "2700d041",
   "metadata": {},
   "outputs": [
    {
     "data": {
      "text/html": [
       "<div>\n",
       "<style scoped>\n",
       "    .dataframe tbody tr th:only-of-type {\n",
       "        vertical-align: middle;\n",
       "    }\n",
       "\n",
       "    .dataframe tbody tr th {\n",
       "        vertical-align: top;\n",
       "    }\n",
       "\n",
       "    .dataframe thead th {\n",
       "        text-align: right;\n",
       "    }\n",
       "</style>\n",
       "<table border=\"1\" class=\"dataframe\">\n",
       "  <thead>\n",
       "    <tr style=\"text-align: right;\">\n",
       "      <th></th>\n",
       "      <th>SNo</th>\n",
       "      <th>Ratings</th>\n",
       "      <th>Genre1</th>\n",
       "      <th>Genre2</th>\n",
       "      <th>Genre3</th>\n",
       "      <th>Gross_Collection</th>\n",
       "    </tr>\n",
       "  </thead>\n",
       "  <tbody>\n",
       "    <tr>\n",
       "      <th>0</th>\n",
       "      <td>1</td>\n",
       "      <td>7.3</td>\n",
       "      <td>0.0</td>\n",
       "      <td>3.0</td>\n",
       "      <td>3.0</td>\n",
       "      <td>376870000.0</td>\n",
       "    </tr>\n",
       "  </tbody>\n",
       "</table>\n",
       "</div>"
      ],
      "text/plain": [
       "   SNo  Ratings  Genre1  Genre2  Genre3  Gross_Collection\n",
       "0    1      7.3     0.0     3.0     3.0       376870000.0"
      ]
     },
     "execution_count": 266,
     "metadata": {},
     "output_type": "execute_result"
    }
   ],
   "source": [
    "df11 = pd.DataFrame(data,index=[0])\n",
    "df11"
   ]
  },
  {
   "cell_type": "markdown",
   "id": "ffa78c02",
   "metadata": {},
   "source": [
    "Now i am using model 4 because that model is perform better for this dataset"
   ]
  },
  {
   "cell_type": "code",
   "execution_count": 267,
   "id": "e433ad3e",
   "metadata": {},
   "outputs": [
    {
     "name": "stdout",
     "output_type": "stream",
     "text": [
      "[63003652.93105493]\n"
     ]
    }
   ],
   "source": [
    "new_pred = gr.predict(df11)\n",
    "print(new_pred)"
   ]
  },
  {
   "cell_type": "markdown",
   "id": "8c4bfada",
   "metadata": {},
   "source": [
    "# Predict Gross_Collection for New Movies"
   ]
  },
  {
   "cell_type": "code",
   "execution_count": 271,
   "id": "647f3ce4",
   "metadata": {},
   "outputs": [],
   "source": [
    "data = {'SNo':1,\n",
    "       'Ratings':7.3,\n",
    "       'Votes':2732882,\n",
    "       'Genre1':0.0,\n",
    "       'Genre2':3.0,\n",
    "       'Genre3':3.0}"
   ]
  },
  {
   "cell_type": "code",
   "execution_count": 272,
   "id": "7f949b00",
   "metadata": {},
   "outputs": [
    {
     "data": {
      "text/html": [
       "<div>\n",
       "<style scoped>\n",
       "    .dataframe tbody tr th:only-of-type {\n",
       "        vertical-align: middle;\n",
       "    }\n",
       "\n",
       "    .dataframe tbody tr th {\n",
       "        vertical-align: top;\n",
       "    }\n",
       "\n",
       "    .dataframe thead th {\n",
       "        text-align: right;\n",
       "    }\n",
       "</style>\n",
       "<table border=\"1\" class=\"dataframe\">\n",
       "  <thead>\n",
       "    <tr style=\"text-align: right;\">\n",
       "      <th></th>\n",
       "      <th>SNo</th>\n",
       "      <th>Ratings</th>\n",
       "      <th>Votes</th>\n",
       "      <th>Genre1</th>\n",
       "      <th>Genre2</th>\n",
       "      <th>Genre3</th>\n",
       "    </tr>\n",
       "  </thead>\n",
       "  <tbody>\n",
       "    <tr>\n",
       "      <th>0</th>\n",
       "      <td>1</td>\n",
       "      <td>7.3</td>\n",
       "      <td>2732882</td>\n",
       "      <td>0.0</td>\n",
       "      <td>3.0</td>\n",
       "      <td>3.0</td>\n",
       "    </tr>\n",
       "  </tbody>\n",
       "</table>\n",
       "</div>"
      ],
      "text/plain": [
       "   SNo  Ratings    Votes  Genre1  Genre2  Genre3\n",
       "0    1      7.3  2732882     0.0     3.0     3.0"
      ]
     },
     "execution_count": 272,
     "metadata": {},
     "output_type": "execute_result"
    }
   ],
   "source": [
    "df12 = pd.DataFrame(data,index=[0])\n",
    "df12"
   ]
  },
  {
   "cell_type": "markdown",
   "id": "81c1ddda",
   "metadata": {},
   "source": [
    "Now i am using model 4 because that model is perform better for this dataset"
   ]
  },
  {
   "cell_type": "code",
   "execution_count": 273,
   "id": "b6ae72d2",
   "metadata": {},
   "outputs": [
    {
     "name": "stdout",
     "output_type": "stream",
     "text": [
      "[7.11490584e+08]\n"
     ]
    }
   ],
   "source": [
    "new_pred = gr.predict(df12)\n",
    "print(new_pred)"
   ]
  },
  {
   "cell_type": "markdown",
   "id": "4d681b8d",
   "metadata": {},
   "source": [
    "# Save Model Using Joblib"
   ]
  },
  {
   "cell_type": "code",
   "execution_count": 274,
   "id": "ffa056f9",
   "metadata": {},
   "outputs": [],
   "source": [
    "gr = GradientBoostingRegressor()"
   ]
  },
  {
   "cell_type": "code",
   "execution_count": 275,
   "id": "16ecf79d",
   "metadata": {},
   "outputs": [
    {
     "data": {
      "text/plain": [
       "GradientBoostingRegressor()"
      ]
     },
     "execution_count": 275,
     "metadata": {},
     "output_type": "execute_result"
    }
   ],
   "source": [
    "gr.fit(X,y)"
   ]
  },
  {
   "cell_type": "code",
   "execution_count": 276,
   "id": "0e9b8aaf",
   "metadata": {},
   "outputs": [],
   "source": [
    "Gr = GradientBoostingRegressor()"
   ]
  },
  {
   "cell_type": "code",
   "execution_count": 277,
   "id": "1abfd2b8",
   "metadata": {},
   "outputs": [
    {
     "data": {
      "text/plain": [
       "GradientBoostingRegressor()"
      ]
     },
     "execution_count": 277,
     "metadata": {},
     "output_type": "execute_result"
    }
   ],
   "source": [
    "Gr.fit(X1,y1)"
   ]
  },
  {
   "cell_type": "code",
   "execution_count": 278,
   "id": "449d6d9a",
   "metadata": {},
   "outputs": [],
   "source": [
    "import joblib"
   ]
  },
  {
   "cell_type": "code",
   "execution_count": 279,
   "id": "d66c575c",
   "metadata": {},
   "outputs": [
    {
     "data": {
      "text/plain": [
       "['Capstone Project Votes']"
      ]
     },
     "execution_count": 279,
     "metadata": {},
     "output_type": "execute_result"
    }
   ],
   "source": [
    "joblib.dump(gr,'Capstone Project Votes')"
   ]
  },
  {
   "cell_type": "code",
   "execution_count": 280,
   "id": "9c7e5b91",
   "metadata": {},
   "outputs": [
    {
     "data": {
      "text/plain": [
       "['Capstone Project Gross_Collection']"
      ]
     },
     "execution_count": 280,
     "metadata": {},
     "output_type": "execute_result"
    }
   ],
   "source": [
    "joblib.dump(Gr,'Capstone Project Gross_Collection')"
   ]
  },
  {
   "cell_type": "code",
   "execution_count": 281,
   "id": "3ea301a1",
   "metadata": {},
   "outputs": [],
   "source": [
    "model = joblib.load('Capstone Project Votes')"
   ]
  },
  {
   "cell_type": "code",
   "execution_count": 282,
   "id": "9a17e4e8",
   "metadata": {},
   "outputs": [],
   "source": [
    "Model = joblib.load('Capstone Project Gross_Collection')"
   ]
  },
  {
   "cell_type": "code",
   "execution_count": 283,
   "id": "5515c37c",
   "metadata": {},
   "outputs": [
    {
     "data": {
      "text/plain": [
       "array([2312773.20647181])"
      ]
     },
     "execution_count": 283,
     "metadata": {},
     "output_type": "execute_result"
    }
   ],
   "source": [
    "model.predict(df11)"
   ]
  },
  {
   "cell_type": "code",
   "execution_count": 284,
   "id": "8b41c5d0",
   "metadata": {},
   "outputs": [
    {
     "data": {
      "text/plain": [
       "array([5.85867398e+08])"
      ]
     },
     "execution_count": 284,
     "metadata": {},
     "output_type": "execute_result"
    }
   ],
   "source": [
    "Model.predict(df12)"
   ]
  },
  {
   "cell_type": "code",
   "execution_count": null,
   "id": "a796ad90",
   "metadata": {},
   "outputs": [],
   "source": []
  }
 ],
 "metadata": {
  "kernelspec": {
   "display_name": "Python 3 (ipykernel)",
   "language": "python",
   "name": "python3"
  },
  "language_info": {
   "codemirror_mode": {
    "name": "ipython",
    "version": 3
   },
   "file_extension": ".py",
   "mimetype": "text/x-python",
   "name": "python",
   "nbconvert_exporter": "python",
   "pygments_lexer": "ipython3",
   "version": "3.9.12"
  }
 },
 "nbformat": 4,
 "nbformat_minor": 5
}
